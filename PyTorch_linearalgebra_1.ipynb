{
  "nbformat": 4,
  "nbformat_minor": 0,
  "metadata": {
    "colab": {
      "name": "PyTorch_linearalgebra_1.ipynb",
      "version": "0.3.2",
      "provenance": [],
      "include_colab_link": true
    },
    "kernelspec": {
      "name": "python3",
      "display_name": "Python 3"
    }
  },
  "cells": [
    {
      "cell_type": "markdown",
      "metadata": {
        "id": "view-in-github",
        "colab_type": "text"
      },
      "source": [
        "<a href=\"https://colab.research.google.com/github/MyDearGreatTeacher/AI4high/blob/master/PyTorch_linearalgebra_1.ipynb\" target=\"_parent\"><img src=\"https://colab.research.google.com/assets/colab-badge.svg\" alt=\"Open In Colab\"/></a>"
      ]
    },
    {
      "metadata": {
        "id": "V_O9No72-GnN",
        "colab_type": "text"
      },
      "cell_type": "markdown",
      "source": [
        "# 使用PyTorch學習線性代數LINEAR ALGEBRA\n",
        "\n"
      ]
    },
    {
      "metadata": {
        "id": "UQhVaM5T-RYh",
        "colab_type": "text"
      },
      "cell_type": "markdown",
      "source": [
        "## 在Google Colab安裝PyTorch套件"
      ]
    },
    {
      "metadata": {
        "id": "FWgwN9hw9wPt",
        "colab_type": "code",
        "colab": {
          "base_uri": "https://localhost:8080/",
          "height": 118
        },
        "outputId": "d4394107-d3ce-4599-c2ad-54707a81a9bf"
      },
      "cell_type": "code",
      "source": [
        "!pip3 install torchvision"
      ],
      "execution_count": 1,
      "outputs": [
        {
          "output_type": "stream",
          "text": [
            "Requirement already satisfied: torchvision in /usr/local/lib/python3.6/dist-packages (0.2.2.post3)\n",
            "Requirement already satisfied: pillow>=4.1.1 in /usr/local/lib/python3.6/dist-packages (from torchvision) (4.3.0)\n",
            "Requirement already satisfied: numpy in /usr/local/lib/python3.6/dist-packages (from torchvision) (1.16.2)\n",
            "Requirement already satisfied: six in /usr/local/lib/python3.6/dist-packages (from torchvision) (1.11.0)\n",
            "Requirement already satisfied: torch in /usr/local/lib/python3.6/dist-packages (from torchvision) (1.0.1.post2)\n",
            "Requirement already satisfied: olefile in /usr/local/lib/python3.6/dist-packages (from pillow>=4.1.1->torchvision) (0.46)\n"
          ],
          "name": "stdout"
        }
      ]
    },
    {
      "metadata": {
        "id": "eLI1lXWf-TyZ",
        "colab_type": "text"
      },
      "cell_type": "markdown",
      "source": [
        "# 範例一\n",
        "\n",
        "資料來源:\n",
        "\n",
        "https://gist.github.com/entron/7ce80ecc1eef684f93817f99118a5093"
      ]
    },
    {
      "metadata": {
        "id": "ui_DfCi-9xPK",
        "colab_type": "code",
        "colab": {
          "base_uri": "https://localhost:8080/",
          "height": 101
        },
        "outputId": "9e229dc5-7bad-4ae6-af91-5865649dd888"
      },
      "cell_type": "code",
      "source": [
        "import torch\n",
        "import time\n",
        "\n",
        "# --- Test 1\n",
        "N = 10\n",
        "n = 1000\n",
        "\n",
        "A = torch.randn(n, n)\n",
        "B = torch.randn(n, n)\n",
        "\n",
        "t = time.time()\n",
        "for i in range(N):\n",
        "    C = torch.mm(A, B)\n",
        "td = time.time() - t\n",
        "print(\"dotted two (%d,%d) matrices in %0.1f ms\" % (n, n, 1e3 * td / N))\n",
        "\n",
        "# --- Test 2\n",
        "N = 100\n",
        "n = 4000\n",
        "\n",
        "A = torch.randn(n)\n",
        "B = torch.randn(n)\n",
        "\n",
        "t = time.time()\n",
        "for i in range(N):\n",
        "    C = torch.dot(A, B)\n",
        "td = time.time() - t\n",
        "print(\"dotted two (%d) vectors in %0.2f us\" % (n, 1e6 * td / N))\n",
        "\n",
        "# --- Test 3\n",
        "m, n = (2000, 1000)\n",
        "\n",
        "A = torch.randn(m, n)\n",
        "\n",
        "t = time.time()\n",
        "[U, s, V] = torch.svd(A, some=False)\n",
        "td = time.time() - t\n",
        "print(\"SVD of (%d,%d) matrix in %0.3f s\" % (m, n, td))\n",
        "\n",
        "# --- Test 4\n",
        "n = 1500\n",
        "A = torch.randn(n, n)\n",
        "\n",
        "t = time.time()\n",
        "w, v = torch.eig(A)\n",
        "td = time.time() - t\n",
        "print(\"Eigendecomp of (%d,%d) matrix in %0.3f s\" % (n, n, td))\n",
        "\n",
        "\n",
        "# --- Test 5\n",
        "N = 100\n",
        "n = 2000\n",
        "\n",
        "A = torch.randn(n, n)\n",
        "\n",
        "t = time.time()\n",
        "for i in range(N):\n",
        "    B = torch.exp(A)\n",
        "td = time.time() - t\n",
        "print(\"Element wise exp of (%d,%d) matrix in %0.1f ms\" % (n, n, 1e3 * td / N))"
      ],
      "execution_count": 2,
      "outputs": [
        {
          "output_type": "stream",
          "text": [
            "dotted two (1000,1000) matrices in 34.5 ms\n",
            "dotted two (4000) vectors in 109.56 us\n",
            "SVD of (2000,1000) matrix in 0.847 s\n",
            "Eigendecomp of (1500,1500) matrix in 1.127 s\n",
            "Element wise exp of (2000,2000) matrix in 5.3 ms\n"
          ],
          "name": "stdout"
        }
      ]
    }
  ]
}