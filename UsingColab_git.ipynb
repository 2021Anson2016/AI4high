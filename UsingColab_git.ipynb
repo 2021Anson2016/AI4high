{
  "nbformat": 4,
  "nbformat_minor": 0,
  "metadata": {
    "colab": {
      "name": "UsingColab_git.ipynb",
      "version": "0.3.2",
      "provenance": [],
      "include_colab_link": true
    },
    "kernelspec": {
      "name": "python3",
      "display_name": "Python 3"
    }
  },
  "cells": [
    {
      "cell_type": "markdown",
      "metadata": {
        "id": "view-in-github",
        "colab_type": "text"
      },
      "source": [
        "<a href=\"https://colab.research.google.com/github/MyDearGreatTeacher/AI4high/blob/master/UsingColab_git.ipynb\" target=\"_parent\"><img src=\"https://colab.research.google.com/assets/colab-badge.svg\" alt=\"Open In Colab\"/></a>"
      ]
    },
    {
      "cell_type": "markdown",
      "metadata": {
        "id": "7mQtyugxSZTP",
        "colab_type": "text"
      },
      "source": [
        "# Google Colab常用技巧"
      ]
    },
    {
      "cell_type": "markdown",
      "metadata": {
        "id": "Z_j_x2t8P490",
        "colab_type": "text"
      },
      "source": [
        "https://mattwang44.github.io/en/articles/colab/"
      ]
    },
    {
      "cell_type": "markdown",
      "metadata": {
        "id": "8cw0lS99QHDS",
        "colab_type": "text"
      },
      "source": [
        "## 上傳檔案到Colab與下載Colab上的檔案"
      ]
    },
    {
      "cell_type": "code",
      "metadata": {
        "id": "RLoLgP1pQUI_",
        "colab_type": "code",
        "colab": {}
      },
      "source": [
        "from google.colab import files\n",
        "uploaded = files.upload()"
      ],
      "execution_count": 0,
      "outputs": []
    },
    {
      "cell_type": "code",
      "metadata": {
        "id": "tu9SDm5pQVNP",
        "colab_type": "code",
        "colab": {}
      },
      "source": [
        "from google.colab import files\n",
        "files.download('WestWorld.png')"
      ],
      "execution_count": 0,
      "outputs": []
    },
    {
      "cell_type": "markdown",
      "metadata": {
        "id": "yVaTI_fjQcPq",
        "colab_type": "text"
      },
      "source": [
        "# 開啟GitHub上的Notebook"
      ]
    },
    {
      "cell_type": "markdown",
      "metadata": {
        "id": "xFSJ6NejRf8d",
        "colab_type": "text"
      },
      "source": [
        "# 下載Github上的程式及模組並能順利執行\n",
        "\n",
        "20190506"
      ]
    },
    {
      "cell_type": "code",
      "metadata": {
        "id": "r-hWFTr1RfWP",
        "colab_type": "code",
        "colab": {}
      },
      "source": [
        "!git clone https://github.com/oreilly-japan/deep-learning-from-scratch.git"
      ],
      "execution_count": 0,
      "outputs": []
    },
    {
      "cell_type": "code",
      "metadata": {
        "id": "0owYpBqbR3vW",
        "colab_type": "code",
        "colab": {}
      },
      "source": [
        "!ls deep-learning-from-scratch/dataset"
      ],
      "execution_count": 0,
      "outputs": []
    },
    {
      "cell_type": "code",
      "metadata": {
        "id": "0Z-Uf6ffSCp-",
        "colab_type": "code",
        "colab": {}
      },
      "source": [
        "!cat deep-learning-from-scratch/ch01/hungry.py"
      ],
      "execution_count": 0,
      "outputs": []
    },
    {
      "cell_type": "code",
      "metadata": {
        "id": "4XxP0KHLSBV3",
        "colab_type": "code",
        "colab": {}
      },
      "source": [
        "!python deep-learning-from-scratch/ch01/hungry.py"
      ],
      "execution_count": 0,
      "outputs": []
    },
    {
      "cell_type": "markdown",
      "metadata": {
        "id": "1M-XoumASF-8",
        "colab_type": "text"
      },
      "source": [
        "## 切換到不同目錄執行目錄底下的程式"
      ]
    },
    {
      "cell_type": "code",
      "metadata": {
        "id": "_w9mpmw5QwGT",
        "colab_type": "code",
        "outputId": "6d21ab70-c7d7-418e-b02d-abe5d55fe185",
        "colab": {
          "base_uri": "https://localhost:8080/",
          "height": 51
        }
      },
      "source": [
        "import os\n",
        "os.chdir(\"deep-learning-from-scratch\")\n",
        "\n",
        "!ls"
      ],
      "execution_count": 0,
      "outputs": [
        {
          "output_type": "stream",
          "text": [
            "ch01  ch03  ch05  ch07\tcommon\t LICENSE.md\n",
            "ch02  ch04  ch06  ch08\tdataset  README.md\n"
          ],
          "name": "stdout"
        }
      ]
    },
    {
      "cell_type": "code",
      "metadata": {
        "id": "87PZ5_vyQ5G1",
        "colab_type": "code",
        "outputId": "8299f5de-ae80-4cee-ab11-42c8247485f6",
        "colab": {
          "base_uri": "https://localhost:8080/",
          "height": 497
        }
      },
      "source": [
        "import os\n",
        "os.chdir(\"ch06\")\n",
        "\n",
        "!python batch_norm_gradient_check.py"
      ],
      "execution_count": 0,
      "outputs": [
        {
          "output_type": "stream",
          "text": [
            "Downloading train-images-idx3-ubyte.gz ... \n",
            "Done\n",
            "Downloading train-labels-idx1-ubyte.gz ... \n",
            "Done\n",
            "Downloading t10k-images-idx3-ubyte.gz ... \n",
            "Done\n",
            "Downloading t10k-labels-idx1-ubyte.gz ... \n",
            "Done\n",
            "Converting train-images-idx3-ubyte.gz to NumPy Array ...\n",
            "Done\n",
            "Converting train-labels-idx1-ubyte.gz to NumPy Array ...\n",
            "Done\n",
            "Converting t10k-images-idx3-ubyte.gz to NumPy Array ...\n",
            "Done\n",
            "Converting t10k-labels-idx1-ubyte.gz to NumPy Array ...\n",
            "Done\n",
            "Creating pickle file ...\n",
            "Done!\n",
            "W1:0.0\n",
            "b1:0.0\n",
            "gamma1:0.0\n",
            "beta1:0.0\n",
            "W2:0.0\n",
            "b2:0.0\n",
            "gamma2:0.0\n",
            "beta2:0.05884638085620342\n",
            "W3:0.0\n",
            "b3:1.7990402263745597e-07\n"
          ],
          "name": "stdout"
        }
      ]
    },
    {
      "cell_type": "markdown",
      "metadata": {
        "id": "-4Volb4OzccO",
        "colab_type": "text"
      },
      "source": [
        "# Run Tensorboard with Google Colab\n",
        "\n",
        "\n",
        "\n",
        "Quick guide to run TensorBoard in Google Colab\n",
        "\n",
        "https://www.dlology.com/blog/quick-guide-to-run-tensorboard-in-google-colab/\n",
        "\n",
        "\n"
      ]
    },
    {
      "cell_type": "markdown",
      "metadata": {
        "id": "sFqNcvtZzjWJ",
        "colab_type": "text"
      },
      "source": [
        "Step1. 在Colab下下載Ngrok"
      ]
    },
    {
      "cell_type": "code",
      "metadata": {
        "id": "LH2LMO4T0AYo",
        "colab_type": "code",
        "colab": {
          "base_uri": "https://localhost:8080/",
          "height": 240
        },
        "outputId": "045cfd6e-a639-4a5d-ad0c-23be38972762"
      },
      "source": [
        "!wget https://bin.equinox.io/c/4VmDzA7iaHb/ngrok-stable-linux-amd64.zip\n",
        "!unzip ngrok-stable-linux-amd64.zip"
      ],
      "execution_count": 1,
      "outputs": [
        {
          "output_type": "stream",
          "text": [
            "--2019-05-06 15:43:12--  https://bin.equinox.io/c/4VmDzA7iaHb/ngrok-stable-linux-amd64.zip\n",
            "Resolving bin.equinox.io (bin.equinox.io)... 52.203.66.95, 34.206.36.121, 34.206.130.40, ...\n",
            "Connecting to bin.equinox.io (bin.equinox.io)|52.203.66.95|:443... connected.\n",
            "HTTP request sent, awaiting response... 200 OK\n",
            "Length: 14991793 (14M) [application/octet-stream]\n",
            "Saving to: ‘ngrok-stable-linux-amd64.zip’\n",
            "\n",
            "ngrok-stable-linux- 100%[===================>]  14.30M  18.0MB/s    in 0.8s    \n",
            "\n",
            "2019-05-06 15:43:13 (18.0 MB/s) - ‘ngrok-stable-linux-amd64.zip’ saved [14991793/14991793]\n",
            "\n",
            "Archive:  ngrok-stable-linux-amd64.zip\n",
            "  inflating: ngrok                   \n"
          ],
          "name": "stdout"
        }
      ]
    },
    {
      "cell_type": "markdown",
      "metadata": {
        "id": "HRyhleCozrXr",
        "colab_type": "text"
      },
      "source": [
        "Step2.指定訓練過程的紀錄檔(logdir)要存放在virtual machine下的哪個位置，並開啟tensorboard service(port 6006)"
      ]
    },
    {
      "cell_type": "code",
      "metadata": {
        "id": "bFXnDF5q0H6-",
        "colab_type": "code",
        "colab": {}
      },
      "source": [
        "LOG_DIR = './log'\n",
        "get_ipython().system_raw(\n",
        "'tensorboard --logdir {} --host 0.0.0.0 --port 6006 &'\n",
        ".format(LOG_DIR)\n",
        ")"
      ],
      "execution_count": 0,
      "outputs": []
    },
    {
      "cell_type": "markdown",
      "metadata": {
        "id": "U-goeo9UzwEB",
        "colab_type": "text"
      },
      "source": [
        "Step3.開啟ngrok service，並綁定port 6006(tensorboard)"
      ]
    },
    {
      "cell_type": "code",
      "metadata": {
        "id": "wOAYXI1d0MU4",
        "colab_type": "code",
        "colab": {}
      },
      "source": [
        "get_ipython().system_raw('./ngrok http 6006 &')"
      ],
      "execution_count": 0,
      "outputs": []
    },
    {
      "cell_type": "markdown",
      "metadata": {
        "id": "QdApyuiJz0bm",
        "colab_type": "text"
      },
      "source": [
        "Step4.產生一組網址，這組接下來只要從外部連到這組網址，就會導向virtual machine的port 6006，也就是colab裝置內的tensorboard了！"
      ]
    },
    {
      "cell_type": "code",
      "metadata": {
        "id": "vNOiLJhC0QNN",
        "colab_type": "code",
        "colab": {
          "base_uri": "https://localhost:8080/",
          "height": 34
        },
        "outputId": "30417d03-2d5d-462e-8226-6287a0b7b2ce"
      },
      "source": [
        "! curl -s http://localhost:4040/api/tunnels | python3 -c \\\n",
        "\"import sys, json; print(json.load(sys.stdin)['tunnels'][0]['public_url'])\"\n"
      ],
      "execution_count": 4,
      "outputs": [
        {
          "output_type": "stream",
          "text": [
            "http://62d5d061.ngrok.io\n"
          ],
          "name": "stdout"
        }
      ]
    },
    {
      "cell_type": "code",
      "metadata": {
        "id": "_sJ4UPZ71E_l",
        "colab_type": "code",
        "colab": {
          "base_uri": "https://localhost:8080/",
          "height": 740
        },
        "outputId": "06542153-2795-43d9-a72e-8a427b2cc976"
      },
      "source": [
        "'''Trains a simple convnet on the MNIST dataset.\n",
        "\n",
        "Gets to 99.25% test accuracy after 12 epochs\n",
        "(there is still a lot of margin for parameter tuning).\n",
        "16 seconds per epoch on a GRID K520 GPU.\n",
        "'''\n",
        "\n",
        "from __future__ import print_function\n",
        "import keras\n",
        "from keras.datasets import mnist\n",
        "from keras.models import Sequential\n",
        "from keras.layers import Dense, Dropout, Flatten\n",
        "from keras.layers import Conv2D, MaxPooling2D\n",
        "from keras import backend as K\n",
        "from keras.callbacks import TensorBoard\n",
        "\n",
        "batch_size = 128\n",
        "num_classes = 10\n",
        "epochs = 12\n",
        "\n",
        "# input image dimensions\n",
        "img_rows, img_cols = 28, 28\n",
        "\n",
        "# the data, shuffled and split between train and test sets\n",
        "(x_train, y_train), (x_test, y_test) = mnist.load_data()\n",
        "\n",
        "if K.image_data_format() == 'channels_first':\n",
        "    x_train = x_train.reshape(x_train.shape[0], 1, img_rows, img_cols)\n",
        "    x_test = x_test.reshape(x_test.shape[0], 1, img_rows, img_cols)\n",
        "    input_shape = (1, img_rows, img_cols)\n",
        "else:\n",
        "    x_train = x_train.reshape(x_train.shape[0], img_rows, img_cols, 1)\n",
        "    x_test = x_test.reshape(x_test.shape[0], img_rows, img_cols, 1)\n",
        "    input_shape = (img_rows, img_cols, 1)\n",
        "\n",
        "x_train = x_train.astype('float32')\n",
        "x_test = x_test.astype('float32')\n",
        "x_train /= 255\n",
        "x_test /= 255\n",
        "print('x_train shape:', x_train.shape)\n",
        "print(x_train.shape[0], 'train samples')\n",
        "print(x_test.shape[0], 'test samples')\n",
        "\n",
        "# convert class vectors to binary class matrices\n",
        "y_train = keras.utils.to_categorical(y_train, num_classes)\n",
        "y_test = keras.utils.to_categorical(y_test, num_classes)\n",
        "\n",
        "model = Sequential()\n",
        "model.add(Conv2D(32, kernel_size=(3, 3),\n",
        "                 activation='relu',\n",
        "                 input_shape=input_shape))\n",
        "model.add(Conv2D(64, (3, 3), activation='relu'))\n",
        "model.add(MaxPooling2D(pool_size=(2, 2)))\n",
        "model.add(Dropout(0.25))\n",
        "model.add(Flatten())\n",
        "model.add(Dense(128, activation='relu'))\n",
        "model.add(Dropout(0.5))\n",
        "model.add(Dense(num_classes, activation='softmax'))\n",
        "\n",
        "model.compile(loss=keras.losses.categorical_crossentropy,\n",
        "              optimizer=keras.optimizers.Adadelta(),\n",
        "              metrics=['accuracy'])\n",
        "\n",
        "\n",
        "tbCallBack = TensorBoard(log_dir='./log', histogram_freq=1,\n",
        "                         write_graph=True,\n",
        "                         write_grads=True,\n",
        "                         batch_size=batch_size,\n",
        "                         write_images=True)\n",
        "\n",
        "model.fit(x_train, y_train,\n",
        "          batch_size=batch_size,\n",
        "          epochs=epochs,\n",
        "          verbose=1,\n",
        "          validation_data=(x_test, y_test),\n",
        "          callbacks=[tbCallBack])\n",
        "score = model.evaluate(x_test, y_test, verbose=0)\n",
        "print('Test loss:', score[0])\n",
        "print('Test accuracy:', score[1])\n"
      ],
      "execution_count": 6,
      "outputs": [
        {
          "output_type": "stream",
          "text": [
            "Downloading data from https://s3.amazonaws.com/img-datasets/mnist.npz\n",
            "11493376/11490434 [==============================] - 1s 0us/step\n",
            "x_train shape: (60000, 28, 28, 1)\n",
            "60000 train samples\n",
            "10000 test samples\n",
            "WARNING:tensorflow:From /usr/local/lib/python3.6/dist-packages/tensorflow/python/framework/op_def_library.py:263: colocate_with (from tensorflow.python.framework.ops) is deprecated and will be removed in a future version.\n",
            "Instructions for updating:\n",
            "Colocations handled automatically by placer.\n",
            "WARNING:tensorflow:From /usr/local/lib/python3.6/dist-packages/keras/backend/tensorflow_backend.py:3445: calling dropout (from tensorflow.python.ops.nn_ops) with keep_prob is deprecated and will be removed in a future version.\n",
            "Instructions for updating:\n",
            "Please use `rate` instead of `keep_prob`. Rate should be set to `rate = 1 - keep_prob`.\n",
            "WARNING:tensorflow:From /usr/local/lib/python3.6/dist-packages/tensorflow/python/ops/math_ops.py:3066: to_int32 (from tensorflow.python.ops.math_ops) is deprecated and will be removed in a future version.\n",
            "Instructions for updating:\n",
            "Use tf.cast instead.\n",
            "Train on 60000 samples, validate on 10000 samples\n",
            "Epoch 1/12\n",
            "60000/60000 [==============================] - 165s 3ms/step - loss: 0.2701 - acc: 0.9165 - val_loss: 0.0575 - val_acc: 0.9823\n",
            "Epoch 2/12\n",
            "60000/60000 [==============================] - 164s 3ms/step - loss: 0.0876 - acc: 0.9742 - val_loss: 0.0386 - val_acc: 0.9877\n",
            "Epoch 3/12\n",
            "60000/60000 [==============================] - 164s 3ms/step - loss: 0.0649 - acc: 0.9804 - val_loss: 0.0316 - val_acc: 0.9896\n",
            "Epoch 4/12\n",
            "60000/60000 [==============================] - 165s 3ms/step - loss: 0.0531 - acc: 0.9840 - val_loss: 0.0312 - val_acc: 0.9897\n",
            "Epoch 5/12\n",
            "60000/60000 [==============================] - 163s 3ms/step - loss: 0.0479 - acc: 0.9853 - val_loss: 0.0263 - val_acc: 0.9914\n",
            "Epoch 6/12\n",
            "60000/60000 [==============================] - 161s 3ms/step - loss: 0.0411 - acc: 0.9876 - val_loss: 0.0277 - val_acc: 0.9904\n",
            "Epoch 7/12\n",
            "60000/60000 [==============================] - 156s 3ms/step - loss: 0.0379 - acc: 0.9882 - val_loss: 0.0282 - val_acc: 0.9919\n",
            "Epoch 8/12\n",
            "60000/60000 [==============================] - 161s 3ms/step - loss: 0.0337 - acc: 0.9898 - val_loss: 0.0266 - val_acc: 0.9914\n",
            "Epoch 9/12\n",
            "60000/60000 [==============================] - 163s 3ms/step - loss: 0.0310 - acc: 0.9905 - val_loss: 0.0271 - val_acc: 0.9915\n",
            "Epoch 10/12\n",
            "60000/60000 [==============================] - 161s 3ms/step - loss: 0.0292 - acc: 0.9909 - val_loss: 0.0276 - val_acc: 0.9917\n",
            "Epoch 11/12\n",
            "60000/60000 [==============================] - 160s 3ms/step - loss: 0.0283 - acc: 0.9915 - val_loss: 0.0262 - val_acc: 0.9915\n",
            "Epoch 12/12\n",
            "60000/60000 [==============================] - 162s 3ms/step - loss: 0.0259 - acc: 0.9918 - val_loss: 0.0324 - val_acc: 0.9902\n",
            "Test loss: 0.03240745771275906\n",
            "Test accuracy: 0.9902\n"
          ],
          "name": "stdout"
        }
      ]
    },
    {
      "cell_type": "code",
      "metadata": {
        "id": "e2Qd7fYs11AZ",
        "colab_type": "code",
        "colab": {
          "base_uri": "https://localhost:8080/",
          "height": 71
        },
        "outputId": "777245a5-278c-4c8a-b6a6-73cde2b4d238"
      },
      "source": [
        "!ps aux | grep tensorboard"
      ],
      "execution_count": 7,
      "outputs": [
        {
          "output_type": "stream",
          "text": [
            "root         162  0.5  2.2 881852 306576 ?       Sl   15:43   0:16 /usr/bin/python2 /usr/local/bin/tensorboard --logdir ./log --host 0.0.0.0 --port 6006\n",
            "root         897  0.0  0.0  39196  6356 ?        S    16:33   0:00 /bin/bash -c ps aux | grep tensorboard\n"
          ],
          "name": "stdout"
        }
      ]
    },
    {
      "cell_type": "code",
      "metadata": {
        "id": "jxZgyq3M18oa",
        "colab_type": "code",
        "colab": {
          "base_uri": "https://localhost:8080/",
          "height": 68
        },
        "outputId": "4dfc975d-a49f-49f4-e306-21f9e61c7b7e"
      },
      "source": [
        "!ps aux | grep ngrok"
      ],
      "execution_count": 8,
      "outputs": [
        {
          "output_type": "stream",
          "text": [
            "root         169  0.2  0.2 241928 39648 ?        Sl   15:43   0:07 ./ngrok http 6006\n",
            "root         900  0.0  0.0  39192  6520 ?        S    16:33   0:00 /bin/bash -c ps aux | grep ngrok\n",
            "root         902  0.0  0.0  38568  5484 ?        S    16:33   0:00 grep ngrok\n"
          ],
          "name": "stdout"
        }
      ]
    },
    {
      "cell_type": "markdown",
      "metadata": {
        "id": "7W9jDPrTRurg",
        "colab_type": "text"
      },
      "source": [
        "# 其他測試"
      ]
    },
    {
      "cell_type": "code",
      "metadata": {
        "id": "6SqufMufQHrU",
        "colab_type": "code",
        "outputId": "44a32916-ff22-4fcb-b06f-db9beb6ff67b",
        "colab": {
          "base_uri": "https://localhost:8080/",
          "height": 34
        }
      },
      "source": [
        "!mkdir -p Drive\n",
        "!google-drive-ocamlfuse Drive"
      ],
      "execution_count": 0,
      "outputs": [
        {
          "output_type": "stream",
          "text": [
            "/bin/bash: google-drive-ocamlfuse: command not found\n"
          ],
          "name": "stdout"
        }
      ]
    },
    {
      "cell_type": "code",
      "metadata": {
        "id": "iI_1e5YoK9vV",
        "colab_type": "code",
        "outputId": "b2b6d5e8-dadb-411d-f6e2-3ea5488bd481",
        "colab": {
          "base_uri": "https://localhost:8080/",
          "height": 34
        }
      },
      "source": [
        "!git clone https://github.com/oreilly-japan/deep-learning-from-scratch.git"
      ],
      "execution_count": 0,
      "outputs": [
        {
          "output_type": "stream",
          "text": [
            "fatal: destination path 'deep-learning-from-scratch' already exists and is not an empty directory.\n"
          ],
          "name": "stdout"
        }
      ]
    },
    {
      "cell_type": "code",
      "metadata": {
        "id": "_uHPCZO8PnH2",
        "colab_type": "code",
        "colab": {}
      },
      "source": [
        "!PATH=deep-learning-from-scratch"
      ],
      "execution_count": 0,
      "outputs": []
    },
    {
      "cell_type": "code",
      "metadata": {
        "id": "1pZAX0P3PP8_",
        "colab_type": "code",
        "outputId": "9eb6ffc9-4f1f-4dc8-92b6-1537d30a1166",
        "colab": {
          "base_uri": "https://localhost:8080/",
          "height": 86
        }
      },
      "source": [
        "!python deep-learning-from-scratch/ch06/batch_norm_gradient_check.py"
      ],
      "execution_count": 0,
      "outputs": [
        {
          "output_type": "stream",
          "text": [
            "Traceback (most recent call last):\n",
            "  File \"deep-learning-from-scratch/ch06/batch_norm_gradient_check.py\", line 5, in <module>\n",
            "    from dataset.mnist import load_mnist\n",
            "ModuleNotFoundError: No module named 'dataset'\n"
          ],
          "name": "stdout"
        }
      ]
    },
    {
      "cell_type": "code",
      "metadata": {
        "id": "maIHFihJLTKN",
        "colab_type": "code",
        "outputId": "9fa8e73d-b115-48d2-f227-5af0a89a9367",
        "colab": {
          "base_uri": "https://localhost:8080/",
          "height": 34
        }
      },
      "source": [
        "!ls"
      ],
      "execution_count": 0,
      "outputs": [
        {
          "output_type": "stream",
          "text": [
            "deep-learning-from-scratch  sample_data\n"
          ],
          "name": "stdout"
        }
      ]
    },
    {
      "cell_type": "code",
      "metadata": {
        "id": "dS6QT5RKLZwU",
        "colab_type": "code",
        "colab": {}
      },
      "source": [
        "!cd deep-learning-from-scratch"
      ],
      "execution_count": 0,
      "outputs": []
    },
    {
      "cell_type": "code",
      "metadata": {
        "id": "ICaXt43MLh8K",
        "colab_type": "code",
        "outputId": "50103514-4f11-42e2-842f-0aaa271b08c7",
        "colab": {
          "base_uri": "https://localhost:8080/",
          "height": 34
        }
      },
      "source": [
        "!ls deep-learning-from-scratch/dataset"
      ],
      "execution_count": 0,
      "outputs": [
        {
          "output_type": "stream",
          "text": [
            "__init__.py  lena_gray.png  lena.png  mnist.py\n"
          ],
          "name": "stdout"
        }
      ]
    },
    {
      "cell_type": "code",
      "metadata": {
        "id": "0xo1hDchLrgi",
        "colab_type": "code",
        "outputId": "154c3f79-a670-4b85-8430-6473258d5204",
        "colab": {
          "base_uri": "https://localhost:8080/",
          "height": 34
        }
      },
      "source": [
        "!ls deep-learning-from-scratch/ch01"
      ],
      "execution_count": 0,
      "outputs": [
        {
          "output_type": "stream",
          "text": [
            "hungry.py  img_show.py\tman.py\tsimple_graph.py  sin_cos_graph.py  sin_graph.py\n"
          ],
          "name": "stdout"
        }
      ]
    },
    {
      "cell_type": "code",
      "metadata": {
        "id": "Srh3zrjhLwzt",
        "colab_type": "code",
        "outputId": "f20bbf0f-0a64-4cbc-9974-ae1f9e8d4bb5",
        "colab": {
          "base_uri": "https://localhost:8080/",
          "height": 34
        }
      },
      "source": [
        "!python deep-learning-from-scratch/ch01/simple_graph.py"
      ],
      "execution_count": 0,
      "outputs": [
        {
          "output_type": "stream",
          "text": [
            "<Figure size 640x480 with 1 Axes>\n"
          ],
          "name": "stdout"
        }
      ]
    },
    {
      "cell_type": "code",
      "metadata": {
        "id": "2m32iSRVMAik",
        "colab_type": "code",
        "outputId": "8ea8a586-58d5-4c7e-d685-21d555d5ee77",
        "colab": {
          "base_uri": "https://localhost:8080/",
          "height": 34
        }
      },
      "source": [
        "!python deep-learning-from-scratch/ch01/hungry.py"
      ],
      "execution_count": 0,
      "outputs": [
        {
          "output_type": "stream",
          "text": [
            "I'm hungry!\n"
          ],
          "name": "stdout"
        }
      ]
    },
    {
      "cell_type": "code",
      "metadata": {
        "id": "dHzGqF0AMXWi",
        "colab_type": "code",
        "outputId": "84806e38-6345-48c7-c0e4-8de1746e3a5a",
        "colab": {
          "base_uri": "https://localhost:8080/",
          "height": 34
        }
      },
      "source": [
        "!python deep-learning-from-scratch/ch04/gradient_method.py"
      ],
      "execution_count": 0,
      "outputs": [
        {
          "output_type": "stream",
          "text": [
            "<Figure size 640x480 with 1 Axes>\n"
          ],
          "name": "stdout"
        }
      ]
    }
  ]
}