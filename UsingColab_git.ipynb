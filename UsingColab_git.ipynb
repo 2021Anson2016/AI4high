{
  "nbformat": 4,
  "nbformat_minor": 0,
  "metadata": {
    "colab": {
      "name": "UsingColab_git.ipynb",
      "version": "0.3.2",
      "provenance": [],
      "include_colab_link": true
    },
    "kernelspec": {
      "name": "python3",
      "display_name": "Python 3"
    }
  },
  "cells": [
    {
      "cell_type": "markdown",
      "metadata": {
        "id": "view-in-github",
        "colab_type": "text"
      },
      "source": [
        "<a href=\"https://colab.research.google.com/github/MyDearGreatTeacher/AI4high/blob/master/UsingColab_git.ipynb\" target=\"_parent\"><img src=\"https://colab.research.google.com/assets/colab-badge.svg\" alt=\"Open In Colab\"/></a>"
      ]
    },
    {
      "cell_type": "code",
      "metadata": {
        "id": "iI_1e5YoK9vV",
        "colab_type": "code",
        "colab": {
          "base_uri": "https://localhost:8080/",
          "height": 103
        },
        "outputId": "65273908-2d9e-4aa0-f1ef-cb7983f60977"
      },
      "source": [
        "!git clone https://github.com/oreilly-japan/deep-learning-from-scratch.git"
      ],
      "execution_count": 1,
      "outputs": [
        {
          "output_type": "stream",
          "text": [
            "Cloning into 'deep-learning-from-scratch'...\n",
            "remote: Enumerating objects: 394, done.\u001b[K\n",
            "Receiving objects:   0% (1/394)   \rReceiving objects:   1% (4/394)   \rReceiving objects:   2% (8/394)   \rReceiving objects:   3% (12/394)   \rReceiving objects:   4% (16/394)   \rReceiving objects:   5% (20/394)   \rReceiving objects:   6% (24/394)   \rReceiving objects:   7% (28/394)   \rReceiving objects:   8% (32/394)   \rReceiving objects:   9% (36/394)   \rReceiving objects:  10% (40/394)   \rReceiving objects:  11% (44/394)   \rReceiving objects:  12% (48/394)   \rReceiving objects:  13% (52/394)   \rReceiving objects:  14% (56/394)   \rReceiving objects:  15% (60/394)   \rReceiving objects:  16% (64/394)   \rReceiving objects:  17% (67/394)   \rReceiving objects:  18% (71/394)   \rReceiving objects:  19% (75/394)   \rReceiving objects:  20% (79/394)   \rReceiving objects:  21% (83/394)   \rReceiving objects:  22% (87/394)   \rReceiving objects:  23% (91/394)   \rReceiving objects:  24% (95/394)   \rReceiving objects:  25% (99/394)   \rReceiving objects:  26% (103/394)   \rReceiving objects:  27% (107/394)   \rReceiving objects:  28% (111/394)   \rReceiving objects:  29% (115/394)   \rReceiving objects:  30% (119/394)   \rReceiving objects:  31% (123/394)   \rReceiving objects:  32% (127/394)   \rReceiving objects:  33% (131/394)   \rReceiving objects:  34% (134/394)   \rReceiving objects:  35% (138/394)   \rReceiving objects:  36% (142/394)   \rReceiving objects:  37% (146/394)   \rReceiving objects:  38% (150/394)   \rReceiving objects:  39% (154/394)   \rReceiving objects:  40% (158/394)   \rReceiving objects:  41% (162/394)   \rReceiving objects:  42% (166/394)   \rReceiving objects:  43% (170/394)   \rReceiving objects:  44% (174/394)   \rReceiving objects:  45% (178/394)   \rReceiving objects:  46% (182/394)   \rReceiving objects:  47% (186/394)   \rReceiving objects:  48% (190/394)   \rReceiving objects:  49% (194/394)   \rReceiving objects:  50% (197/394)   \rReceiving objects:  51% (201/394)   \rReceiving objects:  52% (205/394)   \rReceiving objects:  53% (209/394)   \rReceiving objects:  54% (213/394)   \rReceiving objects:  55% (217/394)   \rReceiving objects:  56% (221/394)   \rReceiving objects:  57% (225/394)   \rReceiving objects:  58% (229/394)   \rReceiving objects:  59% (233/394)   \rReceiving objects:  60% (237/394)   \rReceiving objects:  61% (241/394)   \rReceiving objects:  62% (245/394)   \rReceiving objects:  63% (249/394)   \rReceiving objects:  64% (253/394)   \rReceiving objects:  65% (257/394)   \rReceiving objects:  66% (261/394)   \rReceiving objects:  67% (264/394)   \rReceiving objects:  68% (268/394)   \rReceiving objects:  69% (272/394)   \rReceiving objects:  70% (276/394)   \rReceiving objects:  71% (280/394)   \rReceiving objects:  72% (284/394)   \rReceiving objects:  73% (288/394)   \rReceiving objects:  74% (292/394)   \rReceiving objects:  75% (296/394)   \rReceiving objects:  76% (300/394)   \rReceiving objects:  77% (304/394)   \rReceiving objects:  78% (308/394)   \rReceiving objects:  79% (312/394)   \rReceiving objects:  80% (316/394)   \rReceiving objects:  81% (320/394)   \rReceiving objects:  82% (324/394)   \rReceiving objects:  83% (328/394)   \rReceiving objects:  84% (331/394)   \rReceiving objects:  85% (335/394)   \rReceiving objects:  86% (339/394)   \rReceiving objects:  87% (343/394)   \rReceiving objects:  88% (347/394)   \rReceiving objects:  89% (351/394)   \rReceiving objects:  90% (355/394)   \rReceiving objects:  91% (359/394)   \rReceiving objects:  92% (363/394)   \rReceiving objects:  93% (367/394)   \rReceiving objects:  94% (371/394)   \rReceiving objects:  95% (375/394)   \rReceiving objects:  96% (379/394)   \rReceiving objects:  97% (383/394)   \rremote: Total 394 (delta 0), reused 0 (delta 0), pack-reused 394\n",
            "Receiving objects:  98% (387/394)   \rReceiving objects:  99% (391/394)   \rReceiving objects: 100% (394/394)   \rReceiving objects: 100% (394/394), 4.93 MiB | 9.88 MiB/s, done.\n",
            "Resolving deltas:   0% (0/204)   \rResolving deltas:   2% (6/204)   \rResolving deltas:   8% (17/204)   \rResolving deltas:   9% (20/204)   \rResolving deltas:  14% (29/204)   \rResolving deltas:  15% (31/204)   \rResolving deltas:  16% (34/204)   \rResolving deltas:  18% (38/204)   \rResolving deltas:  19% (39/204)   \rResolving deltas:  21% (43/204)   \rResolving deltas:  22% (46/204)   \rResolving deltas:  23% (47/204)   \rResolving deltas:  24% (49/204)   \rResolving deltas:  25% (53/204)   \rResolving deltas:  27% (56/204)   \rResolving deltas:  29% (60/204)   \rResolving deltas:  30% (63/204)   \rResolving deltas:  31% (64/204)   \rResolving deltas:  33% (68/204)   \rResolving deltas:  34% (71/204)   \rResolving deltas:  35% (73/204)   \rResolving deltas:  36% (75/204)   \rResolving deltas:  42% (87/204)   \rResolving deltas:  43% (88/204)   \rResolving deltas:  45% (92/204)   \rResolving deltas:  48% (99/204)   \rResolving deltas:  49% (100/204)   \rResolving deltas:  50% (102/204)   \rResolving deltas:  52% (107/204)   \rResolving deltas:  55% (113/204)   \rResolving deltas:  56% (116/204)   \rResolving deltas:  63% (129/204)   \rResolving deltas:  71% (146/204)   \rResolving deltas:  73% (149/204)   \rResolving deltas:  94% (193/204)   \rResolving deltas:  96% (196/204)   \rResolving deltas: 100% (204/204)   \rResolving deltas: 100% (204/204), done.\n"
          ],
          "name": "stdout"
        }
      ]
    },
    {
      "cell_type": "code",
      "metadata": {
        "id": "maIHFihJLTKN",
        "colab_type": "code",
        "colab": {
          "base_uri": "https://localhost:8080/",
          "height": 34
        },
        "outputId": "9fa8e73d-b115-48d2-f227-5af0a89a9367"
      },
      "source": [
        "!ls"
      ],
      "execution_count": 2,
      "outputs": [
        {
          "output_type": "stream",
          "text": [
            "deep-learning-from-scratch  sample_data\n"
          ],
          "name": "stdout"
        }
      ]
    },
    {
      "cell_type": "code",
      "metadata": {
        "id": "dS6QT5RKLZwU",
        "colab_type": "code",
        "colab": {}
      },
      "source": [
        "!cd deep-learning-from-scratch"
      ],
      "execution_count": 0,
      "outputs": []
    },
    {
      "cell_type": "code",
      "metadata": {
        "id": "ICaXt43MLh8K",
        "colab_type": "code",
        "colab": {
          "base_uri": "https://localhost:8080/",
          "height": 51
        },
        "outputId": "8860a39f-1275-412a-fc2d-657d4dc315c4"
      },
      "source": [
        "!ls deep-learning-from-scratch"
      ],
      "execution_count": 5,
      "outputs": [
        {
          "output_type": "stream",
          "text": [
            "ch01  ch03  ch05  ch07\tcommon\t LICENSE.md\n",
            "ch02  ch04  ch06  ch08\tdataset  README.md\n"
          ],
          "name": "stdout"
        }
      ]
    },
    {
      "cell_type": "code",
      "metadata": {
        "id": "0xo1hDchLrgi",
        "colab_type": "code",
        "colab": {
          "base_uri": "https://localhost:8080/",
          "height": 34
        },
        "outputId": "154c3f79-a670-4b85-8430-6473258d5204"
      },
      "source": [
        "!ls deep-learning-from-scratch/ch01"
      ],
      "execution_count": 6,
      "outputs": [
        {
          "output_type": "stream",
          "text": [
            "hungry.py  img_show.py\tman.py\tsimple_graph.py  sin_cos_graph.py  sin_graph.py\n"
          ],
          "name": "stdout"
        }
      ]
    },
    {
      "cell_type": "code",
      "metadata": {
        "id": "Srh3zrjhLwzt",
        "colab_type": "code",
        "colab": {
          "base_uri": "https://localhost:8080/",
          "height": 34
        },
        "outputId": "f20bbf0f-0a64-4cbc-9974-ae1f9e8d4bb5"
      },
      "source": [
        "!python deep-learning-from-scratch/ch01/simple_graph.py"
      ],
      "execution_count": 7,
      "outputs": [
        {
          "output_type": "stream",
          "text": [
            "<Figure size 640x480 with 1 Axes>\n"
          ],
          "name": "stdout"
        }
      ]
    },
    {
      "cell_type": "code",
      "metadata": {
        "id": "2m32iSRVMAik",
        "colab_type": "code",
        "colab": {
          "base_uri": "https://localhost:8080/",
          "height": 34
        },
        "outputId": "8ea8a586-58d5-4c7e-d685-21d555d5ee77"
      },
      "source": [
        "!python deep-learning-from-scratch/ch01/hungry.py"
      ],
      "execution_count": 8,
      "outputs": [
        {
          "output_type": "stream",
          "text": [
            "I'm hungry!\n"
          ],
          "name": "stdout"
        }
      ]
    },
    {
      "cell_type": "code",
      "metadata": {
        "id": "dHzGqF0AMXWi",
        "colab_type": "code",
        "colab": {
          "base_uri": "https://localhost:8080/",
          "height": 34
        },
        "outputId": "84806e38-6345-48c7-c0e4-8de1746e3a5a"
      },
      "source": [
        "!python deep-learning-from-scratch/ch04/gradient_method.py"
      ],
      "execution_count": 9,
      "outputs": [
        {
          "output_type": "stream",
          "text": [
            "<Figure size 640x480 with 1 Axes>\n"
          ],
          "name": "stdout"
        }
      ]
    }
  ]
}