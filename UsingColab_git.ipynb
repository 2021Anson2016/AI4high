{
  "nbformat": 4,
  "nbformat_minor": 0,
  "metadata": {
    "colab": {
      "name": "UsingColab_git.ipynb",
      "version": "0.3.2",
      "provenance": [],
      "include_colab_link": true
    },
    "kernelspec": {
      "name": "python3",
      "display_name": "Python 3"
    }
  },
  "cells": [
    {
      "cell_type": "markdown",
      "metadata": {
        "id": "view-in-github",
        "colab_type": "text"
      },
      "source": [
        "<a href=\"https://colab.research.google.com/github/MyDearGreatTeacher/AI4high/blob/master/UsingColab_git.ipynb\" target=\"_parent\"><img src=\"https://colab.research.google.com/assets/colab-badge.svg\" alt=\"Open In Colab\"/></a>"
      ]
    },
    {
      "cell_type": "markdown",
      "metadata": {
        "id": "7mQtyugxSZTP",
        "colab_type": "text"
      },
      "source": [
        "# Google Colab常用技巧"
      ]
    },
    {
      "cell_type": "markdown",
      "metadata": {
        "id": "Z_j_x2t8P490",
        "colab_type": "text"
      },
      "source": [
        "https://mattwang44.github.io/en/articles/colab/"
      ]
    },
    {
      "cell_type": "markdown",
      "metadata": {
        "id": "8cw0lS99QHDS",
        "colab_type": "text"
      },
      "source": [
        "## 上傳檔案到Colab與下載Colab上的檔案"
      ]
    },
    {
      "cell_type": "code",
      "metadata": {
        "id": "RLoLgP1pQUI_",
        "colab_type": "code",
        "colab": {}
      },
      "source": [
        "from google.colab import files\n",
        "uploaded = files.upload()"
      ],
      "execution_count": 0,
      "outputs": []
    },
    {
      "cell_type": "code",
      "metadata": {
        "id": "tu9SDm5pQVNP",
        "colab_type": "code",
        "colab": {}
      },
      "source": [
        "from google.colab import files\n",
        "files.download('WestWorld.png')"
      ],
      "execution_count": 0,
      "outputs": []
    },
    {
      "cell_type": "markdown",
      "metadata": {
        "id": "yVaTI_fjQcPq",
        "colab_type": "text"
      },
      "source": [
        "# 開啟GitHub上的Notebook"
      ]
    },
    {
      "cell_type": "markdown",
      "metadata": {
        "id": "xFSJ6NejRf8d",
        "colab_type": "text"
      },
      "source": [
        "# 下載Github上的程式及模組並能順利執行\n",
        "\n",
        "20190506"
      ]
    },
    {
      "cell_type": "code",
      "metadata": {
        "id": "r-hWFTr1RfWP",
        "colab_type": "code",
        "colab": {}
      },
      "source": [
        "!git clone https://github.com/oreilly-japan/deep-learning-from-scratch.git"
      ],
      "execution_count": 0,
      "outputs": []
    },
    {
      "cell_type": "code",
      "metadata": {
        "id": "0owYpBqbR3vW",
        "colab_type": "code",
        "colab": {}
      },
      "source": [
        "!ls deep-learning-from-scratch/dataset"
      ],
      "execution_count": 0,
      "outputs": []
    },
    {
      "cell_type": "code",
      "metadata": {
        "id": "0Z-Uf6ffSCp-",
        "colab_type": "code",
        "colab": {}
      },
      "source": [
        "!cat deep-learning-from-scratch/ch01/hungry.py"
      ],
      "execution_count": 0,
      "outputs": []
    },
    {
      "cell_type": "code",
      "metadata": {
        "id": "4XxP0KHLSBV3",
        "colab_type": "code",
        "colab": {}
      },
      "source": [
        "!python deep-learning-from-scratch/ch01/hungry.py"
      ],
      "execution_count": 0,
      "outputs": []
    },
    {
      "cell_type": "markdown",
      "metadata": {
        "id": "1M-XoumASF-8",
        "colab_type": "text"
      },
      "source": [
        "## 切換到不同目錄執行目錄底下的程式"
      ]
    },
    {
      "cell_type": "code",
      "metadata": {
        "id": "_w9mpmw5QwGT",
        "colab_type": "code",
        "colab": {
          "base_uri": "https://localhost:8080/",
          "height": 51
        },
        "outputId": "6d21ab70-c7d7-418e-b02d-abe5d55fe185"
      },
      "source": [
        "import os\n",
        "os.chdir(\"deep-learning-from-scratch\")\n",
        "\n",
        "!ls"
      ],
      "execution_count": 17,
      "outputs": [
        {
          "output_type": "stream",
          "text": [
            "ch01  ch03  ch05  ch07\tcommon\t LICENSE.md\n",
            "ch02  ch04  ch06  ch08\tdataset  README.md\n"
          ],
          "name": "stdout"
        }
      ]
    },
    {
      "cell_type": "code",
      "metadata": {
        "id": "87PZ5_vyQ5G1",
        "colab_type": "code",
        "colab": {
          "base_uri": "https://localhost:8080/",
          "height": 497
        },
        "outputId": "8299f5de-ae80-4cee-ab11-42c8247485f6"
      },
      "source": [
        "import os\n",
        "os.chdir(\"ch06\")\n",
        "\n",
        "!python batch_norm_gradient_check.py"
      ],
      "execution_count": 21,
      "outputs": [
        {
          "output_type": "stream",
          "text": [
            "Downloading train-images-idx3-ubyte.gz ... \n",
            "Done\n",
            "Downloading train-labels-idx1-ubyte.gz ... \n",
            "Done\n",
            "Downloading t10k-images-idx3-ubyte.gz ... \n",
            "Done\n",
            "Downloading t10k-labels-idx1-ubyte.gz ... \n",
            "Done\n",
            "Converting train-images-idx3-ubyte.gz to NumPy Array ...\n",
            "Done\n",
            "Converting train-labels-idx1-ubyte.gz to NumPy Array ...\n",
            "Done\n",
            "Converting t10k-images-idx3-ubyte.gz to NumPy Array ...\n",
            "Done\n",
            "Converting t10k-labels-idx1-ubyte.gz to NumPy Array ...\n",
            "Done\n",
            "Creating pickle file ...\n",
            "Done!\n",
            "W1:0.0\n",
            "b1:0.0\n",
            "gamma1:0.0\n",
            "beta1:0.0\n",
            "W2:0.0\n",
            "b2:0.0\n",
            "gamma2:0.0\n",
            "beta2:0.05884638085620342\n",
            "W3:0.0\n",
            "b3:1.7990402263745597e-07\n"
          ],
          "name": "stdout"
        }
      ]
    },
    {
      "cell_type": "markdown",
      "metadata": {
        "id": "7W9jDPrTRurg",
        "colab_type": "text"
      },
      "source": [
        "# 其他測試"
      ]
    },
    {
      "cell_type": "code",
      "metadata": {
        "id": "6SqufMufQHrU",
        "colab_type": "code",
        "colab": {
          "base_uri": "https://localhost:8080/",
          "height": 34
        },
        "outputId": "44a32916-ff22-4fcb-b06f-db9beb6ff67b"
      },
      "source": [
        "!mkdir -p Drive\n",
        "!google-drive-ocamlfuse Drive"
      ],
      "execution_count": 16,
      "outputs": [
        {
          "output_type": "stream",
          "text": [
            "/bin/bash: google-drive-ocamlfuse: command not found\n"
          ],
          "name": "stdout"
        }
      ]
    },
    {
      "cell_type": "code",
      "metadata": {
        "id": "iI_1e5YoK9vV",
        "colab_type": "code",
        "outputId": "b2b6d5e8-dadb-411d-f6e2-3ea5488bd481",
        "colab": {
          "base_uri": "https://localhost:8080/",
          "height": 34
        }
      },
      "source": [
        "!git clone https://github.com/oreilly-japan/deep-learning-from-scratch.git"
      ],
      "execution_count": 10,
      "outputs": [
        {
          "output_type": "stream",
          "text": [
            "fatal: destination path 'deep-learning-from-scratch' already exists and is not an empty directory.\n"
          ],
          "name": "stdout"
        }
      ]
    },
    {
      "cell_type": "code",
      "metadata": {
        "id": "_uHPCZO8PnH2",
        "colab_type": "code",
        "colab": {}
      },
      "source": [
        "!PATH=deep-learning-from-scratch"
      ],
      "execution_count": 0,
      "outputs": []
    },
    {
      "cell_type": "code",
      "metadata": {
        "id": "1pZAX0P3PP8_",
        "colab_type": "code",
        "colab": {
          "base_uri": "https://localhost:8080/",
          "height": 86
        },
        "outputId": "9eb6ffc9-4f1f-4dc8-92b6-1537d30a1166"
      },
      "source": [
        "!python deep-learning-from-scratch/ch06/batch_norm_gradient_check.py"
      ],
      "execution_count": 15,
      "outputs": [
        {
          "output_type": "stream",
          "text": [
            "Traceback (most recent call last):\n",
            "  File \"deep-learning-from-scratch/ch06/batch_norm_gradient_check.py\", line 5, in <module>\n",
            "    from dataset.mnist import load_mnist\n",
            "ModuleNotFoundError: No module named 'dataset'\n"
          ],
          "name": "stdout"
        }
      ]
    },
    {
      "cell_type": "code",
      "metadata": {
        "id": "maIHFihJLTKN",
        "colab_type": "code",
        "outputId": "9fa8e73d-b115-48d2-f227-5af0a89a9367",
        "colab": {
          "base_uri": "https://localhost:8080/",
          "height": 34
        }
      },
      "source": [
        "!ls"
      ],
      "execution_count": 0,
      "outputs": [
        {
          "output_type": "stream",
          "text": [
            "deep-learning-from-scratch  sample_data\n"
          ],
          "name": "stdout"
        }
      ]
    },
    {
      "cell_type": "code",
      "metadata": {
        "id": "dS6QT5RKLZwU",
        "colab_type": "code",
        "colab": {}
      },
      "source": [
        "!cd deep-learning-from-scratch"
      ],
      "execution_count": 0,
      "outputs": []
    },
    {
      "cell_type": "code",
      "metadata": {
        "id": "ICaXt43MLh8K",
        "colab_type": "code",
        "outputId": "50103514-4f11-42e2-842f-0aaa271b08c7",
        "colab": {
          "base_uri": "https://localhost:8080/",
          "height": 34
        }
      },
      "source": [
        "!ls deep-learning-from-scratch/dataset"
      ],
      "execution_count": 13,
      "outputs": [
        {
          "output_type": "stream",
          "text": [
            "__init__.py  lena_gray.png  lena.png  mnist.py\n"
          ],
          "name": "stdout"
        }
      ]
    },
    {
      "cell_type": "code",
      "metadata": {
        "id": "0xo1hDchLrgi",
        "colab_type": "code",
        "outputId": "154c3f79-a670-4b85-8430-6473258d5204",
        "colab": {
          "base_uri": "https://localhost:8080/",
          "height": 34
        }
      },
      "source": [
        "!ls deep-learning-from-scratch/ch01"
      ],
      "execution_count": 0,
      "outputs": [
        {
          "output_type": "stream",
          "text": [
            "hungry.py  img_show.py\tman.py\tsimple_graph.py  sin_cos_graph.py  sin_graph.py\n"
          ],
          "name": "stdout"
        }
      ]
    },
    {
      "cell_type": "code",
      "metadata": {
        "id": "Srh3zrjhLwzt",
        "colab_type": "code",
        "outputId": "f20bbf0f-0a64-4cbc-9974-ae1f9e8d4bb5",
        "colab": {
          "base_uri": "https://localhost:8080/",
          "height": 34
        }
      },
      "source": [
        "!python deep-learning-from-scratch/ch01/simple_graph.py"
      ],
      "execution_count": 0,
      "outputs": [
        {
          "output_type": "stream",
          "text": [
            "<Figure size 640x480 with 1 Axes>\n"
          ],
          "name": "stdout"
        }
      ]
    },
    {
      "cell_type": "code",
      "metadata": {
        "id": "2m32iSRVMAik",
        "colab_type": "code",
        "outputId": "8ea8a586-58d5-4c7e-d685-21d555d5ee77",
        "colab": {
          "base_uri": "https://localhost:8080/",
          "height": 34
        }
      },
      "source": [
        "!python deep-learning-from-scratch/ch01/hungry.py"
      ],
      "execution_count": 0,
      "outputs": [
        {
          "output_type": "stream",
          "text": [
            "I'm hungry!\n"
          ],
          "name": "stdout"
        }
      ]
    },
    {
      "cell_type": "code",
      "metadata": {
        "id": "dHzGqF0AMXWi",
        "colab_type": "code",
        "outputId": "84806e38-6345-48c7-c0e4-8de1746e3a5a",
        "colab": {
          "base_uri": "https://localhost:8080/",
          "height": 34
        }
      },
      "source": [
        "!python deep-learning-from-scratch/ch04/gradient_method.py"
      ],
      "execution_count": 0,
      "outputs": [
        {
          "output_type": "stream",
          "text": [
            "<Figure size 640x480 with 1 Axes>\n"
          ],
          "name": "stdout"
        }
      ]
    }
  ]
}