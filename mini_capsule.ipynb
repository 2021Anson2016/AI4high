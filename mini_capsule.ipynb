{
  "nbformat": 4,
  "nbformat_minor": 0,
  "metadata": {
    "colab": {
      "name": "mini_capsule.ipynb",
      "version": "0.3.2",
      "provenance": [],
      "include_colab_link": true
    },
    "kernelspec": {
      "name": "python3",
      "display_name": "Python 3"
    }
  },
  "cells": [
    {
      "cell_type": "markdown",
      "metadata": {
        "id": "view-in-github",
        "colab_type": "text"
      },
      "source": [
        "<a href=\"https://colab.research.google.com/github/MyDearGreatTeacher/AI4high/blob/master/mini_capsule.ipynb\" target=\"_parent\"><img src=\"https://colab.research.google.com/assets/colab-badge.svg\" alt=\"Open In Colab\"/></a>"
      ]
    },
    {
      "cell_type": "markdown",
      "metadata": {
        "id": "mo_sOcQdLYUI",
        "colab_type": "text"
      },
      "source": [
        "# mini_capsule\n",
        "\n",
        "https://github.com/fengwang/minimal-capsule\n",
        "\n",
        " PAPER:\n",
        " Sara Sabour, Nicholas Frosst, Geoffrey E Hinton. Dynamic Routing Between Capsules. NIPS 2017\n",
        " \n",
        " https://arxiv.org/abs/1710.09829"
      ]
    },
    {
      "cell_type": "code",
      "metadata": {
        "id": "hIeUVGlcKlUH",
        "colab_type": "code",
        "colab": {
          "base_uri": "https://localhost:8080/",
          "height": 86
        },
        "outputId": "81fca846-5c03-4e22-b51c-532bdab29caa"
      },
      "source": [
        "!git clone https://github.com/fengwang/minimal-capsule.git"
      ],
      "execution_count": 1,
      "outputs": [
        {
          "output_type": "stream",
          "text": [
            "Cloning into 'minimal-capsule'...\n",
            "remote: Enumerating objects: 16, done.\u001b[K\n",
            "remote: Total 16 (delta 0), reused 0 (delta 0), pack-reused 16\u001b[K\n",
            "Unpacking objects: 100% (16/16), done.\n"
          ],
          "name": "stdout"
        }
      ]
    },
    {
      "cell_type": "code",
      "metadata": {
        "id": "wLZOwi8MKtTp",
        "colab_type": "code",
        "colab": {
          "base_uri": "https://localhost:8080/",
          "height": 34
        },
        "outputId": "5beef98a-4e82-46bf-9ae4-da4936237b95"
      },
      "source": [
        "!ls"
      ],
      "execution_count": 2,
      "outputs": [
        {
          "output_type": "stream",
          "text": [
            "machine_SVR.pkl  minimal-capsule  sample_data\n"
          ],
          "name": "stdout"
        }
      ]
    },
    {
      "cell_type": "code",
      "metadata": {
        "id": "e59vGJn-Kv2_",
        "colab_type": "code",
        "colab": {
          "base_uri": "https://localhost:8080/",
          "height": 34
        },
        "outputId": "0f89feb9-d68d-4e1f-82f5-8859590b611c"
      },
      "source": [
        "import os\n",
        "os.chdir(\"minimal-capsule\")\n",
        "\n",
        "!ls"
      ],
      "execution_count": 3,
      "outputs": [
        {
          "output_type": "stream",
          "text": [
            "mini_capsule.py  performance.jpg  ReadMe.md\n"
          ],
          "name": "stdout"
        }
      ]
    },
    {
      "cell_type": "code",
      "metadata": {
        "id": "BN7N3VO_K7jk",
        "colab_type": "code",
        "colab": {
          "base_uri": "https://localhost:8080/",
          "height": 2608
        },
        "outputId": "43b4d4fc-62a9-410a-e479-ffbb3b5efa00"
      },
      "source": [
        "!cat mini_capsule.py"
      ],
      "execution_count": 4,
      "outputs": [
        {
          "output_type": "stream",
          "text": [
            "from keras import layers, models, optimizers\n",
            "from keras import backend as K\n",
            "from keras.layers import Input, Conv2D, Dense, Reshape, Layer, Lambda\n",
            "from keras.models import Model\n",
            "from keras.utils import to_categorical\n",
            "from keras import initializers\n",
            "from keras.optimizers import Adam\n",
            "from keras.utils.vis_utils import plot_model\n",
            "from keras.datasets import mnist\n",
            "import numpy as np\n",
            "import tensorflow as tf\n",
            "\n",
            "#\n",
            "# The length of the output vector of a capsule is to represent the probability that the entity represented by the capsule\n",
            "# is present in the current unit. A nonlinear squashing function ensures that\n",
            "# - short vectors get shrunk to almost zero length and\n",
            "# - long vectors get shrunk to a length slightly below 1\n",
            "# this function is designed as\n",
            "# v_j = \\frac{||s_j||^2}{1 + ||s_j||^2 } \\frac{s_j}{||s_j||}\n",
            "#\n",
            "def squash(output_vector, axis=-1):\n",
            "    norm = tf.reduce_sum(tf.square(output_vector), axis, keep_dims=True)\n",
            "    return output_vector * norm / ((1 + norm) * tf.sqrt(norm + 1.0e-10))\n",
            "\n",
            "#\n",
            "# This layer takes to input vectors:\n",
            "#   - the first one is the output of the CapsuleLayer, 'n_calss' arrays\n",
            "#   - the ground truth vector, an array with a length of 'n_class', with one of the elements is '1', the rests are '0'\n",
            "#\n",
            "class MaskingLayer(Layer):\n",
            "    def call(self, inputs, **kwargs):\n",
            "        input, mask = inputs\n",
            "        return K.batch_dot(input, mask, 1)\n",
            "\n",
            "    def compute_output_shape(self, input_shape):\n",
            "        *_, output_shape = input_shape[0]\n",
            "        return (None, output_shape)\n",
            "\n",
            "\n",
            "#\n",
            "# construct a conv layer, then reshape and apply squash operation\n",
            "#\n",
            "def PrimaryCapsule(n_vector, n_channel, n_kernel_size, n_stride, padding='valid'):\n",
            "    def builder(inputs):\n",
            "        output = Conv2D(filters=n_vector * n_channel, kernel_size=n_kernel_size, strides=n_stride, padding=padding)(inputs)\n",
            "        output = Reshape( target_shape=[-1, n_vector], name='primary_capsule_reshape')(output)\n",
            "        return Lambda(squash, name='primary_capsule_squash')(output)\n",
            "    return builder\n",
            "\n",
            "#\n",
            "# Traditional Neural Network          Capsule\n",
            "# scalar in scalar out       -->>     vector in vector out/matrix in matrix out\n",
            "# back propagation update    -->>     routing update\n",
            "#\n",
            "class CapsuleLayer(Layer):\n",
            "    def __init__(self, n_capsule, n_vec, n_routing, **kwargs):\n",
            "        super(CapsuleLayer, self).__init__(**kwargs)\n",
            "        self.n_capsule = n_capsule\n",
            "        self.n_vector = n_vec\n",
            "        self.n_routing = n_routing\n",
            "        self.kernel_initializer = initializers.get('he_normal')\n",
            "        self.bias_initializer = initializers.get('zeros')\n",
            "\n",
            "    def build(self, input_shape): # input_shape is a 4D tensor\n",
            "        _, self.input_n_capsule, self.input_n_vector, *_ = input_shape\n",
            "        self.W = self.add_weight(shape=[self.input_n_capsule, self.n_capsule, self.input_n_vector, self.n_vector], initializer=self.kernel_initializer, name='W')\n",
            "        self.bias = self.add_weight(shape=[1, self.input_n_capsule, self.n_capsule, 1, 1], initializer=self.bias_initializer, name='bias', trainable=False)\n",
            "        self.built = True\n",
            "\n",
            "    def call(self, inputs, training=None):\n",
            "        input_expand = tf.expand_dims(tf.expand_dims(inputs, 2), 2)\n",
            "        input_tiled = tf.tile(input_expand, [1, 1, self.n_capsule, 1, 1])\n",
            "        input_hat = tf.scan(lambda ac, x: K.batch_dot(x, self.W, [3, 2]), elems=input_tiled, initializer=K.zeros( [self.input_n_capsule, self.n_capsule, 1, self.n_vector]))\n",
            "        for i in range(self.n_routing): # routing\n",
            "            c = tf.nn.softmax(self.bias, dim=2)\n",
            "            outputs = squash(tf.reduce_sum( c * input_hat, axis=1, keep_dims=True))\n",
            "            if i != self.n_routing - 1:\n",
            "                self.bias += tf.reduce_sum(input_hat * outputs, axis=-1, keep_dims=True)\n",
            "        return tf.reshape(outputs, [-1, self.n_capsule, self.n_vector])\n",
            "\n",
            "    def compute_output_shape(self, input_shape):\n",
            "        # output current layer capsules\n",
            "        return (None, self.n_capsule, self.n_vector)\n",
            "\n",
            "#\n",
            "# This layer takes 'n_class' arrays as input, outputs an array of size 'n_class',\n",
            "# each eleemnt in the output array represent the possibility,\n",
            "# i.e., the last layer in Figure 2.\n",
            "#\n",
            "class LengthLayer(Layer):\n",
            "    def call(self, inputs, **kwargs):\n",
            "        return tf.sqrt(tf.reduce_sum(tf.square(inputs), axis=-1, keep_dims=False))\n",
            "\n",
            "    def compute_output_shape(self, input_shape):\n",
            "        *output_shape, _ = input_shape\n",
            "        return tuple(output_shape)\n",
            "\n",
            "\n",
            "#\n",
            "# margin loss is employed to measure the accuracy of the capsule net,\n",
            "# in the code below, mean absolute error is used to measure the accuracy of the reconstructed image\n",
            "#\n",
            "def margin_loss(y_ground_truth, y_prediction):\n",
            "    _m_plus = 0.9\n",
            "    _m_minus = 0.1\n",
            "    _lambda = 0.5\n",
            "    L = y_ground_truth * tf.square(tf.maximum(0., _m_plus - y_prediction)) + _lambda * ( 1 - y_ground_truth) * tf.square(tf.maximum(0., y_prediction - _m_minus))\n",
            "    return tf.reduce_mean(tf.reduce_sum(L, axis=1))\n",
            "\n",
            "\n",
            "if __name__ == \"__main__\":\n",
            "\n",
            "    # preprocess MNIST dataset\n",
            "    (x_train, y_train), (x_test, y_test) = mnist.load_data()\n",
            "    x_train = x_train.reshape(-1, 28, 28, 1).astype('float32') / 255.0\n",
            "    x_test = x_test.reshape(-1, 28, 28, 1).astype('float32') / 255.0\n",
            "    y_train = to_categorical(y_train.astype('float32'))\n",
            "    y_test = to_categorical(y_test.astype('float32'))\n",
            "    X = np.concatenate((x_train, x_test), axis=0)\n",
            "    Y = np.concatenate((y_train, y_test), axis=0)\n",
            "\n",
            "    # make model\n",
            "    input_shape = [28, 28, 1]\n",
            "    n_class = 10\n",
            "    n_routing = 3\n",
            "\n",
            "    # encoder\n",
            "    x = Input(shape=input_shape)\n",
            "    conv1 = Conv2D(filters=256, kernel_size=9, strides=1, padding='valid', activation='relu', name='conv1')(x)\n",
            "    primary_capsule = PrimaryCapsule( n_vector=8, n_channel=32, n_kernel_size=9, n_stride=2)(conv1)\n",
            "    digit_capsule = CapsuleLayer( n_capsule=n_class, n_vec=16, n_routing=n_routing, name='digit_capsule')(primary_capsule)\n",
            "    output_capsule = LengthLayer(name='output_capsule')(digit_capsule)\n",
            "\n",
            "    # decoder\n",
            "    mask_input = Input(shape=(n_class, ))\n",
            "    mask = MaskingLayer()([digit_capsule, mask_input])  # two inputs\n",
            "    dec = Dense(512, activation='relu')(mask)\n",
            "    dec = Dense(1024, activation='relu')(dec)\n",
            "    dec = Dense(784, activation='sigmoid')(dec)\n",
            "    dec = Reshape(input_shape)(dec)\n",
            "\n",
            "    model = Model([x, mask_input], [output_capsule, dec])\n",
            "    plot_model(model, 'capsule.png', show_shapes=True, rankdir='TB')\n",
            "    model.summary()\n",
            "    model.compile(optimizer='adam', loss=[ margin_loss, 'mae' ], metrics=[ margin_loss, 'mae'])\n",
            "\n",
            "    # train capsule model\n",
            "    model.fit([X, Y], [Y, X], batch_size=128, epochs=50, validation_split=0.2)\n",
            "    model.save_weights('capsule_trained.h5')\n",
            "\n"
          ],
          "name": "stdout"
        }
      ]
    },
    {
      "cell_type": "code",
      "metadata": {
        "id": "sYZXWEwxLBf5",
        "colab_type": "code",
        "colab": {
          "base_uri": "https://localhost:8080/",
          "height": 1043
        },
        "outputId": "9a27be44-2ea1-4669-cdf6-e00279c1515b"
      },
      "source": [
        "!python mini_capsule.py"
      ],
      "execution_count": 0,
      "outputs": [
        {
          "output_type": "stream",
          "text": [
            "Using TensorFlow backend.\n",
            "Downloading data from https://s3.amazonaws.com/img-datasets/mnist.npz\n",
            "11493376/11490434 [==============================] - 0s 0us/step\n",
            "WARNING:tensorflow:From /usr/local/lib/python3.6/dist-packages/tensorflow/python/framework/op_def_library.py:263: colocate_with (from tensorflow.python.framework.ops) is deprecated and will be removed in a future version.\n",
            "Instructions for updating:\n",
            "Colocations handled automatically by placer.\n",
            "WARNING:tensorflow:From mini_capsule.py:22: calling reduce_sum_v1 (from tensorflow.python.ops.math_ops) with keep_dims is deprecated and will be removed in a future version.\n",
            "Instructions for updating:\n",
            "keep_dims is deprecated, use keepdims instead\n",
            "WARNING:tensorflow:From mini_capsule.py:75: calling softmax (from tensorflow.python.ops.nn_ops) with dim is deprecated and will be removed in a future version.\n",
            "Instructions for updating:\n",
            "dim is deprecated, use axis instead\n",
            "WARNING:tensorflow:Variable += will be deprecated. Use variable.assign_add if you want assignment to the variable value or 'x = x + y' if you want a new python Tensor object.\n",
            "__________________________________________________________________________________________________\n",
            "Layer (type)                    Output Shape         Param #     Connected to                     \n",
            "==================================================================================================\n",
            "input_1 (InputLayer)            (None, 28, 28, 1)    0                                            \n",
            "__________________________________________________________________________________________________\n",
            "conv1 (Conv2D)                  (None, 20, 20, 256)  20992       input_1[0][0]                    \n",
            "__________________________________________________________________________________________________\n",
            "conv2d_1 (Conv2D)               (None, 6, 6, 256)    5308672     conv1[0][0]                      \n",
            "__________________________________________________________________________________________________\n",
            "primary_capsule_reshape (Reshap (None, 1152, 8)      0           conv2d_1[0][0]                   \n",
            "__________________________________________________________________________________________________\n",
            "primary_capsule_squash (Lambda) (None, 1152, 8)      0           primary_capsule_reshape[0][0]    \n",
            "__________________________________________________________________________________________________\n",
            "digit_capsule (CapsuleLayer)    (None, 10, 16)       1486080     primary_capsule_squash[0][0]     \n",
            "__________________________________________________________________________________________________\n",
            "input_2 (InputLayer)            (None, 10)           0                                            \n",
            "__________________________________________________________________________________________________\n",
            "masking_layer_1 (MaskingLayer)  (None, 16)           0           digit_capsule[0][0]              \n",
            "                                                                 input_2[0][0]                    \n",
            "__________________________________________________________________________________________________\n",
            "dense_1 (Dense)                 (None, 512)          8704        masking_layer_1[0][0]            \n",
            "__________________________________________________________________________________________________\n",
            "dense_2 (Dense)                 (None, 1024)         525312      dense_1[0][0]                    \n",
            "__________________________________________________________________________________________________\n",
            "dense_3 (Dense)                 (None, 784)          803600      dense_2[0][0]                    \n",
            "__________________________________________________________________________________________________\n",
            "output_capsule (LengthLayer)    (None, 10)           0           digit_capsule[0][0]              \n",
            "__________________________________________________________________________________________________\n",
            "reshape_1 (Reshape)             (None, 28, 28, 1)    0           dense_3[0][0]                    \n",
            "==================================================================================================\n",
            "Total params: 8,153,360\n",
            "Trainable params: 8,141,840\n",
            "Non-trainable params: 11,520\n",
            "__________________________________________________________________________________________________\n",
            "WARNING:tensorflow:From /usr/local/lib/python3.6/dist-packages/tensorflow/python/ops/math_ops.py:3066: to_int32 (from tensorflow.python.ops.math_ops) is deprecated and will be removed in a future version.\n",
            "Instructions for updating:\n",
            "Use tf.cast instead.\n",
            "Train on 56000 samples, validate on 14000 samples\n",
            "Epoch 1/50\n",
            "2019-05-07 16:41:49.953803: I tensorflow/core/platform/profile_utils/cpu_utils.cc:94] CPU Frequency: 2300000000 Hz\n",
            "2019-05-07 16:41:49.954199: I tensorflow/compiler/xla/service/service.cc:150] XLA service 0x2cfb4a0 executing computations on platform Host. Devices:\n",
            "2019-05-07 16:41:49.954242: I tensorflow/compiler/xla/service/service.cc:158]   StreamExecutor device (0): <undefined>, <undefined>\n",
            "56000/56000 [==============================] - 2916s 52ms/step - loss: 0.2099 - output_capsule_loss: 0.0818 - reshape_1_loss: 0.1281 - output_capsule_margin_loss: 0.0818 - output_capsule_mean_absolute_error: 0.0993 - reshape_1_margin_loss: 2.0984 - reshape_1_mean_absolute_error: 0.1281 - val_loss: 0.1237 - val_output_capsule_loss: 0.0215 - val_reshape_1_loss: 0.1022 - val_output_capsule_margin_loss: 0.0215 - val_output_capsule_mean_absolute_error: 0.0710 - val_reshape_1_margin_loss: 1.9679 - val_reshape_1_mean_absolute_error: 0.1022\n",
            "Epoch 2/50\n",
            "55936/56000 [============================>.] - ETA: 3s - loss: 0.1138 - output_capsule_loss: 0.0192 - reshape_1_loss: 0.0946 - output_capsule_margin_loss: 0.0192 - output_capsule_mean_absolute_error: 0.0695 - reshape_1_margin_loss: 1.7925 - reshape_1_mean_absolute_error: 0.0946"
          ],
          "name": "stdout"
        }
      ]
    }
  ]
}