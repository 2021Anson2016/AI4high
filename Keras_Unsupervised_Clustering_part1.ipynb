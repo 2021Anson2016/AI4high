{
  "nbformat": 4,
  "nbformat_minor": 0,
  "metadata": {
    "colab": {
      "name": "“Keras_Unsupervised Clustering_part1.ipynb”的副本",
      "version": "0.3.2",
      "provenance": [],
      "collapsed_sections": []
    },
    "kernelspec": {
      "name": "python3",
      "display_name": "Python 3"
    }
  },
  "cells": [
    {
      "cell_type": "markdown",
      "metadata": {
        "id": "65-yfhV0Q9Jz",
        "colab_type": "text"
      },
      "source": [
        "How to do Unsupervised Clustering with Keras | DLology Blog\n",
        "\n",
        "https://github.com/Tony607/Keras_Deep_Clustering\n",
        "\n",
        "https://www.dlology.com/blog/how-to-do-unsupervised-clustering-with-keras/\n",
        "\n",
        "https://www.leiphone.com/news/201806/ItBuEPkqPZR378rY.html\n",
        "\n"
      ]
    },
    {
      "cell_type": "markdown",
      "metadata": {
        "id": "nmycztEtTBxW",
        "colab_type": "text"
      },
      "source": [
        "Can Keras be used to build clustering models\n",
        "\n",
        "https://datascience.stackexchange.com/questions/31435/can-keras-be-used-to-build-clustering-models"
      ]
    },
    {
      "cell_type": "code",
      "metadata": {
        "id": "D1Yu8f22QF7w",
        "colab_type": "code",
        "colab": {}
      },
      "source": [
        "import numpy as np\n",
        "from sklearn.metrics import normalized_mutual_info_score, adjusted_rand_score\n",
        "\n",
        "nmi = normalized_mutual_info_score\n",
        "ari = adjusted_rand_score\n",
        "\n",
        "\n",
        "def acc(y_true, y_pred):\n",
        "    \"\"\"\n",
        "    Calculate clustering accuracy. Require scikit-learn installed\n",
        "    # Arguments\n",
        "        y: true labels, numpy.array with shape `(n_samples,)`\n",
        "        y_pred: predicted labels, numpy.array with shape `(n_samples,)`\n",
        "    # Return\n",
        "        accuracy, in [0,1]\n",
        "    \"\"\"\n",
        "    y_true = y_true.astype(np.int64)\n",
        "    assert y_pred.size == y_true.size\n",
        "    D = max(y_pred.max(), y_true.max()) + 1\n",
        "    w = np.zeros((D, D), dtype=np.int64)\n",
        "    for i in range(y_pred.size):\n",
        "        w[y_pred[i], y_true[i]] += 1\n",
        "    from sklearn.utils.linear_assignment_ import linear_assignment\n",
        "    ind = linear_assignment(w.max() - w)\n",
        "    return sum([w[i, j] for i, j in ind]) * 1.0 / y_pred.size"
      ],
      "execution_count": 0,
      "outputs": []
    },
    {
      "cell_type": "code",
      "metadata": {
        "id": "LWHLqWTRqnqC",
        "colab_type": "code",
        "outputId": "f9642dc7-8ffc-4820-8ad2-b6082f03c3b7",
        "colab": {
          "base_uri": "https://localhost:8080/",
          "height": 121
        }
      },
      "source": [
        "from sklearn.cluster import KMeans\n",
        "import numpy as np\n",
        "from keras.datasets import mnist\n",
        "\n",
        "\n",
        "\n",
        "(x_train, y_train), (x_test, y_test) = mnist.load_data()\n",
        "\n",
        "x = np.concatenate((x_train, x_test))\n",
        "\n",
        "y = np.concatenate((y_train, y_test))\n",
        "\n",
        "x = x.reshape((x.shape[0], -1))\n",
        "\n",
        "x = np.divide(x, 255.)\n",
        "\n",
        "# 10 clusters\n",
        "\n",
        "n_clusters = len(np.unique(y))\n",
        "\n",
        "# Runs in parallel 4 CPUs\n",
        "\n",
        "kmeans = KMeans(n_clusters=n_clusters, n_init=20, n_jobs=4)\n",
        "\n",
        "# Train K-Means.\n",
        "\n",
        "y_pred_kmeans = kmeans.fit_predict(x)\n",
        "\n",
        "# Evaluate the K-Means clustering accuracy.\n",
        "\n",
        "acc(y, y_pred_kmeans)\n",
        "#metrics.acc(y, y_pred_kmeans)\n",
        "\n",
        "# 準確率只有0.5323571428571429\n",
        "# 請參看上述文章提高準確率的另一種作法"
      ],
      "execution_count": 3,
      "outputs": [
        {
          "output_type": "stream",
          "text": [
            "/usr/local/lib/python3.6/dist-packages/sklearn/utils/linear_assignment_.py:21: DeprecationWarning: The linear_assignment_ module is deprecated in 0.21 and will be removed from 0.23. Use scipy.optimize.linear_sum_assignment instead.\n",
            "  DeprecationWarning)\n",
            "/usr/local/lib/python3.6/dist-packages/sklearn/utils/linear_assignment_.py:127: DeprecationWarning: The linear_assignment function is deprecated in 0.21 and will be removed from 0.23. Use scipy.optimize.linear_sum_assignment instead.\n",
            "  DeprecationWarning)\n"
          ],
          "name": "stderr"
        },
        {
          "output_type": "execute_result",
          "data": {
            "text/plain": [
              "0.5323571428571429"
            ]
          },
          "metadata": {
            "tags": []
          },
          "execution_count": 3
        }
      ]
    }
  ]
}