{
  "nbformat": 4,
  "nbformat_minor": 0,
  "metadata": {
    "colab": {
      "name": "pandas專題_簡單股票查詢分析.ipynb",
      "version": "0.3.2",
      "provenance": [],
      "include_colab_link": true
    },
    "kernelspec": {
      "name": "python3",
      "display_name": "Python 3"
    }
  },
  "cells": [
    {
      "cell_type": "markdown",
      "metadata": {
        "id": "view-in-github",
        "colab_type": "text"
      },
      "source": [
        "<a href=\"https://colab.research.google.com/github/MyDearGreatTeacher/AI4high/blob/master/pandas%E5%B0%88%E9%A1%8C_%E7%B0%A1%E5%96%AE%E8%82%A1%E7%A5%A8%E6%9F%A5%E8%A9%A2%E5%88%86%E6%9E%90.ipynb\" target=\"_parent\"><img src=\"https://colab.research.google.com/assets/colab-badge.svg\" alt=\"Open In Colab\"/></a>"
      ]
    },
    {
      "metadata": {
        "id": "qxrwWl2Vy4OZ",
        "colab_type": "text"
      },
      "cell_type": "markdown",
      "source": [
        "# pandas專題"
      ]
    },
    {
      "metadata": {
        "id": "46YXh6zq0H82",
        "colab_type": "text"
      },
      "cell_type": "markdown",
      "source": [
        "https://colab.research.google.com/drive/1D_a3idela6AvAMOm4AxigfoecY1YlQvm#scrollTo=Xsm9YrtKT2Aw"
      ]
    },
    {
      "metadata": {
        "id": "4EPXAWgDzGD2",
        "colab_type": "code",
        "colab": {}
      },
      "cell_type": "code",
      "source": [
        "!pip install pyquery"
      ],
      "execution_count": 0,
      "outputs": []
    },
    {
      "metadata": {
        "id": "A79rqQYcxyCc",
        "colab_type": "code",
        "colab": {
          "base_uri": "https://localhost:8080/",
          "height": 159
        },
        "outputId": "f3422106-db43-4705-ff3d-d8aa42a1f6ef"
      },
      "cell_type": "code",
      "source": [
        "from pyquery import PyQuery as pq\n",
        "\n",
        "def get_top_100():\n",
        "  stock_url = \"https://tw.stock.yahoo.com/d/i/rank.php?t=pri&e=tse&n=100\"\n",
        "  ticker_name_css = \".name a\"\n",
        "  price_css = \".name+ td\"\n",
        "  \n",
        "  html_doc = pq(stock_url)\n",
        "  tickers = [tn.text.split()[0] for tn in html_doc(ticker_name_css)]\n",
        "  names = [tn.text.split()[1] for tn in html_doc(ticker_name_css)]\n",
        "  #ticker_name = [tn.text for tn in html_doc(ticker_name_css)]\n",
        "  prices = [float(p.text) for p in html_doc(price_css)]\n",
        "  return tickers, names, prices"
      ],
      "execution_count": 4,
      "outputs": [
        {
          "output_type": "stream",
          "text": [
            "Collecting pyquery\n",
            "  Downloading https://files.pythonhosted.org/packages/09/c7/ce8c9c37ab8ff8337faad3335c088d60bed4a35a4bed33a64f0e64fbcf29/pyquery-1.4.0-py2.py3-none-any.whl\n",
            "Requirement already satisfied: lxml>=2.1 in /usr/local/lib/python3.6/dist-packages (from pyquery) (4.2.6)\n",
            "Collecting cssselect>0.7.9 (from pyquery)\n",
            "  Downloading https://files.pythonhosted.org/packages/7b/44/25b7283e50585f0b4156960691d951b05d061abf4a714078393e51929b30/cssselect-1.0.3-py2.py3-none-any.whl\n",
            "Installing collected packages: cssselect, pyquery\n",
            "Successfully installed cssselect-1.0.3 pyquery-1.4.0\n"
          ],
          "name": "stdout"
        }
      ]
    },
    {
      "metadata": {
        "id": "CmjGLEHBx396",
        "colab_type": "code",
        "colab": {}
      },
      "cell_type": "code",
      "source": [
        "get_top_100()"
      ],
      "execution_count": 0,
      "outputs": []
    },
    {
      "metadata": {
        "id": "tced4cWKx58p",
        "colab_type": "code",
        "colab": {
          "base_uri": "https://localhost:8080/",
          "height": 35
        },
        "outputId": "15e206d2-a275-4f6c-8955-ba72af80b512"
      },
      "cell_type": "code",
      "source": [
        "tickers, names, prices = get_top_100()\n",
        "#tickers\n",
        "#names\n",
        "# prices\n",
        "tickers[0], names[0], prices[0]"
      ],
      "execution_count": 10,
      "outputs": [
        {
          "output_type": "execute_result",
          "data": {
            "text/plain": [
              "('3008', '大立光', 4695.0)"
            ]
          },
          "metadata": {
            "tags": []
          },
          "execution_count": 10
        }
      ]
    },
    {
      "metadata": {
        "id": "meqoAnNhyijx",
        "colab_type": "code",
        "colab": {}
      },
      "cell_type": "code",
      "source": [
        "# Create DataFrame - 1\n",
        "import pandas as pd\n",
        "\n",
        "df = pd.DataFrame()\n",
        "df[\"ticker\"] = tickers\n",
        "df[\"name\"] = names\n",
        "df[\"price\"] = prices\n",
        "\n",
        "df.head()\n",
        "#df"
      ],
      "execution_count": 0,
      "outputs": []
    },
    {
      "metadata": {
        "id": "kCZMmjai0lP1",
        "colab_type": "code",
        "colab": {
          "base_uri": "https://localhost:8080/",
          "height": 202
        },
        "outputId": "4dae9dfb-6757-48d0-9e48-9ad21c051714"
      },
      "cell_type": "code",
      "source": [
        "# Create DataFrame - 2\n",
        "stock_dict = {\n",
        "    \"ticker\": tickers,\n",
        "    \"name\": names,\n",
        "    \"price\": prices\n",
        "}\n",
        "df = pd.DataFrame(stock_dict, columns = [\"ticker\", \"name\", \"price\"])\n",
        "df.head()"
      ],
      "execution_count": 13,
      "outputs": [
        {
          "output_type": "execute_result",
          "data": {
            "text/html": [
              "<div>\n",
              "<style scoped>\n",
              "    .dataframe tbody tr th:only-of-type {\n",
              "        vertical-align: middle;\n",
              "    }\n",
              "\n",
              "    .dataframe tbody tr th {\n",
              "        vertical-align: top;\n",
              "    }\n",
              "\n",
              "    .dataframe thead th {\n",
              "        text-align: right;\n",
              "    }\n",
              "</style>\n",
              "<table border=\"1\" class=\"dataframe\">\n",
              "  <thead>\n",
              "    <tr style=\"text-align: right;\">\n",
              "      <th></th>\n",
              "      <th>ticker</th>\n",
              "      <th>name</th>\n",
              "      <th>price</th>\n",
              "    </tr>\n",
              "  </thead>\n",
              "  <tbody>\n",
              "    <tr>\n",
              "      <th>0</th>\n",
              "      <td>3008</td>\n",
              "      <td>大立光</td>\n",
              "      <td>4695.0</td>\n",
              "    </tr>\n",
              "    <tr>\n",
              "      <th>1</th>\n",
              "      <td>6409</td>\n",
              "      <td>旭隼</td>\n",
              "      <td>610.0</td>\n",
              "    </tr>\n",
              "    <tr>\n",
              "      <th>2</th>\n",
              "      <td>5269</td>\n",
              "      <td>祥碩</td>\n",
              "      <td>539.0</td>\n",
              "    </tr>\n",
              "    <tr>\n",
              "      <th>3</th>\n",
              "      <td>6415</td>\n",
              "      <td>矽力-KY</td>\n",
              "      <td>495.0</td>\n",
              "    </tr>\n",
              "    <tr>\n",
              "      <th>4</th>\n",
              "      <td>1476</td>\n",
              "      <td>儒鴻</td>\n",
              "      <td>441.0</td>\n",
              "    </tr>\n",
              "  </tbody>\n",
              "</table>\n",
              "</div>"
            ],
            "text/plain": [
              "  ticker   name   price\n",
              "0   3008    大立光  4695.0\n",
              "1   6409     旭隼   610.0\n",
              "2   5269     祥碩   539.0\n",
              "3   6415  矽力-KY   495.0\n",
              "4   1476     儒鴻   441.0"
            ]
          },
          "metadata": {
            "tags": []
          },
          "execution_count": 13
        }
      ]
    },
    {
      "metadata": {
        "id": "v5C1V1RC0m5h",
        "colab_type": "code",
        "colab": {
          "base_uri": "https://localhost:8080/",
          "height": 79
        },
        "outputId": "2cf23ffd-b125-427f-802a-2e6323fdf800"
      },
      "cell_type": "code",
      "source": [
        "# filter: 觀測值篩選\n",
        "df[df[\"price\"] > 1000]"
      ],
      "execution_count": 14,
      "outputs": [
        {
          "output_type": "execute_result",
          "data": {
            "text/html": [
              "<div>\n",
              "<style scoped>\n",
              "    .dataframe tbody tr th:only-of-type {\n",
              "        vertical-align: middle;\n",
              "    }\n",
              "\n",
              "    .dataframe tbody tr th {\n",
              "        vertical-align: top;\n",
              "    }\n",
              "\n",
              "    .dataframe thead th {\n",
              "        text-align: right;\n",
              "    }\n",
              "</style>\n",
              "<table border=\"1\" class=\"dataframe\">\n",
              "  <thead>\n",
              "    <tr style=\"text-align: right;\">\n",
              "      <th></th>\n",
              "      <th>ticker</th>\n",
              "      <th>name</th>\n",
              "      <th>price</th>\n",
              "    </tr>\n",
              "  </thead>\n",
              "  <tbody>\n",
              "    <tr>\n",
              "      <th>0</th>\n",
              "      <td>3008</td>\n",
              "      <td>大立光</td>\n",
              "      <td>4695.0</td>\n",
              "    </tr>\n",
              "  </tbody>\n",
              "</table>\n",
              "</div>"
            ],
            "text/plain": [
              "  ticker name   price\n",
              "0   3008  大立光  4695.0"
            ]
          },
          "metadata": {
            "tags": []
          },
          "execution_count": 14
        }
      ]
    },
    {
      "metadata": {
        "id": "KZYW1-oG0sVN",
        "colab_type": "code",
        "colab": {}
      },
      "cell_type": "code",
      "source": [
        "# filter: 設立在境外的公司篩選出來\n",
        "# https://pandas.pydata.org/pandas-docs/stable/generated/pandas.Series.str.contains.html\n",
        "df[df[\"name\"].str.contains(\"KY\")]"
      ],
      "execution_count": 0,
      "outputs": []
    },
    {
      "metadata": {
        "id": "B9ujt62Y1K-7",
        "colab_type": "code",
        "colab": {
          "base_uri": "https://localhost:8080/",
          "height": 141
        },
        "outputId": "c578cf9a-e00e-46a3-b5be-61319ba22394"
      },
      "cell_type": "code",
      "source": [
        "# .loc OR .iloc\n",
        "ky_df = df[df[\"name\"].str.contains(\"KY\")]\n",
        "ky_df\n",
        "\n",
        "#ky_df.loc[[2, 7, 13, 16, 17], [\"name\", \"price\"]]\n",
        "# 找不到key會出錯\n",
        "\n",
        "ky_df.loc[[3, 6, 21], [\"name\", \"price\"]]"
      ],
      "execution_count": 21,
      "outputs": [
        {
          "output_type": "execute_result",
          "data": {
            "text/html": [
              "<div>\n",
              "<style scoped>\n",
              "    .dataframe tbody tr th:only-of-type {\n",
              "        vertical-align: middle;\n",
              "    }\n",
              "\n",
              "    .dataframe tbody tr th {\n",
              "        vertical-align: top;\n",
              "    }\n",
              "\n",
              "    .dataframe thead th {\n",
              "        text-align: right;\n",
              "    }\n",
              "</style>\n",
              "<table border=\"1\" class=\"dataframe\">\n",
              "  <thead>\n",
              "    <tr style=\"text-align: right;\">\n",
              "      <th></th>\n",
              "      <th>name</th>\n",
              "      <th>price</th>\n",
              "    </tr>\n",
              "  </thead>\n",
              "  <tbody>\n",
              "    <tr>\n",
              "      <th>3</th>\n",
              "      <td>矽力-KY</td>\n",
              "      <td>495.0</td>\n",
              "    </tr>\n",
              "    <tr>\n",
              "      <th>6</th>\n",
              "      <td>亞德客-KY</td>\n",
              "      <td>437.0</td>\n",
              "    </tr>\n",
              "    <tr>\n",
              "      <th>21</th>\n",
              "      <td>麗豐-KY</td>\n",
              "      <td>255.0</td>\n",
              "    </tr>\n",
              "  </tbody>\n",
              "</table>\n",
              "</div>"
            ],
            "text/plain": [
              "      name  price\n",
              "3    矽力-KY  495.0\n",
              "6   亞德客-KY  437.0\n",
              "21   麗豐-KY  255.0"
            ]
          },
          "metadata": {
            "tags": []
          },
          "execution_count": 21
        }
      ]
    },
    {
      "metadata": {
        "id": "E-3_PuhB15Y6",
        "colab_type": "code",
        "colab": {
          "base_uri": "https://localhost:8080/",
          "height": 202
        },
        "outputId": "f1aa2626-b32f-4fc4-93c2-f091a6eed486"
      },
      "cell_type": "code",
      "source": [
        "ky_df.iloc[:5, [1, 2]]"
      ],
      "execution_count": 22,
      "outputs": [
        {
          "output_type": "execute_result",
          "data": {
            "text/html": [
              "<div>\n",
              "<style scoped>\n",
              "    .dataframe tbody tr th:only-of-type {\n",
              "        vertical-align: middle;\n",
              "    }\n",
              "\n",
              "    .dataframe tbody tr th {\n",
              "        vertical-align: top;\n",
              "    }\n",
              "\n",
              "    .dataframe thead th {\n",
              "        text-align: right;\n",
              "    }\n",
              "</style>\n",
              "<table border=\"1\" class=\"dataframe\">\n",
              "  <thead>\n",
              "    <tr style=\"text-align: right;\">\n",
              "      <th></th>\n",
              "      <th>name</th>\n",
              "      <th>price</th>\n",
              "    </tr>\n",
              "  </thead>\n",
              "  <tbody>\n",
              "    <tr>\n",
              "      <th>3</th>\n",
              "      <td>矽力-KY</td>\n",
              "      <td>495.0</td>\n",
              "    </tr>\n",
              "    <tr>\n",
              "      <th>6</th>\n",
              "      <td>亞德客-KY</td>\n",
              "      <td>437.0</td>\n",
              "    </tr>\n",
              "    <tr>\n",
              "      <th>21</th>\n",
              "      <td>麗豐-KY</td>\n",
              "      <td>255.0</td>\n",
              "    </tr>\n",
              "    <tr>\n",
              "      <th>29</th>\n",
              "      <td>康友-KY</td>\n",
              "      <td>222.5</td>\n",
              "    </tr>\n",
              "    <tr>\n",
              "      <th>35</th>\n",
              "      <td>貿聯-KY</td>\n",
              "      <td>199.5</td>\n",
              "    </tr>\n",
              "  </tbody>\n",
              "</table>\n",
              "</div>"
            ],
            "text/plain": [
              "      name  price\n",
              "3    矽力-KY  495.0\n",
              "6   亞德客-KY  437.0\n",
              "21   麗豐-KY  255.0\n",
              "29   康友-KY  222.5\n",
              "35   貿聯-KY  199.5"
            ]
          },
          "metadata": {
            "tags": []
          },
          "execution_count": 22
        }
      ]
    },
    {
      "metadata": {
        "id": "QtByunWZ2Dq8",
        "colab_type": "code",
        "colab": {
          "base_uri": "https://localhost:8080/",
          "height": 202
        },
        "outputId": "189c5bea-8e94-43d7-9bd0-4cad9021b56d"
      },
      "cell_type": "code",
      "source": [
        "# mutate: 新增變數\n",
        "has_ky = df[\"name\"].str.contains(\"KY\")\n",
        "df[\"listed_in_cayman\"] = has_ky\n",
        "df.head()"
      ],
      "execution_count": 23,
      "outputs": [
        {
          "output_type": "execute_result",
          "data": {
            "text/html": [
              "<div>\n",
              "<style scoped>\n",
              "    .dataframe tbody tr th:only-of-type {\n",
              "        vertical-align: middle;\n",
              "    }\n",
              "\n",
              "    .dataframe tbody tr th {\n",
              "        vertical-align: top;\n",
              "    }\n",
              "\n",
              "    .dataframe thead th {\n",
              "        text-align: right;\n",
              "    }\n",
              "</style>\n",
              "<table border=\"1\" class=\"dataframe\">\n",
              "  <thead>\n",
              "    <tr style=\"text-align: right;\">\n",
              "      <th></th>\n",
              "      <th>ticker</th>\n",
              "      <th>name</th>\n",
              "      <th>price</th>\n",
              "      <th>listed_in_cayman</th>\n",
              "    </tr>\n",
              "  </thead>\n",
              "  <tbody>\n",
              "    <tr>\n",
              "      <th>0</th>\n",
              "      <td>3008</td>\n",
              "      <td>大立光</td>\n",
              "      <td>4695.0</td>\n",
              "      <td>False</td>\n",
              "    </tr>\n",
              "    <tr>\n",
              "      <th>1</th>\n",
              "      <td>6409</td>\n",
              "      <td>旭隼</td>\n",
              "      <td>610.0</td>\n",
              "      <td>False</td>\n",
              "    </tr>\n",
              "    <tr>\n",
              "      <th>2</th>\n",
              "      <td>5269</td>\n",
              "      <td>祥碩</td>\n",
              "      <td>539.0</td>\n",
              "      <td>False</td>\n",
              "    </tr>\n",
              "    <tr>\n",
              "      <th>3</th>\n",
              "      <td>6415</td>\n",
              "      <td>矽力-KY</td>\n",
              "      <td>495.0</td>\n",
              "      <td>True</td>\n",
              "    </tr>\n",
              "    <tr>\n",
              "      <th>4</th>\n",
              "      <td>1476</td>\n",
              "      <td>儒鴻</td>\n",
              "      <td>441.0</td>\n",
              "      <td>False</td>\n",
              "    </tr>\n",
              "  </tbody>\n",
              "</table>\n",
              "</div>"
            ],
            "text/plain": [
              "  ticker   name   price  listed_in_cayman\n",
              "0   3008    大立光  4695.0             False\n",
              "1   6409     旭隼   610.0             False\n",
              "2   5269     祥碩   539.0             False\n",
              "3   6415  矽力-KY   495.0              True\n",
              "4   1476     儒鴻   441.0             False"
            ]
          },
          "metadata": {
            "tags": []
          },
          "execution_count": 23
        }
      ]
    },
    {
      "metadata": {
        "id": "hr-lMiwm2Gmw",
        "colab_type": "code",
        "colab": {
          "base_uri": "https://localhost:8080/",
          "height": 202
        },
        "outputId": "92804832-edd4-4e69-81c6-50be1d349686"
      },
      "cell_type": "code",
      "source": [
        "# arrange：排序資料框\n",
        "# arrange by index\n",
        "df.sort_index(ascending=False).head()"
      ],
      "execution_count": 24,
      "outputs": [
        {
          "output_type": "execute_result",
          "data": {
            "text/html": [
              "<div>\n",
              "<style scoped>\n",
              "    .dataframe tbody tr th:only-of-type {\n",
              "        vertical-align: middle;\n",
              "    }\n",
              "\n",
              "    .dataframe tbody tr th {\n",
              "        vertical-align: top;\n",
              "    }\n",
              "\n",
              "    .dataframe thead th {\n",
              "        text-align: right;\n",
              "    }\n",
              "</style>\n",
              "<table border=\"1\" class=\"dataframe\">\n",
              "  <thead>\n",
              "    <tr style=\"text-align: right;\">\n",
              "      <th></th>\n",
              "      <th>ticker</th>\n",
              "      <th>name</th>\n",
              "      <th>price</th>\n",
              "      <th>listed_in_cayman</th>\n",
              "    </tr>\n",
              "  </thead>\n",
              "  <tbody>\n",
              "    <tr>\n",
              "      <th>99</th>\n",
              "      <td>2383</td>\n",
              "      <td>台光電</td>\n",
              "      <td>100.0</td>\n",
              "      <td>False</td>\n",
              "    </tr>\n",
              "    <tr>\n",
              "      <th>98</th>\n",
              "      <td>4190</td>\n",
              "      <td>佐登-KY</td>\n",
              "      <td>100.5</td>\n",
              "      <td>True</td>\n",
              "    </tr>\n",
              "    <tr>\n",
              "      <th>97</th>\n",
              "      <td>3504</td>\n",
              "      <td>揚明光</td>\n",
              "      <td>100.5</td>\n",
              "      <td>False</td>\n",
              "    </tr>\n",
              "    <tr>\n",
              "      <th>96</th>\n",
              "      <td>2456</td>\n",
              "      <td>奇力新</td>\n",
              "      <td>102.5</td>\n",
              "      <td>False</td>\n",
              "    </tr>\n",
              "    <tr>\n",
              "      <th>95</th>\n",
              "      <td>6176</td>\n",
              "      <td>瑞儀</td>\n",
              "      <td>103.0</td>\n",
              "      <td>False</td>\n",
              "    </tr>\n",
              "  </tbody>\n",
              "</table>\n",
              "</div>"
            ],
            "text/plain": [
              "   ticker   name  price  listed_in_cayman\n",
              "99   2383    台光電  100.0             False\n",
              "98   4190  佐登-KY  100.5              True\n",
              "97   3504    揚明光  100.5             False\n",
              "96   2456    奇力新  102.5             False\n",
              "95   6176     瑞儀  103.0             False"
            ]
          },
          "metadata": {
            "tags": []
          },
          "execution_count": 24
        }
      ]
    },
    {
      "metadata": {
        "id": "z-nbJP_X2KdN",
        "colab_type": "code",
        "colab": {
          "base_uri": "https://localhost:8080/",
          "height": 202
        },
        "outputId": "5b43c414-50e7-4906-a45a-59078123a697"
      },
      "cell_type": "code",
      "source": [
        "df.sort_values(\"listed_in_cayman\").head()"
      ],
      "execution_count": 25,
      "outputs": [
        {
          "output_type": "execute_result",
          "data": {
            "text/html": [
              "<div>\n",
              "<style scoped>\n",
              "    .dataframe tbody tr th:only-of-type {\n",
              "        vertical-align: middle;\n",
              "    }\n",
              "\n",
              "    .dataframe tbody tr th {\n",
              "        vertical-align: top;\n",
              "    }\n",
              "\n",
              "    .dataframe thead th {\n",
              "        text-align: right;\n",
              "    }\n",
              "</style>\n",
              "<table border=\"1\" class=\"dataframe\">\n",
              "  <thead>\n",
              "    <tr style=\"text-align: right;\">\n",
              "      <th></th>\n",
              "      <th>ticker</th>\n",
              "      <th>name</th>\n",
              "      <th>price</th>\n",
              "      <th>listed_in_cayman</th>\n",
              "    </tr>\n",
              "  </thead>\n",
              "  <tbody>\n",
              "    <tr>\n",
              "      <th>0</th>\n",
              "      <td>3008</td>\n",
              "      <td>大立光</td>\n",
              "      <td>4695.0</td>\n",
              "      <td>False</td>\n",
              "    </tr>\n",
              "    <tr>\n",
              "      <th>68</th>\n",
              "      <td>2345</td>\n",
              "      <td>智邦</td>\n",
              "      <td>128.5</td>\n",
              "      <td>False</td>\n",
              "    </tr>\n",
              "    <tr>\n",
              "      <th>67</th>\n",
              "      <td>6552</td>\n",
              "      <td>易華電</td>\n",
              "      <td>130.0</td>\n",
              "      <td>False</td>\n",
              "    </tr>\n",
              "    <tr>\n",
              "      <th>66</th>\n",
              "      <td>8016</td>\n",
              "      <td>矽創</td>\n",
              "      <td>132.5</td>\n",
              "      <td>False</td>\n",
              "    </tr>\n",
              "    <tr>\n",
              "      <th>64</th>\n",
              "      <td>4536</td>\n",
              "      <td>拓凱</td>\n",
              "      <td>135.0</td>\n",
              "      <td>False</td>\n",
              "    </tr>\n",
              "  </tbody>\n",
              "</table>\n",
              "</div>"
            ],
            "text/plain": [
              "   ticker name   price  listed_in_cayman\n",
              "0    3008  大立光  4695.0             False\n",
              "68   2345   智邦   128.5             False\n",
              "67   6552  易華電   130.0             False\n",
              "66   8016   矽創   132.5             False\n",
              "64   4536   拓凱   135.0             False"
            ]
          },
          "metadata": {
            "tags": []
          },
          "execution_count": 25
        }
      ]
    },
    {
      "metadata": {
        "id": "qIcfSsAs2PfX",
        "colab_type": "code",
        "colab": {
          "base_uri": "https://localhost:8080/",
          "height": 202
        },
        "outputId": "1f364761-54c9-4d48-9ba8-d06aee32dd12"
      },
      "cell_type": "code",
      "source": [
        "df.sort_values([\"listed_in_cayman\", \"price\"],\n",
        "              ascending=[True, False]).head()"
      ],
      "execution_count": 26,
      "outputs": [
        {
          "output_type": "execute_result",
          "data": {
            "text/html": [
              "<div>\n",
              "<style scoped>\n",
              "    .dataframe tbody tr th:only-of-type {\n",
              "        vertical-align: middle;\n",
              "    }\n",
              "\n",
              "    .dataframe tbody tr th {\n",
              "        vertical-align: top;\n",
              "    }\n",
              "\n",
              "    .dataframe thead th {\n",
              "        text-align: right;\n",
              "    }\n",
              "</style>\n",
              "<table border=\"1\" class=\"dataframe\">\n",
              "  <thead>\n",
              "    <tr style=\"text-align: right;\">\n",
              "      <th></th>\n",
              "      <th>ticker</th>\n",
              "      <th>name</th>\n",
              "      <th>price</th>\n",
              "      <th>listed_in_cayman</th>\n",
              "    </tr>\n",
              "  </thead>\n",
              "  <tbody>\n",
              "    <tr>\n",
              "      <th>0</th>\n",
              "      <td>3008</td>\n",
              "      <td>大立光</td>\n",
              "      <td>4695.0</td>\n",
              "      <td>False</td>\n",
              "    </tr>\n",
              "    <tr>\n",
              "      <th>1</th>\n",
              "      <td>6409</td>\n",
              "      <td>旭隼</td>\n",
              "      <td>610.0</td>\n",
              "      <td>False</td>\n",
              "    </tr>\n",
              "    <tr>\n",
              "      <th>2</th>\n",
              "      <td>5269</td>\n",
              "      <td>祥碩</td>\n",
              "      <td>539.0</td>\n",
              "      <td>False</td>\n",
              "    </tr>\n",
              "    <tr>\n",
              "      <th>4</th>\n",
              "      <td>1476</td>\n",
              "      <td>儒鴻</td>\n",
              "      <td>441.0</td>\n",
              "      <td>False</td>\n",
              "    </tr>\n",
              "    <tr>\n",
              "      <th>5</th>\n",
              "      <td>3563</td>\n",
              "      <td>牧德</td>\n",
              "      <td>438.0</td>\n",
              "      <td>False</td>\n",
              "    </tr>\n",
              "  </tbody>\n",
              "</table>\n",
              "</div>"
            ],
            "text/plain": [
              "  ticker name   price  listed_in_cayman\n",
              "0   3008  大立光  4695.0             False\n",
              "1   6409   旭隼   610.0             False\n",
              "2   5269   祥碩   539.0             False\n",
              "4   1476   儒鴻   441.0             False\n",
              "5   3563   牧德   438.0             False"
            ]
          },
          "metadata": {
            "tags": []
          },
          "execution_count": 26
        }
      ]
    },
    {
      "metadata": {
        "id": "9fgv162S2XMO",
        "colab_type": "code",
        "colab": {
          "base_uri": "https://localhost:8080/",
          "height": 202
        },
        "outputId": "a45f1a52-f747-427a-a545-0117d306f1b4"
      },
      "cell_type": "code",
      "source": [
        "df[\"price\"].max()\n",
        "df[\"price\"].min()\n",
        "df[df[\"price\"] == df[\"price\"].max()]\n",
        "df[\"price\"].idxmax()\n",
        "df.loc[df[\"price\"].idxmax(), :]\n",
        "df.loc[df[\"price\"].idxmin(), :]\n",
        "# summarize\n",
        "df[\"price\"].median()\n",
        "# groupby\n",
        "df[df[\"listed_in_cayman\"]][\"price\"].median() # KY\n",
        "df[~df[\"listed_in_cayman\"]][\"price\"].median() # non-KY\n",
        "grouped = df.groupby(\"listed_in_cayman\")\n",
        "grouped[\"price\"].median()\n",
        "grouped[\"ticker\"].count()\n",
        "# filter\n",
        "df[df[\"price\"] > 500]\n",
        "# groupby\n",
        "df[\"listed_in_kayman\"] = df[\"name\"].str.contains(\"KY\")\n",
        "df.head()"
      ],
      "execution_count": 28,
      "outputs": [
        {
          "output_type": "execute_result",
          "data": {
            "text/html": [
              "<div>\n",
              "<style scoped>\n",
              "    .dataframe tbody tr th:only-of-type {\n",
              "        vertical-align: middle;\n",
              "    }\n",
              "\n",
              "    .dataframe tbody tr th {\n",
              "        vertical-align: top;\n",
              "    }\n",
              "\n",
              "    .dataframe thead th {\n",
              "        text-align: right;\n",
              "    }\n",
              "</style>\n",
              "<table border=\"1\" class=\"dataframe\">\n",
              "  <thead>\n",
              "    <tr style=\"text-align: right;\">\n",
              "      <th></th>\n",
              "      <th>ticker</th>\n",
              "      <th>name</th>\n",
              "      <th>price</th>\n",
              "      <th>listed_in_cayman</th>\n",
              "      <th>listed_in_kayman</th>\n",
              "    </tr>\n",
              "  </thead>\n",
              "  <tbody>\n",
              "    <tr>\n",
              "      <th>0</th>\n",
              "      <td>3008</td>\n",
              "      <td>大立光</td>\n",
              "      <td>4695.0</td>\n",
              "      <td>False</td>\n",
              "      <td>False</td>\n",
              "    </tr>\n",
              "    <tr>\n",
              "      <th>1</th>\n",
              "      <td>6409</td>\n",
              "      <td>旭隼</td>\n",
              "      <td>610.0</td>\n",
              "      <td>False</td>\n",
              "      <td>False</td>\n",
              "    </tr>\n",
              "    <tr>\n",
              "      <th>2</th>\n",
              "      <td>5269</td>\n",
              "      <td>祥碩</td>\n",
              "      <td>539.0</td>\n",
              "      <td>False</td>\n",
              "      <td>False</td>\n",
              "    </tr>\n",
              "    <tr>\n",
              "      <th>3</th>\n",
              "      <td>6415</td>\n",
              "      <td>矽力-KY</td>\n",
              "      <td>495.0</td>\n",
              "      <td>True</td>\n",
              "      <td>True</td>\n",
              "    </tr>\n",
              "    <tr>\n",
              "      <th>4</th>\n",
              "      <td>1476</td>\n",
              "      <td>儒鴻</td>\n",
              "      <td>441.0</td>\n",
              "      <td>False</td>\n",
              "      <td>False</td>\n",
              "    </tr>\n",
              "  </tbody>\n",
              "</table>\n",
              "</div>"
            ],
            "text/plain": [
              "  ticker   name   price  listed_in_cayman  listed_in_kayman\n",
              "0   3008    大立光  4695.0             False             False\n",
              "1   6409     旭隼   610.0             False             False\n",
              "2   5269     祥碩   539.0             False             False\n",
              "3   6415  矽力-KY   495.0              True              True\n",
              "4   1476     儒鴻   441.0             False             False"
            ]
          },
          "metadata": {
            "tags": []
          },
          "execution_count": 28
        }
      ]
    },
    {
      "metadata": {
        "id": "h5TirXx022Y2",
        "colab_type": "code",
        "colab": {}
      },
      "cell_type": "code",
      "source": [
        "grouped = df.groupby(\"listed_in_kayman\")\n",
        "#print(grouped)\n",
        "print(type(grouped.count()))\n",
        "print(type(grouped[\"ticker\"].count()))"
      ],
      "execution_count": 0,
      "outputs": []
    }
  ]
}
