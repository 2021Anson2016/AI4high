{
  "nbformat": 4,
  "nbformat_minor": 0,
  "metadata": {
    "colab": {
      "name": "TF_XOR_GOOD.ipynb",
      "version": "0.3.2",
      "provenance": [],
      "include_colab_link": true
    },
    "kernelspec": {
      "name": "python3",
      "display_name": "Python 3"
    }
  },
  "cells": [
    {
      "cell_type": "markdown",
      "metadata": {
        "id": "view-in-github",
        "colab_type": "text"
      },
      "source": [
        "<a href=\"https://colab.research.google.com/github/MyDearGreatTeacher/AI4high/blob/master/TF_XOR_GOOD.ipynb\" target=\"_parent\"><img src=\"https://colab.research.google.com/assets/colab-badge.svg\" alt=\"Open In Colab\"/></a>"
      ]
    },
    {
      "cell_type": "markdown",
      "metadata": {
        "id": "gKi-NFchWvFx",
        "colab_type": "text"
      },
      "source": [
        ""
      ]
    },
    {
      "cell_type": "markdown",
      "metadata": {
        "id": "MZb6wre7WvCT",
        "colab_type": "text"
      },
      "source": [
        "# 使用 TensorFlow 學習多層感知機(Multilayer Perceptron)"
      ]
    },
    {
      "cell_type": "markdown",
      "metadata": {
        "id": "7hrbMub8WdlQ",
        "colab_type": "text"
      },
      "source": [
        "https://medium.com/%E6%89%8B%E5%AF%AB%E7%AD%86%E8%A8%98/learn-multilayer-perceptron-with-tensorflow-e73062ff0844"
      ]
    },
    {
      "cell_type": "code",
      "metadata": {
        "id": "yI7GEh2XWbOz",
        "colab_type": "code",
        "colab": {
          "base_uri": "https://localhost:8080/",
          "height": 423
        },
        "outputId": "018b3c40-c9b1-4b65-fd1d-acf29b34f7d5"
      },
      "source": [
        "import matplotlib.pyplot as plt\n",
        "import numpy as np\n",
        "import tensorflow as tf\n",
        "\n",
        "# 定義 data 與 label\n",
        "x_ = np.array([[0, 0], [1, 0], [0, 1], [1, 1]])\n",
        "y_ = np.array([[0], [1], [1], [0]])\n",
        "\n",
        "# 定義節點\n",
        "X = tf.placeholder(shape=(None, 2), dtype=tf.float32)\n",
        "w1 = tf.Variable(tf.random_normal(shape=(2,4)))\n",
        "b1 = tf.Variable(tf.random_normal(shape=(1,4)))\n",
        "w2 = tf.Variable(tf.random_normal(shape=(4,1)))\n",
        "b2 = tf.Variable(tf.random_normal(shape=(1,1)))\n",
        "y = tf.placeholder(shape=(4,1), dtype=tf.float32)\n",
        "\n",
        "# 定義隱藏層與輸出層\n",
        "hidden_layer = tf.sigmoid(tf.matmul(X, w1) + b1)\n",
        "output_layer = tf.sigmoid(tf.matmul(hidden_layer, w2) + b2)\n",
        "\n",
        "# 損失函數\n",
        "loss = tf.reduce_sum(tf.square(y - output_layer))\n",
        "# 訓練方法\n",
        "train = tf.train.AdamOptimizer(learning_rate=0.05).minimize(loss)\n",
        "\n",
        "# 初始化計算圖\n",
        "init = tf.global_variables_initializer()\n",
        "\n",
        "# 訓練類神經網路\n",
        "sess = tf.Session()\n",
        "sess.run(init)\n",
        "losses = []\n",
        "epochs = 100000\n",
        "for epoch in range(epochs+1):\n",
        "    sess.run(train, feed_dict={X: x_, y: y_})\n",
        "    if epoch % 10000 == 0:\n",
        "        losses.append(sess.run(loss, feed_dict={X: x_, y: y_}))\n",
        "            \n",
        "# 輸出預測值\n",
        "print(sess.run(output_layer, feed_dict={X: x_}))\n",
        "\n",
        "# 繪製 loss 曲線\n",
        "plt.figure(figsize=(8, 4))\n",
        "plt.plot(np.linspace(0, 100000, 11), losses)\n",
        "plt.xticks(np.linspace(0, 100000, 11))\n",
        "plt.xlabel('Epochs')\n",
        "plt.ylabel('Loss')\n",
        "plt.show()\n",
        "sess.close()"
      ],
      "execution_count": 1,
      "outputs": [
        {
          "output_type": "stream",
          "text": [
            "WARNING:tensorflow:From /usr/local/lib/python3.6/dist-packages/tensorflow/python/framework/op_def_library.py:263: colocate_with (from tensorflow.python.framework.ops) is deprecated and will be removed in a future version.\n",
            "Instructions for updating:\n",
            "Colocations handled automatically by placer.\n",
            "[[1.1852599e-07]\n",
            " [9.9999881e-01]\n",
            " [9.9999893e-01]\n",
            " [1.4550043e-06]]\n"
          ],
          "name": "stdout"
        },
        {
          "output_type": "display_data",
          "data": {
            "image/png": "[encoded data removed]",
            "text/plain": [
              "<Figure size 576x288 with 1 Axes>"
            ]
          },
          "metadata": {
            "tags": []
          }
        }
      ]
    }
  ]
}