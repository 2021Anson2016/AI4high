{
  "nbformat": 4,
  "nbformat_minor": 0,
  "metadata": {
    "colab": {
      "name": "Keras_BayesianOptimization.ipynb",
      "version": "0.3.2",
      "provenance": [],
      "include_colab_link": true
    },
    "language_info": {
      "codemirror_mode": {
        "name": "ipython",
        "version": 3
      },
      "file_extension": ".py",
      "mimetype": "text/x-python",
      "name": "python",
      "nbconvert_exporter": "python",
      "pygments_lexer": "ipython3",
      "version": "3.5.2"
    },
    "kernelspec": {
      "display_name": "Python 3",
      "language": "python",
      "name": "python3"
    }
  },
  "cells": [
    {
      "cell_type": "markdown",
      "metadata": {
        "id": "view-in-github",
        "colab_type": "text"
      },
      "source": [
        "<a href=\"https://colab.research.google.com/github/MyDearGreatTeacher/AI4high/blob/master/Keras_BayesianOptimization.ipynb\" target=\"_parent\"><img src=\"https://colab.research.google.com/assets/colab-badge.svg\" alt=\"Open In Colab\"/></a>"
      ]
    },
    {
      "cell_type": "markdown",
      "metadata": {
        "id": "utHWpuOk0-Zy",
        "colab_type": "text"
      },
      "source": [
        "\n",
        "How to do Hyper-parameters search with Bayesian optimization for Keras model\n",
        "\n",
        "https://www.dlology.com/blog/how-to-do-hyperparameter-search-with-baysian-optimization-for-keras-model/"
      ]
    },
    {
      "cell_type": "markdown",
      "metadata": {
        "id": "AV-c8epvz3LX",
        "colab_type": "text"
      },
      "source": [
        "# [How to do Hyper-parameters search with Bayesian optimization for Keras model](https://www.dlology.com/blog/how-to-do-hyperparameter-search-with-baysian-optimization-for-keras-model/) | DLology Blog\n"
      ]
    },
    {
      "cell_type": "code",
      "metadata": {
        "ExecuteTime": {
          "end_time": "2019-04-06T02:22:23.566450Z",
          "start_time": "2019-04-06T02:22:23.561467Z"
        },
        "id": "BOgpY-vqz3La",
        "colab_type": "code",
        "outputId": "85a20aad-3a6a-4e46-9bcb-bb564b5c7d5b",
        "colab": {
          "base_uri": "https://localhost:8080/",
          "height": 226
        }
      },
      "source": [
        "!pip install bayesian-optimization"
      ],
      "execution_count": 0,
      "outputs": [
        {
          "output_type": "stream",
          "text": [
            "Collecting bayesian-optimization\n",
            "  Downloading https://files.pythonhosted.org/packages/72/0c/173ac467d0a53e33e41b521e4ceba74a8ac7c7873d7b857a8fbdca88302d/bayesian-optimization-1.0.1.tar.gz\n",
            "Requirement already satisfied: numpy>=1.9.0 in /usr/local/lib/python3.6/dist-packages (from bayesian-optimization) (1.16.3)\n",
            "Requirement already satisfied: scipy>=0.14.0 in /usr/local/lib/python3.6/dist-packages (from bayesian-optimization) (1.2.1)\n",
            "Requirement already satisfied: scikit-learn>=0.18.0 in /usr/local/lib/python3.6/dist-packages (from bayesian-optimization) (0.20.3)\n",
            "Building wheels for collected packages: bayesian-optimization\n",
            "  Building wheel for bayesian-optimization (setup.py) ... \u001b[?25l\u001b[?25hdone\n",
            "  Stored in directory: /root/.cache/pip/wheels/1d/0d/3b/6b9d4477a34b3905f246ff4e7acf6aafd4cc9b77d473629b77\n",
            "Successfully built bayesian-optimization\n",
            "Installing collected packages: bayesian-optimization\n",
            "Successfully installed bayesian-optimization-1.0.1\n"
          ],
          "name": "stdout"
        }
      ]
    },
    {
      "cell_type": "code",
      "metadata": {
        "ExecuteTime": {
          "end_time": "2019-04-06T05:51:39.766105Z",
          "start_time": "2019-04-06T05:51:36.284034Z"
        },
        "id": "4DhcQqo7z3Lf",
        "colab_type": "code",
        "colab": {}
      },
      "source": [
        "import numpy as np\n",
        "import keras\n",
        "from tensorflow.keras import backend as K\n",
        "import tensorflow as tf"
      ],
      "execution_count": 0,
      "outputs": []
    },
    {
      "cell_type": "code",
      "metadata": {
        "ExecuteTime": {
          "end_time": "2019-04-06T05:51:39.857259Z",
          "start_time": "2019-04-06T05:51:39.766105Z"
        },
        "id": "aWRRzkexz3Ll",
        "colab_type": "code",
        "colab": {}
      },
      "source": [
        "NUM_CLASSES = 10\n",
        "\n",
        "def get_input_datasets(use_bfloat16=False):\n",
        "    \"\"\"Downloads the MNIST dataset and creates train and eval dataset objects.\n",
        "\n",
        "    Args:\n",
        "      use_bfloat16: Boolean to determine if input should be cast to bfloat16\n",
        "\n",
        "    Returns:\n",
        "      Train dataset, eval dataset and input shape.\n",
        "\n",
        "    \"\"\"\n",
        "    # input image dimensions\n",
        "    img_rows, img_cols = 28, 28\n",
        "    cast_dtype = tf.bfloat16 if use_bfloat16 else tf.float32\n",
        "\n",
        "    # the data, split between train and test sets\n",
        "    (x_train, y_train), (x_test, y_test) = tf.keras.datasets.mnist.load_data()\n",
        "\n",
        "    if tf.keras.backend.image_data_format() == 'channels_first':\n",
        "        x_train = x_train.reshape(x_train.shape[0], 1, img_rows, img_cols)\n",
        "        x_test = x_test.reshape(x_test.shape[0], 1, img_rows, img_cols)\n",
        "        input_shape = (1, img_rows, img_cols)\n",
        "    else:\n",
        "        x_train = x_train.reshape(x_train.shape[0], img_rows, img_cols, 1)\n",
        "        x_test = x_test.reshape(x_test.shape[0], img_rows, img_cols, 1)\n",
        "        input_shape = (img_rows, img_cols, 1)\n",
        "\n",
        "    x_train = x_train.astype('float32')\n",
        "    x_test = x_test.astype('float32')\n",
        "    x_train /= 255\n",
        "    x_test /= 255\n",
        "\n",
        "    # convert class vectors to binary class matrices\n",
        "    y_train = tf.keras.utils.to_categorical(y_train, NUM_CLASSES)\n",
        "    y_test = tf.keras.utils.to_categorical(y_test, NUM_CLASSES)\n",
        "\n",
        "    # train dataset\n",
        "    train_ds = tf.data.Dataset.from_tensor_slices((x_train, y_train))\n",
        "    train_ds = train_ds.repeat()\n",
        "    train_ds = train_ds.map(lambda x, y: (tf.cast(x, cast_dtype), y))\n",
        "    train_ds = train_ds.batch(64, drop_remainder=True)\n",
        "\n",
        "    # eval dataset\n",
        "    eval_ds = tf.data.Dataset.from_tensor_slices((x_test, y_test))\n",
        "    eval_ds = eval_ds.repeat()\n",
        "    eval_ds = eval_ds.map(lambda x, y: (tf.cast(x, cast_dtype), y))\n",
        "    eval_ds = eval_ds.batch(64, drop_remainder=True)\n",
        "\n",
        "    return train_ds, eval_ds, input_shape"
      ],
      "execution_count": 0,
      "outputs": []
    },
    {
      "cell_type": "code",
      "metadata": {
        "ExecuteTime": {
          "end_time": "2019-04-06T05:51:39.896304Z",
          "start_time": "2019-04-06T05:51:39.857259Z"
        },
        "id": "06MZMjhMz3Lo",
        "colab_type": "code",
        "colab": {}
      },
      "source": [
        "from tensorflow.keras.models import Sequential\n",
        "from tensorflow.keras.layers import Dense, Conv2D, Dropout, BatchNormalization, MaxPooling2D, Flatten, Activation\n",
        "from tensorflow.python.keras.optimizer_v2 import rmsprop\n",
        "\n",
        "\n",
        "def get_model(input_shape, dropout2_rate=0.5):\n",
        "    \"\"\"Builds a Sequential CNN model to recognize MNIST.\n",
        "\n",
        "    Args:\n",
        "      input_shape: Shape of the input depending on the `image_data_format`.\n",
        "      dropout2_rate: float between 0 and 1. Fraction of the input units to drop for `dense1` layer.\n",
        "\n",
        "    Returns:\n",
        "      a Keras model\n",
        "\n",
        "    \"\"\"\n",
        "    # Reset the tensorflow backend session.\n",
        "    # tf.keras.backend.clear_session()\n",
        "    # Define a CNN model to recognize MNIST.\n",
        "    model = Sequential()\n",
        "    model.add(Conv2D(32, kernel_size=(3, 3),\n",
        "                     activation='relu',\n",
        "                     input_shape=input_shape,\n",
        "                     name=\"conv2d_1\"))\n",
        "    model.add(Conv2D(64, (3, 3), activation='relu', name=\"conv2d_2\"))\n",
        "    model.add(MaxPooling2D(pool_size=(2, 2), name=\"maxpool2d_1\"))\n",
        "    model.add(Dropout(0.25, name=\"dropout_1\"))\n",
        "    model.add(Flatten(name=\"flatten\"))\n",
        "    model.add(Dense(128, activation='relu', name=\"dense_1\"))\n",
        "    model.add(Dropout(dropout2_rate, name=\"dropout_2\"))\n",
        "    model.add(Dense(NUM_CLASSES, activation='softmax', name=\"dense_2\"))\n",
        "    return model"
      ],
      "execution_count": 0,
      "outputs": []
    },
    {
      "cell_type": "code",
      "metadata": {
        "ExecuteTime": {
          "end_time": "2019-04-06T05:51:41.966926Z",
          "start_time": "2019-04-06T05:51:39.898277Z"
        },
        "id": "oos8l0fvz3Lr",
        "colab_type": "code",
        "colab": {}
      },
      "source": [
        "train_ds, eval_ds, input_shape = get_input_datasets()"
      ],
      "execution_count": 0,
      "outputs": []
    },
    {
      "cell_type": "code",
      "metadata": {
        "ExecuteTime": {
          "end_time": "2019-04-06T05:51:58.564304Z",
          "start_time": "2019-04-06T05:51:58.544351Z"
        },
        "id": "9ux-n1piz3Lu",
        "colab_type": "code",
        "colab": {}
      },
      "source": [
        "def fit_with(input_shape, verbose, dropout2_rate, lr):\n",
        "\n",
        "    # Create the model using a specified hyperparameters.\n",
        "    model = get_model(input_shape, dropout2_rate)\n",
        "\n",
        "    # Train the model for a specified number of epochs.\n",
        "    optimizer = rmsprop.RMSProp(learning_rate=lr)\n",
        "    model.compile(loss=tf.keras.losses.categorical_crossentropy,\n",
        "                  optimizer=optimizer,\n",
        "                  metrics=['accuracy'])\n",
        "\n",
        "    # Train the model with the train dataset.\n",
        "    model.fit(x=train_ds, epochs=1, steps_per_epoch=468,\n",
        "              batch_size=64, verbose=verbose)\n",
        "\n",
        "    # Evaluate the model with the eval dataset.\n",
        "    score = model.evaluate(eval_ds, steps=10, verbose=0)\n",
        "    print('Test loss:', score[0])\n",
        "    print('Test accuracy:', score[1])\n",
        "\n",
        "    # Return the accuracy.\n",
        "\n",
        "    return score[1]"
      ],
      "execution_count": 0,
      "outputs": []
    },
    {
      "cell_type": "code",
      "metadata": {
        "ExecuteTime": {
          "end_time": "2019-04-06T05:51:58.990505Z",
          "start_time": "2019-04-06T05:51:58.984520Z"
        },
        "id": "hdpRs6M1z3Lx",
        "colab_type": "code",
        "colab": {}
      },
      "source": [
        "from functools import partial\n",
        "\n",
        "verbose = 1\n",
        "fit_with_partial = partial(fit_with, input_shape, verbose)"
      ],
      "execution_count": 0,
      "outputs": []
    },
    {
      "cell_type": "code",
      "metadata": {
        "ExecuteTime": {
          "end_time": "2019-04-06T05:51:59.860498Z",
          "start_time": "2019-04-06T05:51:59.856509Z"
        },
        "id": "5HTIqC_lz3L0",
        "colab_type": "code",
        "colab": {}
      },
      "source": [
        "# fit_with_partial(dropout2_rate=0.5, lr=0.001)"
      ],
      "execution_count": 0,
      "outputs": []
    },
    {
      "cell_type": "markdown",
      "metadata": {
        "id": "jH6r2KYxz3L3",
        "colab_type": "text"
      },
      "source": [
        "The BayesianOptimization object will work out of the box without much tuning needed. The main method you should be aware of is `maximize`, which does exactly what you think it does.\n",
        "\n",
        "There are many parameters you can pass to maximize, nonetheless, the most important ones are:\n",
        "- `n_iter`: How many steps of bayesian optimization you want to perform. The more steps the more likely to find a good maximum you are.\n",
        "- `init_points`: How many steps of **random** exploration you want to perform. Random exploration can help by diversifying the exploration space."
      ]
    },
    {
      "cell_type": "code",
      "metadata": {
        "ExecuteTime": {
          "end_time": "2019-04-06T03:00:30.105708Z",
          "start_time": "2019-04-06T02:51:28.687882Z"
        },
        "scrolled": false,
        "id": "5lFc-sToz3L4",
        "colab_type": "code",
        "outputId": "9e8f1ab4-76d1-4f7b-fcc4-3618170eb649",
        "colab": {
          "base_uri": "https://localhost:8080/",
          "height": 723
        }
      },
      "source": [
        "from bayes_opt import BayesianOptimization\n",
        "\n",
        "# Bounded region of parameter space\n",
        "pbounds = {'dropout2_rate': (0.1, 0.5), 'lr': (1e-4, 1e-2)}\n",
        "\n",
        "optimizer = BayesianOptimization(\n",
        "    f=fit_with_partial,\n",
        "    pbounds=pbounds,\n",
        "    verbose=2,  # verbose = 1 prints only when a maximum is observed, verbose = 0 is silent\n",
        "    random_state=1,\n",
        ")\n",
        "\n",
        "optimizer.maximize(init_points=10, n_iter=10,)\n",
        "\n",
        "\n",
        "for i, res in enumerate(optimizer.res):\n",
        "    print(\"Iteration {}: \\n\\t{}\".format(i, res))\n",
        "\n",
        "print(optimizer.max)"
      ],
      "execution_count": 0,
      "outputs": [
        {
          "output_type": "stream",
          "text": [
            "|   iter    |  target   | dropou... |    lr     |\n",
            "-------------------------------------------------\n",
            "WARNING:tensorflow:From /usr/local/lib/python3.6/dist-packages/tensorflow/python/ops/resource_variable_ops.py:435: colocate_with (from tensorflow.python.framework.ops) is deprecated and will be removed in a future version.\n",
            "Instructions for updating:\n",
            "Colocations handled automatically by placer.\n",
            "WARNING:tensorflow:From /usr/local/lib/python3.6/dist-packages/tensorflow/python/keras/layers/core.py:143: calling dropout (from tensorflow.python.ops.nn_ops) with keep_prob is deprecated and will be removed in a future version.\n",
            "Instructions for updating:\n",
            "Please use `rate` instead of `keep_prob`. Rate should be set to `rate = 1 - keep_prob`.\n",
            "WARNING:tensorflow:From /usr/local/lib/python3.6/dist-packages/tensorflow/python/ops/math_ops.py:3066: to_int32 (from tensorflow.python.ops.math_ops) is deprecated and will be removed in a future version.\n",
            "Instructions for updating:\n",
            "Use tf.cast instead.\n",
            "468/468 [==============================] - 80s 172ms/step - loss: 0.2541 - acc: 0.9223\n",
            "Test loss: 0.07870913464576006\n",
            "Test accuracy: 0.9765625\n",
            "| \u001b[0m 1       \u001b[0m | \u001b[0m 0.9766  \u001b[0m | \u001b[0m 0.2668  \u001b[0m | \u001b[0m 0.007231\u001b[0m |\n",
            "468/468 [==============================] - 80s 171ms/step - loss: 0.1902 - acc: 0.9411\n",
            "Test loss: 0.03850307567045093\n",
            "Test accuracy: 0.9890625\n",
            "| \u001b[95m 2       \u001b[0m | \u001b[95m 0.9891  \u001b[0m | \u001b[95m 0.1     \u001b[0m | \u001b[95m 0.003093\u001b[0m |\n",
            "468/468 [==============================] - 79s 168ms/step - loss: 0.2169 - acc: 0.9340\n",
            "Test loss: 0.05218231324106455\n",
            "Test accuracy: 0.978125\n",
            "| \u001b[0m 3       \u001b[0m | \u001b[0m 0.9781  \u001b[0m | \u001b[0m 0.1587  \u001b[0m | \u001b[0m 0.001014\u001b[0m |\n",
            "468/468 [==============================] - 81s 174ms/step - loss: 0.2152 - acc: 0.9339\n",
            "Test loss: 0.04361747382208705\n",
            "Test accuracy: 0.984375\n",
            "| \u001b[0m 4       \u001b[0m | \u001b[0m 0.9844  \u001b[0m | \u001b[0m 0.1745  \u001b[0m | \u001b[0m 0.003521\u001b[0m |\n",
            "468/468 [==============================] - 83s 177ms/step - loss: 0.2285 - acc: 0.9323\n",
            "Test loss: 0.0783929955214262\n",
            "Test accuracy: 0.9734375\n",
            "| \u001b[0m 5       \u001b[0m | \u001b[0m 0.9734  \u001b[0m | \u001b[0m 0.2587  \u001b[0m | \u001b[0m 0.005434\u001b[0m |\n",
            "468/468 [==============================] - 82s 175ms/step - loss: 0.2364 - acc: 0.9286\n",
            "Test loss: 0.0546853500418365\n",
            "Test accuracy: 0.98125\n",
            "| \u001b[0m 6       \u001b[0m | \u001b[0m 0.9812  \u001b[0m | \u001b[0m 0.2677  \u001b[0m | \u001b[0m 0.006884\u001b[0m |\n",
            "468/468 [==============================] - 82s 175ms/step - loss: 0.2697 - acc: 0.9195\n",
            "Test loss: 0.11937050614506006\n",
            "Test accuracy: 0.9640625\n",
            "| \u001b[0m 7       \u001b[0m | \u001b[0m 0.9641  \u001b[0m | \u001b[0m 0.1818  \u001b[0m | \u001b[0m 0.008793\u001b[0m |\n",
            "113/468 [======>.......................] - ETA: 1:00 - loss: 0.5764 - acc: 0.8361"
          ],
          "name": "stdout"
        }
      ]
    },
    {
      "cell_type": "code",
      "metadata": {
        "ExecuteTime": {
          "end_time": "2019-04-06T03:22:22.531973Z",
          "start_time": "2019-04-06T03:22:22.525990Z"
        },
        "id": "bmK755nZz3L8",
        "colab_type": "code",
        "outputId": "df54cafa-076a-4ed8-f197-d7f800ab5b8b",
        "colab": {}
      },
      "source": [
        "print(optimizer.max)"
      ],
      "execution_count": 0,
      "outputs": [
        {
          "output_type": "stream",
          "text": [
            "{'params': {'lr': 0.003521051197726173, 'dropout2_rate': 0.17450408455106836}, 'target': 0.989062488079071}\n"
          ],
          "name": "stdout"
        }
      ]
    },
    {
      "cell_type": "code",
      "metadata": {
        "id": "jwLGfToIz3MA",
        "colab_type": "code",
        "colab": {}
      },
      "source": [
        ""
      ],
      "execution_count": 0,
      "outputs": []
    }
  ]
}