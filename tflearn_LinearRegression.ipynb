{
  "nbformat": 4,
  "nbformat_minor": 0,
  "metadata": {
    "colab": {
      "name": "tflearn_LinearRegression.ipynb",
      "version": "0.3.2",
      "provenance": [],
      "include_colab_link": true
    },
    "kernelspec": {
      "name": "python3",
      "display_name": "Python 3"
    }
  },
  "cells": [
    {
      "cell_type": "markdown",
      "metadata": {
        "id": "view-in-github",
        "colab_type": "text"
      },
      "source": [
        "<a href=\"https://colab.research.google.com/github/MyDearGreatTeacher/AI4high/blob/master/tflearn_LinearRegression.ipynb\" target=\"_parent\"><img src=\"https://colab.research.google.com/assets/colab-badge.svg\" alt=\"Open In Colab\"/></a>"
      ]
    },
    {
      "cell_type": "markdown",
      "metadata": {
        "id": "IBHbRvkEF-74",
        "colab_type": "text"
      },
      "source": [
        "# tflearm\n",
        "\n",
        "\n",
        "Keras, TensorLayer, TFLearn比較分析\n",
        "\n",
        "http://tflearn.org/examples/\n",
        "\n",
        "https://github.com/tflearn/tflearn/blob/master/examples/basics/linear_regression.py"
      ]
    },
    {
      "cell_type": "code",
      "metadata": {
        "id": "mufalYwLFtgT",
        "colab_type": "code",
        "colab": {
          "base_uri": "https://localhost:8080/",
          "height": 154
        },
        "outputId": "c9ac97b2-abe8-4324-aec5-41a515cce5da"
      },
      "source": [
        "    \n",
        "\"\"\" Linear Regression Example \"\"\"\n",
        "\n",
        "from __future__ import absolute_import, division, print_function\n",
        "\n",
        "import tflearn\n",
        "\n",
        "# Regression data\n",
        "X = [3.3,4.4,5.5,6.71,6.93,4.168,9.779,6.182,7.59,2.167,7.042,10.791,5.313,7.997,5.654,9.27,3.1]\n",
        "Y = [1.7,2.76,2.09,3.19,1.694,1.573,3.366,2.596,2.53,1.221,2.827,3.465,1.65,2.904,2.42,2.94,1.3]\n",
        "\n",
        "# Linear Regression graph\n",
        "input_ = tflearn.input_data(shape=[None])\n",
        "linear = tflearn.single_unit(input_)\n",
        "regression = tflearn.regression(linear, optimizer='sgd', loss='mean_square',\n",
        "                                metric='R2', learning_rate=0.01)\n",
        "m = tflearn.DNN(regression)\n",
        "m.fit(X, Y, n_epoch=1000, show_metric=True, snapshot_epoch=False)\n",
        "\n",
        "print(\"\\nRegression result:\")\n",
        "print(\"Y = \" + str(m.get_weights(linear.W)) +\n",
        "      \"*X + \" + str(m.get_weights(linear.b)))\n",
        "\n",
        "print(\"\\nTest prediction for x = 3.2, 3.3, 3.4:\")\n",
        "print(m.predict([3.2, 3.3, 3.4]))\n",
        "# should output (close, not exact) y = [1.5315033197402954, 1.5585315227508545, 1.5855598449707031]"
      ],
      "execution_count": 1,
      "outputs": [
        {
          "output_type": "stream",
          "text": [
            "Training Step: 1000  | total loss: \u001b[1m\u001b[32m0.15409\u001b[0m\u001b[0m | time: 0.004s\n",
            "\u001b[2K\r| SGD | epoch: 1000 | loss: 0.15409 - R2: 0.9735 -- iter: 17/17\n",
            "\n",
            "Regression result:\n",
            "Y = [0.2575478]*X + [0.75688165]\n",
            "\n",
            "Test prediction for x = 3.2, 3.3, 3.4:\n",
            "[1.5810347 1.6067894 1.6325442]\n"
          ],
          "name": "stdout"
        }
      ]
    }
  ]
}