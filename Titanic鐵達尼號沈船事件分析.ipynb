{
  "nbformat": 4,
  "nbformat_minor": 0,
  "metadata": {
    "colab": {
      "name": "Titanic鐵達尼號沈船事件分析.ipynb",
      "version": "0.3.2",
      "provenance": [],
      "include_colab_link": true
    },
    "kernelspec": {
      "name": "python3",
      "display_name": "Python 3"
    }
  },
  "cells": [
    {
      "cell_type": "markdown",
      "metadata": {
        "id": "view-in-github",
        "colab_type": "text"
      },
      "source": [
        "<a href=\"https://colab.research.google.com/github/MyDearGreatTeacher/AI4high/blob/master/Titanic%E9%90%B5%E9%81%94%E5%B0%BC%E8%99%9F%E6%B2%88%E8%88%B9%E4%BA%8B%E4%BB%B6%E5%88%86%E6%9E%90.ipynb\" target=\"_parent\"><img src=\"https://colab.research.google.com/assets/colab-badge.svg\" alt=\"Open In Colab\"/></a>"
      ]
    },
    {
      "metadata": {
        "id": "poYzLioHXqoy",
        "colab_type": "text"
      },
      "cell_type": "markdown",
      "source": [
        "# 機器學習專案分析報告 2019.4.27~\n",
        "\n",
        "Titanic鐵達尼號沈船事件分析報告\n",
        "\n",
        "分析目的:\n",
        "\n",
        "https://www.kaggle.com/naresh31/titanic-machine-learning-from-disaster\n",
        "\n",
        "\n",
        "Kaggle競賽說明:\n",
        "\n",
        "https://www.kaggle.com/c/titanic\n",
        "\n",
        "參考資料:\n",
        "Building Predictive Models with Machine Learning and Python [Video]\n",
        "Rudy Lai\n",
        "Friday, September 28, 2018\n",
        "\n",
        "Chapter 3 + 4 - Titanic.ipynb\n",
        "\n",
        "https://github.com/PacktPublishing/Building-Predictive-Models-with-Machine-Learning-and-Python-/blob/master/Code/Chapter%203%20%2B%204%20-%20Titanic.ipynb\n",
        "\n",
        "\n",
        "Practical Machine Learning with Python\n",
        "\n",
        "A Problem-Solver's Guide to Building Real-World Intelligent Systems\n",
        "\n",
        "https://github.com/dipanjanS/practical-machine-learning-with-python"
      ]
    },
    {
      "metadata": {
        "id": "pUT0F_fLXvLg",
        "colab_type": "text"
      },
      "cell_type": "markdown",
      "source": [
        "## 後續研讀報告:使用不同演算法測試\n",
        "\n",
        "[1]使用最近很火紅的xgboost\n",
        "https://www.kaggle.com/datacanary/xgboost-example-python\n",
        "\n",
        "\n",
        "[2]使用GPU\n",
        "\n",
        "!pip uninstall xgboost\n",
        "\n",
        "!pip install xgboost-0.81-py2.py3-none-manylinux1_x86_64.whl\n",
        "\n"
      ]
    },
    {
      "metadata": {
        "id": "zbtQcu04XyUx",
        "colab_type": "text"
      },
      "cell_type": "markdown",
      "source": [
        "# 步驟一:取得資料Getting the data\n",
        "\n",
        "改成由網路取得資料"
      ]
    },
    {
      "metadata": {
        "id": "_YBLIGiFXiar",
        "colab_type": "code",
        "colab": {}
      },
      "cell_type": "code",
      "source": [
        "import pandas as pd\n",
        "\n",
        "\n",
        "#titanic_data = pd.read_csv()\n",
        "\n",
        "titanic_data = pd.read_csv('titanic.csv')\n",
        "\n",
        "titanic_data"
      ],
      "execution_count": 0,
      "outputs": []
    },
    {
      "metadata": {
        "id": "zs2DiqS8lE5S",
        "colab_type": "text"
      },
      "cell_type": "markdown",
      "source": [
        "# 步驟二:檢查資料的狀況Exploring the data\n",
        "\n",
        "[1]確認是否有遺失值missing data\n",
        "\n",
        " there is data missing!\n",
        " \n",
        " 檢查技術:\n",
        " \n",
        " titanic_data.info()\n",
        " \n",
        " titanic_data.describe()\n",
        " \n",
        "[2]\n",
        "multiple pieces of information in one column\n",
        "\n",
        "[3]useless/noisy columns\n",
        "\n",
        "\n",
        "pd.notna::Detect existing (non-missing) values\n",
        "\n",
        "https://pandas.pydata.org/pandas-docs/stable/reference/api/pandas.DataFrame.notna.html"
      ]
    },
    {
      "metadata": {
        "id": "Rz35NN-slFh3",
        "colab_type": "code",
        "colab": {}
      },
      "cell_type": "code",
      "source": [
        "titanic_data.describe()"
      ],
      "execution_count": 0,
      "outputs": []
    },
    {
      "metadata": {
        "id": "kBZWajxDlncV",
        "colab_type": "code",
        "colab": {}
      },
      "cell_type": "code",
      "source": [
        "titanic_data.info()"
      ],
      "execution_count": 0,
      "outputs": []
    },
    {
      "metadata": {
        "id": "8wZarbryl6AJ",
        "colab_type": "code",
        "colab": {}
      },
      "cell_type": "code",
      "source": [
        "titanic_data['name'].sample(25)"
      ],
      "execution_count": 0,
      "outputs": []
    },
    {
      "metadata": {
        "id": "It_gvhhOmJJw",
        "colab_type": "code",
        "colab": {}
      },
      "cell_type": "code",
      "source": [
        "titanic_data['home.dest'].sample(25)"
      ],
      "execution_count": 0,
      "outputs": []
    },
    {
      "metadata": {
        "id": "HO4H9gC6mT-W",
        "colab_type": "code",
        "colab": {}
      },
      "cell_type": "code",
      "source": [
        "titanic_data['body'][pd.notna(titanic_data['body'])].sample(25)"
      ],
      "execution_count": 0,
      "outputs": []
    },
    {
      "metadata": {
        "id": "OaCCe5pbmW8s",
        "colab_type": "code",
        "colab": {}
      },
      "cell_type": "code",
      "source": [
        "titanic_data[pd.notna(titanic_data['body'])].describe()"
      ],
      "execution_count": 0,
      "outputs": []
    },
    {
      "metadata": {
        "id": "oIFW2qLXm4Zj",
        "colab_type": "text"
      },
      "cell_type": "markdown",
      "source": [
        "# 步驟三:資料預先處理 data"
      ]
    },
    {
      "metadata": {
        "id": "vHUFNQIwnDei",
        "colab_type": "code",
        "colab": {}
      },
      "cell_type": "code",
      "source": [
        "titanic_data.info()"
      ],
      "execution_count": 0,
      "outputs": []
    },
    {
      "metadata": {
        "id": "VOhsAmw1nYBx",
        "colab_type": "text"
      },
      "cell_type": "markdown",
      "source": [
        "### 相關函數說明與使用範例\n",
        "\n",
        "[1]Pandas —— 处理缺失数据dropna( )和fillna( )\n",
        "https://blog.csdn.net/starter_____/article/details/79184232\n",
        "\n",
        "[2]Pandas详解十之Dropna滤除缺失数据\n",
        "https://blog.csdn.net/weixin_38168620/article/details/79596798\n",
        "\n",
        "[3]Pandas 处理丢失数据\n",
        "https://morvanzhou.github.io/tutorials/data-manipulation/np-pd/3-4-pd-nan/\n",
        "\n",
        "[4]pandas.DataFrame.dropna\n",
        "https://pandas.pydata.org/pandas-docs/stable/reference/api/pandas.DataFrame.dropna.html"
      ]
    },
    {
      "metadata": {
        "id": "sZOw_NxZnG3j",
        "colab_type": "code",
        "colab": {}
      },
      "cell_type": "code",
      "source": [
        "titanic_data.dropna(how='all', inplace=True)\n",
        "titanic_data.info()"
      ],
      "execution_count": 0,
      "outputs": []
    },
    {
      "metadata": {
        "id": "QnI05W_ToZFi",
        "colab_type": "code",
        "colab": {}
      },
      "cell_type": "code",
      "source": [
        "titanic_data['age'].fillna(titanic_data.mean()['age'])"
      ],
      "execution_count": 0,
      "outputs": []
    },
    {
      "metadata": {
        "id": "fz35rTDYojYm",
        "colab_type": "code",
        "colab": {}
      },
      "cell_type": "code",
      "source": [
        "titanic_data['age'] = titanic_data['age'].fillna(titanic_data.mean()['age'])"
      ],
      "execution_count": 0,
      "outputs": []
    },
    {
      "metadata": {
        "id": "VEdVGbhsomAm",
        "colab_type": "code",
        "colab": {}
      },
      "cell_type": "code",
      "source": [
        "titanic_data.info()"
      ],
      "execution_count": 0,
      "outputs": []
    },
    {
      "metadata": {
        "id": "JSID-smfpmx6",
        "colab_type": "text"
      },
      "cell_type": "markdown",
      "source": [
        "# LogisticRegression的分析"
      ]
    },
    {
      "metadata": {
        "id": "86XdwfYyprWP",
        "colab_type": "code",
        "colab": {}
      },
      "cell_type": "code",
      "source": [
        "from sklearn import model_selection, linear_model\n",
        "\n",
        "X_train, X_test, y_train, y_test = model_selection.train_test_split(X, y, test_size=0.33, random_state=42)\n",
        "\n",
        "X_train.shape\n",
        "\n",
        "y_train.shape\n",
        "\n",
        "model = linear_model.LogisticRegression()\n",
        "model.fit(X_train, y_train)\n",
        "model.score(X_train, y_train)\n",
        "\n",
        "model.score(X_test, y_test)"
      ],
      "execution_count": 0,
      "outputs": []
    },
    {
      "metadata": {
        "id": "TNs31WYlqMtp",
        "colab_type": "text"
      },
      "cell_type": "markdown",
      "source": [
        "linear_model.LogisticRegression()\n",
        "\n",
        "https://scikit-learn.org/stable/modules/generated/sklearn.linear_model.LogisticRegression.html\n",
        "\n",
        "原始碼分析:\n",
        "https://github.com/scikit-learn/scikit-learn/blob/7b136e9/sklearn/linear_model/logistic.py\n",
        "\n",
        "\n",
        "#### 定義類別==>LogisticRegression\n",
        "\n",
        "L998  class LogisticRegression(BaseEstimator, LinearClassifierMixin, SparseCoefMixin):\n",
        "                         \n",
        "L1227    __init__\n",
        "\n",
        "L1247 fit()\n",
        "\n",
        "L1381 predict_proba()\n",
        "\n",
        "#### 定義類別 LogisticRegressionCV==> L1441"
      ]
    },
    {
      "metadata": {
        "id": "z4hNmziGpLpX",
        "colab_type": "text"
      },
      "cell_type": "markdown",
      "source": [
        "# Random Forests的分析"
      ]
    },
    {
      "metadata": {
        "id": "Jl69UYFJpIH5",
        "colab_type": "text"
      },
      "cell_type": "markdown",
      "source": [
        "# SVM model的分析"
      ]
    }
  ]
}