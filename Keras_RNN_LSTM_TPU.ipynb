{
  "nbformat": 4,
  "nbformat_minor": 0,
  "metadata": {
    "colab": {
      "name": "Keras_RNN_LSTM_TPU.ipynb",
      "version": "0.3.2",
      "provenance": [],
      "collapsed_sections": [],
      "include_colab_link": true
    },
    "kernelspec": {
      "name": "python3",
      "display_name": "Python 3"
    },
    "accelerator": "TPU"
  },
  "cells": [
    {
      "cell_type": "markdown",
      "metadata": {
        "id": "view-in-github",
        "colab_type": "text"
      },
      "source": [
        "<a href=\"https://colab.research.google.com/github/MyDearGreatTeacher/AI4high/blob/master/Keras_RNN_LSTM_TPU.ipynb\" target=\"_parent\"><img src=\"https://colab.research.google.com/assets/colab-badge.svg\" alt=\"Open In Colab\"/></a>"
      ]
    },
    {
      "cell_type": "markdown",
      "metadata": {
        "id": "dN8ScPkyycI9",
        "colab_type": "text"
      },
      "source": [
        "# GPU 版本\n",
        "\n",
        "2090504"
      ]
    },
    {
      "cell_type": "markdown",
      "metadata": {
        "id": "DcMKC4sRygja",
        "colab_type": "text"
      },
      "source": [
        "## 資料來源\n",
        "\n",
        "https://www.dlology.com/blog/how-to-train-keras-model-x20-times-faster-with-tpu-for-free/\n",
        "\n",
        "\n",
        "https://colab.research.google.com/drive/1QZf1WeX3EQqBLeFeT4utFKBqq-ogG1FN#scrollTo=CB43mV-TD1vb&forceEdit=true&offline=true&sandboxMode=true"
      ]
    },
    {
      "cell_type": "markdown",
      "metadata": {
        "id": "CB43mV-TD1vb",
        "colab_type": "text"
      },
      "source": [
        "#  Tutorial - [How to train Keras model x20 times faster with TPU for free](https://www.dlology.com/blog/how-to-train-keras-model-x20-times-faster-with-tpu-for-free/)"
      ]
    },
    {
      "cell_type": "code",
      "metadata": {
        "id": "AZmBtLDZuP4w",
        "colab_type": "code",
        "colab": {
          "base_uri": "https://localhost:8080/",
          "height": 294
        },
        "outputId": "1f47ccab-1adb-460b-dfa8-8d17266dd015"
      },
      "source": [
        "!pip install numpy==1.16.1"
      ],
      "execution_count": 3,
      "outputs": [
        {
          "output_type": "stream",
          "text": [
            "Collecting numpy==1.16.1\n",
            "\u001b[?25l  Downloading https://files.pythonhosted.org/packages/f5/bf/4981bcbee43934f0adb8f764a1e70ab0ee5a448f6505bd04a87a2fda2a8b/numpy-1.16.1-cp36-cp36m-manylinux1_x86_64.whl (17.3MB)\n",
            "\u001b[K     |████████████████████████████████| 17.3MB 3.4MB/s \n",
            "\u001b[31mERROR: datascience 0.10.6 has requirement folium==0.2.1, but you'll have folium 0.8.3 which is incompatible.\u001b[0m\n",
            "\u001b[31mERROR: albumentations 0.1.12 has requirement imgaug<0.2.7,>=0.2.5, but you'll have imgaug 0.2.8 which is incompatible.\u001b[0m\n",
            "\u001b[?25hInstalling collected packages: numpy\n",
            "  Found existing installation: numpy 1.16.3\n",
            "    Uninstalling numpy-1.16.3:\n",
            "      Successfully uninstalled numpy-1.16.3\n",
            "Successfully installed numpy-1.16.1\n"
          ],
          "name": "stdout"
        },
        {
          "output_type": "display_data",
          "data": {
            "application/vnd.colab-display-data+json": {
              "pip_warning": {
                "packages": [
                  "numpy"
                ]
              }
            }
          },
          "metadata": {
            "tags": []
          }
        }
      ]
    },
    {
      "cell_type": "code",
      "metadata": {
        "id": "ya06BE0ZU526",
        "colab_type": "code",
        "colab": {}
      },
      "source": [
        "import numpy as np\n",
        "import tensorflow as tf\n",
        "from tensorflow.keras.datasets import imdb\n",
        "from tensorflow.keras.preprocessing import sequence\n",
        "from tensorflow.python.keras.layers import Input, LSTM, Bidirectional, Dense, Embedding"
      ],
      "execution_count": 0,
      "outputs": []
    },
    {
      "cell_type": "code",
      "metadata": {
        "id": "_uSZchXTVOHr",
        "colab_type": "code",
        "colab": {}
      },
      "source": [
        "\n",
        "# Number of words to consider as features\n",
        "max_features = 10000\n",
        "# Cut texts after this number of words (among top max_features most common words)\n",
        "maxlen = 500\n",
        "\n",
        "# Load data\n",
        "(x_train, y_train), (x_test, y_test) = imdb.load_data(num_words=max_features)\n",
        "\n",
        "# Reverse sequences\n",
        "x_train = [x[::-1] for x in x_train]\n",
        "x_test = [x[::-1] for x in x_test]\n",
        "\n",
        "# Pad sequences\n",
        "x_train = sequence.pad_sequences(x_train, maxlen=maxlen)\n",
        "x_test = sequence.pad_sequences(x_test, maxlen=maxlen)"
      ],
      "execution_count": 0,
      "outputs": []
    },
    {
      "cell_type": "code",
      "metadata": {
        "id": "p35nSfjbVVBE",
        "colab_type": "code",
        "colab": {}
      },
      "source": [
        "def make_model(batch_size=None):\n",
        "  source = Input(shape=(maxlen,), batch_size=batch_size, dtype=tf.int32, name='Input')\n",
        "  embedding = Embedding(input_dim=max_features, output_dim=128, name='Embedding')(source)\n",
        "  # lstm = Bidirectional(LSTM(32, name = 'LSTM'), name='Bidirectional')(embedding)\n",
        "  lstm = LSTM(32, name = 'LSTM')(embedding)\n",
        "  predicted_var = Dense(1, activation='sigmoid', name='Output')(lstm)\n",
        "  model = tf.keras.Model(inputs=[source], outputs=[predicted_var])\n",
        "  model.compile(\n",
        "      optimizer=tf.train.RMSPropOptimizer(learning_rate=0.01),\n",
        "      loss='binary_crossentropy',\n",
        "      metrics=['acc'])\n",
        "  return model\n",
        "   "
      ],
      "execution_count": 0,
      "outputs": []
    },
    {
      "cell_type": "code",
      "metadata": {
        "id": "bivVZS0jZhxg",
        "colab_type": "code",
        "outputId": "5b1607ce-cb9d-4438-f31a-ace50450ddb9",
        "colab": {
          "base_uri": "https://localhost:8080/",
          "height": 346
        }
      },
      "source": [
        "tf.keras.backend.clear_session()\n",
        "training_model = make_model(batch_size = 128)\n",
        "training_model.summary()"
      ],
      "execution_count": 4,
      "outputs": [
        {
          "output_type": "stream",
          "text": [
            "WARNING:tensorflow:From /usr/local/lib/python3.6/dist-packages/tensorflow/python/ops/resource_variable_ops.py:435: colocate_with (from tensorflow.python.framework.ops) is deprecated and will be removed in a future version.\n",
            "Instructions for updating:\n",
            "Colocations handled automatically by placer.\n",
            "_________________________________________________________________\n",
            "Layer (type)                 Output Shape              Param #   \n",
            "=================================================================\n",
            "Input (InputLayer)           (128, 500)                0         \n",
            "_________________________________________________________________\n",
            "Embedding (Embedding)        (128, 500, 128)           1280000   \n",
            "_________________________________________________________________\n",
            "LSTM (LSTM)                  (128, 32)                 20608     \n",
            "_________________________________________________________________\n",
            "Output (Dense)               (128, 1)                  33        \n",
            "=================================================================\n",
            "Total params: 1,300,641\n",
            "Trainable params: 1,300,641\n",
            "Non-trainable params: 0\n",
            "_________________________________________________________________\n"
          ],
          "name": "stdout"
        }
      ]
    },
    {
      "cell_type": "code",
      "metadata": {
        "id": "xeGmIQX2aJvw",
        "colab_type": "code",
        "outputId": "eaccfcb9-07fd-4d27-bfcb-3ab54f5f7ee1",
        "colab": {
          "base_uri": "https://localhost:8080/",
          "height": 706
        }
      },
      "source": [
        "import os\n",
        "# This address identifies the TPU we'll use when configuring TensorFlow.\n",
        "TPU_WORKER = 'grpc://' + os.environ['COLAB_TPU_ADDR']\n",
        "tf.logging.set_verbosity(tf.logging.INFO)\n",
        "\n",
        "tpu_model = tf.contrib.tpu.keras_to_tpu_model(\n",
        "    training_model,\n",
        "    strategy=tf.contrib.tpu.TPUDistributionStrategy(\n",
        "        tf.contrib.cluster_resolver.TPUClusterResolver(TPU_WORKER)))\n",
        "\n",
        "tpu_model.summary()"
      ],
      "execution_count": 5,
      "outputs": [
        {
          "output_type": "stream",
          "text": [
            "\n",
            "WARNING: The TensorFlow contrib module will not be included in TensorFlow 2.0.\n",
            "For more information, please see:\n",
            "  * https://github.com/tensorflow/community/blob/master/rfcs/20180907-contrib-sunset.md\n",
            "  * https://github.com/tensorflow/addons\n",
            "If you depend on functionality not listed there, please file an issue.\n",
            "\n",
            "INFO:tensorflow:Querying Tensorflow master (grpc://10.2.243.202:8470) for TPU system metadata.\n",
            "INFO:tensorflow:Found TPU system:\n",
            "INFO:tensorflow:*** Num TPU Cores: 8\n",
            "INFO:tensorflow:*** Num TPU Workers: 1\n",
            "INFO:tensorflow:*** Num TPU Cores Per Worker: 8\n",
            "INFO:tensorflow:*** Available Device: _DeviceAttributes(/job:worker/replica:0/task:0/device:CPU:0, CPU, -1, 15886053908250569762)\n",
            "INFO:tensorflow:*** Available Device: _DeviceAttributes(/job:worker/replica:0/task:0/device:XLA_CPU:0, XLA_CPU, 17179869184, 15004378336908547387)\n",
            "INFO:tensorflow:*** Available Device: _DeviceAttributes(/job:worker/replica:0/task:0/device:TPU:0, TPU, 17179869184, 4384857135564577052)\n",
            "INFO:tensorflow:*** Available Device: _DeviceAttributes(/job:worker/replica:0/task:0/device:TPU:1, TPU, 17179869184, 17917294697748967843)\n",
            "INFO:tensorflow:*** Available Device: _DeviceAttributes(/job:worker/replica:0/task:0/device:TPU:2, TPU, 17179869184, 9886388392138009449)\n",
            "INFO:tensorflow:*** Available Device: _DeviceAttributes(/job:worker/replica:0/task:0/device:TPU:3, TPU, 17179869184, 17067559575058814105)\n",
            "INFO:tensorflow:*** Available Device: _DeviceAttributes(/job:worker/replica:0/task:0/device:TPU:4, TPU, 17179869184, 9798240612790798862)\n",
            "INFO:tensorflow:*** Available Device: _DeviceAttributes(/job:worker/replica:0/task:0/device:TPU:5, TPU, 17179869184, 14467168900415218668)\n",
            "INFO:tensorflow:*** Available Device: _DeviceAttributes(/job:worker/replica:0/task:0/device:TPU:6, TPU, 17179869184, 15097064684361658552)\n",
            "INFO:tensorflow:*** Available Device: _DeviceAttributes(/job:worker/replica:0/task:0/device:TPU:7, TPU, 17179869184, 12203415688526460927)\n",
            "INFO:tensorflow:*** Available Device: _DeviceAttributes(/job:worker/replica:0/task:0/device:TPU_SYSTEM:0, TPU_SYSTEM, 17179869184, 12404854641490847858)\n",
            "WARNING:tensorflow:tpu_model (from tensorflow.contrib.tpu.python.tpu.keras_support) is experimental and may change or be removed at any time, and without warning.\n",
            "_________________________________________________________________\n",
            "Layer (type)                 Output Shape              Param #   \n",
            "=================================================================\n",
            "Input (InputLayer)           (128, 500)                0         \n",
            "_________________________________________________________________\n",
            "Embedding (Embedding)        (128, 500, 128)           1280000   \n",
            "_________________________________________________________________\n",
            "LSTM (LSTM)                  (128, 32)                 20608     \n",
            "_________________________________________________________________\n",
            "Output (Dense)               (128, 1)                  33        \n",
            "=================================================================\n",
            "Total params: 1,300,641\n",
            "Trainable params: 1,300,641\n",
            "Non-trainable params: 0\n",
            "_________________________________________________________________\n"
          ],
          "name": "stdout"
        }
      ]
    },
    {
      "cell_type": "code",
      "metadata": {
        "id": "XlSm1vd5bteH",
        "colab_type": "code",
        "outputId": "ea91dd1e-0c5a-422b-86ef-7bff754c2b3e",
        "colab": {
          "base_uri": "https://localhost:8080/",
          "height": 1237
        }
      },
      "source": [
        "import time\n",
        "start_time = time.time()\n",
        "\n",
        "history = tpu_model.fit(x_train, y_train,\n",
        "                    epochs=20,\n",
        "                    batch_size=128 * 8,\n",
        "                    validation_split=0.2)\n",
        "tpu_model.save_weights('./tpu_model.h5', overwrite=True)\n",
        "\n",
        "print(\"--- %s seconds ---\" % (time.time() - start_time))\n"
      ],
      "execution_count": 6,
      "outputs": [
        {
          "output_type": "stream",
          "text": [
            "Train on 25000 samples, validate on 5000 samples\n",
            "Epoch 1/20\n",
            "INFO:tensorflow:New input shapes; (re-)compiling: mode=train (# of cores 8), [TensorSpec(shape=(128,), dtype=tf.int32, name='core_id0'), TensorSpec(shape=(128, 500), dtype=tf.int32, name='Input_10'), TensorSpec(shape=(128, 1), dtype=tf.float32, name='Output_target_30')]\n",
            "INFO:tensorflow:Overriding default placeholder.\n",
            "INFO:tensorflow:Remapping placeholder for Input\n",
            "WARNING:tensorflow:From /usr/local/lib/python3.6/dist-packages/tensorflow/contrib/tpu/python/tpu/keras_support.py:302: to_float (from tensorflow.python.ops.math_ops) is deprecated and will be removed in a future version.\n",
            "Instructions for updating:\n",
            "Use tf.cast instead.\n",
            "WARNING:tensorflow:From /usr/local/lib/python3.6/dist-packages/tensorflow/python/ops/math_ops.py:3066: to_int32 (from tensorflow.python.ops.math_ops) is deprecated and will be removed in a future version.\n",
            "Instructions for updating:\n",
            "Use tf.cast instead.\n",
            "INFO:tensorflow:Started compiling\n",
            "INFO:tensorflow:Finished compiling. Time elapsed: 3.424459934234619 secs\n",
            "INFO:tensorflow:Setting weights on TPU model.\n",
            "23552/25000 [===========================>..] - ETA: 0s - loss: 0.6933 - acc: 0.4856INFO:tensorflow:New input shapes; (re-)compiling: mode=train (# of cores 8), [TensorSpec(shape=(53,), dtype=tf.int32, name='core_id0'), TensorSpec(shape=(53, 500), dtype=tf.int32, name='Input_10'), TensorSpec(shape=(53, 1), dtype=tf.float32, name='Output_target_30')]\n",
            "INFO:tensorflow:Overriding default placeholder.\n",
            "INFO:tensorflow:Remapping placeholder for Input\n",
            "INFO:tensorflow:Started compiling\n",
            "INFO:tensorflow:Finished compiling. Time elapsed: 4.15848445892334 secs\n",
            "24576/25000 [============================>.] - ETA: 0s - loss: 0.6933 - acc: 0.4866INFO:tensorflow:New input shapes; (re-)compiling: mode=eval (# of cores 8), [TensorSpec(shape=(128,), dtype=tf.int32, name='core_id_10'), TensorSpec(shape=(128, 500), dtype=tf.int32, name='Input_10'), TensorSpec(shape=(128, 1), dtype=tf.float32, name='Output_target_30')]\n",
            "INFO:tensorflow:Overriding default placeholder.\n",
            "INFO:tensorflow:Remapping placeholder for Input\n",
            "INFO:tensorflow:Started compiling\n",
            "INFO:tensorflow:Finished compiling. Time elapsed: 5.535825967788696 secs\n",
            "INFO:tensorflow:New input shapes; (re-)compiling: mode=eval (# of cores 8), [TensorSpec(shape=(113,), dtype=tf.int32, name='core_id_10'), TensorSpec(shape=(113, 500), dtype=tf.int32, name='Input_10'), TensorSpec(shape=(113, 1), dtype=tf.float32, name='Output_target_30')]\n",
            "INFO:tensorflow:Overriding default placeholder.\n",
            "INFO:tensorflow:Remapping placeholder for Input\n",
            "INFO:tensorflow:Started compiling\n",
            "INFO:tensorflow:Finished compiling. Time elapsed: 7.738403081893921 secs\n",
            "25000/25000 [==============================] - 38s 2ms/sample - loss: 0.6933 - acc: 0.4864 - val_loss: 0.6933 - val_acc: 0.4802\n",
            "Epoch 2/20\n",
            "25000/25000 [==============================] - 3s 111us/sample - loss: 0.6933 - acc: 0.4904 - val_loss: 0.6934 - val_acc: 0.4954\n",
            "Epoch 3/20\n",
            "25000/25000 [==============================] - 3s 112us/sample - loss: 0.6933 - acc: 0.4926 - val_loss: 0.6932 - val_acc: 0.4956\n",
            "Epoch 4/20\n",
            "25000/25000 [==============================] - 3s 114us/sample - loss: 0.6931 - acc: 0.5068 - val_loss: 0.6945 - val_acc: 0.4938\n",
            "Epoch 5/20\n",
            "25000/25000 [==============================] - 3s 111us/sample - loss: 0.6922 - acc: 0.5196 - val_loss: 0.6896 - val_acc: 0.5564\n",
            "Epoch 6/20\n",
            "25000/25000 [==============================] - 3s 110us/sample - loss: 0.7019 - acc: 0.5596 - val_loss: 0.6647 - val_acc: 0.6112\n",
            "Epoch 7/20\n",
            "25000/25000 [==============================] - 3s 110us/sample - loss: 0.6973 - acc: 0.6078 - val_loss: 0.6775 - val_acc: 0.6038\n",
            "Epoch 8/20\n",
            "25000/25000 [==============================] - 3s 111us/sample - loss: 0.6489 - acc: 0.6468 - val_loss: 0.5699 - val_acc: 0.7444\n",
            "Epoch 9/20\n",
            "25000/25000 [==============================] - 3s 112us/sample - loss: 0.5775 - acc: 0.7097 - val_loss: 0.5496 - val_acc: 0.7378\n",
            "Epoch 10/20\n",
            "25000/25000 [==============================] - 3s 111us/sample - loss: 0.5103 - acc: 0.7688 - val_loss: 0.4304 - val_acc: 0.8248\n",
            "Epoch 11/20\n",
            "25000/25000 [==============================] - 3s 110us/sample - loss: 0.4537 - acc: 0.8021 - val_loss: 0.3808 - val_acc: 0.8494\n",
            "Epoch 12/20\n",
            "25000/25000 [==============================] - 3s 111us/sample - loss: 0.4148 - acc: 0.8120 - val_loss: 0.2984 - val_acc: 0.8818\n",
            "Epoch 13/20\n",
            "25000/25000 [==============================] - 3s 115us/sample - loss: 0.3234 - acc: 0.8683 - val_loss: 0.2237 - val_acc: 0.9214\n",
            "Epoch 14/20\n",
            "25000/25000 [==============================] - 3s 113us/sample - loss: 0.2601 - acc: 0.8997 - val_loss: 0.2764 - val_acc: 0.8950\n",
            "Epoch 15/20\n",
            "25000/25000 [==============================] - 3s 114us/sample - loss: 0.2358 - acc: 0.9085 - val_loss: 0.1889 - val_acc: 0.9376\n",
            "Epoch 16/20\n",
            "25000/25000 [==============================] - 3s 113us/sample - loss: 0.1901 - acc: 0.9307 - val_loss: 0.1560 - val_acc: 0.9494\n",
            "Epoch 17/20\n",
            "25000/25000 [==============================] - 3s 114us/sample - loss: 0.1586 - acc: 0.9443 - val_loss: 0.1086 - val_acc: 0.9672\n",
            "Epoch 18/20\n",
            "25000/25000 [==============================] - 3s 113us/sample - loss: 0.1308 - acc: 0.9553 - val_loss: 0.0904 - val_acc: 0.9746\n",
            "Epoch 19/20\n",
            "25000/25000 [==============================] - 3s 112us/sample - loss: 0.1048 - acc: 0.9645 - val_loss: 0.0652 - val_acc: 0.9806\n",
            "Epoch 20/20\n",
            "25000/25000 [==============================] - 3s 115us/sample - loss: 0.0992 - acc: 0.9679 - val_loss: 0.0577 - val_acc: 0.9810\n",
            "INFO:tensorflow:Copying TPU weights to the CPU\n",
            "--- 97.13509011268616 seconds ---\n"
          ],
          "name": "stdout"
        }
      ]
    },
    {
      "cell_type": "code",
      "metadata": {
        "id": "tLjeqllMZzv5",
        "colab_type": "code",
        "colab": {}
      },
      "source": [
        "# history = tpu_model.fit(x_train, y_train,\n",
        "#                     epochs=20,\n",
        "#                     batch_size=128 * 8,\n",
        "#                     validation_split=0.2)\n",
        "# tpu_model.save_weights('./tpu_model.h5', overwrite=True)"
      ],
      "execution_count": 0,
      "outputs": []
    },
    {
      "cell_type": "code",
      "metadata": {
        "id": "gpcLs6PYatf5",
        "colab_type": "code",
        "outputId": "f0338950-5ac5-4f4b-8619-d84f637b118b",
        "colab": {
          "base_uri": "https://localhost:8080/",
          "height": 274
        }
      },
      "source": [
        "inferencing_model = make_model(batch_size=None)\n",
        "inferencing_model.load_weights('./tpu_model.h5')\n",
        "inferencing_model.summary()"
      ],
      "execution_count": 8,
      "outputs": [
        {
          "output_type": "stream",
          "text": [
            "_________________________________________________________________\n",
            "Layer (type)                 Output Shape              Param #   \n",
            "=================================================================\n",
            "Input (InputLayer)           (None, 500)               0         \n",
            "_________________________________________________________________\n",
            "Embedding (Embedding)        (None, 500, 128)          1280000   \n",
            "_________________________________________________________________\n",
            "LSTM (LSTM)                  (None, 32)                20608     \n",
            "_________________________________________________________________\n",
            "Output (Dense)               (None, 1)                 33        \n",
            "=================================================================\n",
            "Total params: 1,300,641\n",
            "Trainable params: 1,300,641\n",
            "Non-trainable params: 0\n",
            "_________________________________________________________________\n"
          ],
          "name": "stdout"
        }
      ]
    },
    {
      "cell_type": "code",
      "metadata": {
        "id": "KZyqMpMecAGp",
        "colab_type": "code",
        "colab": {}
      },
      "source": [
        ""
      ],
      "execution_count": 0,
      "outputs": []
    },
    {
      "cell_type": "code",
      "metadata": {
        "id": "2cqqkN84dJQk",
        "colab_type": "code",
        "outputId": "e13b957d-3962-4063-ffbd-d112fd82d7ad",
        "colab": {
          "base_uri": "https://localhost:8080/",
          "height": 51
        }
      },
      "source": [
        "inferencing_model.evaluate(x_test, y_test)"
      ],
      "execution_count": 9,
      "outputs": [
        {
          "output_type": "stream",
          "text": [
            "25000/25000 [==============================] - 65s 3ms/sample - loss: 0.6107 - acc: 0.8267\n"
          ],
          "name": "stdout"
        },
        {
          "output_type": "execute_result",
          "data": {
            "text/plain": [
              "[0.6106908162593842, 0.82672]"
            ]
          },
          "metadata": {
            "tags": []
          },
          "execution_count": 9
        }
      ]
    },
    {
      "cell_type": "code",
      "metadata": {
        "id": "XMR_TncEeFKx",
        "colab_type": "code",
        "outputId": "f28888ed-3761-4fdb-99ad-b1f314f23755",
        "colab": {
          "base_uri": "https://localhost:8080/",
          "height": 243
        }
      },
      "source": [
        "#tpu_model.evaluate(x_test, y_test, batch_size=128 * 8)\n",
        "tpu_model.evaluate(x_test, y_test, batch_size=128)"
      ],
      "execution_count": 11,
      "outputs": [
        {
          "output_type": "stream",
          "text": [
            "INFO:tensorflow:New input shapes; (re-)compiling: mode=eval (# of cores 8), [TensorSpec(shape=(16,), dtype=tf.int32, name='core_id_10'), TensorSpec(shape=(16, 500), dtype=tf.int32, name='Input_10'), TensorSpec(shape=(16, 1), dtype=tf.float32, name='Output_target_30')]\n",
            "INFO:tensorflow:Overriding default placeholder.\n",
            "INFO:tensorflow:Remapping placeholder for Input\n",
            "INFO:tensorflow:Started compiling\n",
            "INFO:tensorflow:Finished compiling. Time elapsed: 12.048400163650513 secs\n",
            "24704/25000 [============================>.] - ETA: 0s - loss: 0.6112 - acc: 0.8266INFO:tensorflow:New input shapes; (re-)compiling: mode=eval (# of cores 8), [TensorSpec(shape=(5,), dtype=tf.int32, name='core_id_10'), TensorSpec(shape=(5, 500), dtype=tf.int32, name='Input_10'), TensorSpec(shape=(5, 1), dtype=tf.float32, name='Output_target_30')]\n",
            "INFO:tensorflow:Overriding default placeholder.\n",
            "INFO:tensorflow:Remapping placeholder for Input\n",
            "INFO:tensorflow:Started compiling\n",
            "INFO:tensorflow:Finished compiling. Time elapsed: 14.84395718574524 secs\n",
            "25000/25000 [==============================] - 34s 1ms/sample - loss: 0.6106 - acc: 0.8267\n"
          ],
          "name": "stdout"
        },
        {
          "output_type": "execute_result",
          "data": {
            "text/plain": [
              "[0.6106106699752808, 0.82668]"
            ]
          },
          "metadata": {
            "tags": []
          },
          "execution_count": 11
        }
      ]
    },
    {
      "cell_type": "code",
      "metadata": {
        "id": "PYCdyFggnKAU",
        "colab_type": "code",
        "outputId": "e413600b-94b3-4fad-8883-b8c61c091529",
        "colab": {
          "base_uri": "https://localhost:8080/",
          "height": 51
        }
      },
      "source": [
        "#tpu_model.evaluate(x_test, y_test, batch_size=128 * 8)\n",
        "tpu_model.evaluate(x_test, y_test, batch_size=128)"
      ],
      "execution_count": 13,
      "outputs": [
        {
          "output_type": "stream",
          "text": [
            "25000/25000 [==============================] - 4s 155us/sample - loss: 0.6106 - acc: 0.8267\n"
          ],
          "name": "stdout"
        },
        {
          "output_type": "execute_result",
          "data": {
            "text/plain": [
              "[0.6106106699752808, 0.82668]"
            ]
          },
          "metadata": {
            "tags": []
          },
          "execution_count": 13
        }
      ]
    },
    {
      "cell_type": "code",
      "metadata": {
        "id": "CanGKZdUeOKf",
        "colab_type": "code",
        "outputId": "025a6544-64d4-4f1e-dd4f-d0c8a81b2546",
        "colab": {
          "base_uri": "https://localhost:8080/",
          "height": 188
        }
      },
      "source": [
        "inferencing_model.predict(x_test[:10])> 0.5"
      ],
      "execution_count": 14,
      "outputs": [
        {
          "output_type": "execute_result",
          "data": {
            "text/plain": [
              "array([[False],\n",
              "       [ True],\n",
              "       [ True],\n",
              "       [ True],\n",
              "       [ True],\n",
              "       [False],\n",
              "       [ True],\n",
              "       [False],\n",
              "       [ True],\n",
              "       [ True]])"
            ]
          },
          "metadata": {
            "tags": []
          },
          "execution_count": 14
        }
      ]
    },
    {
      "cell_type": "code",
      "metadata": {
        "id": "gVeRjm5AeW-w",
        "colab_type": "code",
        "outputId": "082dd5b3-0896-4461-cb95-07ea89781cb5",
        "colab": {
          "base_uri": "https://localhost:8080/",
          "height": 34
        }
      },
      "source": [
        "y_test[:10]"
      ],
      "execution_count": 15,
      "outputs": [
        {
          "output_type": "execute_result",
          "data": {
            "text/plain": [
              "array([0, 1, 1, 0, 1, 1, 1, 0, 0, 1])"
            ]
          },
          "metadata": {
            "tags": []
          },
          "execution_count": 15
        }
      ]
    },
    {
      "cell_type": "code",
      "metadata": {
        "id": "tIw95Yc0eeeY",
        "colab_type": "code",
        "outputId": "3c71be89-8b38-434c-b0cd-e6a1b7699d0e",
        "colab": {
          "base_uri": "https://localhost:8080/",
          "height": 243
        }
      },
      "source": [
        "tpu_model.predict_on_batch(x_train[:128 * 8])>0.5"
      ],
      "execution_count": 16,
      "outputs": [
        {
          "output_type": "stream",
          "text": [
            "INFO:tensorflow:New input shapes; (re-)compiling: mode=infer (# of cores 8), [TensorSpec(shape=(128, 500), dtype=tf.int32, name='Input_10')]\n",
            "INFO:tensorflow:Overriding default placeholder.\n",
            "INFO:tensorflow:Remapping placeholder for Input\n",
            "INFO:tensorflow:Started compiling\n",
            "INFO:tensorflow:Finished compiling. Time elapsed: 18.751532554626465 secs\n"
          ],
          "name": "stdout"
        },
        {
          "output_type": "execute_result",
          "data": {
            "text/plain": [
              "array([[ True],\n",
              "       [False],\n",
              "       [False],\n",
              "       ...,\n",
              "       [False],\n",
              "       [ True],\n",
              "       [False]])"
            ]
          },
          "metadata": {
            "tags": []
          },
          "execution_count": 16
        }
      ]
    },
    {
      "cell_type": "markdown",
      "metadata": {
        "id": "EiQqm2R_DvIV",
        "colab_type": "text"
      },
      "source": [
        "## Download the trained model weights to your local file system"
      ]
    },
    {
      "cell_type": "code",
      "metadata": {
        "id": "UzMykUsdDjiD",
        "colab_type": "code",
        "colab": {}
      },
      "source": [
        "from google.colab import files\n",
        "\n",
        "files.download('./tpu_model.h5')"
      ],
      "execution_count": 0,
      "outputs": []
    },
    {
      "cell_type": "code",
      "metadata": {
        "id": "apwRGvwWDnau",
        "colab_type": "code",
        "colab": {}
      },
      "source": [
        ""
      ],
      "execution_count": 0,
      "outputs": []
    }
  ]
}