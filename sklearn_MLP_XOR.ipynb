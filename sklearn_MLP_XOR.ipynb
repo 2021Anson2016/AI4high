{
  "nbformat": 4,
  "nbformat_minor": 0,
  "metadata": {
    "colab": {
      "name": "sklearn_MLP_XOR.ipynb",
      "version": "0.3.2",
      "provenance": [],
      "include_colab_link": true
    },
    "kernelspec": {
      "name": "python3",
      "display_name": "Python 3"
    }
  },
  "cells": [
    {
      "cell_type": "markdown",
      "metadata": {
        "id": "view-in-github",
        "colab_type": "text"
      },
      "source": [
        "<a href=\"https://colab.research.google.com/github/MyDearGreatTeacher/AI4high/blob/master/sklearn_MLP_XOR.ipynb\" target=\"_parent\"><img src=\"https://colab.research.google.com/assets/colab-badge.svg\" alt=\"Open In Colab\"/></a>"
      ]
    },
    {
      "cell_type": "code",
      "metadata": {
        "id": "Uk3wzacRvw_f",
        "colab_type": "code",
        "colab": {
          "base_uri": "https://localhost:8080/",
          "height": 102
        },
        "outputId": "d99d12ef-066a-4a75-8986-b439460f2463"
      },
      "source": [
        "from sklearn.model_selection import train_test_split\n",
        "from sklearn.neural_network import MLPClassifier\n",
        "#from sklearn import svm\n",
        "\n",
        "y = [0, 1, 1, 0]\n",
        "X = [[0, 0], [0, 1], [1, 0], [1, 1]]\n",
        "\n",
        "clf = MLPClassifier(solver='lbfgs', activation='logistic', hidden_layer_sizes=(2,), max_iter=100, random_state=20)\n",
        "#clf = svm.SVC()\n",
        "\n",
        "clf.fit(X, y)\n",
        "\n",
        "predictions = clf.predict(X)\n",
        "print('Accuracy: %s' % clf.score(X, y))\n",
        "for i, p in enumerate(predictions[:10]):\n",
        "    print('True: %s, Predicted: %s' % (y[i], p))"
      ],
      "execution_count": 7,
      "outputs": [
        {
          "output_type": "stream",
          "text": [
            "Accuracy: 1.0\n",
            "True: 0, Predicted: 0\n",
            "True: 1, Predicted: 1\n",
            "True: 1, Predicted: 1\n",
            "True: 0, Predicted: 0\n"
          ],
          "name": "stdout"
        }
      ]
    },
    {
      "cell_type": "code",
      "metadata": {
        "id": "Cp9AqUiMv4mL",
        "colab_type": "code",
        "colab": {
          "base_uri": "https://localhost:8080/",
          "height": 187
        },
        "outputId": "5a7ec2ff-80f2-4581-e8f0-e0c4e686dffe"
      },
      "source": [
        "print('Weights connecting the input layer and the hidden layer: \\n%s' % clf.coefs_[0])\n",
        "print('Hidden layer bias weights: \\n%s' % clf.intercepts_[0])\n",
        "print('Weights connecting the hidden layer and the output layer: \\n%s' % clf.coefs_[1])\n",
        "print('Output layer bias weight: \\n%s' % clf.intercepts_[1])"
      ],
      "execution_count": 8,
      "outputs": [
        {
          "output_type": "stream",
          "text": [
            "Weights connecting the input layer and the hidden layer: \n",
            "[[6.11803862 6.35656379]\n",
            " [5.79147913 6.14551968]]\n",
            "Hidden layer bias weights: \n",
            "[-9.38637953 -2.77751695]\n",
            "Weights connecting the hidden layer and the output layer: \n",
            "[[-14.95481992]\n",
            " [ 14.53080978]]\n",
            "Output layer bias weight: \n",
            "[-7.22845344]\n"
          ],
          "name": "stdout"
        }
      ]
    }
  ]
}