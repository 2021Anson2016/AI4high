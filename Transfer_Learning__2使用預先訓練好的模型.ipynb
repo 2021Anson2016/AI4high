{
  "nbformat": 4,
  "nbformat_minor": 0,
  "metadata": {
    "colab": {
      "name": "Transfer Learning _2使用預先訓練好的模型.ipynb",
      "version": "0.3.2",
      "provenance": [],
      "include_colab_link": true
    },
    "kernelspec": {
      "name": "python3",
      "display_name": "Python 3"
    }
  },
  "cells": [
    {
      "cell_type": "markdown",
      "metadata": {
        "id": "view-in-github",
        "colab_type": "text"
      },
      "source": [
        "<a href=\"https://colab.research.google.com/github/MyDearGreatTeacher/AI4high/blob/master/Transfer_Learning__2%E4%BD%BF%E7%94%A8%E9%A0%90%E5%85%88%E8%A8%93%E7%B7%B4%E5%A5%BD%E7%9A%84%E6%A8%A1%E5%9E%8B.ipynb\" target=\"_parent\"><img src=\"https://colab.research.google.com/assets/colab-badge.svg\" alt=\"Open In Colab\"/></a>"
      ]
    },
    {
      "metadata": {
        "id": "_x4C-WtYiN9P",
        "colab_type": "text"
      },
      "cell_type": "markdown",
      "source": [
        "# Transfer Learning _2使用預先訓練好的模型\n",
        "\n",
        "\n",
        "Deep Learning and Transfer Learning with pre-trained models\n",
        "\n",
        "https://github.com/dipanjanS/practical-machine-learning-with-python/blob/master/notebooks/Ch12_Deep_Learning_for_Computer_Vision/notebook_pretrained_cnn_cifar10_classifier.ipynb\n",
        "\n",
        "\n",
        "資料來源:\n",
        "\n",
        "https://github.com/machrisaa/tensorflow-vgg"
      ]
    },
    {
      "metadata": {
        "id": "aGBXs1Ohkc5L",
        "colab_type": "text"
      },
      "cell_type": "markdown",
      "source": [
        "### 參考資料\n",
        "\n",
        "[1]Python keras.applications.inception_v3.InceptionV3() Examples\n",
        "https://www.programcreek.com/python/example/106229/keras.applications.inception_v3.InceptionV3"
      ]
    },
    {
      "metadata": {
        "id": "rHLcXhkNkorb",
        "colab_type": "text"
      },
      "cell_type": "markdown",
      "source": [
        ""
      ]
    },
    {
      "metadata": {
        "id": "F2iz_jU4iGh7",
        "colab_type": "code",
        "colab": {}
      },
      "cell_type": "code",
      "source": [
        ""
      ],
      "execution_count": 0,
      "outputs": []
    }
  ]
}