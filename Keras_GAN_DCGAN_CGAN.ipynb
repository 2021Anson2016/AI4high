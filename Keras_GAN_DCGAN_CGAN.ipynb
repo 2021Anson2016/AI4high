{
  "nbformat": 4,
  "nbformat_minor": 0,
  "metadata": {
    "colab": {
      "name": "Keras_GAN_DCGAN_CGAN.ipynb",
      "version": "0.3.2",
      "provenance": [],
      "include_colab_link": true
    },
    "kernelspec": {
      "name": "python3",
      "display_name": "Python 3"
    }
  },
  "cells": [
    {
      "cell_type": "markdown",
      "metadata": {
        "id": "view-in-github",
        "colab_type": "text"
      },
      "source": [
        "<a href=\"https://colab.research.google.com/github/MyDearGreatTeacher/AI4high/blob/master/Keras_GAN_DCGAN_CGAN.ipynb\" target=\"_parent\"><img src=\"https://colab.research.google.com/assets/colab-badge.svg\" alt=\"Open In Colab\"/></a>"
      ]
    },
    {
      "cell_type": "markdown",
      "metadata": {
        "id": "wLfSdGZm1WRo",
        "colab_type": "text"
      },
      "source": [
        "# DCGAN\n",
        "\n",
        "Advanced Deep Learning with Keras,\n",
        "Rowel Atienza\n",
        ",October 2018\n",
        "\n",
        "4: GENERATIVE ADVERSARIAL NETWORKS (GANS)\n",
        "\n",
        "Keras\n",
        "\n",
        "DCGAN\n",
        "\n",
        "Conditional GAN\n"
      ]
    },
    {
      "cell_type": "markdown",
      "metadata": {
        "id": "QBWKfkOI0vhz",
        "colab_type": "text"
      },
      "source": [
        "# 載入在github上的程式\n"
      ]
    },
    {
      "cell_type": "code",
      "metadata": {
        "id": "NpbQvKRoymvq",
        "colab_type": "code",
        "colab": {
          "base_uri": "https://localhost:8080/",
          "height": 120
        },
        "outputId": "b9df3d07-52a9-4838-bde9-2bd6140003f7"
      },
      "source": [
        "!git clone https://github.com/MyDearGreatTeacher/GAN.git"
      ],
      "execution_count": 1,
      "outputs": [
        {
          "output_type": "stream",
          "text": [
            "Cloning into 'GAN'...\n",
            "remote: Enumerating objects: 9, done.\u001b[K\n",
            "remote: Counting objects: 100% (9/9), done.\u001b[K\n",
            "remote: Compressing objects: 100% (7/7), done.\u001b[K\n",
            "remote: Total 9 (delta 1), reused 0 (delta 0), pack-reused 0\u001b[K\n",
            "Unpacking objects: 100% (9/9), done.\n"
          ],
          "name": "stdout"
        }
      ]
    },
    {
      "cell_type": "code",
      "metadata": {
        "id": "D1dZaDe_zSXg",
        "colab_type": "code",
        "colab": {
          "base_uri": "https://localhost:8080/",
          "height": 34
        },
        "outputId": "e6de98fd-e35f-4cc2-9189-f23b2d93bd3d"
      },
      "source": [
        "!ls"
      ],
      "execution_count": 2,
      "outputs": [
        {
          "output_type": "stream",
          "text": [
            "base_tic_tac_toe_moves.csv  birth_weight.csv  GAN  sample_data\ttemp\n"
          ],
          "name": "stdout"
        }
      ]
    },
    {
      "cell_type": "markdown",
      "metadata": {
        "id": "0rzNnV6z1L1E",
        "colab_type": "text"
      },
      "source": [
        "# 切換到正確的目錄夾後再執行程式"
      ]
    },
    {
      "cell_type": "code",
      "metadata": {
        "id": "hZsW5IlRzaTn",
        "colab_type": "code",
        "colab": {
          "base_uri": "https://localhost:8080/",
          "height": 51
        },
        "outputId": "40209443-4dca-41b3-b5b3-1660f88dc39e"
      },
      "source": [
        "import os\n",
        "os.chdir(\"GAN\")\n",
        "\n",
        "!ls"
      ],
      "execution_count": 3,
      "outputs": [
        {
          "output_type": "stream",
          "text": [
            "cgan-mnist-4.3.1.py  dcgan-mnist-4.2.1.py  README.md\n",
            "cgan_mnist.h5\t     dcgan_mnist.h5\n"
          ],
          "name": "stdout"
        }
      ]
    },
    {
      "cell_type": "code",
      "metadata": {
        "id": "ev9E8l0Szl7Q",
        "colab_type": "code",
        "colab": {}
      },
      "source": [
        "!cat dcgan-mnist-4.2.1.py"
      ],
      "execution_count": 0,
      "outputs": []
    },
    {
      "cell_type": "code",
      "metadata": {
        "id": "okoe1y1YzsBU",
        "colab_type": "code",
        "colab": {
          "base_uri": "https://localhost:8080/",
          "height": 208
        },
        "outputId": "7bf83d66-478a-41ea-fc82-b5a23ba20cb8"
      },
      "source": [
        "!python dcgan-mnist-4.2.1.py --generator=dcgan_mnist.h5"
      ],
      "execution_count": 5,
      "outputs": [
        {
          "output_type": "stream",
          "text": [
            "Using TensorFlow backend.\n",
            "WARNING:tensorflow:From /usr/local/lib/python3.6/dist-packages/tensorflow/python/framework/op_def_library.py:263: colocate_with (from tensorflow.python.framework.ops) is deprecated and will be removed in a future version.\n",
            "Instructions for updating:\n",
            "Colocations handled automatically by placer.\n",
            "2019-05-11 07:33:11.583632: I tensorflow/core/platform/profile_utils/cpu_utils.cc:94] CPU Frequency: 2300000000 Hz\n",
            "2019-05-11 07:33:11.583875: I tensorflow/compiler/xla/service/service.cc:150] XLA service 0x25ac840 executing computations on platform Host. Devices:\n",
            "2019-05-11 07:33:11.583916: I tensorflow/compiler/xla/service/service.cc:158]   StreamExecutor device (0): <undefined>, <undefined>\n",
            "/usr/local/lib/python3.6/dist-packages/keras/engine/saving.py:292: UserWarning: No training configuration found in save file: the model was *not* compiled. Compile it manually.\n",
            "  warnings.warn('No training configuration found in save file: '\n",
            "<Figure size 220x220 with 16 Axes>\n"
          ],
          "name": "stdout"
        }
      ]
    },
    {
      "cell_type": "code",
      "metadata": {
        "id": "9FEKBUVbz6sF",
        "colab_type": "code",
        "colab": {
          "base_uri": "https://localhost:8080/",
          "height": 51
        },
        "outputId": "0c4d584b-8b0d-48d3-cce1-818dc5d420d7"
      },
      "source": [
        "!ls"
      ],
      "execution_count": 6,
      "outputs": [
        {
          "output_type": "stream",
          "text": [
            "cgan-mnist-4.3.1.py  dcgan-mnist-4.2.1.py  README.md\n",
            "cgan_mnist.h5\t     dcgan_mnist.h5\t   test_outputs\n"
          ],
          "name": "stdout"
        }
      ]
    },
    {
      "cell_type": "code",
      "metadata": {
        "id": "QH1iRe2r0QK2",
        "colab_type": "code",
        "colab": {
          "base_uri": "https://localhost:8080/",
          "height": 34
        },
        "outputId": "0d7592d4-9ea2-45ef-d1d2-18a93ae38626"
      },
      "source": [
        "import os\n",
        "os.chdir(\"test_outputs\")\n",
        "\n",
        "!ls"
      ],
      "execution_count": 7,
      "outputs": [
        {
          "output_type": "stream",
          "text": [
            "00000.png\n"
          ],
          "name": "stdout"
        }
      ]
    },
    {
      "cell_type": "markdown",
      "metadata": {
        "id": "cndUUa5-0yR7",
        "colab_type": "text"
      },
      "source": [
        "# 顯示存在Google colab上的結果"
      ]
    },
    {
      "cell_type": "code",
      "metadata": {
        "id": "H8o868nL0ntl",
        "colab_type": "code",
        "colab": {
          "base_uri": "https://localhost:8080/",
          "height": 303
        },
        "outputId": "9fb491c1-c594-46c5-edf0-9244ea0f39c8"
      },
      "source": [
        "# -*- coding: utf-8 -*-\n",
        "import tensorflow as tf\n",
        "import matplotlib.pyplot as plt\n",
        "#\"讀取圖片檔\"\n",
        "image=tf.read_file(\"00000.png\",'r')\n",
        "#\"將圖片檔解碼為Tensor\"\n",
        "image_tensor=tf.image.decode_jpeg(image)\n",
        "#\"圖像張量的形狀\"\n",
        "shape=tf.shape(image_tensor)\n",
        "session=tf.Session()\n",
        "print('圖像的形狀:')\n",
        "print(session.run(shape))\n",
        "#\"Tensor 轉換為 ndarray\"\n",
        "image_ndarray=image_tensor.eval(session=session)\n",
        "#\"顯示圖片\"\n",
        "plt.imshow(image_ndarray)\n",
        "plt.show()"
      ],
      "execution_count": 8,
      "outputs": [
        {
          "output_type": "stream",
          "text": [
            "圖像的形狀:\n",
            "[220 220   4]\n"
          ],
          "name": "stdout"
        },
        {
          "output_type": "display_data",
          "data": {
            "image/png": "[encoded data removed]",
            "text/plain": [
              "<Figure size 432x288 with 1 Axes>"
            ]
          },
          "metadata": {
            "tags": []
          }
        }
      ]
    },
    {
      "cell_type": "code",
      "metadata": {
        "id": "371Jxr6K2YZC",
        "colab_type": "code",
        "colab": {
          "base_uri": "https://localhost:8080/",
          "height": 51
        },
        "outputId": "f252bc90-0e9d-4284-9c60-324d66f30c7e"
      },
      "source": [
        "import os\n",
        "os.chdir(\"..\")\n",
        "\n",
        "!ls"
      ],
      "execution_count": 9,
      "outputs": [
        {
          "output_type": "stream",
          "text": [
            "cgan-mnist-4.3.1.py  dcgan-mnist-4.2.1.py  README.md\n",
            "cgan_mnist.h5\t     dcgan_mnist.h5\t   test_outputs\n"
          ],
          "name": "stdout"
        }
      ]
    },
    {
      "cell_type": "code",
      "metadata": {
        "id": "EzzrdYB72bRX",
        "colab_type": "code",
        "colab": {
          "base_uri": "https://localhost:8080/",
          "height": 226
        },
        "outputId": "38a91ebf-5bb0-429e-80fe-20d263ee6d53"
      },
      "source": [
        "!python cgan-mnist-4.3.1.py --generator=./cgan_mnist.h5"
      ],
      "execution_count": 10,
      "outputs": [
        {
          "output_type": "stream",
          "text": [
            "Using TensorFlow backend.\n",
            "WARNING:tensorflow:From /usr/local/lib/python3.6/dist-packages/tensorflow/python/framework/op_def_library.py:263: colocate_with (from tensorflow.python.framework.ops) is deprecated and will be removed in a future version.\n",
            "Instructions for updating:\n",
            "Colocations handled automatically by placer.\n",
            "2019-05-11 07:44:57.499119: I tensorflow/core/platform/profile_utils/cpu_utils.cc:94] CPU Frequency: 2300000000 Hz\n",
            "2019-05-11 07:44:57.499414: I tensorflow/compiler/xla/service/service.cc:150] XLA service 0x3285340 executing computations on platform Host. Devices:\n",
            "2019-05-11 07:44:57.499453: I tensorflow/compiler/xla/service/service.cc:158]   StreamExecutor device (0): <undefined>, <undefined>\n",
            "/usr/local/lib/python3.6/dist-packages/keras/engine/saving.py:292: UserWarning: No training configuration found in save file: the model was *not* compiled. Compile it manually.\n",
            "  warnings.warn('No training configuration found in save file: '\n",
            "test_outputs  labels for generated images:  [2 1 5 7 2 5 0 0 7 0 0 0 6 7 2 0]\n",
            "<Figure size 220x220 with 16 Axes>\n"
          ],
          "name": "stdout"
        }
      ]
    },
    {
      "cell_type": "code",
      "metadata": {
        "id": "fRKdpOS62mYz",
        "colab_type": "code",
        "colab": {
          "base_uri": "https://localhost:8080/",
          "height": 51
        },
        "outputId": "7233382c-51cc-46a1-d0a7-bca1ecc038c2"
      },
      "source": [
        "!ls"
      ],
      "execution_count": 11,
      "outputs": [
        {
          "output_type": "stream",
          "text": [
            "cgan-mnist-4.3.1.py  dcgan-mnist-4.2.1.py  README.md\n",
            "cgan_mnist.h5\t     dcgan_mnist.h5\t   test_outputs\n"
          ],
          "name": "stdout"
        }
      ]
    },
    {
      "cell_type": "code",
      "metadata": {
        "id": "9yr-7baF2reD",
        "colab_type": "code",
        "colab": {
          "base_uri": "https://localhost:8080/",
          "height": 34
        },
        "outputId": "47a81506-4e4e-4dcc-8af5-c41ce00fc279"
      },
      "source": [
        "import os\n",
        "os.chdir(\"test_outputs\")\n",
        "\n",
        "!ls"
      ],
      "execution_count": 12,
      "outputs": [
        {
          "output_type": "stream",
          "text": [
            "00000.png\n"
          ],
          "name": "stdout"
        }
      ]
    },
    {
      "cell_type": "code",
      "metadata": {
        "id": "-phvk18d2vVv",
        "colab_type": "code",
        "colab": {
          "base_uri": "https://localhost:8080/",
          "height": 303
        },
        "outputId": "4d7b9a48-47a0-4b57-ea09-546f3b139068"
      },
      "source": [
        "# -*- coding: utf-8 -*-\n",
        "import tensorflow as tf\n",
        "import matplotlib.pyplot as plt\n",
        "#\"讀取圖片檔\"\n",
        "image=tf.read_file(\"00000.png\",'r')\n",
        "#\"將圖片檔解碼為Tensor\"\n",
        "image_tensor=tf.image.decode_jpeg(image)\n",
        "#\"圖像張量的形狀\"\n",
        "shape=tf.shape(image_tensor)\n",
        "session=tf.Session()\n",
        "print('圖像的形狀:')\n",
        "print(session.run(shape))\n",
        "#\"Tensor 轉換為 ndarray\"\n",
        "image_ndarray=image_tensor.eval(session=session)\n",
        "#\"顯示圖片\"\n",
        "plt.imshow(image_ndarray)\n",
        "plt.show()"
      ],
      "execution_count": 13,
      "outputs": [
        {
          "output_type": "stream",
          "text": [
            "圖像的形狀:\n",
            "[220 220   4]\n"
          ],
          "name": "stdout"
        },
        {
          "output_type": "display_data",
          "data": {
            "image/png": "[encoded data removed]",
            "text/plain": [
              "<Figure size 432x288 with 1 Axes>"
            ]
          },
          "metadata": {
            "tags": []
          }
        }
      ]
    },
    {
      "cell_type": "code",
      "metadata": {
        "id": "uqddXiCZ21K5",
        "colab_type": "code",
        "colab": {
          "base_uri": "https://localhost:8080/",
          "height": 51
        },
        "outputId": "7ee66a53-4a0a-4705-b9fc-051763f344c3"
      },
      "source": [
        "import os\n",
        "os.chdir(\"..\")\n",
        "\n",
        "!ls"
      ],
      "execution_count": 14,
      "outputs": [
        {
          "output_type": "stream",
          "text": [
            "cgan-mnist-4.3.1.py  dcgan-mnist-4.2.1.py  README.md\n",
            "cgan_mnist.h5\t     dcgan_mnist.h5\t   test_outputs\n"
          ],
          "name": "stdout"
        }
      ]
    },
    {
      "cell_type": "code",
      "metadata": {
        "id": "KuSd15kK25A_",
        "colab_type": "code",
        "colab": {
          "base_uri": "https://localhost:8080/",
          "height": 226
        },
        "outputId": "d776e041-c837-4417-faaf-99cdc9309a03"
      },
      "source": [
        "!python cgan-mnist-4.3.1.py --generator=./cgan_mnist.h5 --digit=8"
      ],
      "execution_count": 15,
      "outputs": [
        {
          "output_type": "stream",
          "text": [
            "Using TensorFlow backend.\n",
            "WARNING:tensorflow:From /usr/local/lib/python3.6/dist-packages/tensorflow/python/framework/op_def_library.py:263: colocate_with (from tensorflow.python.framework.ops) is deprecated and will be removed in a future version.\n",
            "Instructions for updating:\n",
            "Colocations handled automatically by placer.\n",
            "2019-05-11 07:46:42.636213: I tensorflow/core/platform/profile_utils/cpu_utils.cc:94] CPU Frequency: 2300000000 Hz\n",
            "2019-05-11 07:46:42.636465: I tensorflow/compiler/xla/service/service.cc:150] XLA service 0x3473340 executing computations on platform Host. Devices:\n",
            "2019-05-11 07:46:42.636500: I tensorflow/compiler/xla/service/service.cc:158]   StreamExecutor device (0): <undefined>, <undefined>\n",
            "/usr/local/lib/python3.6/dist-packages/keras/engine/saving.py:292: UserWarning: No training configuration found in save file: the model was *not* compiled. Compile it manually.\n",
            "  warnings.warn('No training configuration found in save file: '\n",
            "test_outputs  labels for generated images:  [8 8 8 8 8 8 8 8 8 8 8 8 8 8 8 8]\n",
            "<Figure size 220x220 with 16 Axes>\n"
          ],
          "name": "stdout"
        }
      ]
    },
    {
      "cell_type": "code",
      "metadata": {
        "id": "jwRWWWFX3BHz",
        "colab_type": "code",
        "colab": {
          "base_uri": "https://localhost:8080/",
          "height": 51
        },
        "outputId": "ae9203e6-0a66-474f-92b9-50b54826333f"
      },
      "source": [
        "!ls"
      ],
      "execution_count": 16,
      "outputs": [
        {
          "output_type": "stream",
          "text": [
            "cgan-mnist-4.3.1.py  dcgan-mnist-4.2.1.py  README.md\n",
            "cgan_mnist.h5\t     dcgan_mnist.h5\t   test_outputs\n"
          ],
          "name": "stdout"
        }
      ]
    },
    {
      "cell_type": "code",
      "metadata": {
        "id": "XzU2Zxut3Gxd",
        "colab_type": "code",
        "colab": {
          "base_uri": "https://localhost:8080/",
          "height": 34
        },
        "outputId": "42f97cb0-2686-41c1-e718-bb9ba2deb55b"
      },
      "source": [
        "import os\n",
        "os.chdir(\"test_outputs\")\n",
        "\n",
        "!ls"
      ],
      "execution_count": 17,
      "outputs": [
        {
          "output_type": "stream",
          "text": [
            "00000.png  00008.png\n"
          ],
          "name": "stdout"
        }
      ]
    },
    {
      "cell_type": "code",
      "metadata": {
        "id": "9IBK9D9w3Kce",
        "colab_type": "code",
        "colab": {
          "base_uri": "https://localhost:8080/",
          "height": 303
        },
        "outputId": "3468321a-948f-4f09-8b66-90875590ece7"
      },
      "source": [
        "# -*- coding: utf-8 -*-\n",
        "import tensorflow as tf\n",
        "import matplotlib.pyplot as plt\n",
        "#\"讀取圖片檔\"\n",
        "image=tf.read_file(\"00008.png\",'r')\n",
        "#\"將圖片檔解碼為Tensor\"\n",
        "image_tensor=tf.image.decode_jpeg(image)\n",
        "#\"圖像張量的形狀\"\n",
        "shape=tf.shape(image_tensor)\n",
        "session=tf.Session()\n",
        "print('圖像的形狀:')\n",
        "print(session.run(shape))\n",
        "#\"Tensor 轉換為 ndarray\"\n",
        "image_ndarray=image_tensor.eval(session=session)\n",
        "#\"顯示圖片\"\n",
        "plt.imshow(image_ndarray)\n",
        "plt.show()"
      ],
      "execution_count": 19,
      "outputs": [
        {
          "output_type": "stream",
          "text": [
            "圖像的形狀:\n",
            "[220 220   4]\n"
          ],
          "name": "stdout"
        },
        {
          "output_type": "display_data",
          "data": {
            "image/png": "[encoded data removed]",
            "text/plain": [
              "<Figure size 432x288 with 1 Axes>"
            ]
          },
          "metadata": {
            "tags": []
          }
        }
      ]
    }
  ]
}