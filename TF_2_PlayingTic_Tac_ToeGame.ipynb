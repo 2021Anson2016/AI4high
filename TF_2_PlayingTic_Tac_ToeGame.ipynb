{
  "nbformat": 4,
  "nbformat_minor": 0,
  "metadata": {
    "colab": {
      "name": "TF_2_PlayingTic_Tac_ToeGame.ipynb",
      "version": "0.3.2",
      "provenance": [],
      "include_colab_link": true
    },
    "kernelspec": {
      "name": "python3",
      "display_name": "Python 3"
    }
  },
  "cells": [
    {
      "cell_type": "markdown",
      "metadata": {
        "id": "view-in-github",
        "colab_type": "text"
      },
      "source": [
        "<a href=\"https://colab.research.google.com/github/MyDearGreatTeacher/AI4high/blob/master/TF_2_PlayingTic_Tac_ToeGame.ipynb\" target=\"_parent\"><img src=\"https://colab.research.google.com/assets/colab-badge.svg\" alt=\"Open In Colab\"/></a>"
      ]
    },
    {
      "cell_type": "markdown",
      "metadata": {
        "id": "ES4iATp5P1QD",
        "colab_type": "text"
      },
      "source": [
        "# 使用神經網路玩井字棋遊戲\n",
        "\n",
        "TensorFlow機器學習實戰指南 (美)尼克‧麥克盧爾 機械工業\n",
        "\n",
        "https://github.com/nfmcclure/tensorflow_cookbook\n",
        "\n",
        "6.8 用TensorFlow基於神經網路實現井字棋"
      ]
    },
    {
      "cell_type": "code",
      "metadata": {
        "id": "EiUkn5NnOG6Q",
        "colab_type": "code",
        "colab": {}
      },
      "source": [
        "import tensorflow as tf\n",
        "import matplotlib.pyplot as plt\n",
        "import csv\n",
        "import numpy as np\n",
        "import random\n",
        "from tensorflow.python.framework import ops\n",
        "ops.reset_default_graph()\n",
        "\n",
        "# Definition of X's, O's, and empty spots:\n",
        "# X = 1\n",
        "# O = -1\n",
        "# empty = 0\n",
        "# response on 1-9 grid for placement of next '1'\n",
        "\n",
        "# For example, the 'test_board' is:\n",
        "#\n",
        "#   O  |  -  |  -\n",
        "# -----------------\n",
        "#   X  |  O  |  O\n",
        "# -----------------\n",
        "#   -  |  -  |  X\n",
        "#\n",
        "# board above = [-1, 0, 0, 1, -1, -1, 0, 0, 1]\n",
        "# Optimal response would be position 6, where\n",
        "# the position numbers are:\n",
        "#\n",
        "#   0  |  1  |  2\n",
        "# -----------------\n",
        "#   3  |  4  |  5\n",
        "# -----------------\n",
        "#   6  |  7  |  8\n",
        "\n",
        "# Test board optimal response:\n",
        "response = 6\n",
        "# Set batch size and five different symmetries of board positions\n",
        "batch_size = 50\n",
        "symmetry = ['rotate180', 'rotate90', 'rotate270', 'flip_v', 'flip_h']\n",
        "\n",
        "\n",
        "# Print a board\n",
        "def print_board(board):\n",
        "    symbols = ['O', ' ', 'X']\n",
        "    board_plus1 = [int(x) + 1 for x in board]\n",
        "    board_line1 = ' {} | {} | {}'.format(symbols[board_plus1[0]],\n",
        "                                         symbols[board_plus1[1]],\n",
        "                                         symbols[board_plus1[2]])\n",
        "    board_line2 = ' {} | {} | {}'.format(symbols[board_plus1[3]],\n",
        "                                         symbols[board_plus1[4]],\n",
        "                                         symbols[board_plus1[5]])\n",
        "    board_line3 = ' {} | {} | {}'.format(symbols[board_plus1[6]],\n",
        "                                         symbols[board_plus1[7]],\n",
        "                                         symbols[board_plus1[8]])\n",
        "    print(board_line1)\n",
        "    print('___________')\n",
        "    print(board_line2)\n",
        "    print('___________')\n",
        "    print(board_line3)"
      ],
      "execution_count": 0,
      "outputs": []
    },
    {
      "cell_type": "code",
      "metadata": {
        "id": "sNTW-By3OKqo",
        "colab_type": "code",
        "colab": {}
      },
      "source": [
        "# Print a board\n",
        "def print_board(board):\n",
        "    symbols = ['O', ' ', 'X']\n",
        "    board_plus1 = [int(x) + 1 for x in board]\n",
        "    board_line1 = ' {} | {} | {}'.format(symbols[board_plus1[0]],\n",
        "                                         symbols[board_plus1[1]],\n",
        "                                         symbols[board_plus1[2]])\n",
        "    board_line2 = ' {} | {} | {}'.format(symbols[board_plus1[3]],\n",
        "                                         symbols[board_plus1[4]],\n",
        "                                         symbols[board_plus1[5]])\n",
        "    board_line3 = ' {} | {} | {}'.format(symbols[board_plus1[6]],\n",
        "                                         symbols[board_plus1[7]],\n",
        "                                         symbols[board_plus1[8]])\n",
        "    print(board_line1)\n",
        "    print('___________')\n",
        "    print(board_line2)\n",
        "    print('___________')\n",
        "    print(board_line3)"
      ],
      "execution_count": 0,
      "outputs": []
    },
    {
      "cell_type": "code",
      "metadata": {
        "id": "WeZ43TaqOTk-",
        "colab_type": "code",
        "colab": {}
      },
      "source": [
        "def get_symmetry(board, play_response, transformation):\n",
        "    \"\"\"\n",
        "    :param board: list of integers 9 long:\n",
        "     opposing mark = -1\n",
        "     friendly mark = 1\n",
        "     empty space = 0\n",
        "    :param play_response: integer of where response is (0-8)\n",
        "    :param transformation: one of five transformations on a board:\n",
        "     'rotate180', 'rotate90', 'rotate270', 'flip_v', 'flip_h'\n",
        "    :return: tuple: (new_board, new_response)\n",
        "    \"\"\"\n",
        "    if transformation == 'rotate180':\n",
        "        new_response = 8 - play_response\n",
        "        return board[::-1], new_response\n",
        "    elif transformation == 'rotate90':\n",
        "        new_response = [6, 3, 0, 7, 4, 1, 8, 5, 2].index(play_response)\n",
        "        tuple_board = list(zip(*[board[6:9], board[3:6], board[0:3]]))\n",
        "        return [value for item in tuple_board for value in item], new_response\n",
        "    elif transformation == 'rotate270':\n",
        "        new_response = [2, 5, 8, 1, 4, 7, 0, 3, 6].index(play_response)\n",
        "        tuple_board = list(zip(*[board[0:3], board[3:6], board[6:9]]))[::-1]\n",
        "        return [value for item in tuple_board for value in item], new_response\n",
        "    elif transformation == 'flip_v':\n",
        "        new_response = [6, 7, 8, 3, 4, 5, 0, 1, 2].index(play_response)\n",
        "        return board[6:9] + board[3:6] + board[0:3], new_response\n",
        "    elif transformation == 'flip_h':  # flip_h = rotate180, then flip_v\n",
        "        new_response = [2, 1, 0, 5, 4, 3, 8, 7, 6].index(play_response)\n",
        "        new_board = board[::-1]\n",
        "        return new_board[6:9] + new_board[3:6] + new_board[0:3], new_response\n",
        "    else:\n",
        "        raise ValueError('Method not implemented.')\n",
        "\n"
      ],
      "execution_count": 0,
      "outputs": []
    },
    {
      "cell_type": "code",
      "metadata": {
        "id": "mOB5yq05OZ-M",
        "colab_type": "code",
        "colab": {}
      },
      "source": [
        "# Read in board move csv file\n",
        "def get_moves_from_csv(csv_file):\n",
        "    \"\"\"\n",
        "    :param csv_file: csv file location containing the boards w/ responses\n",
        "    :return: moves: list of moves with index of best response\n",
        "    \"\"\"\n",
        "    play_moves = []\n",
        "    with open(csv_file, 'rt') as csvfile:\n",
        "        reader = csv.reader(csvfile, delimiter=',')\n",
        "        for row in reader:\n",
        "            play_moves.append(([int(x) for x in row[0:9]], int(row[9])))\n",
        "    return play_moves"
      ],
      "execution_count": 0,
      "outputs": []
    },
    {
      "cell_type": "code",
      "metadata": {
        "id": "ixMAcsLmOc-t",
        "colab_type": "code",
        "colab": {}
      },
      "source": [
        "# Get random board with optimal move\n",
        "def get_rand_move(play_moves, rand_transforms=2):\n",
        "    \"\"\"\n",
        "    :param play_moves: list of the boards w/responses\n",
        "    :param rand_transforms: how many random transforms performed on each\n",
        "    :return: (board, response), board is a list of 9 integers, response is 1 int\n",
        "    \"\"\"\n",
        "    (board, play_response) = random.choice(play_moves)\n",
        "    possible_transforms = ['rotate90', 'rotate180', 'rotate270', 'flip_v', 'flip_h']\n",
        "    for _ in range(rand_transforms):\n",
        "        random_transform = random.choice(possible_transforms)\n",
        "        (board, play_response) = get_symmetry(board, play_response, random_transform)\n",
        "    return board, play_response"
      ],
      "execution_count": 0,
      "outputs": []
    },
    {
      "cell_type": "markdown",
      "metadata": {
        "id": "Lk7BSSMFPCgb",
        "colab_type": "text"
      },
      "source": [
        "https://raw.githubusercontent.com/nfmcclure/tensorflow_cookbook/master/06_Neural_Networks/08_Learning_Tic_Tac_Toe/base_tic_tac_toe_moves.csv"
      ]
    },
    {
      "cell_type": "code",
      "metadata": {
        "id": "-LDjvkYuPNjQ",
        "colab_type": "code",
        "colab": {
          "base_uri": "https://localhost:8080/",
          "height": 226
        },
        "outputId": "704bc305-c751-4d8f-c468-ee5a619158a2"
      },
      "source": [
        "!wget \"https://raw.githubusercontent.com/nfmcclure/tensorflow_cookbook/master/06_Neural_Networks/08_Learning_Tic_Tac_Toe/base_tic_tac_toe_moves.csv\""
      ],
      "execution_count": 10,
      "outputs": [
        {
          "output_type": "stream",
          "text": [
            "--2019-05-11 04:54:06--  https://raw.githubusercontent.com/nfmcclure/tensorflow_cookbook/master/06_Neural_Networks/08_Learning_Tic_Tac_Toe/base_tic_tac_toe_moves.csv\n",
            "Resolving raw.githubusercontent.com (raw.githubusercontent.com)... 151.101.0.133, 151.101.64.133, 151.101.128.133, ...\n",
            "Connecting to raw.githubusercontent.com (raw.githubusercontent.com)|151.101.0.133|:443... connected.\n",
            "HTTP request sent, awaiting response... 200 OK\n",
            "Length: 722 [text/plain]\n",
            "Saving to: ‘base_tic_tac_toe_moves.csv’\n",
            "\n",
            "\r          base_tic_   0%[                    ]       0  --.-KB/s               \rbase_tic_tac_toe_mo 100%[===================>]     722  --.-KB/s    in 0s      \n",
            "\n",
            "2019-05-11 04:54:06 (102 MB/s) - ‘base_tic_tac_toe_moves.csv’ saved [722/722]\n",
            "\n"
          ],
          "name": "stdout"
        }
      ]
    },
    {
      "cell_type": "code",
      "metadata": {
        "id": "zZKWJvc0OhsZ",
        "colab_type": "code",
        "colab": {}
      },
      "source": [
        "# Get list of optimal moves w/ responses\n",
        "moves = get_moves_from_csv('base_tic_tac_toe_moves.csv')\n",
        "\n",
        "# Create a train set:\n",
        "train_length = 500\n",
        "train_set = []\n",
        "for t in range(train_length):\n",
        "    train_set.append(get_rand_move(moves))\n",
        "\n",
        "# To see if the network learns anything new, we will remove\n",
        "# all instances of the board [-1, 0, 0, 1, -1, -1, 0, 0, 1],\n",
        "# which the optimal response will be the index '6'.  We will\n",
        "# Test this at the end.\n",
        "test_board = [-1, 0, 0, 1, -1, -1, 0, 0, 1]\n",
        "train_set = [x for x in train_set if x[0] != test_board]"
      ],
      "execution_count": 0,
      "outputs": []
    },
    {
      "cell_type": "code",
      "metadata": {
        "id": "zUpdQ1FWOqLu",
        "colab_type": "code",
        "colab": {}
      },
      "source": [
        "def init_weights(shape):\n",
        "    return tf.Variable(tf.random_normal(shape))\n",
        "\n",
        "\n",
        "def model(X, A1, A2, bias1, bias2):\n",
        "    layer1 = tf.nn.sigmoid(tf.add(tf.matmul(X, A1), bias1))\n",
        "    layer2 = tf.add(tf.matmul(layer1, A2), bias2)\n",
        "    # Note: we don't take the softmax at the end because our cost function does that for us\n",
        "    return layer2"
      ],
      "execution_count": 0,
      "outputs": []
    },
    {
      "cell_type": "code",
      "metadata": {
        "id": "mcvcbSRVOu0Q",
        "colab_type": "code",
        "colab": {}
      },
      "source": [
        "X = tf.placeholder(dtype=tf.float32, shape=[None, 9])\n",
        "Y = tf.placeholder(dtype=tf.int32, shape=[None])\n",
        "\n",
        "A1 = init_weights([9, 81])\n",
        "bias1 = init_weights([81])\n",
        "A2 = init_weights([81, 9])\n",
        "bias2 = init_weights([9])\n",
        "\n",
        "model_output = model(X, A1, A2, bias1, bias2)\n"
      ],
      "execution_count": 0,
      "outputs": []
    },
    {
      "cell_type": "code",
      "metadata": {
        "id": "4JlKJ7S9OytW",
        "colab_type": "code",
        "colab": {
          "base_uri": "https://localhost:8080/",
          "height": 360
        },
        "outputId": "51ec9d30-24dd-4a58-c2a5-99c5a9fd179e"
      },
      "source": [
        "loss = tf.reduce_mean(tf.nn.sparse_softmax_cross_entropy_with_logits(logits=model_output, labels=Y))\n",
        "train_step = tf.train.GradientDescentOptimizer(0.025).minimize(loss)\n",
        "prediction = tf.argmax(model_output, 1)\n",
        "\n",
        "sess = tf.Session()\n",
        "init = tf.global_variables_initializer()\n",
        "sess.run(init)\n",
        "\n",
        "loss_vec = []\n",
        "for i in range(10000):\n",
        "    rand_indices = np.random.choice(range(len(train_set)), batch_size, replace=False)\n",
        "    batch_data = [train_set[i] for i in rand_indices]\n",
        "    x_input = [x[0] for x in batch_data]\n",
        "    y_target = np.array([y[1] for y in batch_data])\n",
        "    sess.run(train_step, feed_dict={X: x_input, Y: y_target})\n",
        "    \n",
        "    temp_loss = sess.run(loss, feed_dict={X: x_input, Y: y_target})\n",
        "    loss_vec.append(temp_loss)\n",
        "    if i % 500 == 0:\n",
        "        print('Iteration: {}, Loss: {}'.format(i, temp_loss))"
      ],
      "execution_count": 14,
      "outputs": [
        {
          "output_type": "stream",
          "text": [
            "Iteration: 0, Loss: 7.200361251831055\n",
            "Iteration: 500, Loss: 2.015605926513672\n",
            "Iteration: 1000, Loss: 1.5564913749694824\n",
            "Iteration: 1500, Loss: 1.6017811298370361\n",
            "Iteration: 2000, Loss: 1.2126160860061646\n",
            "Iteration: 2500, Loss: 1.5876394510269165\n",
            "Iteration: 3000, Loss: 1.2901588678359985\n",
            "Iteration: 3500, Loss: 1.1552248001098633\n",
            "Iteration: 4000, Loss: 1.1110315322875977\n",
            "Iteration: 4500, Loss: 1.13706374168396\n",
            "Iteration: 5000, Loss: 1.1752492189407349\n",
            "Iteration: 5500, Loss: 1.1069728136062622\n",
            "Iteration: 6000, Loss: 0.9163399338722229\n",
            "Iteration: 6500, Loss: 0.9918745160102844\n",
            "Iteration: 7000, Loss: 0.7738897800445557\n",
            "Iteration: 7500, Loss: 0.7536534667015076\n",
            "Iteration: 8000, Loss: 0.9449846148490906\n",
            "Iteration: 8500, Loss: 0.9093600511550903\n",
            "Iteration: 9000, Loss: 0.7804052829742432\n",
            "Iteration: 9500, Loss: 0.8539127111434937\n"
          ],
          "name": "stdout"
        }
      ]
    },
    {
      "cell_type": "code",
      "metadata": {
        "id": "tDpmGekAOzbd",
        "colab_type": "code",
        "colab": {
          "base_uri": "https://localhost:8080/",
          "height": 312
        },
        "outputId": "3dac6656-a780-4e53-a731-315930a0b375"
      },
      "source": [
        "# Print loss\n",
        "plt.plot(loss_vec, 'k-', label='Loss')\n",
        "plt.title('Loss (MSE) per Generation')\n",
        "plt.xlabel('Generation')\n",
        "plt.ylabel('Loss')\n",
        "plt.show()\n",
        "\n",
        "# Make Prediction:\n",
        "test_boards = [test_board]\n",
        "feed_dict = {X: test_boards}\n",
        "logits = sess.run(model_output, feed_dict=feed_dict)\n",
        "predictions = sess.run(prediction, feed_dict=feed_dict)\n",
        "print(predictions)\n"
      ],
      "execution_count": 15,
      "outputs": [
        {
          "output_type": "display_data",
          "data": {
            "image/png": "[encoded data removed]",
            "text/plain": [
              "<Figure size 432x288 with 1 Axes>"
            ]
          },
          "metadata": {
            "tags": []
          }
        },
        {
          "output_type": "stream",
          "text": [
            "[6]\n"
          ],
          "name": "stdout"
        }
      ]
    },
    {
      "cell_type": "code",
      "metadata": {
        "id": "wQ726__CO2tt",
        "colab_type": "code",
        "colab": {
          "base_uri": "https://localhost:8080/",
          "height": 394
        },
        "outputId": "4622a325-9e8b-40f7-c589-cde3d02d409f"
      },
      "source": [
        "# Declare function to check for win\n",
        "def check(board):\n",
        "    wins = [[0, 1, 2], [3, 4, 5], [6, 7, 8], [0, 3, 6], [1, 4, 7], [2, 5, 8], [0, 4, 8], [2, 4, 6]]\n",
        "    for ix in range(len(wins)):\n",
        "        if board[wins[ix][0]] == board[wins[ix][1]] == board[wins[ix][2]] == 1.:\n",
        "            return 1\n",
        "        elif board[wins[ix][0]] == board[wins[ix][1]] == board[wins[ix][2]] == -1.:\n",
        "            return 1\n",
        "    return 0\n",
        "\n",
        "# Let's play against our model\n",
        "game_tracker = [0., 0., 0., 0., 0., 0., 0., 0., 0.]\n",
        "win_logical = False\n",
        "num_moves = 0\n",
        "while not win_logical:\n",
        "    player_index = input('Input index of your move (0-8): ')\n",
        "    num_moves += 1\n",
        "    # Add player move to game\n",
        "    game_tracker[int(player_index)] = 1.\n",
        "    \n",
        "    # Get model's move by first getting all the logits for each index\n",
        "    [potential_moves] = sess.run(model_output, feed_dict={X: [game_tracker]})\n",
        "    # Now find allowed moves (where game tracker values = 0.0)\n",
        "    allowed_moves = [ix for ix, x in enumerate(game_tracker) if x == 0.0]\n",
        "    # Find best move by taking argmax of logits if they are in allowed moves\n",
        "    model_move = np.argmax([x if ix in allowed_moves else -999.0 for ix, x in enumerate(potential_moves)])\n",
        "    \n",
        "    # Add model move to game\n",
        "    game_tracker[int(model_move)] = -1.\n",
        "    print('Model has moved')\n",
        "    print_board(game_tracker)\n",
        "    # Now check for win or too many moves\n",
        "    if check(game_tracker) == 1 or num_moves >= 5:\n",
        "        print('Game Over!')\n",
        "        win_logical = True"
      ],
      "execution_count": 16,
      "outputs": [
        {
          "output_type": "stream",
          "text": [
            "Input index of your move (0-8): 0\n",
            "Model has moved\n",
            " X |   | O\n",
            "___________\n",
            "   |   |  \n",
            "___________\n",
            "   |   |  \n",
            "Input index of your move (0-8): 4\n",
            "Model has moved\n",
            " X |   | O\n",
            "___________\n",
            "   | X |  \n",
            "___________\n",
            " O |   |  \n",
            "Input index of your move (0-8): 8\n",
            "Model has moved\n",
            " X |   | O\n",
            "___________\n",
            "   | X |  \n",
            "___________\n",
            " O | O | X\n",
            "Game Over!\n"
          ],
          "name": "stdout"
        }
      ]
    }
  ]
}