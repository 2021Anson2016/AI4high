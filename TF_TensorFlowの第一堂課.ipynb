{
  "nbformat": 4,
  "nbformat_minor": 0,
  "metadata": {
    "colab": {
      "name": "TF_TensorFlowの第一堂課.ipynb",
      "version": "0.3.2",
      "provenance": [],
      "include_colab_link": true
    },
    "kernelspec": {
      "name": "python3",
      "display_name": "Python 3"
    }
  },
  "cells": [
    {
      "cell_type": "markdown",
      "metadata": {
        "id": "view-in-github",
        "colab_type": "text"
      },
      "source": [
        "<a href=\"https://colab.research.google.com/github/MyDearGreatTeacher/AI4high/blob/master/TF_TensorFlow%E3%81%AE%E7%AC%AC%E4%B8%80%E5%A0%82%E8%AA%B2.ipynb\" target=\"_parent\"><img src=\"https://colab.research.google.com/assets/colab-badge.svg\" alt=\"Open In Colab\"/></a>"
      ]
    },
    {
      "metadata": {
        "id": "n038hQPFCVh3",
        "colab_type": "text"
      },
      "cell_type": "markdown",
      "source": [
        "# TensorFlowの第一堂課\n",
        "\n",
        "教科書:實戰TensorFlow x Keras工作現場開發\n",
        "\n",
        "作者： 太田滿久, 須藤広大, 黒澤匠雅, 小田大輔  \n",
        "\n",
        "譯者： 許郁文\n",
        "\n",
        "碁峰 出版社\n",
        "\n",
        "出版日期：2019/03/2\n",
        "\n",
        "Chapter 3 透過簡單的範例學習 TensorFlow"
      ]
    },
    {
      "metadata": {
        "id": "BpTWaBpoDCDA",
        "colab_type": "text"
      },
      "cell_type": "markdown",
      "source": [
        "## 範例一:1+1=2"
      ]
    },
    {
      "metadata": {
        "id": "Ttt3qjAbCTeo",
        "colab_type": "code",
        "outputId": "96080716-aaee-4073-d7c5-fe2100330fb8",
        "colab": {
          "base_uri": "https://localhost:8080/",
          "height": 34
        }
      },
      "cell_type": "code",
      "source": [
        "import tensorflow as tf\n",
        "\n",
        "\n",
        "a = tf.constant(1, name='a')\n",
        "b = tf.constant(1, name='b')\n",
        "c = a + b\n",
        "\n",
        "with tf.Session() as sess:\n",
        "    print(sess.run(c))"
      ],
      "execution_count": 0,
      "outputs": [
        {
          "output_type": "stream",
          "text": [
            "2\n"
          ],
          "name": "stdout"
        }
      ]
    },
    {
      "metadata": {
        "id": "ywOxLYYTDJQI",
        "colab_type": "text"
      },
      "cell_type": "markdown",
      "source": [
        "## 範例二:認識Tensorflow  session"
      ]
    },
    {
      "metadata": {
        "id": "dZbRhBqQDBEB",
        "colab_type": "code",
        "outputId": "884cfa13-ef56-4b32-ed1a-e807b2ec9fa1",
        "colab": {
          "base_uri": "https://localhost:8080/",
          "height": 34
        }
      },
      "cell_type": "code",
      "source": [
        "import tensorflow as tf\n",
        "\n",
        "\n",
        "a = tf.constant(1, name='a')\n",
        "b = tf.constant(1, name='b')\n",
        "c = a + b\n",
        "\n",
        "print(c)"
      ],
      "execution_count": 0,
      "outputs": [
        {
          "output_type": "stream",
          "text": [
            "Tensor(\"add_1:0\", shape=(), dtype=int32)\n"
          ],
          "name": "stdout"
        }
      ]
    },
    {
      "metadata": {
        "id": "SfdYXExGDfDQ",
        "colab_type": "code",
        "outputId": "a5cff77f-74bf-4778-e22e-86efab8ce6c2",
        "colab": {
          "base_uri": "https://localhost:8080/",
          "height": 2806
        }
      },
      "cell_type": "code",
      "source": [
        "import tensorflow as tf\n",
        "\n",
        "\n",
        "a = tf.constant(1, name='a')\n",
        "b = tf.constant(1, name='b')\n",
        "c = a + b\n",
        "\n",
        "graph = tf.get_default_graph()\n",
        "print(graph.as_graph_def())"
      ],
      "execution_count": 0,
      "outputs": [
        {
          "output_type": "stream",
          "text": [
            "node {\n",
            "  name: \"a\"\n",
            "  op: \"Const\"\n",
            "  attr {\n",
            "    key: \"dtype\"\n",
            "    value {\n",
            "      type: DT_INT32\n",
            "    }\n",
            "  }\n",
            "  attr {\n",
            "    key: \"value\"\n",
            "    value {\n",
            "      tensor {\n",
            "        dtype: DT_INT32\n",
            "        tensor_shape {\n",
            "        }\n",
            "        int_val: 1\n",
            "      }\n",
            "    }\n",
            "  }\n",
            "}\n",
            "node {\n",
            "  name: \"b\"\n",
            "  op: \"Const\"\n",
            "  attr {\n",
            "    key: \"dtype\"\n",
            "    value {\n",
            "      type: DT_INT32\n",
            "    }\n",
            "  }\n",
            "  attr {\n",
            "    key: \"value\"\n",
            "    value {\n",
            "      tensor {\n",
            "        dtype: DT_INT32\n",
            "        tensor_shape {\n",
            "        }\n",
            "        int_val: 1\n",
            "      }\n",
            "    }\n",
            "  }\n",
            "}\n",
            "node {\n",
            "  name: \"add\"\n",
            "  op: \"Add\"\n",
            "  input: \"a\"\n",
            "  input: \"b\"\n",
            "  attr {\n",
            "    key: \"T\"\n",
            "    value {\n",
            "      type: DT_INT32\n",
            "    }\n",
            "  }\n",
            "}\n",
            "node {\n",
            "  name: \"a_1\"\n",
            "  op: \"Const\"\n",
            "  attr {\n",
            "    key: \"dtype\"\n",
            "    value {\n",
            "      type: DT_INT32\n",
            "    }\n",
            "  }\n",
            "  attr {\n",
            "    key: \"value\"\n",
            "    value {\n",
            "      tensor {\n",
            "        dtype: DT_INT32\n",
            "        tensor_shape {\n",
            "        }\n",
            "        int_val: 1\n",
            "      }\n",
            "    }\n",
            "  }\n",
            "}\n",
            "node {\n",
            "  name: \"b_1\"\n",
            "  op: \"Const\"\n",
            "  attr {\n",
            "    key: \"dtype\"\n",
            "    value {\n",
            "      type: DT_INT32\n",
            "    }\n",
            "  }\n",
            "  attr {\n",
            "    key: \"value\"\n",
            "    value {\n",
            "      tensor {\n",
            "        dtype: DT_INT32\n",
            "        tensor_shape {\n",
            "        }\n",
            "        int_val: 1\n",
            "      }\n",
            "    }\n",
            "  }\n",
            "}\n",
            "node {\n",
            "  name: \"add_1\"\n",
            "  op: \"Add\"\n",
            "  input: \"a_1\"\n",
            "  input: \"b_1\"\n",
            "  attr {\n",
            "    key: \"T\"\n",
            "    value {\n",
            "      type: DT_INT32\n",
            "    }\n",
            "  }\n",
            "}\n",
            "node {\n",
            "  name: \"a_2\"\n",
            "  op: \"Const\"\n",
            "  attr {\n",
            "    key: \"dtype\"\n",
            "    value {\n",
            "      type: DT_INT32\n",
            "    }\n",
            "  }\n",
            "  attr {\n",
            "    key: \"value\"\n",
            "    value {\n",
            "      tensor {\n",
            "        dtype: DT_INT32\n",
            "        tensor_shape {\n",
            "        }\n",
            "        int_val: 1\n",
            "      }\n",
            "    }\n",
            "  }\n",
            "}\n",
            "node {\n",
            "  name: \"b_2\"\n",
            "  op: \"Const\"\n",
            "  attr {\n",
            "    key: \"dtype\"\n",
            "    value {\n",
            "      type: DT_INT32\n",
            "    }\n",
            "  }\n",
            "  attr {\n",
            "    key: \"value\"\n",
            "    value {\n",
            "      tensor {\n",
            "        dtype: DT_INT32\n",
            "        tensor_shape {\n",
            "        }\n",
            "        int_val: 1\n",
            "      }\n",
            "    }\n",
            "  }\n",
            "}\n",
            "node {\n",
            "  name: \"add_2\"\n",
            "  op: \"Add\"\n",
            "  input: \"a_2\"\n",
            "  input: \"b_2\"\n",
            "  attr {\n",
            "    key: \"T\"\n",
            "    value {\n",
            "      type: DT_INT32\n",
            "    }\n",
            "  }\n",
            "}\n",
            "versions {\n",
            "  producer: 27\n",
            "}\n",
            "\n"
          ],
          "name": "stdout"
        }
      ]
    },
    {
      "metadata": {
        "id": "mSvz_b2bDttd",
        "colab_type": "text"
      },
      "cell_type": "markdown",
      "source": [
        "##常數constant與變數Variable"
      ]
    },
    {
      "metadata": {
        "id": "sHJhvomVDmJj",
        "colab_type": "code",
        "outputId": "8ac40c54-265b-495a-a9b5-0ec7e4b914d4",
        "colab": {
          "base_uri": "https://localhost:8080/",
          "height": 121
        }
      },
      "cell_type": "code",
      "source": [
        "import tensorflow as tf\n",
        "\n",
        "\n",
        "a = tf.Variable(1, name='a')\n",
        "b = tf.constant(1, name='b')\n",
        "c = tf.assign(a, a + b)\n",
        "\n",
        "with tf.Session() as sess:\n",
        "    sess.run(tf.global_variables_initializer())\n",
        "    print('一回目: [c, a] =', sess.run([c, a]))\n",
        "    # 変数 c が更新されている\n",
        "    print('二回目: [c, a] =', sess.run([c, a]))"
      ],
      "execution_count": 0,
      "outputs": [
        {
          "output_type": "stream",
          "text": [
            "WARNING:tensorflow:From /usr/local/lib/python3.6/dist-packages/tensorflow/python/framework/op_def_library.py:263: colocate_with (from tensorflow.python.framework.ops) is deprecated and will be removed in a future version.\n",
            "Instructions for updating:\n",
            "Colocations handled automatically by placer.\n",
            "一回目: [c, a] = [2, 2]\n",
            "二回目: [c, a] = [3, 3]\n"
          ],
          "name": "stdout"
        }
      ]
    },
    {
      "metadata": {
        "id": "6kQIPpHbEBja",
        "colab_type": "code",
        "outputId": "a05ff9f9-6702-42b8-9b37-296875c57f04",
        "colab": {
          "base_uri": "https://localhost:8080/",
          "height": 34
        }
      },
      "cell_type": "code",
      "source": [
        "import tensorflow as tf\n",
        "\n",
        "\n",
        "a = tf.placeholder(dtype=tf.int32, name='a')\n",
        "b = tf.constant(1, name='b')\n",
        "c = a + b\n",
        "\n",
        "with tf.Session() as sess:\n",
        "    print('a + b =', sess.run(c, feed_dict={a: 1}))"
      ],
      "execution_count": 0,
      "outputs": [
        {
          "output_type": "stream",
          "text": [
            "a + b = 2\n"
          ],
          "name": "stdout"
        }
      ]
    },
    {
      "metadata": {
        "id": "gyrH6TZ3EOE2",
        "colab_type": "code",
        "outputId": "5059d6b4-0a41-4599-84b2-9ed974daabc7",
        "colab": {
          "base_uri": "https://localhost:8080/",
          "height": 50
        }
      },
      "cell_type": "code",
      "source": [
        "import tensorflow as tf\n",
        "\n",
        "\n",
        "a = tf.constant(2, name='a')\n",
        "b = tf.constant(3, name='b')\n",
        "c = tf.add(a, b)  # a + b と等価\n",
        "d = tf.multiply(a, b)  # a*b と等価\n",
        "\n",
        "with tf.Session() as sess:\n",
        "    print('a + b = ', sess.run(c))\n",
        "    print('a * b = ', sess.run(d))"
      ],
      "execution_count": 0,
      "outputs": [
        {
          "output_type": "stream",
          "text": [
            "a + b =  5\n",
            "a * b =  6\n"
          ],
          "name": "stdout"
        }
      ]
    },
    {
      "metadata": {
        "id": "ycGuxAxXE5Q5",
        "colab_type": "text"
      },
      "cell_type": "markdown",
      "source": [
        "#陣列運算"
      ]
    },
    {
      "metadata": {
        "id": "kSSZP5QCETbC",
        "colab_type": "code",
        "outputId": "5b66b32a-4b9f-4f91-8204-4b9cb9fbed98",
        "colab": {
          "base_uri": "https://localhost:8080/",
          "height": 34
        }
      },
      "cell_type": "code",
      "source": [
        "import tensorflow as tf\n",
        "\n",
        "\n",
        "a = tf.constant([1, 2, 3], name='a')\n",
        "b = tf.constant([4, 5, 6], name='b')\n",
        "c = a + b\n",
        "\n",
        "with tf.Session() as sess:\n",
        "    print('a + b = ', sess.run(c))"
      ],
      "execution_count": 0,
      "outputs": [
        {
          "output_type": "stream",
          "text": [
            "a + b =  [5 7 9]\n"
          ],
          "name": "stdout"
        }
      ]
    },
    {
      "metadata": {
        "id": "L1DhrnVKEhB-",
        "colab_type": "text"
      },
      "cell_type": "markdown",
      "source": [
        "#陣列運算"
      ]
    },
    {
      "metadata": {
        "id": "32ooOblGEVlP",
        "colab_type": "code",
        "outputId": "8a76342d-acb3-4303-aedc-7c16bffaec2a",
        "colab": {
          "base_uri": "https://localhost:8080/",
          "height": 218
        }
      },
      "cell_type": "code",
      "source": [
        "import tensorflow as tf\n",
        "\n",
        "\n",
        "a = tf.constant([[1, 2], [3, 4]], name='a')\n",
        "b = tf.constant([[1], [2]], name='b')\n",
        "c = tf.matmul(a, b)\n",
        "\n",
        "print('shape of a: ', a.shape)\n",
        "print('shape of b: ', b.shape)\n",
        "print('shape of c: ', c.shape)\n",
        "\n",
        "with tf.Session() as sess:\n",
        "    print('a = \\n', sess.run(a))\n",
        "    print('b = \\n', sess.run(b))\n",
        "    print('c = \\n', sess.run(c))"
      ],
      "execution_count": 0,
      "outputs": [
        {
          "output_type": "stream",
          "text": [
            "shape of a:  (2, 2)\n",
            "shape of b:  (2, 1)\n",
            "shape of c:  (2, 1)\n",
            "a = \n",
            " [[1 2]\n",
            " [3 4]]\n",
            "b = \n",
            " [[1]\n",
            " [2]]\n",
            "c = \n",
            " [[ 5]\n",
            " [11]]\n"
          ],
          "name": "stdout"
        }
      ]
    },
    {
      "metadata": {
        "id": "hm9kqS0lFB7Y",
        "colab_type": "code",
        "outputId": "7d5f0338-8ca1-4db8-fe1f-3417d8d2f4fc",
        "colab": {
          "base_uri": "https://localhost:8080/",
          "height": 118
        }
      },
      "cell_type": "code",
      "source": [
        "import tensorflow as tf\n",
        "\n",
        "a = tf.placeholder(shape=(None, 2), dtype=tf.int32, name='a')\n",
        "\n",
        "with tf.Session() as sess:\n",
        "    print('-- 設定a=[[1, 2]] --')\n",
        "    print('a = ', sess.run(a, feed_dict={a: [[1, 2]]}))\n",
        "    \n",
        "    print('\\n-- 設定a=[[1, 2], [3, 4]] --')\n",
        "    print('a = ', sess.run(a, feed_dict={a: [[1, 2], [3, 4]]}))"
      ],
      "execution_count": 0,
      "outputs": [
        {
          "output_type": "stream",
          "text": [
            "-- 設定a=[[1, 2]] --\n",
            "a =  [[1 2]]\n",
            "\n",
            "-- 設定a=[[1, 2], [3, 4]] --\n",
            "a =  [[1 2]\n",
            " [3 4]]\n"
          ],
          "name": "stdout"
        }
      ]
    },
    {
      "metadata": {
        "id": "GgIG5UFyFZYu",
        "colab_type": "code",
        "outputId": "c3af77f0-93c7-49f0-bfb8-12f401fceffd",
        "colab": {
          "base_uri": "https://localhost:8080/",
          "height": 101
        }
      },
      "cell_type": "code",
      "source": [
        "import tensorflow as tf\n",
        "\n",
        "\n",
        "a = tf.Variable(1, name='a')\n",
        "b = tf.assign(a, a + 1)\n",
        "\n",
        "with tf.Session() as sess:\n",
        "    sess.run(tf.global_variables_initializer())\n",
        "    print('一回目 b = ', sess.run(b))\n",
        "    print('二回目 b = ', sess.run(b))\n",
        "\n",
        "# セッションが変わると元の値に戻ってしまう\n",
        "with tf.Session() as sess:\n",
        "    print('-- 新しいセッション --')\n",
        "    sess.run(tf.global_variables_initializer())\n",
        "    print('一回目 b = ', sess.run(b))\n",
        "    print('二回目 b = ', sess.run(b))"
      ],
      "execution_count": 0,
      "outputs": [
        {
          "output_type": "stream",
          "text": [
            "一回目 b =  2\n",
            "二回目 b =  3\n",
            "-- 新しいセッション --\n",
            "一回目 b =  2\n",
            "二回目 b =  3\n"
          ],
          "name": "stdout"
        }
      ]
    }
  ]
}