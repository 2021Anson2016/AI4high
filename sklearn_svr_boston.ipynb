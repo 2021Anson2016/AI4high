{
  "nbformat": 4,
  "nbformat_minor": 0,
  "metadata": {
    "colab": {
      "name": "sklearn_svr_boston.ipynb",
      "version": "0.3.2",
      "provenance": [],
      "include_colab_link": true
    },
    "kernelspec": {
      "name": "python3",
      "display_name": "Python 3"
    }
  },
  "cells": [
    {
      "cell_type": "markdown",
      "metadata": {
        "id": "view-in-github",
        "colab_type": "text"
      },
      "source": [
        "<a href=\"https://colab.research.google.com/github/MyDearGreatTeacher/AI4high/blob/master/sklearn_svr_boston.ipynb\" target=\"_parent\"><img src=\"https://colab.research.google.com/assets/colab-badge.svg\" alt=\"Open In Colab\"/></a>"
      ]
    },
    {
      "cell_type": "markdown",
      "metadata": {
        "id": "LMGGX4VIf877",
        "colab_type": "text"
      },
      "source": [
        "# sklearn_svr_boston\n",
        "\n",
        "https://machine-learning-python.kspax.io/application/svr"
      ]
    },
    {
      "cell_type": "code",
      "metadata": {
        "id": "YifT-G_heuoA",
        "colab_type": "code",
        "colab": {
          "base_uri": "https://localhost:8080/",
          "height": 300
        },
        "outputId": "d6fc731a-78f4-4a32-d983-579923d97565"
      },
      "source": [
        "%matplotlib inline\n",
        "from sklearn import datasets\n",
        "from sklearn.svm import SVR\n",
        "import matplotlib.pyplot as plt\n",
        "\n",
        "boston = datasets.load_boston()\n",
        "X=boston.data\n",
        "y = boston.target\n",
        "\n",
        "clf = SVR(kernel='rbf', C=1e3, gamma=0.1)\n",
        "clf.fit(X, y)\n",
        "\n",
        "#from sklearn.externals import joblib\n",
        "#joblib.dump(clf,\"./machine_SVR.pkl\")\n",
        "#clf=joblib.load(\"./machine_SVR.pkl\")\n",
        "\n",
        "clf.fit(boston.data, y)\n",
        "\n",
        "#predict_y=clf.predict(boston.data[2])\n",
        "predict=clf.predict(X)\n",
        "\n",
        "clf.score(X, y)\n",
        "\n",
        "plt.scatter(predict,y,s=2)\n",
        "#plt.plot(predict_y, predict_y, 'ro')\n",
        "plt.plot([y.min(), y.max()], [y.min(), y.max()], 'k--', lw=2)\n",
        "plt.xlabel('Predicted')\n",
        "plt.ylabel('Measured')"
      ],
      "execution_count": 6,
      "outputs": [
        {
          "output_type": "execute_result",
          "data": {
            "text/plain": [
              "Text(0, 0.5, 'Measured')"
            ]
          },
          "metadata": {
            "tags": []
          },
          "execution_count": 6
        },
        {
          "output_type": "display_data",
          "data": {
            "image/png": "[encoded data removed]",
            "text/plain": [
              "<Figure size 432x288 with 1 Axes>"
            ]
          },
          "metadata": {
            "tags": []
          }
        }
      ]
    }
  ]
}