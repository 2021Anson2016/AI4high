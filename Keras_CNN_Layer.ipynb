{
  "nbformat": 4,
  "nbformat_minor": 0,
  "metadata": {
    "colab": {
      "name": "Keras_CNN_Layer.ipynb",
      "version": "0.3.2",
      "provenance": [],
      "include_colab_link": true
    },
    "kernelspec": {
      "name": "python3",
      "display_name": "Python 3"
    }
  },
  "cells": [
    {
      "cell_type": "markdown",
      "metadata": {
        "id": "view-in-github",
        "colab_type": "text"
      },
      "source": [
        "<a href=\"https://colab.research.google.com/github/MyDearGreatTeacher/AI4high/blob/master/Keras_CNN_Layer.ipynb\" target=\"_parent\"><img src=\"https://colab.research.google.com/assets/colab-badge.svg\" alt=\"Open In Colab\"/></a>"
      ]
    },
    {
      "cell_type": "markdown",
      "metadata": {
        "id": "03aFuexqXK1W",
        "colab_type": "text"
      },
      "source": [
        "# Keras CNN layer練習\n",
        "\n",
        "深度學習入門教室：6堂基礎課程+Python實作練習，Deep Learning、人工智慧、機器學習的理論和應用全圖解 \n",
        "\n",
        "\n",
        "いちばんやさしい ディープラーニング入門教室\n",
        "\n",
        "谷岡広樹( Hiroki Tanioka), 康鑫(Kang Xin), \n",
        "\n",
        "莊永裕   臉譜  2019-01-27\n"
      ]
    },
    {
      "cell_type": "markdown",
      "metadata": {
        "id": "AxnS4nlAYIiB",
        "colab_type": "text"
      },
      "source": [
        "Lesson 5-1│卷積神經網路的基礎：影像分類與視覺神經元╱讓1個神經元學習全部的輸入影像\n",
        " \n",
        "Lesson 5-2│卷積運算：讓感受野滑動╱聚焦區域的移動\n",
        " \n",
        "Lesson 5-3│卷積層：為了使其認識不同樣式╱POINT：Windows上務必安裝Graphviz\n",
        " \n",
        "Lesson 5-4│深層卷積神經網路：使其能接受3維資料\n",
        " \n",
        "Lesson 5-5│以補零卷積：收縮輸出的形狀╱輸入資料之周圍資訊的損失╱補零\n",
        " \n",
        "Lesson 5-6│增廣範圍的卷積：什麼是步幅？╱使用補零\n",
        " \n",
        "Lesson 5-7│卷積ReLU層：以非線性變換增進辨識\n",
        " \n",
        "Lesson 5-8│池化層：以池化層處理╱池化層的優點與注意點\n",
        " \n",
        "Lesson 5-9│全連結層：全連結層的處理╱修正全連結層╱想進行更複雜的判斷時\n",
        " \n",
        "Lesson 5-10│深層卷積神經網路的學習：模型學習與訓練╱Step 1. 定義損失E╱Step 2. 初始化權重值w╱Step 3. 反覆修正權重值w\n",
        " \n",
        "Lesson 5-11│過適與丟棄：過適的例子╱丟棄以防止過適╱丟棄的優點\n",
        " \n",
        "Lesson 5-12│卷積的進一步詳細資訊：卷積層 vs. 全連結層╱深而小的區域感受野 vs. 淺而廣的感受野"
      ]
    },
    {
      "cell_type": "code",
      "metadata": {
        "id": "DA_IeTHqT4wz",
        "colab_type": "code",
        "colab": {
          "base_uri": "https://localhost:8080/",
          "height": 302
        },
        "outputId": "877f62d4-4d3b-44cd-c8a1-451b666fa3dd"
      },
      "source": [
        "# coding: utf-8\n",
        "# Conv2Dを使ったCNNの例\n",
        "\n",
        "# CNN Model 6 - Pooling\n",
        "# Kerasとその他ライブラリをインポート\n",
        "from keras.models import Sequential, Model\n",
        "from keras.layers import Conv2D, MaxPooling2D\n",
        "from keras.utils import np_utils\n",
        "\n",
        "# SVGの表示に必要なライブラリのインポート\n",
        "from IPython.display import SVG\n",
        "from keras.utils.vis_utils import model_to_dot\n",
        "\n",
        "# Windows の場合は以下を追加\n",
        "#import os\n",
        "#os.environ[\"PATH\"] += os.pathsep + 'C:/Program Files (x86)/Graphviz2.38/bin/'\n",
        "\n",
        "# 活性化関数を ReLU にした畳み込みニューラルネットワークのモデルを作成\n",
        "model = Sequential()\n",
        "model.add(Conv2D(filters=3, kernel_size=(3, 3), input_shape=(6, 6, 1), strides=2, name='Conv2D_1'))\n",
        "model.add(MaxPooling2D(pool_size=(2, 2), name='MaxPooling2D_1'))\n",
        "\n",
        "# SVG形式でモデルを表示\n",
        "SVG(model_to_dot(model, show_shapes=True).create(prog='dot', format='svg'))"
      ],
      "execution_count": 4,
      "outputs": [
        {
          "output_type": "execute_result",
          "data": {
            "text/plain": [
              "<IPython.core.display.SVG object>"
            ],
            "image/svg+xml": "<svg height=\"211pt\" viewBox=\"0.00 0.00 387.00 211.00\" width=\"387pt\" xmlns=\"http://www.w3.org/2000/svg\" xmlns:xlink=\"http://www.w3.org/1999/xlink\">\n<g class=\"graph\" id=\"graph0\" transform=\"scale(1 1) rotate(0) translate(4 207)\">\n<title>G</title>\n<polygon fill=\"#ffffff\" points=\"-4,4 -4,-207 383,-207 383,4 -4,4\" stroke=\"transparent\"/>\n<!-- 140186284721320 -->\n<g class=\"node\" id=\"node1\">\n<title>140186284721320</title>\n<polygon fill=\"none\" points=\"39.5,-83.5 39.5,-129.5 339.5,-129.5 339.5,-83.5 39.5,-83.5\" stroke=\"#000000\"/>\n<text fill=\"#000000\" font-family=\"Times,serif\" font-size=\"14.00\" text-anchor=\"middle\" x=\"109.5\" y=\"-102.8\">Conv2D_1: Conv2D</text>\n<polyline fill=\"none\" points=\"179.5,-83.5 179.5,-129.5 \" stroke=\"#000000\"/>\n<text fill=\"#000000\" font-family=\"Times,serif\" font-size=\"14.00\" text-anchor=\"middle\" x=\"208.5\" y=\"-114.3\">input:</text>\n<polyline fill=\"none\" points=\"179.5,-106.5 237.5,-106.5 \" stroke=\"#000000\"/>\n<text fill=\"#000000\" font-family=\"Times,serif\" font-size=\"14.00\" text-anchor=\"middle\" x=\"208.5\" y=\"-91.3\">output:</text>\n<polyline fill=\"none\" points=\"237.5,-83.5 237.5,-129.5 \" stroke=\"#000000\"/>\n<text fill=\"#000000\" font-family=\"Times,serif\" font-size=\"14.00\" text-anchor=\"middle\" x=\"288.5\" y=\"-114.3\">(None, 6, 6, 1)</text>\n<polyline fill=\"none\" points=\"237.5,-106.5 339.5,-106.5 \" stroke=\"#000000\"/>\n<text fill=\"#000000\" font-family=\"Times,serif\" font-size=\"14.00\" text-anchor=\"middle\" x=\"288.5\" y=\"-91.3\">(None, 2, 2, 3)</text>\n</g>\n<!-- 140186284721264 -->\n<g class=\"node\" id=\"node2\">\n<title>140186284721264</title>\n<polygon fill=\"none\" points=\"0,-.5 0,-46.5 379,-46.5 379,-.5 0,-.5\" stroke=\"#000000\"/>\n<text fill=\"#000000\" font-family=\"Times,serif\" font-size=\"14.00\" text-anchor=\"middle\" x=\"109.5\" y=\"-19.8\">MaxPooling2D_1: MaxPooling2D</text>\n<polyline fill=\"none\" points=\"219,-.5 219,-46.5 \" stroke=\"#000000\"/>\n<text fill=\"#000000\" font-family=\"Times,serif\" font-size=\"14.00\" text-anchor=\"middle\" x=\"248\" y=\"-31.3\">input:</text>\n<polyline fill=\"none\" points=\"219,-23.5 277,-23.5 \" stroke=\"#000000\"/>\n<text fill=\"#000000\" font-family=\"Times,serif\" font-size=\"14.00\" text-anchor=\"middle\" x=\"248\" y=\"-8.3\">output:</text>\n<polyline fill=\"none\" points=\"277,-.5 277,-46.5 \" stroke=\"#000000\"/>\n<text fill=\"#000000\" font-family=\"Times,serif\" font-size=\"14.00\" text-anchor=\"middle\" x=\"328\" y=\"-31.3\">(None, 2, 2, 3)</text>\n<polyline fill=\"none\" points=\"277,-23.5 379,-23.5 \" stroke=\"#000000\"/>\n<text fill=\"#000000\" font-family=\"Times,serif\" font-size=\"14.00\" text-anchor=\"middle\" x=\"328\" y=\"-8.3\">(None, 1, 1, 3)</text>\n</g>\n<!-- 140186284721320&#45;&gt;140186284721264 -->\n<g class=\"edge\" id=\"edge2\">\n<title>140186284721320-&gt;140186284721264</title>\n<path d=\"M189.5,-83.3799C189.5,-75.1745 189.5,-65.7679 189.5,-56.8786\" fill=\"none\" stroke=\"#000000\"/>\n<polygon fill=\"#000000\" points=\"193.0001,-56.784 189.5,-46.784 186.0001,-56.784 193.0001,-56.784\" stroke=\"#000000\"/>\n</g>\n<!-- 140186284721768 -->\n<g class=\"node\" id=\"node3\">\n<title>140186284721768</title>\n<polygon fill=\"none\" points=\"125,-166.5 125,-202.5 254,-202.5 254,-166.5 125,-166.5\" stroke=\"#000000\"/>\n<text fill=\"#000000\" font-family=\"Times,serif\" font-size=\"14.00\" text-anchor=\"middle\" x=\"189.5\" y=\"-180.8\">140186284721768</text>\n</g>\n<!-- 140186284721768&#45;&gt;140186284721320 -->\n<g class=\"edge\" id=\"edge1\">\n<title>140186284721768-&gt;140186284721320</title>\n<path d=\"M189.5,-166.4092C189.5,-158.4308 189.5,-148.795 189.5,-139.606\" fill=\"none\" stroke=\"#000000\"/>\n<polygon fill=\"#000000\" points=\"193.0001,-139.5333 189.5,-129.5333 186.0001,-139.5334 193.0001,-139.5333\" stroke=\"#000000\"/>\n</g>\n</g>\n</svg>"
          },
          "metadata": {
            "tags": []
          },
          "execution_count": 4
        }
      ]
    },
    {
      "cell_type": "code",
      "metadata": {
        "id": "tp3zLgNtU99T",
        "colab_type": "code",
        "colab": {
          "base_uri": "https://localhost:8080/",
          "height": 413
        },
        "outputId": "0b731ebf-bdac-46a2-b226-92b1400bc536"
      },
      "source": [
        "# coding: utf-8\n",
        "# Conv2Dを使ったCNNの例\n",
        "\n",
        "# CNN Model 8 - Binary Sigmoid\n",
        "# Kerasとその他ライブラリをインポート\n",
        "from keras.models import Sequential, Model\n",
        "from keras.layers import Dense, Activation, Flatten, Conv2D\n",
        "from keras.utils import np_utils\n",
        "\n",
        "# SVGの表示に必要なライブラリのインポート\n",
        "from IPython.display import SVG\n",
        "from keras.utils.vis_utils import model_to_dot\n",
        "\n",
        "# Windows の場合は以下を追加\n",
        "import os\n",
        "os.environ[\"PATH\"] += os.pathsep + 'C:/Program Files (x86)/Graphviz2.38/bin/'\n",
        "\n",
        "# 畳み込みニューラルネットワーク→平滑化→全結合層の二値出力モデルを作成\n",
        "model = Sequential()\n",
        "model.add(Conv2D(filters=3, kernel_size=(3, 3), input_shape=(6, 6, 1), padding='same', name='Conv2D_1'))\n",
        "model.add(Flatten(name='Flatten_1'))\n",
        "model.add(Dense(units=1, activation='sigmoid', name='Dense_1'))\n",
        "\n",
        "# SVG形式でモデルを表示\n",
        "SVG(model_to_dot(model, show_shapes=True).create(prog='dot', format='svg'))"
      ],
      "execution_count": 5,
      "outputs": [
        {
          "output_type": "execute_result",
          "data": {
            "text/plain": [
              "<IPython.core.display.SVG object>"
            ],
            "image/svg+xml": "<svg height=\"294pt\" viewBox=\"0.00 0.00 308.00 294.00\" width=\"308pt\" xmlns=\"http://www.w3.org/2000/svg\" xmlns:xlink=\"http://www.w3.org/1999/xlink\">\n<g class=\"graph\" id=\"graph0\" transform=\"scale(1 1) rotate(0) translate(4 290)\">\n<title>G</title>\n<polygon fill=\"#ffffff\" points=\"-4,4 -4,-290 304,-290 304,4 -4,4\" stroke=\"transparent\"/>\n<!-- 140186286261024 -->\n<g class=\"node\" id=\"node1\">\n<title>140186286261024</title>\n<polygon fill=\"none\" points=\"0,-166.5 0,-212.5 300,-212.5 300,-166.5 0,-166.5\" stroke=\"#000000\"/>\n<text fill=\"#000000\" font-family=\"Times,serif\" font-size=\"14.00\" text-anchor=\"middle\" x=\"70\" y=\"-185.8\">Conv2D_1: Conv2D</text>\n<polyline fill=\"none\" points=\"140,-166.5 140,-212.5 \" stroke=\"#000000\"/>\n<text fill=\"#000000\" font-family=\"Times,serif\" font-size=\"14.00\" text-anchor=\"middle\" x=\"169\" y=\"-197.3\">input:</text>\n<polyline fill=\"none\" points=\"140,-189.5 198,-189.5 \" stroke=\"#000000\"/>\n<text fill=\"#000000\" font-family=\"Times,serif\" font-size=\"14.00\" text-anchor=\"middle\" x=\"169\" y=\"-174.3\">output:</text>\n<polyline fill=\"none\" points=\"198,-166.5 198,-212.5 \" stroke=\"#000000\"/>\n<text fill=\"#000000\" font-family=\"Times,serif\" font-size=\"14.00\" text-anchor=\"middle\" x=\"249\" y=\"-197.3\">(None, 6, 6, 1)</text>\n<polyline fill=\"none\" points=\"198,-189.5 300,-189.5 \" stroke=\"#000000\"/>\n<text fill=\"#000000\" font-family=\"Times,serif\" font-size=\"14.00\" text-anchor=\"middle\" x=\"249\" y=\"-174.3\">(None, 6, 6, 3)</text>\n</g>\n<!-- 140186286262424 -->\n<g class=\"node\" id=\"node2\">\n<title>140186286262424</title>\n<polygon fill=\"none\" points=\"11.5,-83.5 11.5,-129.5 288.5,-129.5 288.5,-83.5 11.5,-83.5\" stroke=\"#000000\"/>\n<text fill=\"#000000\" font-family=\"Times,serif\" font-size=\"14.00\" text-anchor=\"middle\" x=\"70\" y=\"-102.8\">Flatten_1: Flatten</text>\n<polyline fill=\"none\" points=\"128.5,-83.5 128.5,-129.5 \" stroke=\"#000000\"/>\n<text fill=\"#000000\" font-family=\"Times,serif\" font-size=\"14.00\" text-anchor=\"middle\" x=\"157.5\" y=\"-114.3\">input:</text>\n<polyline fill=\"none\" points=\"128.5,-106.5 186.5,-106.5 \" stroke=\"#000000\"/>\n<text fill=\"#000000\" font-family=\"Times,serif\" font-size=\"14.00\" text-anchor=\"middle\" x=\"157.5\" y=\"-91.3\">output:</text>\n<polyline fill=\"none\" points=\"186.5,-83.5 186.5,-129.5 \" stroke=\"#000000\"/>\n<text fill=\"#000000\" font-family=\"Times,serif\" font-size=\"14.00\" text-anchor=\"middle\" x=\"237.5\" y=\"-114.3\">(None, 6, 6, 3)</text>\n<polyline fill=\"none\" points=\"186.5,-106.5 288.5,-106.5 \" stroke=\"#000000\"/>\n<text fill=\"#000000\" font-family=\"Times,serif\" font-size=\"14.00\" text-anchor=\"middle\" x=\"237.5\" y=\"-91.3\">(None, 108)</text>\n</g>\n<!-- 140186286261024&#45;&gt;140186286262424 -->\n<g class=\"edge\" id=\"edge2\">\n<title>140186286261024-&gt;140186286262424</title>\n<path d=\"M150,-166.3799C150,-158.1745 150,-148.7679 150,-139.8786\" fill=\"none\" stroke=\"#000000\"/>\n<polygon fill=\"#000000\" points=\"153.5001,-139.784 150,-129.784 146.5001,-139.784 153.5001,-139.784\" stroke=\"#000000\"/>\n</g>\n<!-- 140186286261304 -->\n<g class=\"node\" id=\"node3\">\n<title>140186286261304</title>\n<polygon fill=\"none\" points=\"22.5,-.5 22.5,-46.5 277.5,-46.5 277.5,-.5 22.5,-.5\" stroke=\"#000000\"/>\n<text fill=\"#000000\" font-family=\"Times,serif\" font-size=\"14.00\" text-anchor=\"middle\" x=\"77.5\" y=\"-19.8\">Dense_1: Dense</text>\n<polyline fill=\"none\" points=\"132.5,-.5 132.5,-46.5 \" stroke=\"#000000\"/>\n<text fill=\"#000000\" font-family=\"Times,serif\" font-size=\"14.00\" text-anchor=\"middle\" x=\"161.5\" y=\"-31.3\">input:</text>\n<polyline fill=\"none\" points=\"132.5,-23.5 190.5,-23.5 \" stroke=\"#000000\"/>\n<text fill=\"#000000\" font-family=\"Times,serif\" font-size=\"14.00\" text-anchor=\"middle\" x=\"161.5\" y=\"-8.3\">output:</text>\n<polyline fill=\"none\" points=\"190.5,-.5 190.5,-46.5 \" stroke=\"#000000\"/>\n<text fill=\"#000000\" font-family=\"Times,serif\" font-size=\"14.00\" text-anchor=\"middle\" x=\"234\" y=\"-31.3\">(None, 108)</text>\n<polyline fill=\"none\" points=\"190.5,-23.5 277.5,-23.5 \" stroke=\"#000000\"/>\n<text fill=\"#000000\" font-family=\"Times,serif\" font-size=\"14.00\" text-anchor=\"middle\" x=\"234\" y=\"-8.3\">(None, 1)</text>\n</g>\n<!-- 140186286262424&#45;&gt;140186286261304 -->\n<g class=\"edge\" id=\"edge3\">\n<title>140186286262424-&gt;140186286261304</title>\n<path d=\"M150,-83.3799C150,-75.1745 150,-65.7679 150,-56.8786\" fill=\"none\" stroke=\"#000000\"/>\n<polygon fill=\"#000000\" points=\"153.5001,-56.784 150,-46.784 146.5001,-56.784 153.5001,-56.784\" stroke=\"#000000\"/>\n</g>\n<!-- 140186286261192 -->\n<g class=\"node\" id=\"node4\">\n<title>140186286261192</title>\n<polygon fill=\"none\" points=\"86,-249.5 86,-285.5 214,-285.5 214,-249.5 86,-249.5\" stroke=\"#000000\"/>\n<text fill=\"#000000\" font-family=\"Times,serif\" font-size=\"14.00\" text-anchor=\"middle\" x=\"150\" y=\"-263.8\">140186286261192</text>\n</g>\n<!-- 140186286261192&#45;&gt;140186286261024 -->\n<g class=\"edge\" id=\"edge1\">\n<title>140186286261192-&gt;140186286261024</title>\n<path d=\"M150,-249.4092C150,-241.4308 150,-231.795 150,-222.606\" fill=\"none\" stroke=\"#000000\"/>\n<polygon fill=\"#000000\" points=\"153.5001,-222.5333 150,-212.5333 146.5001,-222.5334 153.5001,-222.5333\" stroke=\"#000000\"/>\n</g>\n</g>\n</svg>"
          },
          "metadata": {
            "tags": []
          },
          "execution_count": 5
        }
      ]
    },
    {
      "cell_type": "code",
      "metadata": {
        "id": "gg9hNR-tVCof",
        "colab_type": "code",
        "colab": {
          "base_uri": "https://localhost:8080/",
          "height": 413
        },
        "outputId": "90eacc59-243a-4d12-8d98-f580fa996826"
      },
      "source": [
        "# coding: utf-8\n",
        "# Conv2Dを使ったCNNの例\n",
        "\n",
        "# CNN Model 7 - Flatten and Dense\n",
        "# Kerasとその他ライブラリをインポート\n",
        "from keras.models import Sequential, Model\n",
        "from keras.layers import Dense, Activation, Flatten, Conv2D\n",
        "from keras.utils import np_utils\n",
        "\n",
        "# SVGの表示に必要なライブラリのインポート\n",
        "from IPython.display import SVG\n",
        "from keras.utils.vis_utils import model_to_dot\n",
        "\n",
        "# Windows の場合は以下を追加\n",
        "#import os\n",
        "#os.environ[\"PATH\"] += os.pathsep + 'C:/Program Files (x86)/Graphviz2.38/bin/'\n",
        "\n",
        "# 畳み込みニューラルネットワークの出力を1次元に平滑化して全結合層に渡すモデルを作成\n",
        "model = Sequential()\n",
        "model.add(Conv2D(filters=3, kernel_size=(3, 3), input_shape=(6, 6, 1), padding='same', name='Conv2D_1'))\n",
        "model.add(Flatten(name='Flatten_1'))\n",
        "model.add(Dense(units=10, activation='softmax', name='Dense_1'))\n",
        "\n",
        "# SVG形式でモデルを表示\n",
        "SVG(model_to_dot(model, show_shapes=True).create(prog='dot', format='svg'))"
      ],
      "execution_count": 6,
      "outputs": [
        {
          "output_type": "execute_result",
          "data": {
            "text/plain": [
              "<IPython.core.display.SVG object>"
            ],
            "image/svg+xml": "<svg height=\"294pt\" viewBox=\"0.00 0.00 308.00 294.00\" width=\"308pt\" xmlns=\"http://www.w3.org/2000/svg\" xmlns:xlink=\"http://www.w3.org/1999/xlink\">\n<g class=\"graph\" id=\"graph0\" transform=\"scale(1 1) rotate(0) translate(4 290)\">\n<title>G</title>\n<polygon fill=\"#ffffff\" points=\"-4,4 -4,-290 304,-290 304,4 -4,4\" stroke=\"transparent\"/>\n<!-- 140186286260352 -->\n<g class=\"node\" id=\"node1\">\n<title>140186286260352</title>\n<polygon fill=\"none\" points=\"0,-166.5 0,-212.5 300,-212.5 300,-166.5 0,-166.5\" stroke=\"#000000\"/>\n<text fill=\"#000000\" font-family=\"Times,serif\" font-size=\"14.00\" text-anchor=\"middle\" x=\"70\" y=\"-185.8\">Conv2D_1: Conv2D</text>\n<polyline fill=\"none\" points=\"140,-166.5 140,-212.5 \" stroke=\"#000000\"/>\n<text fill=\"#000000\" font-family=\"Times,serif\" font-size=\"14.00\" text-anchor=\"middle\" x=\"169\" y=\"-197.3\">input:</text>\n<polyline fill=\"none\" points=\"140,-189.5 198,-189.5 \" stroke=\"#000000\"/>\n<text fill=\"#000000\" font-family=\"Times,serif\" font-size=\"14.00\" text-anchor=\"middle\" x=\"169\" y=\"-174.3\">output:</text>\n<polyline fill=\"none\" points=\"198,-166.5 198,-212.5 \" stroke=\"#000000\"/>\n<text fill=\"#000000\" font-family=\"Times,serif\" font-size=\"14.00\" text-anchor=\"middle\" x=\"249\" y=\"-197.3\">(None, 6, 6, 1)</text>\n<polyline fill=\"none\" points=\"198,-189.5 300,-189.5 \" stroke=\"#000000\"/>\n<text fill=\"#000000\" font-family=\"Times,serif\" font-size=\"14.00\" text-anchor=\"middle\" x=\"249\" y=\"-174.3\">(None, 6, 6, 3)</text>\n</g>\n<!-- 140186286260520 -->\n<g class=\"node\" id=\"node2\">\n<title>140186286260520</title>\n<polygon fill=\"none\" points=\"11.5,-83.5 11.5,-129.5 288.5,-129.5 288.5,-83.5 11.5,-83.5\" stroke=\"#000000\"/>\n<text fill=\"#000000\" font-family=\"Times,serif\" font-size=\"14.00\" text-anchor=\"middle\" x=\"70\" y=\"-102.8\">Flatten_1: Flatten</text>\n<polyline fill=\"none\" points=\"128.5,-83.5 128.5,-129.5 \" stroke=\"#000000\"/>\n<text fill=\"#000000\" font-family=\"Times,serif\" font-size=\"14.00\" text-anchor=\"middle\" x=\"157.5\" y=\"-114.3\">input:</text>\n<polyline fill=\"none\" points=\"128.5,-106.5 186.5,-106.5 \" stroke=\"#000000\"/>\n<text fill=\"#000000\" font-family=\"Times,serif\" font-size=\"14.00\" text-anchor=\"middle\" x=\"157.5\" y=\"-91.3\">output:</text>\n<polyline fill=\"none\" points=\"186.5,-83.5 186.5,-129.5 \" stroke=\"#000000\"/>\n<text fill=\"#000000\" font-family=\"Times,serif\" font-size=\"14.00\" text-anchor=\"middle\" x=\"237.5\" y=\"-114.3\">(None, 6, 6, 3)</text>\n<polyline fill=\"none\" points=\"186.5,-106.5 288.5,-106.5 \" stroke=\"#000000\"/>\n<text fill=\"#000000\" font-family=\"Times,serif\" font-size=\"14.00\" text-anchor=\"middle\" x=\"237.5\" y=\"-91.3\">(None, 108)</text>\n</g>\n<!-- 140186286260352&#45;&gt;140186286260520 -->\n<g class=\"edge\" id=\"edge2\">\n<title>140186286260352-&gt;140186286260520</title>\n<path d=\"M150,-166.3799C150,-158.1745 150,-148.7679 150,-139.8786\" fill=\"none\" stroke=\"#000000\"/>\n<polygon fill=\"#000000\" points=\"153.5001,-139.784 150,-129.784 146.5001,-139.784 153.5001,-139.784\" stroke=\"#000000\"/>\n</g>\n<!-- 140186283705736 -->\n<g class=\"node\" id=\"node3\">\n<title>140186283705736</title>\n<polygon fill=\"none\" points=\"22.5,-.5 22.5,-46.5 277.5,-46.5 277.5,-.5 22.5,-.5\" stroke=\"#000000\"/>\n<text fill=\"#000000\" font-family=\"Times,serif\" font-size=\"14.00\" text-anchor=\"middle\" x=\"77.5\" y=\"-19.8\">Dense_1: Dense</text>\n<polyline fill=\"none\" points=\"132.5,-.5 132.5,-46.5 \" stroke=\"#000000\"/>\n<text fill=\"#000000\" font-family=\"Times,serif\" font-size=\"14.00\" text-anchor=\"middle\" x=\"161.5\" y=\"-31.3\">input:</text>\n<polyline fill=\"none\" points=\"132.5,-23.5 190.5,-23.5 \" stroke=\"#000000\"/>\n<text fill=\"#000000\" font-family=\"Times,serif\" font-size=\"14.00\" text-anchor=\"middle\" x=\"161.5\" y=\"-8.3\">output:</text>\n<polyline fill=\"none\" points=\"190.5,-.5 190.5,-46.5 \" stroke=\"#000000\"/>\n<text fill=\"#000000\" font-family=\"Times,serif\" font-size=\"14.00\" text-anchor=\"middle\" x=\"234\" y=\"-31.3\">(None, 108)</text>\n<polyline fill=\"none\" points=\"190.5,-23.5 277.5,-23.5 \" stroke=\"#000000\"/>\n<text fill=\"#000000\" font-family=\"Times,serif\" font-size=\"14.00\" text-anchor=\"middle\" x=\"234\" y=\"-8.3\">(None, 10)</text>\n</g>\n<!-- 140186286260520&#45;&gt;140186283705736 -->\n<g class=\"edge\" id=\"edge3\">\n<title>140186286260520-&gt;140186283705736</title>\n<path d=\"M150,-83.3799C150,-75.1745 150,-65.7679 150,-56.8786\" fill=\"none\" stroke=\"#000000\"/>\n<polygon fill=\"#000000\" points=\"153.5001,-56.784 150,-46.784 146.5001,-56.784 153.5001,-56.784\" stroke=\"#000000\"/>\n</g>\n<!-- 140186285809848 -->\n<g class=\"node\" id=\"node4\">\n<title>140186285809848</title>\n<polygon fill=\"none\" points=\"85.5,-249.5 85.5,-285.5 214.5,-285.5 214.5,-249.5 85.5,-249.5\" stroke=\"#000000\"/>\n<text fill=\"#000000\" font-family=\"Times,serif\" font-size=\"14.00\" text-anchor=\"middle\" x=\"150\" y=\"-263.8\">140186285809848</text>\n</g>\n<!-- 140186285809848&#45;&gt;140186286260352 -->\n<g class=\"edge\" id=\"edge1\">\n<title>140186285809848-&gt;140186286260352</title>\n<path d=\"M150,-249.4092C150,-241.4308 150,-231.795 150,-222.606\" fill=\"none\" stroke=\"#000000\"/>\n<polygon fill=\"#000000\" points=\"153.5001,-222.5333 150,-212.5333 146.5001,-222.5334 153.5001,-222.5333\" stroke=\"#000000\"/>\n</g>\n</g>\n</svg>"
          },
          "metadata": {
            "tags": []
          },
          "execution_count": 6
        }
      ]
    },
    {
      "cell_type": "code",
      "metadata": {
        "id": "WiS2KRT2VN7K",
        "colab_type": "code",
        "colab": {
          "base_uri": "https://localhost:8080/",
          "height": 413
        },
        "outputId": "4430106f-5249-4919-b7c3-4ac1fde75ac2"
      },
      "source": [
        "# coding: utf-8\n",
        "# Conv2Dを使ったCNNの例\n",
        "\n",
        "# CNN Model 9 - Multi Sigmoid\n",
        "# Kerasとその他ライブラリをインポート\n",
        "from keras.models import Sequential, Model\n",
        "from keras.layers import Dense, Activation, Flatten, Conv2D\n",
        "from keras.utils import np_utils\n",
        "\n",
        "# SVGの表示に必要なライブラリのインポート\n",
        "from IPython.display import SVG\n",
        "from keras.utils.vis_utils import model_to_dot\n",
        "\n",
        "# Windows の場合は以下を追加\n",
        "import os\n",
        "os.environ[\"PATH\"] += os.pathsep + 'C:/Program Files (x86)/Graphviz2.38/bin/'\n",
        "\n",
        "# 畳み込みニューラルネットワーク→平滑化→全結合層の多値出力モデルを作成\n",
        "model = Sequential()\n",
        "model.add(Conv2D(filters=3, kernel_size=(3, 3), input_shape=(6, 6, 1), padding='same', name='Conv2D_1'))\n",
        "model.add(Flatten(name='Flatten_1'))\n",
        "model.add(Dense(units=10, activation='sigmoid', name='Dense_1'))\n",
        "\n",
        "# SVG形式でモデルを表示\n",
        "SVG(model_to_dot(model, show_shapes=True).create(prog='dot', format='svg'))"
      ],
      "execution_count": 7,
      "outputs": [
        {
          "output_type": "execute_result",
          "data": {
            "text/plain": [
              "<IPython.core.display.SVG object>"
            ],
            "image/svg+xml": "<svg height=\"294pt\" viewBox=\"0.00 0.00 308.00 294.00\" width=\"308pt\" xmlns=\"http://www.w3.org/2000/svg\" xmlns:xlink=\"http://www.w3.org/1999/xlink\">\n<g class=\"graph\" id=\"graph0\" transform=\"scale(1 1) rotate(0) translate(4 290)\">\n<title>G</title>\n<polygon fill=\"#ffffff\" points=\"-4,4 -4,-290 304,-290 304,4 -4,4\" stroke=\"transparent\"/>\n<!-- 140186285839192 -->\n<g class=\"node\" id=\"node1\">\n<title>140186285839192</title>\n<polygon fill=\"none\" points=\"0,-166.5 0,-212.5 300,-212.5 300,-166.5 0,-166.5\" stroke=\"#000000\"/>\n<text fill=\"#000000\" font-family=\"Times,serif\" font-size=\"14.00\" text-anchor=\"middle\" x=\"70\" y=\"-185.8\">Conv2D_1: Conv2D</text>\n<polyline fill=\"none\" points=\"140,-166.5 140,-212.5 \" stroke=\"#000000\"/>\n<text fill=\"#000000\" font-family=\"Times,serif\" font-size=\"14.00\" text-anchor=\"middle\" x=\"169\" y=\"-197.3\">input:</text>\n<polyline fill=\"none\" points=\"140,-189.5 198,-189.5 \" stroke=\"#000000\"/>\n<text fill=\"#000000\" font-family=\"Times,serif\" font-size=\"14.00\" text-anchor=\"middle\" x=\"169\" y=\"-174.3\">output:</text>\n<polyline fill=\"none\" points=\"198,-166.5 198,-212.5 \" stroke=\"#000000\"/>\n<text fill=\"#000000\" font-family=\"Times,serif\" font-size=\"14.00\" text-anchor=\"middle\" x=\"249\" y=\"-197.3\">(None, 6, 6, 1)</text>\n<polyline fill=\"none\" points=\"198,-189.5 300,-189.5 \" stroke=\"#000000\"/>\n<text fill=\"#000000\" font-family=\"Times,serif\" font-size=\"14.00\" text-anchor=\"middle\" x=\"249\" y=\"-174.3\">(None, 6, 6, 3)</text>\n</g>\n<!-- 140186283166632 -->\n<g class=\"node\" id=\"node2\">\n<title>140186283166632</title>\n<polygon fill=\"none\" points=\"11.5,-83.5 11.5,-129.5 288.5,-129.5 288.5,-83.5 11.5,-83.5\" stroke=\"#000000\"/>\n<text fill=\"#000000\" font-family=\"Times,serif\" font-size=\"14.00\" text-anchor=\"middle\" x=\"70\" y=\"-102.8\">Flatten_1: Flatten</text>\n<polyline fill=\"none\" points=\"128.5,-83.5 128.5,-129.5 \" stroke=\"#000000\"/>\n<text fill=\"#000000\" font-family=\"Times,serif\" font-size=\"14.00\" text-anchor=\"middle\" x=\"157.5\" y=\"-114.3\">input:</text>\n<polyline fill=\"none\" points=\"128.5,-106.5 186.5,-106.5 \" stroke=\"#000000\"/>\n<text fill=\"#000000\" font-family=\"Times,serif\" font-size=\"14.00\" text-anchor=\"middle\" x=\"157.5\" y=\"-91.3\">output:</text>\n<polyline fill=\"none\" points=\"186.5,-83.5 186.5,-129.5 \" stroke=\"#000000\"/>\n<text fill=\"#000000\" font-family=\"Times,serif\" font-size=\"14.00\" text-anchor=\"middle\" x=\"237.5\" y=\"-114.3\">(None, 6, 6, 3)</text>\n<polyline fill=\"none\" points=\"186.5,-106.5 288.5,-106.5 \" stroke=\"#000000\"/>\n<text fill=\"#000000\" font-family=\"Times,serif\" font-size=\"14.00\" text-anchor=\"middle\" x=\"237.5\" y=\"-91.3\">(None, 108)</text>\n</g>\n<!-- 140186285839192&#45;&gt;140186283166632 -->\n<g class=\"edge\" id=\"edge2\">\n<title>140186285839192-&gt;140186283166632</title>\n<path d=\"M150,-166.3799C150,-158.1745 150,-148.7679 150,-139.8786\" fill=\"none\" stroke=\"#000000\"/>\n<polygon fill=\"#000000\" points=\"153.5001,-139.784 150,-129.784 146.5001,-139.784 153.5001,-139.784\" stroke=\"#000000\"/>\n</g>\n<!-- 140186283167360 -->\n<g class=\"node\" id=\"node3\">\n<title>140186283167360</title>\n<polygon fill=\"none\" points=\"22.5,-.5 22.5,-46.5 277.5,-46.5 277.5,-.5 22.5,-.5\" stroke=\"#000000\"/>\n<text fill=\"#000000\" font-family=\"Times,serif\" font-size=\"14.00\" text-anchor=\"middle\" x=\"77.5\" y=\"-19.8\">Dense_1: Dense</text>\n<polyline fill=\"none\" points=\"132.5,-.5 132.5,-46.5 \" stroke=\"#000000\"/>\n<text fill=\"#000000\" font-family=\"Times,serif\" font-size=\"14.00\" text-anchor=\"middle\" x=\"161.5\" y=\"-31.3\">input:</text>\n<polyline fill=\"none\" points=\"132.5,-23.5 190.5,-23.5 \" stroke=\"#000000\"/>\n<text fill=\"#000000\" font-family=\"Times,serif\" font-size=\"14.00\" text-anchor=\"middle\" x=\"161.5\" y=\"-8.3\">output:</text>\n<polyline fill=\"none\" points=\"190.5,-.5 190.5,-46.5 \" stroke=\"#000000\"/>\n<text fill=\"#000000\" font-family=\"Times,serif\" font-size=\"14.00\" text-anchor=\"middle\" x=\"234\" y=\"-31.3\">(None, 108)</text>\n<polyline fill=\"none\" points=\"190.5,-23.5 277.5,-23.5 \" stroke=\"#000000\"/>\n<text fill=\"#000000\" font-family=\"Times,serif\" font-size=\"14.00\" text-anchor=\"middle\" x=\"234\" y=\"-8.3\">(None, 10)</text>\n</g>\n<!-- 140186283166632&#45;&gt;140186283167360 -->\n<g class=\"edge\" id=\"edge3\">\n<title>140186283166632-&gt;140186283167360</title>\n<path d=\"M150,-83.3799C150,-75.1745 150,-65.7679 150,-56.8786\" fill=\"none\" stroke=\"#000000\"/>\n<polygon fill=\"#000000\" points=\"153.5001,-56.784 150,-46.784 146.5001,-56.784 153.5001,-56.784\" stroke=\"#000000\"/>\n</g>\n<!-- 140186283167136 -->\n<g class=\"node\" id=\"node4\">\n<title>140186283167136</title>\n<polygon fill=\"none\" points=\"85.5,-249.5 85.5,-285.5 214.5,-285.5 214.5,-249.5 85.5,-249.5\" stroke=\"#000000\"/>\n<text fill=\"#000000\" font-family=\"Times,serif\" font-size=\"14.00\" text-anchor=\"middle\" x=\"150\" y=\"-263.8\">140186283167136</text>\n</g>\n<!-- 140186283167136&#45;&gt;140186285839192 -->\n<g class=\"edge\" id=\"edge1\">\n<title>140186283167136-&gt;140186285839192</title>\n<path d=\"M150,-249.4092C150,-241.4308 150,-231.795 150,-222.606\" fill=\"none\" stroke=\"#000000\"/>\n<polygon fill=\"#000000\" points=\"153.5001,-222.5333 150,-212.5333 146.5001,-222.5334 153.5001,-222.5333\" stroke=\"#000000\"/>\n</g>\n</g>\n</svg>"
          },
          "metadata": {
            "tags": []
          },
          "execution_count": 7
        }
      ]
    },
    {
      "cell_type": "code",
      "metadata": {
        "id": "UmP_Lgb3VVIR",
        "colab_type": "code",
        "colab": {
          "base_uri": "https://localhost:8080/",
          "height": 191
        },
        "outputId": "bb1787a4-4ce7-46ca-d558-4b0041d74ed3"
      },
      "source": [
        "# coding: utf-8\n",
        "# Conv2Dを使ったCNNの例\n",
        "\n",
        "# CNN Model 1 - one layer\n",
        "# Kerasとその他ライブラリをインポート\n",
        "from keras.models import Sequential, Model\n",
        "from keras.layers import Conv2D\n",
        "from keras.utils import np_utils\n",
        "\n",
        "# SVGの表示に必要なライブラリのインポート\n",
        "from IPython.display import SVG\n",
        "from keras.utils.vis_utils import model_to_dot\n",
        "\n",
        "# Windows の場合は以下を追加\n",
        "import os\n",
        "os.environ[\"PATH\"] += os.pathsep + 'C:/Program Files (x86)/Graphviz2.38/bin/'\n",
        "\n",
        "# 畳み込みニューラルネットワークのモデルを作成\n",
        "model = Sequential()\n",
        "model.add(Conv2D(filters=3, kernel_size=(3, 3), input_shape=(6, 6, 1), name='Conv2D_1'))\n",
        "\n",
        "# SVG形式でモデルを表示\n",
        "SVG(model_to_dot(model, show_shapes=True).create(prog='dot', format='svg'))"
      ],
      "execution_count": 8,
      "outputs": [
        {
          "output_type": "execute_result",
          "data": {
            "text/plain": [
              "<IPython.core.display.SVG object>"
            ],
            "image/svg+xml": "<svg height=\"128pt\" viewBox=\"0.00 0.00 308.00 128.00\" width=\"308pt\" xmlns=\"http://www.w3.org/2000/svg\" xmlns:xlink=\"http://www.w3.org/1999/xlink\">\n<g class=\"graph\" id=\"graph0\" transform=\"scale(1 1) rotate(0) translate(4 124)\">\n<title>G</title>\n<polygon fill=\"#ffffff\" points=\"-4,4 -4,-124 304,-124 304,4 -4,4\" stroke=\"transparent\"/>\n<!-- 140186284502712 -->\n<g class=\"node\" id=\"node1\">\n<title>140186284502712</title>\n<polygon fill=\"none\" points=\"0,-.5 0,-46.5 300,-46.5 300,-.5 0,-.5\" stroke=\"#000000\"/>\n<text fill=\"#000000\" font-family=\"Times,serif\" font-size=\"14.00\" text-anchor=\"middle\" x=\"70\" y=\"-19.8\">Conv2D_1: Conv2D</text>\n<polyline fill=\"none\" points=\"140,-.5 140,-46.5 \" stroke=\"#000000\"/>\n<text fill=\"#000000\" font-family=\"Times,serif\" font-size=\"14.00\" text-anchor=\"middle\" x=\"169\" y=\"-31.3\">input:</text>\n<polyline fill=\"none\" points=\"140,-23.5 198,-23.5 \" stroke=\"#000000\"/>\n<text fill=\"#000000\" font-family=\"Times,serif\" font-size=\"14.00\" text-anchor=\"middle\" x=\"169\" y=\"-8.3\">output:</text>\n<polyline fill=\"none\" points=\"198,-.5 198,-46.5 \" stroke=\"#000000\"/>\n<text fill=\"#000000\" font-family=\"Times,serif\" font-size=\"14.00\" text-anchor=\"middle\" x=\"249\" y=\"-31.3\">(None, 6, 6, 1)</text>\n<polyline fill=\"none\" points=\"198,-23.5 300,-23.5 \" stroke=\"#000000\"/>\n<text fill=\"#000000\" font-family=\"Times,serif\" font-size=\"14.00\" text-anchor=\"middle\" x=\"249\" y=\"-8.3\">(None, 4, 4, 3)</text>\n</g>\n<!-- 140186284501704 -->\n<g class=\"node\" id=\"node2\">\n<title>140186284501704</title>\n<polygon fill=\"none\" points=\"85.5,-83.5 85.5,-119.5 214.5,-119.5 214.5,-83.5 85.5,-83.5\" stroke=\"#000000\"/>\n<text fill=\"#000000\" font-family=\"Times,serif\" font-size=\"14.00\" text-anchor=\"middle\" x=\"150\" y=\"-97.8\">140186284501704</text>\n</g>\n<!-- 140186284501704&#45;&gt;140186284502712 -->\n<g class=\"edge\" id=\"edge1\">\n<title>140186284501704-&gt;140186284502712</title>\n<path d=\"M150,-83.4092C150,-75.4308 150,-65.795 150,-56.606\" fill=\"none\" stroke=\"#000000\"/>\n<polygon fill=\"#000000\" points=\"153.5001,-56.5333 150,-46.5333 146.5001,-56.5334 153.5001,-56.5333\" stroke=\"#000000\"/>\n</g>\n</g>\n</svg>"
          },
          "metadata": {
            "tags": []
          },
          "execution_count": 8
        }
      ]
    },
    {
      "cell_type": "code",
      "metadata": {
        "id": "jF6L85N1Voxb",
        "colab_type": "code",
        "colab": {
          "base_uri": "https://localhost:8080/",
          "height": 191
        },
        "outputId": "ed5f568d-6ca5-4bd9-915e-c8264a793aa3"
      },
      "source": [
        "# coding: utf-8\n",
        "# Conv2Dを使ったCNNの例\n",
        "\n",
        "# CNN Model 5 - ReLU\n",
        "# Kerasとその他ライブラリをインポート\n",
        "from keras.models import Sequential, Model\n",
        "from keras.layers import Activation, Conv2D\n",
        "from keras.utils import np_utils\n",
        "\n",
        "# SVGの表示に必要なライブラリのインポート\n",
        "from IPython.display import SVG\n",
        "from keras.utils.vis_utils import model_to_dot\n",
        "\n",
        "# Windows の場合は以下を追加\n",
        "import os\n",
        "os.environ[\"PATH\"] += os.pathsep + 'C:/Program Files (x86)/Graphviz2.38/bin/'\n",
        "\n",
        "# 活性化関数を ReLU にした畳み込みニューラルネットワークのモデルを作成\n",
        "model = Sequential()\n",
        "model.add(Conv2D(filters=3, kernel_size=(3, 3), input_shape=(6, 6, 1), activation='relu', name='Conv2D_1'))\n",
        "\n",
        "# SVG形式でモデルを表示\n",
        "SVG(model_to_dot(model, show_shapes=True).create(prog='dot', format='svg'))"
      ],
      "execution_count": 9,
      "outputs": [
        {
          "output_type": "execute_result",
          "data": {
            "text/plain": [
              "<IPython.core.display.SVG object>"
            ],
            "image/svg+xml": "<svg height=\"128pt\" viewBox=\"0.00 0.00 308.00 128.00\" width=\"308pt\" xmlns=\"http://www.w3.org/2000/svg\" xmlns:xlink=\"http://www.w3.org/1999/xlink\">\n<g class=\"graph\" id=\"graph0\" transform=\"scale(1 1) rotate(0) translate(4 124)\">\n<title>G</title>\n<polygon fill=\"#ffffff\" points=\"-4,4 -4,-124 304,-124 304,4 -4,4\" stroke=\"transparent\"/>\n<!-- 140186282876152 -->\n<g class=\"node\" id=\"node1\">\n<title>140186282876152</title>\n<polygon fill=\"none\" points=\"0,-.5 0,-46.5 300,-46.5 300,-.5 0,-.5\" stroke=\"#000000\"/>\n<text fill=\"#000000\" font-family=\"Times,serif\" font-size=\"14.00\" text-anchor=\"middle\" x=\"70\" y=\"-19.8\">Conv2D_1: Conv2D</text>\n<polyline fill=\"none\" points=\"140,-.5 140,-46.5 \" stroke=\"#000000\"/>\n<text fill=\"#000000\" font-family=\"Times,serif\" font-size=\"14.00\" text-anchor=\"middle\" x=\"169\" y=\"-31.3\">input:</text>\n<polyline fill=\"none\" points=\"140,-23.5 198,-23.5 \" stroke=\"#000000\"/>\n<text fill=\"#000000\" font-family=\"Times,serif\" font-size=\"14.00\" text-anchor=\"middle\" x=\"169\" y=\"-8.3\">output:</text>\n<polyline fill=\"none\" points=\"198,-.5 198,-46.5 \" stroke=\"#000000\"/>\n<text fill=\"#000000\" font-family=\"Times,serif\" font-size=\"14.00\" text-anchor=\"middle\" x=\"249\" y=\"-31.3\">(None, 6, 6, 1)</text>\n<polyline fill=\"none\" points=\"198,-23.5 300,-23.5 \" stroke=\"#000000\"/>\n<text fill=\"#000000\" font-family=\"Times,serif\" font-size=\"14.00\" text-anchor=\"middle\" x=\"249\" y=\"-8.3\">(None, 4, 4, 3)</text>\n</g>\n<!-- 140186282430760 -->\n<g class=\"node\" id=\"node2\">\n<title>140186282430760</title>\n<polygon fill=\"none\" points=\"85.5,-83.5 85.5,-119.5 214.5,-119.5 214.5,-83.5 85.5,-83.5\" stroke=\"#000000\"/>\n<text fill=\"#000000\" font-family=\"Times,serif\" font-size=\"14.00\" text-anchor=\"middle\" x=\"150\" y=\"-97.8\">140186282430760</text>\n</g>\n<!-- 140186282430760&#45;&gt;140186282876152 -->\n<g class=\"edge\" id=\"edge1\">\n<title>140186282430760-&gt;140186282876152</title>\n<path d=\"M150,-83.4092C150,-75.4308 150,-65.795 150,-56.606\" fill=\"none\" stroke=\"#000000\"/>\n<polygon fill=\"#000000\" points=\"153.5001,-56.5333 150,-46.5333 146.5001,-56.5334 153.5001,-56.5333\" stroke=\"#000000\"/>\n</g>\n</g>\n</svg>"
          },
          "metadata": {
            "tags": []
          },
          "execution_count": 9
        }
      ]
    },
    {
      "cell_type": "code",
      "metadata": {
        "id": "DHntUJzQV0fy",
        "colab_type": "code",
        "colab": {
          "base_uri": "https://localhost:8080/",
          "height": 302
        },
        "outputId": "d8f77a80-078f-4930-9d2a-92decd71e7c7"
      },
      "source": [
        "# coding: utf-8\n",
        "# Conv2Dを使ったCNNの例\n",
        "\n",
        "# CNN Model 2 - two layers\n",
        "# Kerasとその他ライブラリをインポート\n",
        "from keras.models import Sequential, Model\n",
        "from keras.layers import Conv2D\n",
        "from keras.utils import np_utils\n",
        "\n",
        "# SVGの表示に必要なライブラリのインポート\n",
        "from IPython.display import SVG\n",
        "from keras.utils.vis_utils import model_to_dot\n",
        "\n",
        "# Windows の場合は以下を追加\n",
        "import os\n",
        "os.environ[\"PATH\"] += os.pathsep + 'C:/Program Files (x86)/Graphviz2.38/bin/'\n",
        "\n",
        "# 2層の畳み込みニューラルネットワークのモデルを作成\n",
        "model = Sequential()\n",
        "model.add(Conv2D(filters=3, kernel_size=(3, 3), input_shape=(6, 6, 1), name='Conv2D_1'))\n",
        "model.add(Conv2D(filters=2, kernel_size=(3, 3), name='Conv2D_2'))\n",
        "\n",
        "# SVG形式でモデルを表示\n",
        "SVG(model_to_dot(model, show_shapes=True).create(prog='dot', format='svg'))"
      ],
      "execution_count": 10,
      "outputs": [
        {
          "output_type": "execute_result",
          "data": {
            "text/plain": [
              "<IPython.core.display.SVG object>"
            ],
            "image/svg+xml": "<svg height=\"211pt\" viewBox=\"0.00 0.00 308.00 211.00\" width=\"308pt\" xmlns=\"http://www.w3.org/2000/svg\" xmlns:xlink=\"http://www.w3.org/1999/xlink\">\n<g class=\"graph\" id=\"graph0\" transform=\"scale(1 1) rotate(0) translate(4 207)\">\n<title>G</title>\n<polygon fill=\"#ffffff\" points=\"-4,4 -4,-207 304,-207 304,4 -4,4\" stroke=\"transparent\"/>\n<!-- 140186282387440 -->\n<g class=\"node\" id=\"node1\">\n<title>140186282387440</title>\n<polygon fill=\"none\" points=\"0,-83.5 0,-129.5 300,-129.5 300,-83.5 0,-83.5\" stroke=\"#000000\"/>\n<text fill=\"#000000\" font-family=\"Times,serif\" font-size=\"14.00\" text-anchor=\"middle\" x=\"70\" y=\"-102.8\">Conv2D_1: Conv2D</text>\n<polyline fill=\"none\" points=\"140,-83.5 140,-129.5 \" stroke=\"#000000\"/>\n<text fill=\"#000000\" font-family=\"Times,serif\" font-size=\"14.00\" text-anchor=\"middle\" x=\"169\" y=\"-114.3\">input:</text>\n<polyline fill=\"none\" points=\"140,-106.5 198,-106.5 \" stroke=\"#000000\"/>\n<text fill=\"#000000\" font-family=\"Times,serif\" font-size=\"14.00\" text-anchor=\"middle\" x=\"169\" y=\"-91.3\">output:</text>\n<polyline fill=\"none\" points=\"198,-83.5 198,-129.5 \" stroke=\"#000000\"/>\n<text fill=\"#000000\" font-family=\"Times,serif\" font-size=\"14.00\" text-anchor=\"middle\" x=\"249\" y=\"-114.3\">(None, 6, 6, 1)</text>\n<polyline fill=\"none\" points=\"198,-106.5 300,-106.5 \" stroke=\"#000000\"/>\n<text fill=\"#000000\" font-family=\"Times,serif\" font-size=\"14.00\" text-anchor=\"middle\" x=\"249\" y=\"-91.3\">(None, 4, 4, 3)</text>\n</g>\n<!-- 140186286233584 -->\n<g class=\"node\" id=\"node2\">\n<title>140186286233584</title>\n<polygon fill=\"none\" points=\"0,-.5 0,-46.5 300,-46.5 300,-.5 0,-.5\" stroke=\"#000000\"/>\n<text fill=\"#000000\" font-family=\"Times,serif\" font-size=\"14.00\" text-anchor=\"middle\" x=\"70\" y=\"-19.8\">Conv2D_2: Conv2D</text>\n<polyline fill=\"none\" points=\"140,-.5 140,-46.5 \" stroke=\"#000000\"/>\n<text fill=\"#000000\" font-family=\"Times,serif\" font-size=\"14.00\" text-anchor=\"middle\" x=\"169\" y=\"-31.3\">input:</text>\n<polyline fill=\"none\" points=\"140,-23.5 198,-23.5 \" stroke=\"#000000\"/>\n<text fill=\"#000000\" font-family=\"Times,serif\" font-size=\"14.00\" text-anchor=\"middle\" x=\"169\" y=\"-8.3\">output:</text>\n<polyline fill=\"none\" points=\"198,-.5 198,-46.5 \" stroke=\"#000000\"/>\n<text fill=\"#000000\" font-family=\"Times,serif\" font-size=\"14.00\" text-anchor=\"middle\" x=\"249\" y=\"-31.3\">(None, 4, 4, 3)</text>\n<polyline fill=\"none\" points=\"198,-23.5 300,-23.5 \" stroke=\"#000000\"/>\n<text fill=\"#000000\" font-family=\"Times,serif\" font-size=\"14.00\" text-anchor=\"middle\" x=\"249\" y=\"-8.3\">(None, 2, 2, 2)</text>\n</g>\n<!-- 140186282387440&#45;&gt;140186286233584 -->\n<g class=\"edge\" id=\"edge2\">\n<title>140186282387440-&gt;140186286233584</title>\n<path d=\"M150,-83.3799C150,-75.1745 150,-65.7679 150,-56.8786\" fill=\"none\" stroke=\"#000000\"/>\n<polygon fill=\"#000000\" points=\"153.5001,-56.784 150,-46.784 146.5001,-56.784 153.5001,-56.784\" stroke=\"#000000\"/>\n</g>\n<!-- 140186282379024 -->\n<g class=\"node\" id=\"node3\">\n<title>140186282379024</title>\n<polygon fill=\"none\" points=\"85.5,-166.5 85.5,-202.5 214.5,-202.5 214.5,-166.5 85.5,-166.5\" stroke=\"#000000\"/>\n<text fill=\"#000000\" font-family=\"Times,serif\" font-size=\"14.00\" text-anchor=\"middle\" x=\"150\" y=\"-180.8\">140186282379024</text>\n</g>\n<!-- 140186282379024&#45;&gt;140186282387440 -->\n<g class=\"edge\" id=\"edge1\">\n<title>140186282379024-&gt;140186282387440</title>\n<path d=\"M150,-166.4092C150,-158.4308 150,-148.795 150,-139.606\" fill=\"none\" stroke=\"#000000\"/>\n<polygon fill=\"#000000\" points=\"153.5001,-139.5333 150,-129.5333 146.5001,-139.5334 153.5001,-139.5333\" stroke=\"#000000\"/>\n</g>\n</g>\n</svg>"
          },
          "metadata": {
            "tags": []
          },
          "execution_count": 10
        }
      ]
    },
    {
      "cell_type": "code",
      "metadata": {
        "id": "ma_yXyT_V7Bm",
        "colab_type": "code",
        "colab": {
          "base_uri": "https://localhost:8080/",
          "height": 191
        },
        "outputId": "43e24c09-4928-4c16-808d-d22f8ae60817"
      },
      "source": [
        "# coding: utf-8\n",
        "# Conv2Dを使ったCNNの例\n",
        "\n",
        "# CNN Model 4 - two strides\n",
        "# Kerasとその他ライブラリをインポート\n",
        "from keras.models import Sequential, Model\n",
        "from keras.layers import Conv2D\n",
        "from keras.utils import np_utils\n",
        "\n",
        "# SVGの表示に必要なライブラリのインポート\n",
        "from IPython.display import SVG\n",
        "from keras.utils.vis_utils import model_to_dot\n",
        "\n",
        "# Windows の場合は以下を追加\n",
        "import os\n",
        "os.environ[\"PATH\"] += os.pathsep + 'C:/Program Files (x86)/Graphviz2.38/bin/'\n",
        "\n",
        "# ストライド2の畳み込みニューラルネットワークのモデルを作成\n",
        "model = Sequential()\n",
        "model.add(Conv2D(filters=3, kernel_size=(3, 3), input_shape=(6, 6, 1), strides=2, name='Conv2D_1'))\n",
        "\n",
        "# SVG形式でモデルを表示\n",
        "SVG(model_to_dot(model, show_shapes=True).create(prog='dot', format='svg'))"
      ],
      "execution_count": 11,
      "outputs": [
        {
          "output_type": "execute_result",
          "data": {
            "text/plain": [
              "<IPython.core.display.SVG object>"
            ],
            "image/svg+xml": "<svg height=\"128pt\" viewBox=\"0.00 0.00 308.00 128.00\" width=\"308pt\" xmlns=\"http://www.w3.org/2000/svg\" xmlns:xlink=\"http://www.w3.org/1999/xlink\">\n<g class=\"graph\" id=\"graph0\" transform=\"scale(1 1) rotate(0) translate(4 124)\">\n<title>G</title>\n<polygon fill=\"#ffffff\" points=\"-4,4 -4,-124 304,-124 304,4 -4,4\" stroke=\"transparent\"/>\n<!-- 140186282646104 -->\n<g class=\"node\" id=\"node1\">\n<title>140186282646104</title>\n<polygon fill=\"none\" points=\"0,-.5 0,-46.5 300,-46.5 300,-.5 0,-.5\" stroke=\"#000000\"/>\n<text fill=\"#000000\" font-family=\"Times,serif\" font-size=\"14.00\" text-anchor=\"middle\" x=\"70\" y=\"-19.8\">Conv2D_1: Conv2D</text>\n<polyline fill=\"none\" points=\"140,-.5 140,-46.5 \" stroke=\"#000000\"/>\n<text fill=\"#000000\" font-family=\"Times,serif\" font-size=\"14.00\" text-anchor=\"middle\" x=\"169\" y=\"-31.3\">input:</text>\n<polyline fill=\"none\" points=\"140,-23.5 198,-23.5 \" stroke=\"#000000\"/>\n<text fill=\"#000000\" font-family=\"Times,serif\" font-size=\"14.00\" text-anchor=\"middle\" x=\"169\" y=\"-8.3\">output:</text>\n<polyline fill=\"none\" points=\"198,-.5 198,-46.5 \" stroke=\"#000000\"/>\n<text fill=\"#000000\" font-family=\"Times,serif\" font-size=\"14.00\" text-anchor=\"middle\" x=\"249\" y=\"-31.3\">(None, 6, 6, 1)</text>\n<polyline fill=\"none\" points=\"198,-23.5 300,-23.5 \" stroke=\"#000000\"/>\n<text fill=\"#000000\" font-family=\"Times,serif\" font-size=\"14.00\" text-anchor=\"middle\" x=\"249\" y=\"-8.3\">(None, 2, 2, 3)</text>\n</g>\n<!-- 140186282237736 -->\n<g class=\"node\" id=\"node2\">\n<title>140186282237736</title>\n<polygon fill=\"none\" points=\"85.5,-83.5 85.5,-119.5 214.5,-119.5 214.5,-83.5 85.5,-83.5\" stroke=\"#000000\"/>\n<text fill=\"#000000\" font-family=\"Times,serif\" font-size=\"14.00\" text-anchor=\"middle\" x=\"150\" y=\"-97.8\">140186282237736</text>\n</g>\n<!-- 140186282237736&#45;&gt;140186282646104 -->\n<g class=\"edge\" id=\"edge1\">\n<title>140186282237736-&gt;140186282646104</title>\n<path d=\"M150,-83.4092C150,-75.4308 150,-65.795 150,-56.606\" fill=\"none\" stroke=\"#000000\"/>\n<polygon fill=\"#000000\" points=\"153.5001,-56.5333 150,-46.5333 146.5001,-56.5334 153.5001,-56.5333\" stroke=\"#000000\"/>\n</g>\n</g>\n</svg>"
          },
          "metadata": {
            "tags": []
          },
          "execution_count": 11
        }
      ]
    },
    {
      "cell_type": "code",
      "metadata": {
        "id": "tUXBJlgmWCgN",
        "colab_type": "code",
        "colab": {
          "base_uri": "https://localhost:8080/",
          "height": 191
        },
        "outputId": "8fcb778e-d6e9-4b6b-915c-fd5612b8fe82"
      },
      "source": [
        "# coding: utf-8\n",
        "# Conv2Dを使ったCNNの例\n",
        "\n",
        "# CNN Model 3 - zero padding\n",
        "# Kerasとその他ライブラリをインポート\n",
        "from keras.models import Sequential, Model\n",
        "from keras.layers import Conv2D\n",
        "from keras.utils import np_utils\n",
        "\n",
        "# SVGの表示に必要なライブラリのインポート\n",
        "from IPython.display import SVG\n",
        "from keras.utils.vis_utils import model_to_dot\n",
        "\n",
        "# Windows の場合は以下を追加\n",
        "import os\n",
        "os.environ[\"PATH\"] += os.pathsep + 'C:/Program Files (x86)/Graphviz2.38/bin/'\n",
        "\n",
        "# パディングつき畳み込みニューラルネットワークのモデルを作成\n",
        "model = Sequential()\n",
        "model.add(Conv2D(filters=3, kernel_size=(3, 3), input_shape=(6, 6, 1), padding='same', name='Conv2D_1'))\n",
        "\n",
        "# SVG形式でモデルを表示\n",
        "SVG(model_to_dot(model, show_shapes=True).create(prog='dot', format='svg'))"
      ],
      "execution_count": 12,
      "outputs": [
        {
          "output_type": "execute_result",
          "data": {
            "text/plain": [
              "<IPython.core.display.SVG object>"
            ],
            "image/svg+xml": "<svg height=\"128pt\" viewBox=\"0.00 0.00 308.00 128.00\" width=\"308pt\" xmlns=\"http://www.w3.org/2000/svg\" xmlns:xlink=\"http://www.w3.org/1999/xlink\">\n<g class=\"graph\" id=\"graph0\" transform=\"scale(1 1) rotate(0) translate(4 124)\">\n<title>G</title>\n<polygon fill=\"#ffffff\" points=\"-4,4 -4,-124 304,-124 304,4 -4,4\" stroke=\"transparent\"/>\n<!-- 140186282259848 -->\n<g class=\"node\" id=\"node1\">\n<title>140186282259848</title>\n<polygon fill=\"none\" points=\"0,-.5 0,-46.5 300,-46.5 300,-.5 0,-.5\" stroke=\"#000000\"/>\n<text fill=\"#000000\" font-family=\"Times,serif\" font-size=\"14.00\" text-anchor=\"middle\" x=\"70\" y=\"-19.8\">Conv2D_1: Conv2D</text>\n<polyline fill=\"none\" points=\"140,-.5 140,-46.5 \" stroke=\"#000000\"/>\n<text fill=\"#000000\" font-family=\"Times,serif\" font-size=\"14.00\" text-anchor=\"middle\" x=\"169\" y=\"-31.3\">input:</text>\n<polyline fill=\"none\" points=\"140,-23.5 198,-23.5 \" stroke=\"#000000\"/>\n<text fill=\"#000000\" font-family=\"Times,serif\" font-size=\"14.00\" text-anchor=\"middle\" x=\"169\" y=\"-8.3\">output:</text>\n<polyline fill=\"none\" points=\"198,-.5 198,-46.5 \" stroke=\"#000000\"/>\n<text fill=\"#000000\" font-family=\"Times,serif\" font-size=\"14.00\" text-anchor=\"middle\" x=\"249\" y=\"-31.3\">(None, 6, 6, 1)</text>\n<polyline fill=\"none\" points=\"198,-23.5 300,-23.5 \" stroke=\"#000000\"/>\n<text fill=\"#000000\" font-family=\"Times,serif\" font-size=\"14.00\" text-anchor=\"middle\" x=\"249\" y=\"-8.3\">(None, 6, 6, 3)</text>\n</g>\n<!-- 140186282826832 -->\n<g class=\"node\" id=\"node2\">\n<title>140186282826832</title>\n<polygon fill=\"none\" points=\"85.5,-83.5 85.5,-119.5 214.5,-119.5 214.5,-83.5 85.5,-83.5\" stroke=\"#000000\"/>\n<text fill=\"#000000\" font-family=\"Times,serif\" font-size=\"14.00\" text-anchor=\"middle\" x=\"150\" y=\"-97.8\">140186282826832</text>\n</g>\n<!-- 140186282826832&#45;&gt;140186282259848 -->\n<g class=\"edge\" id=\"edge1\">\n<title>140186282826832-&gt;140186282259848</title>\n<path d=\"M150,-83.4092C150,-75.4308 150,-65.795 150,-56.606\" fill=\"none\" stroke=\"#000000\"/>\n<polygon fill=\"#000000\" points=\"153.5001,-56.5333 150,-46.5333 146.5001,-56.5334 153.5001,-56.5333\" stroke=\"#000000\"/>\n</g>\n</g>\n</svg>"
          },
          "metadata": {
            "tags": []
          },
          "execution_count": 12
        }
      ]
    },
    {
      "cell_type": "code",
      "metadata": {
        "id": "jk-w0E7zWJ5a",
        "colab_type": "code",
        "colab": {
          "base_uri": "https://localhost:8080/",
          "height": 513
        },
        "outputId": "38c7e772-9315-42fc-f6c0-3bd5db753ce4"
      },
      "source": [
        "# coding: utf-8\n",
        "# CNNを使った学習の例\n",
        "\n",
        "# CNN Train 2 - dropout\n",
        "# Kerasとその他ライブラリをインポート\n",
        "import keras\n",
        "from keras.models import Sequential, Model\n",
        "from keras.layers import Dense, Activation, Flatten, Conv2D, Dropout\n",
        "from keras.utils import np_utils\n",
        "from keras.optimizers import SGD\n",
        "\n",
        "# 早期終了のための Callbacks とデータ処理に必要な Numpy をインポート\n",
        "import keras.callbacks as callbacks\n",
        "import numpy as np\n",
        "\n",
        "# SVGの表示に必要なライブラリのインポート\n",
        "from IPython.display import SVG\n",
        "from keras.utils.vis_utils import model_to_dot\n",
        "\n",
        "# ランダムな数値でダミーデータを用意\n",
        "x_train = np.random.random((100, 6, 6, 1))\n",
        "y_train = keras.utils.to_categorical(np.random.randint(10, size=(100, 1)), num_classes=10)\n",
        "x_test = np.random.random((20, 6, 6, 1))\n",
        "y_test = keras.utils.to_categorical(np.random.randint(10, size=(20, 1)), num_classes=10)\n",
        "\n",
        "# ドロップアウトを追加して畳み込みニューラルネットワークのモデルを作成\n",
        "model = Sequential()\n",
        "model.add(Conv2D(filters=3, kernel_size=(3, 3), input_shape=(6, 6, 1), name='Conv2D_1'))\n",
        "model.add(Dropout(rate=0.5, name='Dropout_1'))\n",
        "model.add(Flatten(name='Flatten_1'))\n",
        "model.add(Dense(units=10, activation='softmax', name='Dense_1'))\n",
        "\n",
        "# シーケンスを出力\n",
        "SVG(model_to_dot(model, show_shapes=True).create(prog='dot', format='svg'))\n",
        "\n",
        "# 早期終了を設定\n",
        "earlyStopping = callbacks.EarlyStopping(monitor='val_loss', patience=5)\n",
        "\n",
        "# モデルのコンパイル\n",
        "model.compile(loss='mean_squared_error', optimizer='sgd')\n",
        "model.fit(x_train, y_train, batch_size=32, epochs=10, callbacks=[earlyStopping], validation_split=0.2)"
      ],
      "execution_count": 13,
      "outputs": [
        {
          "output_type": "stream",
          "text": [
            "WARNING:tensorflow:From /usr/local/lib/python3.6/dist-packages/keras/backend/tensorflow_backend.py:3445: calling dropout (from tensorflow.python.ops.nn_ops) with keep_prob is deprecated and will be removed in a future version.\n",
            "Instructions for updating:\n",
            "Please use `rate` instead of `keep_prob`. Rate should be set to `rate = 1 - keep_prob`.\n",
            "WARNING:tensorflow:From /usr/local/lib/python3.6/dist-packages/tensorflow/python/ops/math_ops.py:3066: to_int32 (from tensorflow.python.ops.math_ops) is deprecated and will be removed in a future version.\n",
            "Instructions for updating:\n",
            "Use tf.cast instead.\n",
            "Train on 80 samples, validate on 20 samples\n",
            "Epoch 1/10\n",
            "80/80 [==============================] - 1s 9ms/step - loss: 0.0953 - val_loss: 0.0899\n",
            "Epoch 2/10\n",
            "80/80 [==============================] - 0s 177us/step - loss: 0.0934 - val_loss: 0.0899\n",
            "Epoch 3/10\n",
            "80/80 [==============================] - 0s 111us/step - loss: 0.0930 - val_loss: 0.0899\n",
            "Epoch 4/10\n",
            "80/80 [==============================] - 0s 67us/step - loss: 0.0947 - val_loss: 0.0899\n",
            "Epoch 5/10\n",
            "80/80 [==============================] - 0s 63us/step - loss: 0.0935 - val_loss: 0.0899\n",
            "Epoch 6/10\n",
            "80/80 [==============================] - 0s 64us/step - loss: 0.0933 - val_loss: 0.0899\n",
            "Epoch 7/10\n",
            "80/80 [==============================] - 0s 80us/step - loss: 0.0946 - val_loss: 0.0899\n",
            "Epoch 8/10\n",
            "80/80 [==============================] - 0s 72us/step - loss: 0.0921 - val_loss: 0.0899\n",
            "Epoch 9/10\n",
            "80/80 [==============================] - 0s 70us/step - loss: 0.0918 - val_loss: 0.0899\n",
            "Epoch 10/10\n",
            "80/80 [==============================] - 0s 80us/step - loss: 0.0936 - val_loss: 0.0899\n"
          ],
          "name": "stdout"
        },
        {
          "output_type": "execute_result",
          "data": {
            "text/plain": [
              "<keras.callbacks.History at 0x7f7fa97dfa90>"
            ]
          },
          "metadata": {
            "tags": []
          },
          "execution_count": 13
        }
      ]
    },
    {
      "cell_type": "code",
      "metadata": {
        "id": "9jGGEkQQWWfU",
        "colab_type": "code",
        "colab": {
          "base_uri": "https://localhost:8080/",
          "height": 255
        },
        "outputId": "f37b8c2f-a13f-4822-be6c-41bb4141a427"
      },
      "source": [
        "# coding: utf-8\n",
        "# CNNを使った学習の例\n",
        "\n",
        "# CNN Train 1\n",
        "# Kerasとその他ライブラリをインポート\n",
        "import keras\n",
        "from keras.models import Sequential, Model\n",
        "from keras.layers import Dense, Activation, Flatten, Conv2D\n",
        "from keras.utils import np_utils\n",
        "from keras.optimizers import SGD\n",
        "\n",
        "# 早期終了のための Callbacks とデータ処理に必要な Numpy をインポート\n",
        "import keras.callbacks as callbacks\n",
        "import numpy as np\n",
        "\n",
        "# SVGの表示に必要なライブラリのインポート\n",
        "from IPython.display import SVG\n",
        "from keras.utils.vis_utils import model_to_dot\n",
        "\n",
        "# Windows の場合は以下を追加\n",
        "import os\n",
        "os.environ[\"PATH\"] += os.pathsep + 'C:/Program Files (x86)/Graphviz2.38/bin/'\n",
        "\n",
        "# ランダムな数値でダミーデータを用意\n",
        "x_train = np.random.random((100, 6, 6, 1))\n",
        "y_train = keras.utils.to_categorical(np.random.randint(10, size=(100, 1)), num_classes=10)\n",
        "x_test = np.random.random((20, 6, 6, 1))\n",
        "y_test = keras.utils.to_categorical(np.random.randint(10, size=(20, 1)), num_classes=10)\n",
        "\n",
        "# 畳み込みニューラルネットワークのモデルを作成\n",
        "model = Sequential()\n",
        "model.add(Conv2D(filters=3, kernel_size=(3, 3), input_shape=(6, 6, 1), kernel_initializer='lecun_uniform', name='Conv2D_1'))\n",
        "model.add(Flatten(name='Flatten_1'))\n",
        "model.add(Dense(units=10, activation='softmax', name='Dense_1'))\n",
        "\n",
        "# シーケンスを出力\n",
        "SVG(model_to_dot(model, show_shapes=True).create(prog='dot', format='svg'))\n",
        "\n",
        "# 早期終了を設定\n",
        "earlyStopping = callbacks.EarlyStopping(monitor='val_loss', patience=5)\n",
        "\n",
        "# モデルのコンパイル\n",
        "model.compile(loss='mean_squared_error', optimizer='sgd')\n",
        "model.fit(x_train, y_train, batch_size=32, epochs=10, callbacks=[earlyStopping], validation_split=0.2)"
      ],
      "execution_count": 14,
      "outputs": [
        {
          "output_type": "stream",
          "text": [
            "Train on 80 samples, validate on 20 samples\n",
            "Epoch 1/10\n",
            "80/80 [==============================] - 0s 2ms/step - loss: 0.0914 - val_loss: 0.0907\n",
            "Epoch 2/10\n",
            "80/80 [==============================] - 0s 147us/step - loss: 0.0914 - val_loss: 0.0907\n",
            "Epoch 3/10\n",
            "80/80 [==============================] - 0s 105us/step - loss: 0.0914 - val_loss: 0.0907\n",
            "Epoch 4/10\n",
            "80/80 [==============================] - 0s 113us/step - loss: 0.0913 - val_loss: 0.0907\n",
            "Epoch 5/10\n",
            "80/80 [==============================] - 0s 87us/step - loss: 0.0913 - val_loss: 0.0907\n",
            "Epoch 6/10\n",
            "80/80 [==============================] - 0s 91us/step - loss: 0.0913 - val_loss: 0.0907\n"
          ],
          "name": "stdout"
        },
        {
          "output_type": "execute_result",
          "data": {
            "text/plain": [
              "<keras.callbacks.History at 0x7f7fa4561dd8>"
            ]
          },
          "metadata": {
            "tags": []
          },
          "execution_count": 14
        }
      ]
    }
  ]
}