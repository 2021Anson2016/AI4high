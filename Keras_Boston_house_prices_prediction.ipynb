{
  "nbformat": 4,
  "nbformat_minor": 0,
  "metadata": {
    "colab": {
      "name": "“Keras_Boston house prices prediction.ipynb”的副本",
      "version": "0.3.2",
      "provenance": []
    },
    "kernelspec": {
      "name": "python3",
      "display_name": "Python 3"
    }
  },
  "cells": [
    {
      "cell_type": "markdown",
      "metadata": {
        "id": "7px02IcUaC_d",
        "colab_type": "text"
      },
      "source": [
        "# ML專案:Boston  house prices prediction"
      ]
    },
    {
      "cell_type": "markdown",
      "metadata": {
        "id": "6dVVJfQiadD3",
        "colab_type": "text"
      },
      "source": [
        "https://www.kaggle.com/sagarnildass/predicting-boston-house-prices\n",
        "\n",
        "https://github.com/antra0497/Udacity-Predicting-Boston-Housing-Prices/blob/master/boston_housing.ipynb\n",
        "\n",
        "https://github.com/DavidCico/Boston-House-Prices-With-Regression-Machine-Learning-and-Keras-Deep-Learning/blob/master/Boston_deeplearning_regression.ipynb"
      ]
    },
    {
      "cell_type": "markdown",
      "metadata": {
        "id": "kInhSgOjesQ_",
        "colab_type": "text"
      },
      "source": [
        "波士頓房價( Boston House Price) 資料集\n",
        "```\n",
        "資料集中的每一行資料都是對波士頓周邊或城鎮房價的描述。\n",
        "資料是1978 年統計收集的，包含以下14 個特徵和506 條資料。\n",
        "```\n",
        "```\n",
        "CRIM: 城鎮人均犯罪率。\n",
        "ZN: 住宅用地所占比例。\n",
        "lNDUS: 城鎮中非住宅用地所占比例。\n",
        "CHAS: 虛擬變數，用於回歸分析。\n",
        "NOX: 環保指數。\n",
        "RM: 每棟住宅的房間數。\n",
        "AGE: 1940 年以前建成的自住單位的比例。\n",
        "DIS: 距離5 個波士頓的就業中心的加權距離。\n",
        "RAD: 距離高速公路的便利指數。\n",
        "TAX: 每一萬美元的不動產稅率。\n",
        "PTRATIO: 城鎮中教師和學生的比例。\n",
        "B: 城鎮中黑人的比例。\n",
        "LSTAT: 地區中有多少房東屬於低收入人群。\n",
        "MEDV: 自住房屋房價中位數。\n",
        "```"
      ]
    },
    {
      "cell_type": "code",
      "metadata": {
        "id": "Wi8yF3sAaCH7",
        "colab_type": "code",
        "outputId": "a3536c57-4a72-4645-d936-f1483526152e",
        "colab": {
          "base_uri": "https://localhost:8080/",
          "height": 34
        }
      },
      "source": [
        "from sklearn import datasets\n",
        "import numpy as np\n",
        "from keras.models import Sequential\n",
        "from keras.layers import Dense\n",
        "from keras.wrappers.scikit_learn import KerasRegressor\n",
        "from sklearn.model_selection import cross_val_score\n",
        "from sklearn.model_selection import KFold\n",
        "from sklearn.preprocessing import StandardScaler\n",
        "from sklearn.pipeline import Pipeline\n",
        "from sklearn.model_selection import GridSearchCV\n"
      ],
      "execution_count": 0,
      "outputs": [
        {
          "output_type": "stream",
          "text": [
            "Using TensorFlow backend.\n"
          ],
          "name": "stderr"
        }
      ]
    },
    {
      "cell_type": "markdown",
      "metadata": {
        "id": "BkRmSBvsedRv",
        "colab_type": "text"
      },
      "source": [
        "### 載入資料集"
      ]
    },
    {
      "cell_type": "code",
      "metadata": {
        "id": "ZqARVVi6eb4W",
        "colab_type": "code",
        "colab": {}
      },
      "source": [
        "dataset = datasets.load_boston()\n",
        "\n",
        "x = dataset.data\n",
        "Y = dataset.target\n",
        "\n"
      ],
      "execution_count": 0,
      "outputs": []
    },
    {
      "cell_type": "code",
      "metadata": {
        "id": "0ZeTQ6pDel8H",
        "colab_type": "code",
        "outputId": "4f61272d-9e3d-4b01-eb53-16c4af785958",
        "colab": {
          "base_uri": "https://localhost:8080/",
          "height": 68
        }
      },
      "source": [
        "x[0]"
      ],
      "execution_count": 0,
      "outputs": [
        {
          "output_type": "execute_result",
          "data": {
            "text/plain": [
              "array([6.320e-03, 1.800e+01, 2.310e+00, 0.000e+00, 5.380e-01, 6.575e+00,\n",
              "       6.520e+01, 4.090e+00, 1.000e+00, 2.960e+02, 1.530e+01, 3.969e+02,\n",
              "       4.980e+00])"
            ]
          },
          "metadata": {
            "tags": []
          },
          "execution_count": 5
        }
      ]
    },
    {
      "cell_type": "code",
      "metadata": {
        "id": "zfFaE7NPfAkQ",
        "colab_type": "code",
        "colab": {}
      },
      "source": [
        "# 設定隨機種子\n",
        "seed = 7\n",
        "np.random.seed(seed)\n"
      ],
      "execution_count": 0,
      "outputs": []
    },
    {
      "cell_type": "code",
      "metadata": {
        "id": "xWUUNkfEfISX",
        "colab_type": "code",
        "colab": {}
      },
      "source": [
        "# 構建模型函數\n",
        "def create_model(units_list=[13],optimizer='adam', init='normal'):\n",
        "    # 構建模型\n",
        "    model = Sequential()\n",
        "\n",
        "    # 構建第一個隱藏層和輸入層\n",
        "    units = units_list[0]\n",
        "    model.add(Dense(units=units, activation='relu', input_dim=13, kernel_initializer=init))\n",
        "    # 構建更多隱藏層\n",
        "    for units in units_list[1:]:\n",
        "        model.add(Dense(units=units, activation='relu', kernel_initializer=init))\n",
        "\n",
        "    model.add(Dense(units=1, kernel_initializer=init))\n",
        "\n",
        "    # 編譯模型\n",
        "    model.compile(loss='mean_squared_error', optimizer=optimizer)\n",
        "\n",
        "    return model\n"
      ],
      "execution_count": 0,
      "outputs": []
    },
    {
      "cell_type": "code",
      "metadata": {
        "id": "6Pmy4zXZfQXd",
        "colab_type": "code",
        "outputId": "17f61e05-7788-451c-b387-0fcb26431651",
        "colab": {
          "base_uri": "https://localhost:8080/",
          "height": 157
        }
      },
      "source": [
        "model = KerasRegressor(build_fn=create_model, epochs=200, batch_size=5, verbose=0)\n",
        "\n",
        "\n",
        "# 設置演算法評估基準\n",
        "kfold = KFold(n_splits=10, shuffle=True, random_state=seed)\n",
        "results = cross_val_score(model, x, Y, cv=kfold)\n",
        "print('Baseline: %.2f (%.2f) MSE' % (results.mean(), results.std()))"
      ],
      "execution_count": 0,
      "outputs": [
        {
          "output_type": "stream",
          "text": [
            "WARNING:tensorflow:From /usr/local/lib/python3.6/dist-packages/tensorflow/python/framework/op_def_library.py:263: colocate_with (from tensorflow.python.framework.ops) is deprecated and will be removed in a future version.\n",
            "Instructions for updating:\n",
            "Colocations handled automatically by placer.\n",
            "WARNING:tensorflow:From /usr/local/lib/python3.6/dist-packages/tensorflow/python/ops/math_ops.py:3066: to_int32 (from tensorflow.python.ops.math_ops) is deprecated and will be removed in a future version.\n",
            "Instructions for updating:\n",
            "Use tf.cast instead.\n",
            "Baseline: -21.16 (10.52) MSE\n"
          ],
          "name": "stdout"
        }
      ]
    },
    {
      "cell_type": "markdown",
      "metadata": {
        "id": "4vKHkXjIgpi3",
        "colab_type": "text"
      },
      "source": [
        "##  資料正態化，改進演算法"
      ]
    },
    {
      "cell_type": "code",
      "metadata": {
        "id": "JwLky9biflcb",
        "colab_type": "code",
        "outputId": "1edc74c8-c5be-4eed-d446-e25f658d0077",
        "colab": {
          "base_uri": "https://localhost:8080/",
          "height": 34
        }
      },
      "source": [
        "\n",
        "steps = []\n",
        "steps.append(('standardize', StandardScaler()))\n",
        "steps.append(('mlp', model))\n",
        "pipeline = Pipeline(steps)\n",
        "kfold = KFold(n_splits=10, shuffle=True, random_state=seed)\n",
        "results = cross_val_score(pipeline, x, Y, cv=kfold)\n",
        "print('Standardize: %.2f (%.2f) MSE' % (results.mean(), results.std()))\n"
      ],
      "execution_count": 0,
      "outputs": [
        {
          "output_type": "stream",
          "text": [
            "Standardize: -12.65 (6.97) MSE\n"
          ],
          "name": "stdout"
        }
      ]
    },
    {
      "cell_type": "markdown",
      "metadata": {
        "id": "8qax-21xgtBJ",
        "colab_type": "text"
      },
      "source": [
        "## 測試不同演算法及其他參數\n",
        "\n",
        "調整不同參數以便選擇最優模型"
      ]
    },
    {
      "cell_type": "code",
      "metadata": {
        "id": "aYOyVFG8fmE1",
        "colab_type": "code",
        "colab": {}
      },
      "source": [
        "\n",
        "param_grid = {}\n",
        "param_grid['units_list'] = [[20], [13, 6]]\n",
        "param_grid['optimizer'] = ['rmsprop', 'adam']\n",
        "param_grid['init'] = ['glorot_uniform', 'normal']\n",
        "param_grid['epochs'] = [100, 200]\n",
        "param_grid['batch_size'] = [5, 20]\n"
      ],
      "execution_count": 0,
      "outputs": []
    },
    {
      "cell_type": "code",
      "metadata": {
        "id": "EXIJ-Wp9fp3d",
        "colab_type": "code",
        "outputId": "700e7313-a7f0-42dd-c572-6918d917ee83",
        "colab": {
          "base_uri": "https://localhost:8080/",
          "height": 106
        }
      },
      "source": [
        "# 調參\n",
        "scaler = StandardScaler()\n",
        "scaler_x = scaler.fit_transform(x)\n",
        "grid = GridSearchCV(estimator=model, param_grid=param_grid)\n",
        "results = grid.fit(scaler_x, Y)\n"
      ],
      "execution_count": 0,
      "outputs": [
        {
          "output_type": "stream",
          "text": [
            "/usr/local/lib/python3.6/dist-packages/sklearn/model_selection/_split.py:1978: FutureWarning: The default value of cv will change from 3 to 5 in version 0.22. Specify it explicitly to silence this warning.\n",
            "  warnings.warn(CV_WARNING, FutureWarning)\n",
            "/usr/local/lib/python3.6/dist-packages/sklearn/model_selection/_search.py:813: DeprecationWarning: The default of the `iid` parameter will change from True to False in version 0.22 and will be removed in 0.24. This will change numeric results when test-set sizes are unequal.\n",
            "  DeprecationWarning)\n"
          ],
          "name": "stderr"
        }
      ]
    },
    {
      "cell_type": "code",
      "metadata": {
        "id": "j8a13OfVfsPV",
        "colab_type": "code",
        "outputId": "c4186768-7685-48b1-9ef9-5cf80638ac41",
        "colab": {
          "base_uri": "https://localhost:8080/",
          "height": 603
        }
      },
      "source": [
        "# 輸出結果\n",
        "print('Best: %f using %s' % (results.best_score_, results.best_params_))\n",
        "means = results.cv_results_['mean_test_score']\n",
        "stds = results.cv_results_['std_test_score']\n",
        "params = results.cv_results_['params']\n",
        "\n",
        "for mean, std, param in zip(means, stds, params):\n",
        "    print('%f (%f) with: %r' % (mean, std, param))\n"
      ],
      "execution_count": 0,
      "outputs": [
        {
          "output_type": "stream",
          "text": [
            "Best: -24.553191 using {'batch_size': 5, 'epochs': 100, 'init': 'glorot_uniform', 'optimizer': 'rmsprop', 'units_list': [13, 6]}\n",
            "-36.911305 (20.581992) with: {'batch_size': 5, 'epochs': 100, 'init': 'glorot_uniform', 'optimizer': 'rmsprop', 'units_list': [20]}\n",
            "-24.553191 (16.760687) with: {'batch_size': 5, 'epochs': 100, 'init': 'glorot_uniform', 'optimizer': 'rmsprop', 'units_list': [13, 6]}\n",
            "-48.017717 (35.475526) with: {'batch_size': 5, 'epochs': 100, 'init': 'glorot_uniform', 'optimizer': 'adam', 'units_list': [20]}\n",
            "-31.651377 (14.743790) with: {'batch_size': 5, 'epochs': 100, 'init': 'glorot_uniform', 'optimizer': 'adam', 'units_list': [13, 6]}\n",
            "-57.498927 (40.035703) with: {'batch_size': 5, 'epochs': 100, 'init': 'normal', 'optimizer': 'rmsprop', 'units_list': [20]}\n",
            "-50.858566 (48.022781) with: {'batch_size': 5, 'epochs': 100, 'init': 'normal', 'optimizer': 'rmsprop', 'units_list': [13, 6]}\n",
            "-41.051482 (18.660904) with: {'batch_size': 5, 'epochs': 100, 'init': 'normal', 'optimizer': 'adam', 'units_list': [20]}\n",
            "-35.641791 (19.274586) with: {'batch_size': 5, 'epochs': 100, 'init': 'normal', 'optimizer': 'adam', 'units_list': [13, 6]}\n",
            "-40.364227 (20.933909) with: {'batch_size': 5, 'epochs': 200, 'init': 'glorot_uniform', 'optimizer': 'rmsprop', 'units_list': [20]}\n",
            "-59.233934 (66.853641) with: {'batch_size': 5, 'epochs': 200, 'init': 'glorot_uniform', 'optimizer': 'rmsprop', 'units_list': [13, 6]}\n",
            "-84.184031 (91.528684) with: {'batch_size': 5, 'epochs': 200, 'init': 'glorot_uniform', 'optimizer': 'adam', 'units_list': [20]}\n",
            "-37.829555 (22.128370) with: {'batch_size': 5, 'epochs': 200, 'init': 'glorot_uniform', 'optimizer': 'adam', 'units_list': [13, 6]}\n",
            "-33.201878 (13.469600) with: {'batch_size': 5, 'epochs': 200, 'init': 'normal', 'optimizer': 'rmsprop', 'units_list': [20]}\n",
            "-32.654478 (18.267959) with: {'batch_size': 5, 'epochs': 200, 'init': 'normal', 'optimizer': 'rmsprop', 'units_list': [13, 6]}\n",
            "-52.551423 (40.435132) with: {'batch_size': 5, 'epochs': 200, 'init': 'normal', 'optimizer': 'adam', 'units_list': [20]}\n",
            "-30.038337 (14.713414) with: {'batch_size': 5, 'epochs': 200, 'init': 'normal', 'optimizer': 'adam', 'units_list': [13, 6]}\n",
            "-67.744584 (58.169475) with: {'batch_size': 20, 'epochs': 100, 'init': 'glorot_uniform', 'optimizer': 'rmsprop', 'units_list': [20]}\n",
            "-43.932512 (18.680678) with: {'batch_size': 20, 'epochs': 100, 'init': 'glorot_uniform', 'optimizer': 'rmsprop', 'units_list': [13, 6]}\n",
            "-81.729060 (63.807510) with: {'batch_size': 20, 'epochs': 100, 'init': 'glorot_uniform', 'optimizer': 'adam', 'units_list': [20]}\n",
            "-69.103331 (58.459217) with: {'batch_size': 20, 'epochs': 100, 'init': 'glorot_uniform', 'optimizer': 'adam', 'units_list': [13, 6]}\n",
            "-99.611248 (82.340009) with: {'batch_size': 20, 'epochs': 100, 'init': 'normal', 'optimizer': 'rmsprop', 'units_list': [20]}\n",
            "-69.871254 (46.009035) with: {'batch_size': 20, 'epochs': 100, 'init': 'normal', 'optimizer': 'rmsprop', 'units_list': [13, 6]}\n",
            "-91.173815 (63.971810) with: {'batch_size': 20, 'epochs': 100, 'init': 'normal', 'optimizer': 'adam', 'units_list': [20]}\n",
            "-73.756799 (57.047921) with: {'batch_size': 20, 'epochs': 100, 'init': 'normal', 'optimizer': 'adam', 'units_list': [13, 6]}\n",
            "-41.714894 (28.122526) with: {'batch_size': 20, 'epochs': 200, 'init': 'glorot_uniform', 'optimizer': 'rmsprop', 'units_list': [20]}\n",
            "-32.685020 (14.857232) with: {'batch_size': 20, 'epochs': 200, 'init': 'glorot_uniform', 'optimizer': 'rmsprop', 'units_list': [13, 6]}\n",
            "-75.369779 (56.522623) with: {'batch_size': 20, 'epochs': 200, 'init': 'glorot_uniform', 'optimizer': 'adam', 'units_list': [20]}\n",
            "-32.163557 (20.653004) with: {'batch_size': 20, 'epochs': 200, 'init': 'glorot_uniform', 'optimizer': 'adam', 'units_list': [13, 6]}\n",
            "-64.909334 (53.117830) with: {'batch_size': 20, 'epochs': 200, 'init': 'normal', 'optimizer': 'rmsprop', 'units_list': [20]}\n",
            "-48.647751 (34.359788) with: {'batch_size': 20, 'epochs': 200, 'init': 'normal', 'optimizer': 'rmsprop', 'units_list': [13, 6]}\n",
            "-69.367809 (58.434250) with: {'batch_size': 20, 'epochs': 200, 'init': 'normal', 'optimizer': 'adam', 'units_list': [20]}\n",
            "-41.707587 (26.520615) with: {'batch_size': 20, 'epochs': 200, 'init': 'normal', 'optimizer': 'adam', 'units_list': [13, 6]}\n"
          ],
          "name": "stdout"
        }
      ]
    }
  ]
}