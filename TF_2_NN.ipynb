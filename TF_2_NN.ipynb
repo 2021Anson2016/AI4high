{
  "nbformat": 4,
  "nbformat_minor": 0,
  "metadata": {
    "colab": {
      "name": "TF_2_NN.ipynb",
      "version": "0.3.2",
      "provenance": [],
      "include_colab_link": true
    },
    "kernelspec": {
      "name": "python3",
      "display_name": "Python 3"
    }
  },
  "cells": [
    {
      "cell_type": "markdown",
      "metadata": {
        "id": "view-in-github",
        "colab_type": "text"
      },
      "source": [
        "<a href=\"https://colab.research.google.com/github/MyDearGreatTeacher/AI4high/blob/master/TF_2_NN.ipynb\" target=\"_parent\"><img src=\"https://colab.research.google.com/assets/colab-badge.svg\" alt=\"Open In Colab\"/></a>"
      ]
    },
    {
      "cell_type": "markdown",
      "metadata": {
        "id": "XjhCwM1wKf_W",
        "colab_type": "text"
      },
      "source": [
        "# Operational_Gate\n",
        "\n",
        "\n",
        "TensorFlow機器學習實戰指南 (美)尼克‧麥克盧爾 機械工業\n",
        "\n",
        "https://github.com/nfmcclure/tensorflow_cookbook\n",
        "\n",
        "06_Neural_Networks/02_Implementing_an_Operational_Gate"
      ]
    },
    {
      "cell_type": "code",
      "metadata": {
        "id": "fKpRBNUZKbKz",
        "colab_type": "code",
        "colab": {
          "base_uri": "https://localhost:8080/",
          "height": 277
        },
        "outputId": "8123512f-3da1-4e70-c139-a38e96e014c8"
      },
      "source": [
        "# Implementing Gates\n",
        "#----------------------------------\n",
        "#\n",
        "# This function shows how to implement\n",
        "# various gates in TensorFlow\n",
        "#\n",
        "# One gate will be one operation with\n",
        "# a variable and a placeholder.\n",
        "# We will ask TensorFlow to change the\n",
        "# variable based on our loss function\n",
        "\n",
        "import tensorflow as tf\n",
        "from tensorflow.python.framework import ops\n",
        "ops.reset_default_graph()\n",
        "\n",
        "# Start Graph Session\n",
        "sess = tf.Session()\n",
        "\n",
        "#----------------------------------\n",
        "# Create a multiplication gate:\n",
        "#   f(x) = a * x\n",
        "#\n",
        "#  a --\n",
        "#      |\n",
        "#      |---- (multiply) --> output\n",
        "#  x --|\n",
        "#\n",
        "\n",
        "a = tf.Variable(tf.constant(4.))\n",
        "x_val = 5.\n",
        "x_data = tf.placeholder(dtype=tf.float32)\n",
        "\n",
        "multiplication = tf.multiply(a, x_data)\n",
        "\n",
        "# Declare the loss function as the difference between\n",
        "# the output and a target value, 50.\n",
        "loss = tf.square(tf.subtract(multiplication, 50.))\n",
        "\n",
        "# Initialize variables\n",
        "init = tf.global_variables_initializer()\n",
        "sess.run(init)\n",
        "\n",
        "# Declare optimizer\n",
        "my_opt = tf.train.GradientDescentOptimizer(0.01)\n",
        "train_step = my_opt.minimize(loss)\n",
        "\n",
        "# Run loop across gate\n",
        "print('Optimizing a Multiplication Gate Output to 50.')\n",
        "for _ in range(10):\n",
        "    sess.run(train_step, feed_dict={x_data: x_val})\n",
        "    a_val = sess.run(a)\n",
        "    mult_output = sess.run(multiplication, feed_dict={x_data: x_val})\n",
        "    print(str(a_val) + ' * ' + str(x_val) + ' = ' + str(mult_output))"
      ],
      "execution_count": 1,
      "outputs": [
        {
          "output_type": "stream",
          "text": [
            "WARNING:tensorflow:From /usr/local/lib/python3.6/dist-packages/tensorflow/python/framework/op_def_library.py:263: colocate_with (from tensorflow.python.framework.ops) is deprecated and will be removed in a future version.\n",
            "Instructions for updating:\n",
            "Colocations handled automatically by placer.\n",
            "Optimizing a Multiplication Gate Output to 50.\n",
            "7.0 * 5.0 = 35.0\n",
            "8.5 * 5.0 = 42.5\n",
            "9.25 * 5.0 = 46.25\n",
            "9.625 * 5.0 = 48.125\n",
            "9.8125 * 5.0 = 49.0625\n",
            "9.90625 * 5.0 = 49.53125\n",
            "9.953125 * 5.0 = 49.765625\n",
            "9.9765625 * 5.0 = 49.882812\n",
            "9.988281 * 5.0 = 49.941406\n",
            "9.994141 * 5.0 = 49.970703\n"
          ],
          "name": "stdout"
        }
      ]
    }
  ]
}