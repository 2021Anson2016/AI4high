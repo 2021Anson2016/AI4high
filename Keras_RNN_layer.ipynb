{
  "nbformat": 4,
  "nbformat_minor": 0,
  "metadata": {
    "colab": {
      "name": "Keras_RNN_layer.ipynb",
      "version": "0.3.2",
      "provenance": [],
      "include_colab_link": true
    },
    "kernelspec": {
      "name": "python3",
      "display_name": "Python 3"
    }
  },
  "cells": [
    {
      "cell_type": "markdown",
      "metadata": {
        "id": "view-in-github",
        "colab_type": "text"
      },
      "source": [
        "<a href=\"https://colab.research.google.com/github/MyDearGreatTeacher/AI4high/blob/master/Keras_RNN_layer.ipynb\" target=\"_parent\"><img src=\"https://colab.research.google.com/assets/colab-badge.svg\" alt=\"Open In Colab\"/></a>"
      ]
    },
    {
      "cell_type": "markdown",
      "metadata": {
        "id": "StVylY3edW9X",
        "colab_type": "text"
      },
      "source": [
        "# Keras RNN layer練習\n",
        "\n",
        "深度學習入門教室：6堂基礎課程+Python實作練習，Deep Learning、人工智慧、機器學習的理論和應用全圖解 \n",
        "\n",
        "\n",
        "いちばんやさしい ディープラーニング入門教室\n",
        "\n",
        "谷岡広樹( Hiroki Tanioka), 康鑫(Kang Xin), \n",
        "\n",
        "莊永裕   臉譜  2019-01-27"
      ]
    },
    {
      "cell_type": "markdown",
      "metadata": {
        "id": "sYQQ0g3hdY23",
        "colab_type": "text"
      },
      "source": [
        "【第6章  深度學習的應用】\n",
        " \n",
        "Lesson 6-1│遞迴神經網路（RNN）：RNN的特徵\n",
        " \n",
        "Lesson 6-2│LSTM類神經網路：LSTM的特徵\n",
        " \n",
        "Lesson 6-3│門閘遞迴單元（GRU）：GRU的特徵╱能更有效率地記憶\n",
        " \n",
        "Lesson 6-4│RNN語言模型：使其推測接下來將出現的單字\n",
        " \n",
        "Lesson 6-5│Sequence-To-Sequence模型：Sequence-To-Sequence模型的特徵\n",
        " \n",
        "Lesson 6-6│Attention：Attention的特徵"
      ]
    },
    {
      "cell_type": "markdown",
      "metadata": {
        "id": "fhbGElmXd-mp",
        "colab_type": "text"
      },
      "source": [
        "from keras.datasets import imdb\n",
        "\n",
        "(x_train, y_train), (x_test, y_test) = imdb.load_data(path=\"imdb.npz\",\n",
        "                                                      num_words=None,\n",
        "                                                      skip_top=0,\n",
        "                                                      maxlen=None,\n",
        "                                                      seed=113,\n",
        "                                                      start_char=1,\n",
        "                                                      oov_char=2,\n",
        "                                                      index_from=3)\n",
        "                                                      \n",
        " https://keras.io/zh/datasets/"
      ]
    },
    {
      "cell_type": "code",
      "metadata": {
        "id": "yLGDb0oQiuXu",
        "colab_type": "code",
        "colab": {
          "base_uri": "https://localhost:8080/",
          "height": 276
        },
        "outputId": "e342ca9e-f213-4970-c198-870d460e5ee3"
      },
      "source": [
        "# coding: utf-8\n",
        "# SimpleRNN, LSTM, GRUを使ったRNNの例\n",
        "\n",
        "# RNN Model 3 - GRU\n",
        "# Kerasとその他ライブラリをインポート\n",
        "from keras.models import Model\n",
        "from keras.layers import Input, GRU\n",
        "\n",
        "# SVGの表示に必要なライブラリのインポート\n",
        "from IPython.display import SVG\n",
        "from keras.utils.vis_utils import model_to_dot\n",
        "\n",
        "# ユニット数、ステップ数、入力次元数、入力データの形状を定義\n",
        "units = 10\n",
        "time_steps = 5\n",
        "input_dim = 15\n",
        "input_shape = (time_steps, input_dim)\n",
        "\n",
        "# 再帰型ニューラルネットワークのモデルを作成\n",
        "x = Input(shape=input_shape, name='Input')\n",
        "y = GRU(units=units, activation='sigmoid', name='GRU_1')(x)\n",
        "model = Model(inputs=[x], outputs=[y])\n",
        "\n",
        "# SVG形式でモデルを表示 (図6-3-2)\n",
        "SVG(model_to_dot(model, show_shapes=True).create(prog='dot', format='svg'))\n",
        "\n",
        "# 再帰型ニューラルネットワークのモデルを作成、シーケンスを出力\n",
        "y = GRU(units=units, activation='sigmoid', return_sequences=True, name='GRU_1')(x)\n",
        "model = Model(inputs=[x], outputs=[y])\n",
        "\n",
        "# SVG形式でモデルを表示 (図6-3-3)\n",
        "SVG(model_to_dot(model, show_shapes=True).create(prog='dot', format='svg'))\n",
        "\n",
        "# 再帰型ニューラルネットワークのモデルを作成、内部状態も出力\n",
        "y, state = GRU(units=units, activation='sigmoid', return_state=True, name='GRU_1')(x)\n",
        "model = Model(inputs=[x], outputs=[y])\n",
        "\n",
        "# SVG形式でモデルを表示 (図6-3-4)\n",
        "SVG(model_to_dot(model, show_shapes=True).create(prog='dot', format='svg'))"
      ],
      "execution_count": 6,
      "outputs": [
        {
          "output_type": "stream",
          "text": [
            "WARNING:tensorflow:From /usr/local/lib/python3.6/dist-packages/tensorflow/python/framework/op_def_library.py:263: colocate_with (from tensorflow.python.framework.ops) is deprecated and will be removed in a future version.\n",
            "Instructions for updating:\n",
            "Colocations handled automatically by placer.\n"
          ],
          "name": "stdout"
        },
        {
          "output_type": "execute_result",
          "data": {
            "text/plain": [
              "<IPython.core.display.SVG object>"
            ],
            "image/svg+xml": "<svg height=\"138pt\" viewBox=\"0.00 0.00 326.00 138.00\" width=\"326pt\" xmlns=\"http://www.w3.org/2000/svg\" xmlns:xlink=\"http://www.w3.org/1999/xlink\">\n<g class=\"graph\" id=\"graph0\" transform=\"scale(1 1) rotate(0) translate(4 134)\">\n<title>G</title>\n<polygon fill=\"#ffffff\" points=\"-4,4 -4,-134 322,-134 322,4 -4,4\" stroke=\"transparent\"/>\n<!-- 140109411722408 -->\n<g class=\"node\" id=\"node1\">\n<title>140109411722408</title>\n<polygon fill=\"none\" points=\"23,-83.5 23,-129.5 295,-129.5 295,-83.5 23,-83.5\" stroke=\"#000000\"/>\n<text fill=\"#000000\" font-family=\"Times,serif\" font-size=\"14.00\" text-anchor=\"middle\" x=\"82.5\" y=\"-102.8\">Input: InputLayer</text>\n<polyline fill=\"none\" points=\"142,-83.5 142,-129.5 \" stroke=\"#000000\"/>\n<text fill=\"#000000\" font-family=\"Times,serif\" font-size=\"14.00\" text-anchor=\"middle\" x=\"171\" y=\"-114.3\">input:</text>\n<polyline fill=\"none\" points=\"142,-106.5 200,-106.5 \" stroke=\"#000000\"/>\n<text fill=\"#000000\" font-family=\"Times,serif\" font-size=\"14.00\" text-anchor=\"middle\" x=\"171\" y=\"-91.3\">output:</text>\n<polyline fill=\"none\" points=\"200,-83.5 200,-129.5 \" stroke=\"#000000\"/>\n<text fill=\"#000000\" font-family=\"Times,serif\" font-size=\"14.00\" text-anchor=\"middle\" x=\"247.5\" y=\"-114.3\">(None, 5, 15)</text>\n<polyline fill=\"none\" points=\"200,-106.5 295,-106.5 \" stroke=\"#000000\"/>\n<text fill=\"#000000\" font-family=\"Times,serif\" font-size=\"14.00\" text-anchor=\"middle\" x=\"247.5\" y=\"-91.3\">(None, 5, 15)</text>\n</g>\n<!-- 140109401222224 -->\n<g class=\"node\" id=\"node2\">\n<title>140109401222224</title>\n<polygon fill=\"none\" points=\"0,-.5 0,-46.5 318,-46.5 318,-.5 0,-.5\" stroke=\"#000000\"/>\n<text fill=\"#000000\" font-family=\"Times,serif\" font-size=\"14.00\" text-anchor=\"middle\" x=\"50.5\" y=\"-19.8\">GRU_1: GRU</text>\n<polyline fill=\"none\" points=\"101,-.5 101,-46.5 \" stroke=\"#000000\"/>\n<text fill=\"#000000\" font-family=\"Times,serif\" font-size=\"14.00\" text-anchor=\"middle\" x=\"130\" y=\"-31.3\">input:</text>\n<polyline fill=\"none\" points=\"101,-23.5 159,-23.5 \" stroke=\"#000000\"/>\n<text fill=\"#000000\" font-family=\"Times,serif\" font-size=\"14.00\" text-anchor=\"middle\" x=\"130\" y=\"-8.3\">output:</text>\n<polyline fill=\"none\" points=\"159,-.5 159,-46.5 \" stroke=\"#000000\"/>\n<text fill=\"#000000\" font-family=\"Times,serif\" font-size=\"14.00\" text-anchor=\"middle\" x=\"238.5\" y=\"-31.3\">(None, 5, 15)</text>\n<polyline fill=\"none\" points=\"159,-23.5 318,-23.5 \" stroke=\"#000000\"/>\n<text fill=\"#000000\" font-family=\"Times,serif\" font-size=\"14.00\" text-anchor=\"middle\" x=\"238.5\" y=\"-8.3\">[(None, 10), (None, 10)]</text>\n</g>\n<!-- 140109411722408&#45;&gt;140109401222224 -->\n<g class=\"edge\" id=\"edge1\">\n<title>140109411722408-&gt;140109401222224</title>\n<path d=\"M159,-83.3799C159,-75.1745 159,-65.7679 159,-56.8786\" fill=\"none\" stroke=\"#000000\"/>\n<polygon fill=\"#000000\" points=\"162.5001,-56.784 159,-46.784 155.5001,-56.784 162.5001,-56.784\" stroke=\"#000000\"/>\n</g>\n</g>\n</svg>"
          },
          "metadata": {
            "tags": []
          },
          "execution_count": 6
        }
      ]
    },
    {
      "cell_type": "code",
      "metadata": {
        "id": "H10I11XSiw26",
        "colab_type": "code",
        "colab": {
          "base_uri": "https://localhost:8080/",
          "height": 205
        },
        "outputId": "37ad50db-8bd5-4781-e406-68cbbebcc205"
      },
      "source": [
        "# coding: utf-8\n",
        "# SimpleRNN, LSTM, GRUを使ったRNNの例\n",
        "\n",
        "# RNN Model 2 - LSTM\n",
        "# Kerasとその他ライブラリをインポート\n",
        "from keras.models import Model\n",
        "from keras.layers import Input, LSTM\n",
        "\n",
        "# SVGの表示に必要なライブラリのインポート\n",
        "from IPython.display import SVG\n",
        "from keras.utils.vis_utils import model_to_dot\n",
        "\n",
        "# ユニット数、ステップ数、入力次元数、入力データの形状を定義\n",
        "units = 10\n",
        "time_steps = 5\n",
        "input_dim = 15\n",
        "input_shape = (time_steps, input_dim)\n",
        "\n",
        "# 再帰型ニューラルネットワークのモデルを作成\n",
        "x = Input(shape=input_shape, name='Input')\n",
        "y = LSTM(units=units, activation='sigmoid', name='LSTM_1')(x)\n",
        "model = Model(inputs=[x], outputs=[y])\n",
        "\n",
        "# SVG形式でモデルを表示 (図6-2-2)\n",
        "SVG(model_to_dot(model, show_shapes=True).create(prog='dot', format='svg'))\n",
        "\n",
        "# 再帰型ニューラルネットワークのモデルを作成、シーケンスを出力\n",
        "y = LSTM(units=units, activation='sigmoid', return_sequences=True, name='LSTM_1')(x)\n",
        "model = Model(inputs=[x], outputs=[y])\n",
        "\n",
        "# SVG形式でモデルを表示 (図6-2-3)\n",
        "SVG(model_to_dot(model, show_shapes=True).create(prog='dot', format='svg'))\n",
        "\n",
        "# 再帰型ニューラルネットワークのモデルを作成、内部状態も出力\n",
        "x = Input(shape=input_shape, name='Input')\n",
        "y, state_1, state_2 = LSTM(units=units, activation='sigmoid', return_state=True, name='LSTM_1')(x)\n",
        "model = Model(inputs=[x], outputs=[y])\n",
        "\n",
        "# SVG形式でモデルを表示 (図6-2-4)\n",
        "SVG(model_to_dot(model, show_shapes=True).create(prog='dot', format='svg'))"
      ],
      "execution_count": 7,
      "outputs": [
        {
          "output_type": "execute_result",
          "data": {
            "text/plain": [
              "<IPython.core.display.SVG object>"
            ],
            "image/svg+xml": "<svg height=\"138pt\" viewBox=\"0.00 0.00 413.00 138.00\" width=\"413pt\" xmlns=\"http://www.w3.org/2000/svg\" xmlns:xlink=\"http://www.w3.org/1999/xlink\">\n<g class=\"graph\" id=\"graph0\" transform=\"scale(1 1) rotate(0) translate(4 134)\">\n<title>G</title>\n<polygon fill=\"#ffffff\" points=\"-4,4 -4,-134 409,-134 409,4 -4,4\" stroke=\"transparent\"/>\n<!-- 140109395401192 -->\n<g class=\"node\" id=\"node1\">\n<title>140109395401192</title>\n<polygon fill=\"none\" points=\"66.5,-83.5 66.5,-129.5 338.5,-129.5 338.5,-83.5 66.5,-83.5\" stroke=\"#000000\"/>\n<text fill=\"#000000\" font-family=\"Times,serif\" font-size=\"14.00\" text-anchor=\"middle\" x=\"126\" y=\"-102.8\">Input: InputLayer</text>\n<polyline fill=\"none\" points=\"185.5,-83.5 185.5,-129.5 \" stroke=\"#000000\"/>\n<text fill=\"#000000\" font-family=\"Times,serif\" font-size=\"14.00\" text-anchor=\"middle\" x=\"214.5\" y=\"-114.3\">input:</text>\n<polyline fill=\"none\" points=\"185.5,-106.5 243.5,-106.5 \" stroke=\"#000000\"/>\n<text fill=\"#000000\" font-family=\"Times,serif\" font-size=\"14.00\" text-anchor=\"middle\" x=\"214.5\" y=\"-91.3\">output:</text>\n<polyline fill=\"none\" points=\"243.5,-83.5 243.5,-129.5 \" stroke=\"#000000\"/>\n<text fill=\"#000000\" font-family=\"Times,serif\" font-size=\"14.00\" text-anchor=\"middle\" x=\"291\" y=\"-114.3\">(None, 5, 15)</text>\n<polyline fill=\"none\" points=\"243.5,-106.5 338.5,-106.5 \" stroke=\"#000000\"/>\n<text fill=\"#000000\" font-family=\"Times,serif\" font-size=\"14.00\" text-anchor=\"middle\" x=\"291\" y=\"-91.3\">(None, 5, 15)</text>\n</g>\n<!-- 140109394828480 -->\n<g class=\"node\" id=\"node2\">\n<title>140109394828480</title>\n<polygon fill=\"none\" points=\"0,-.5 0,-46.5 405,-46.5 405,-.5 0,-.5\" stroke=\"#000000\"/>\n<text fill=\"#000000\" font-family=\"Times,serif\" font-size=\"14.00\" text-anchor=\"middle\" x=\"58.5\" y=\"-19.8\">LSTM_1: LSTM</text>\n<polyline fill=\"none\" points=\"117,-.5 117,-46.5 \" stroke=\"#000000\"/>\n<text fill=\"#000000\" font-family=\"Times,serif\" font-size=\"14.00\" text-anchor=\"middle\" x=\"146\" y=\"-31.3\">input:</text>\n<polyline fill=\"none\" points=\"117,-23.5 175,-23.5 \" stroke=\"#000000\"/>\n<text fill=\"#000000\" font-family=\"Times,serif\" font-size=\"14.00\" text-anchor=\"middle\" x=\"146\" y=\"-8.3\">output:</text>\n<polyline fill=\"none\" points=\"175,-.5 175,-46.5 \" stroke=\"#000000\"/>\n<text fill=\"#000000\" font-family=\"Times,serif\" font-size=\"14.00\" text-anchor=\"middle\" x=\"290\" y=\"-31.3\">(None, 5, 15)</text>\n<polyline fill=\"none\" points=\"175,-23.5 405,-23.5 \" stroke=\"#000000\"/>\n<text fill=\"#000000\" font-family=\"Times,serif\" font-size=\"14.00\" text-anchor=\"middle\" x=\"290\" y=\"-8.3\">[(None, 10), (None, 10), (None, 10)]</text>\n</g>\n<!-- 140109395401192&#45;&gt;140109394828480 -->\n<g class=\"edge\" id=\"edge1\">\n<title>140109395401192-&gt;140109394828480</title>\n<path d=\"M202.5,-83.3799C202.5,-75.1745 202.5,-65.7679 202.5,-56.8786\" fill=\"none\" stroke=\"#000000\"/>\n<polygon fill=\"#000000\" points=\"206.0001,-56.784 202.5,-46.784 199.0001,-56.784 206.0001,-56.784\" stroke=\"#000000\"/>\n</g>\n</g>\n</svg>"
          },
          "metadata": {
            "tags": []
          },
          "execution_count": 7
        }
      ]
    },
    {
      "cell_type": "code",
      "metadata": {
        "id": "F_TT5APNi25W",
        "colab_type": "code",
        "colab": {
          "base_uri": "https://localhost:8080/",
          "height": 205
        },
        "outputId": "fabce835-d015-4bfe-8941-5fc40be6c7cf"
      },
      "source": [
        "# coding: utf-8\n",
        "# SimpleRNN, LSTM, GRUを使ったRNNの例\n",
        "\n",
        "# RNN Model 1 - SimpleRNN\n",
        "# Kerasとその他ライブラリをインポート\n",
        "from keras.models import Model\n",
        "from keras.layers import Input, SimpleRNN\n",
        "\n",
        "# SVGの表示に必要なライブラリのインポート\n",
        "from IPython.display import SVG\n",
        "from keras.utils.vis_utils import model_to_dot\n",
        "\n",
        "# Windows の場合は以下を追加\n",
        "import os\n",
        "os.environ[\"PATH\"] += os.pathsep + 'C:/Program Files (x86)/Graphviz2.38/bin/'\n",
        "\n",
        "# ユニット数、ステップ数、入力次元数、入力データの形状を定義\n",
        "units = 10\n",
        "time_steps = 5\n",
        "input_dim = 15\n",
        "input_shape = (time_steps, input_dim)\n",
        "\n",
        "# 再帰型ニューラルネットワークのモデルを作成\n",
        "x = Input(shape=input_shape, name='Input')\n",
        "y = SimpleRNN(units=units, activation='sigmoid', name='SimpleRNN_1')(x)\n",
        "model = Model(inputs=[x], outputs=[y])\n",
        "\n",
        "# SVG形式でモデルを表示 (図6-1-5)\n",
        "SVG(model_to_dot(model, show_shapes=True).create(prog='dot', format='svg'))\n",
        "\n",
        "# 再帰型ニューラルネットワークのモデルを作成、シーケンスを出力\n",
        "y = SimpleRNN(units=units, activation='sigmoid', return_sequences=True, name='SimpleRNN_1')(x)\n",
        "model = Model(inputs=[x], outputs=[y])\n",
        "\n",
        "# SVG形式でモデルを表示 (図6-1-6)\n",
        "SVG(model_to_dot(model, show_shapes=True).create(prog='dot', format='svg'))\n",
        "\n",
        "# 再帰型ニューラルネットワークのモデルを作成、内部状態も出力\n",
        "y, state = SimpleRNN(units=units, activation='sigmoid', return_state=True, name='SimpleRNN_1')(x)\n",
        "model = Model(inputs=[x], outputs=[y])\n",
        "\n",
        "# SVG形式でモデルを表示 (図6-1-7)\n",
        "SVG(model_to_dot(model, show_shapes=True).create(prog='dot', format='svg'))"
      ],
      "execution_count": 8,
      "outputs": [
        {
          "output_type": "execute_result",
          "data": {
            "text/plain": [
              "<IPython.core.display.SVG object>"
            ],
            "image/svg+xml": "<svg height=\"138pt\" viewBox=\"0.00 0.00 407.00 138.00\" width=\"407pt\" xmlns=\"http://www.w3.org/2000/svg\" xmlns:xlink=\"http://www.w3.org/1999/xlink\">\n<g class=\"graph\" id=\"graph0\" transform=\"scale(1 1) rotate(0) translate(4 134)\">\n<title>G</title>\n<polygon fill=\"#ffffff\" points=\"-4,4 -4,-134 403,-134 403,4 -4,4\" stroke=\"transparent\"/>\n<!-- 140109391326344 -->\n<g class=\"node\" id=\"node1\">\n<title>140109391326344</title>\n<polygon fill=\"none\" points=\"63.5,-83.5 63.5,-129.5 335.5,-129.5 335.5,-83.5 63.5,-83.5\" stroke=\"#000000\"/>\n<text fill=\"#000000\" font-family=\"Times,serif\" font-size=\"14.00\" text-anchor=\"middle\" x=\"123\" y=\"-102.8\">Input: InputLayer</text>\n<polyline fill=\"none\" points=\"182.5,-83.5 182.5,-129.5 \" stroke=\"#000000\"/>\n<text fill=\"#000000\" font-family=\"Times,serif\" font-size=\"14.00\" text-anchor=\"middle\" x=\"211.5\" y=\"-114.3\">input:</text>\n<polyline fill=\"none\" points=\"182.5,-106.5 240.5,-106.5 \" stroke=\"#000000\"/>\n<text fill=\"#000000\" font-family=\"Times,serif\" font-size=\"14.00\" text-anchor=\"middle\" x=\"211.5\" y=\"-91.3\">output:</text>\n<polyline fill=\"none\" points=\"240.5,-83.5 240.5,-129.5 \" stroke=\"#000000\"/>\n<text fill=\"#000000\" font-family=\"Times,serif\" font-size=\"14.00\" text-anchor=\"middle\" x=\"288\" y=\"-114.3\">(None, 5, 15)</text>\n<polyline fill=\"none\" points=\"240.5,-106.5 335.5,-106.5 \" stroke=\"#000000\"/>\n<text fill=\"#000000\" font-family=\"Times,serif\" font-size=\"14.00\" text-anchor=\"middle\" x=\"288\" y=\"-91.3\">(None, 5, 15)</text>\n</g>\n<!-- 140109401465072 -->\n<g class=\"node\" id=\"node2\">\n<title>140109401465072</title>\n<polygon fill=\"none\" points=\"0,-.5 0,-46.5 399,-46.5 399,-.5 0,-.5\" stroke=\"#000000\"/>\n<text fill=\"#000000\" font-family=\"Times,serif\" font-size=\"14.00\" text-anchor=\"middle\" x=\"91\" y=\"-19.8\">SimpleRNN_1: SimpleRNN</text>\n<polyline fill=\"none\" points=\"182,-.5 182,-46.5 \" stroke=\"#000000\"/>\n<text fill=\"#000000\" font-family=\"Times,serif\" font-size=\"14.00\" text-anchor=\"middle\" x=\"211\" y=\"-31.3\">input:</text>\n<polyline fill=\"none\" points=\"182,-23.5 240,-23.5 \" stroke=\"#000000\"/>\n<text fill=\"#000000\" font-family=\"Times,serif\" font-size=\"14.00\" text-anchor=\"middle\" x=\"211\" y=\"-8.3\">output:</text>\n<polyline fill=\"none\" points=\"240,-.5 240,-46.5 \" stroke=\"#000000\"/>\n<text fill=\"#000000\" font-family=\"Times,serif\" font-size=\"14.00\" text-anchor=\"middle\" x=\"319.5\" y=\"-31.3\">(None, 5, 15)</text>\n<polyline fill=\"none\" points=\"240,-23.5 399,-23.5 \" stroke=\"#000000\"/>\n<text fill=\"#000000\" font-family=\"Times,serif\" font-size=\"14.00\" text-anchor=\"middle\" x=\"319.5\" y=\"-8.3\">[(None, 10), (None, 10)]</text>\n</g>\n<!-- 140109391326344&#45;&gt;140109401465072 -->\n<g class=\"edge\" id=\"edge1\">\n<title>140109391326344-&gt;140109401465072</title>\n<path d=\"M199.5,-83.3799C199.5,-75.1745 199.5,-65.7679 199.5,-56.8786\" fill=\"none\" stroke=\"#000000\"/>\n<polygon fill=\"#000000\" points=\"203.0001,-56.784 199.5,-46.784 196.0001,-56.784 203.0001,-56.784\" stroke=\"#000000\"/>\n</g>\n</g>\n</svg>"
          },
          "metadata": {
            "tags": []
          },
          "execution_count": 8
        }
      ]
    },
    {
      "cell_type": "markdown",
      "metadata": {
        "id": "wbwLSl7yjKRI",
        "colab_type": "text"
      },
      "source": [
        "# Keras RNN 專案\n",
        "\n",
        "IMDB 影評分析"
      ]
    }
  ]
}