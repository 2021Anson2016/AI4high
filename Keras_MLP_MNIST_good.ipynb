{
  "nbformat": 4,
  "nbformat_minor": 0,
  "metadata": {
    "colab": {
      "name": "Keras_MLP_MNIST.ipynb",
      "version": "0.3.2",
      "provenance": [],
      "include_colab_link": true
    },
    "language_info": {
      "codemirror_mode": {
        "name": "ipython",
        "version": 3
      },
      "file_extension": ".py",
      "mimetype": "text/x-python",
      "name": "python",
      "nbconvert_exporter": "python",
      "pygments_lexer": "ipython3",
      "version": "3.5.5"
    },
    "kernelspec": {
      "display_name": "Python 3",
      "language": "python",
      "name": "python3"
    }
  },
  "cells": [
    {
      "cell_type": "markdown",
      "metadata": {
        "id": "view-in-github",
        "colab_type": "text"
      },
      "source": [
        "<a href=\"https://colab.research.google.com/github/MyDearGreatTeacher/AI4high/blob/master/Keras_MLP_MNIST_good.ipynb\" target=\"_parent\"><img src=\"https://colab.research.google.com/assets/colab-badge.svg\" alt=\"Open In Colab\"/></a>"
      ]
    },
    {
      "cell_type": "markdown",
      "metadata": {
        "id": "CiiDSmauM698",
        "colab_type": "text"
      },
      "source": [
        "#  Keras_MLP_MNIST\n",
        "\n",
        "實戰 TensorFlow x Keras 工作現場開發 \n",
        "\n",
        "太田滿久, 須藤広大, 黒澤匠雅, 小田... 許郁文\n",
        " \n",
        "碁峰資訊 2019-03-25\n",
        "\n",
        "Chapter 4 神經網路與 Keras"
      ]
    },
    {
      "cell_type": "markdown",
      "metadata": {
        "id": "oNdXPppzM69-",
        "colab_type": "text"
      },
      "source": [
        "##  Keras Sequential 開發模式:載入資料集"
      ]
    },
    {
      "cell_type": "code",
      "metadata": {
        "id": "dt9W9YW7M69_",
        "colab_type": "code",
        "colab": {}
      },
      "source": [
        "from tensorflow.python.keras.datasets import mnist\n",
        "\n",
        "(x_train, y_train), (x_test, y_test) = mnist.load_data()"
      ],
      "execution_count": 0,
      "outputs": []
    },
    {
      "cell_type": "markdown",
      "metadata": {
        "id": "JuO3r3nFM6-G",
        "colab_type": "text"
      },
      "source": [
        "### 查看資料"
      ]
    },
    {
      "cell_type": "code",
      "metadata": {
        "id": "hcAT87zDM6-H",
        "colab_type": "code",
        "outputId": "c1aadf71-d1e6-4764-e280-f1f886f2fc04",
        "colab": {
          "base_uri": "https://localhost:8080/",
          "height": 85
        }
      },
      "source": [
        "print('x_train.shape:', x_train.shape)\n",
        "print('x_test.shape:', x_test.shape)\n",
        "print('y_train.shape:', y_train.shape)\n",
        "print('y_test.shape:', y_test.shape)"
      ],
      "execution_count": 2,
      "outputs": [
        {
          "output_type": "stream",
          "text": [
            "x_train.shape: (60000, 28, 28)\n",
            "x_test.shape: (10000, 28, 28)\n",
            "y_train.shape: (60000,)\n",
            "y_test.shape: (10000,)\n"
          ],
          "name": "stdout"
        }
      ]
    },
    {
      "cell_type": "markdown",
      "metadata": {
        "id": "nUP1rcTjM6-L",
        "colab_type": "text"
      },
      "source": [
        "### 轉換::28*28=784"
      ]
    },
    {
      "cell_type": "code",
      "metadata": {
        "id": "FRf4lGHBM6-M",
        "colab_type": "code",
        "colab": {}
      },
      "source": [
        "x_train = x_train.reshape(60000, 784)\n",
        "x_test = x_test.reshape(10000, 784)"
      ],
      "execution_count": 0,
      "outputs": []
    },
    {
      "cell_type": "markdown",
      "metadata": {
        "id": "4d9R3VOXGW02",
        "colab_type": "text"
      },
      "source": [
        "### 正規化Normalization"
      ]
    },
    {
      "cell_type": "code",
      "metadata": {
        "id": "jmu8E9ioGTZq",
        "colab_type": "code",
        "colab": {}
      },
      "source": [
        "x_train = x_train/255.\n",
        "x_test = x_test/255."
      ],
      "execution_count": 0,
      "outputs": []
    },
    {
      "cell_type": "markdown",
      "metadata": {
        "id": "prsQ6s4GM6-P",
        "colab_type": "text"
      },
      "source": [
        "## one-shot encoding"
      ]
    },
    {
      "cell_type": "code",
      "metadata": {
        "id": "WtwkvSw4M6-Q",
        "colab_type": "code",
        "colab": {}
      },
      "source": [
        "from tensorflow.python.keras.utils import to_categorical\n",
        "\n",
        "\n",
        "y_train = to_categorical(y_train, 10)\n",
        "y_test = to_categorical(y_test, 10)"
      ],
      "execution_count": 0,
      "outputs": []
    },
    {
      "cell_type": "markdown",
      "metadata": {
        "id": "7_l5YnxnM6-S",
        "colab_type": "text"
      },
      "source": [
        "## 定義(建置)MLP神經網路"
      ]
    },
    {
      "cell_type": "code",
      "metadata": {
        "id": "wETNq2MrM6-T",
        "colab_type": "code",
        "colab": {
          "base_uri": "https://localhost:8080/",
          "height": 88
        },
        "outputId": "7fea2014-86fa-4166-81e2-55e51915b996"
      },
      "source": [
        "from tensorflow.python.keras.models import Sequential\n",
        "from tensorflow.python.keras.layers import Dense\n",
        "\n",
        "model = Sequential()\n",
        "\n",
        "#增加 Hidden Layer\n",
        "#有64個神經元\n",
        "#測試報告:改看看128, 256,1000)\n",
        "\n",
        "model.add(\n",
        "    Dense(\n",
        "        units=64, \n",
        "        input_shape=(784,),\n",
        "        activation='relu'\n",
        "    )\n",
        ")\n",
        "\n",
        "\n",
        "# 試報告:增加dropout layer\n",
        "# Why? 避免overfitting\n",
        "# from tensorflow.python.keras.layers import Dropout\n",
        "# nodel.add(Dropout(0.5))\n",
        "\n",
        "#增加 Output Layer:\n",
        "#activation激活函數用softmax\n",
        "#units=10[數字0-9共10種類別] \n",
        "\n",
        "model.add(\n",
        "    Dense(\n",
        "        units=10, \n",
        "        activation='softmax'\n",
        "    )\n",
        ")"
      ],
      "execution_count": 7,
      "outputs": [
        {
          "output_type": "stream",
          "text": [
            "WARNING:tensorflow:From /usr/local/lib/python3.6/dist-packages/tensorflow/python/ops/resource_variable_ops.py:435: colocate_with (from tensorflow.python.framework.ops) is deprecated and will be removed in a future version.\n",
            "Instructions for updating:\n",
            "Colocations handled automatically by placer.\n"
          ],
          "name": "stdout"
        }
      ]
    },
    {
      "cell_type": "code",
      "metadata": {
        "id": "3jbmOPWe9WtR",
        "colab_type": "code",
        "outputId": "498b0272-d7b6-4a86-d757-124291616cd2",
        "colab": {
          "base_uri": "https://localhost:8080/",
          "height": 204
        }
      },
      "source": [
        "model.summary()"
      ],
      "execution_count": 8,
      "outputs": [
        {
          "output_type": "stream",
          "text": [
            "_________________________________________________________________\n",
            "Layer (type)                 Output Shape              Param #   \n",
            "=================================================================\n",
            "dense (Dense)                (None, 64)                50240     \n",
            "_________________________________________________________________\n",
            "dense_1 (Dense)              (None, 10)                650       \n",
            "=================================================================\n",
            "Total params: 50,890\n",
            "Trainable params: 50,890\n",
            "Non-trainable params: 0\n",
            "_________________________________________________________________\n"
          ],
          "name": "stdout"
        }
      ]
    },
    {
      "cell_type": "markdown",
      "metadata": {
        "id": "WKQB63hrIHdc",
        "colab_type": "text"
      },
      "source": [
        "## 設定模型的執行方式"
      ]
    },
    {
      "cell_type": "code",
      "metadata": {
        "id": "3Ivd3oSTH79s",
        "colab_type": "code",
        "colab": {}
      },
      "source": [
        "model.compile(\n",
        "    optimizer='adam',\n",
        "    loss='categorical_crossentropy',\n",
        "    metrics=['accuracy']\n",
        ")"
      ],
      "execution_count": 0,
      "outputs": []
    },
    {
      "cell_type": "markdown",
      "metadata": {
        "id": "QjHmYdpvM6-g",
        "colab_type": "text"
      },
      "source": [
        "## 訓練"
      ]
    },
    {
      "cell_type": "code",
      "metadata": {
        "colab_type": "code",
        "outputId": "e4291fc4-56cb-438f-9322-0f6dbffca1bb",
        "id": "YArIY2wUIVg2",
        "colab": {
          "base_uri": "https://localhost:8080/",
          "height": 785
        }
      },
      "source": [
        "history_adam = model.fit(\n",
        "    x_train,\n",
        "    y_train,\n",
        "    batch_size=32,\n",
        "    epochs=20,\n",
        "    validation_split=0.2,\n",
        ")"
      ],
      "execution_count": 10,
      "outputs": [
        {
          "output_type": "stream",
          "text": [
            "Train on 48000 samples, validate on 12000 samples\n",
            "WARNING:tensorflow:From /usr/local/lib/python3.6/dist-packages/tensorflow/python/ops/math_ops.py:3066: to_int32 (from tensorflow.python.ops.math_ops) is deprecated and will be removed in a future version.\n",
            "Instructions for updating:\n",
            "Use tf.cast instead.\n",
            "Epoch 1/20\n",
            "48000/48000 [==============================] - 4s 76us/sample - loss: 1.5077 - acc: 0.6284 - val_loss: 0.8545 - val_acc: 0.8137\n",
            "Epoch 2/20\n",
            "48000/48000 [==============================] - 3s 71us/sample - loss: 0.6857 - acc: 0.8325 - val_loss: 0.5299 - val_acc: 0.8719\n",
            "Epoch 3/20\n",
            "48000/48000 [==============================] - 3s 70us/sample - loss: 0.4968 - acc: 0.8713 - val_loss: 0.4222 - val_acc: 0.8917\n",
            "Epoch 4/20\n",
            "48000/48000 [==============================] - 3s 70us/sample - loss: 0.4208 - acc: 0.8875 - val_loss: 0.3720 - val_acc: 0.8993\n",
            "Epoch 5/20\n",
            "48000/48000 [==============================] - 3s 70us/sample - loss: 0.3810 - acc: 0.8954 - val_loss: 0.3435 - val_acc: 0.9046\n",
            "Epoch 6/20\n",
            "48000/48000 [==============================] - 3s 71us/sample - loss: 0.3567 - acc: 0.9006 - val_loss: 0.3257 - val_acc: 0.9082\n",
            "Epoch 7/20\n",
            "48000/48000 [==============================] - 3s 70us/sample - loss: 0.3395 - acc: 0.9044 - val_loss: 0.3138 - val_acc: 0.9118\n",
            "Epoch 8/20\n",
            "48000/48000 [==============================] - 3s 70us/sample - loss: 0.3267 - acc: 0.9074 - val_loss: 0.3024 - val_acc: 0.9128\n",
            "Epoch 9/20\n",
            "48000/48000 [==============================] - 3s 71us/sample - loss: 0.3168 - acc: 0.9100 - val_loss: 0.2953 - val_acc: 0.9161\n",
            "Epoch 10/20\n",
            "48000/48000 [==============================] - 3s 71us/sample - loss: 0.3080 - acc: 0.9124 - val_loss: 0.2870 - val_acc: 0.9183\n",
            "Epoch 11/20\n",
            "48000/48000 [==============================] - 3s 70us/sample - loss: 0.3013 - acc: 0.9135 - val_loss: 0.2827 - val_acc: 0.9207\n",
            "Epoch 12/20\n",
            "48000/48000 [==============================] - 3s 71us/sample - loss: 0.2949 - acc: 0.9154 - val_loss: 0.2776 - val_acc: 0.9211\n",
            "Epoch 13/20\n",
            "48000/48000 [==============================] - 3s 70us/sample - loss: 0.2896 - acc: 0.9170 - val_loss: 0.2729 - val_acc: 0.9231\n",
            "Epoch 14/20\n",
            "48000/48000 [==============================] - 3s 70us/sample - loss: 0.2846 - acc: 0.9184 - val_loss: 0.2691 - val_acc: 0.9241\n",
            "Epoch 15/20\n",
            "48000/48000 [==============================] - 3s 71us/sample - loss: 0.2802 - acc: 0.9198 - val_loss: 0.2690 - val_acc: 0.9247\n",
            "Epoch 16/20\n",
            "48000/48000 [==============================] - 3s 71us/sample - loss: 0.2761 - acc: 0.9206 - val_loss: 0.2634 - val_acc: 0.9244\n",
            "Epoch 17/20\n",
            "48000/48000 [==============================] - 3s 71us/sample - loss: 0.2723 - acc: 0.9214 - val_loss: 0.2591 - val_acc: 0.9253\n",
            "Epoch 18/20\n",
            "48000/48000 [==============================] - 3s 72us/sample - loss: 0.2679 - acc: 0.9231 - val_loss: 0.2579 - val_acc: 0.9254\n",
            "Epoch 19/20\n",
            "48000/48000 [==============================] - 3s 70us/sample - loss: 0.2643 - acc: 0.9240 - val_loss: 0.2534 - val_acc: 0.9282\n",
            "Epoch 20/20\n",
            "48000/48000 [==============================] - 3s 70us/sample - loss: 0.2606 - acc: 0.9251 - val_loss: 0.2498 - val_acc: 0.9304\n"
          ],
          "name": "stdout"
        }
      ]
    }
  ]
}