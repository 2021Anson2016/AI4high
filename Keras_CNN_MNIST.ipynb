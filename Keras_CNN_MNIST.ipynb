{
  "nbformat": 4,
  "nbformat_minor": 0,
  "metadata": {
    "colab": {
      "name": "Keras_CNN_MNIST.ipynb",
      "version": "0.3.2",
      "provenance": [],
      "include_colab_link": true
    },
    "language_info": {
      "codemirror_mode": {
        "name": "ipython",
        "version": 3
      },
      "file_extension": ".py",
      "mimetype": "text/x-python",
      "name": "python",
      "nbconvert_exporter": "python",
      "pygments_lexer": "ipython3",
      "version": "3.5.5"
    },
    "kernelspec": {
      "display_name": "Python 3",
      "language": "python",
      "name": "python3"
    }
  },
  "cells": [
    {
      "cell_type": "markdown",
      "metadata": {
        "id": "view-in-github",
        "colab_type": "text"
      },
      "source": [
        "<a href=\"https://colab.research.google.com/github/MyDearGreatTeacher/AI4high/blob/master/Keras_CNN_MNIST.ipynb\" target=\"_parent\"><img src=\"https://colab.research.google.com/assets/colab-badge.svg\" alt=\"Open In Colab\"/></a>"
      ]
    },
    {
      "cell_type": "markdown",
      "metadata": {
        "id": "CiiDSmauM698",
        "colab_type": "text"
      },
      "source": [
        "#  Keras_CNN_MNIST\n",
        "\n",
        "實戰 TensorFlow x Keras 工作現場開發 \n",
        "\n",
        "太田滿久, 須藤広大, 黒澤匠雅, 小田... 許郁文\n",
        " \n",
        "碁峰資訊 2019-03-25\n",
        "\n",
        "Chapter 4 神經網路與 Keras"
      ]
    },
    {
      "cell_type": "markdown",
      "metadata": {
        "id": "oNdXPppzM69-",
        "colab_type": "text"
      },
      "source": [
        "#  Keras Sequential 開發模式"
      ]
    },
    {
      "cell_type": "code",
      "metadata": {
        "id": "dt9W9YW7M69_",
        "colab_type": "code",
        "outputId": "85b5c491-c140-45f5-a480-0e1a6b1b9fde",
        "colab": {
          "base_uri": "https://localhost:8080/",
          "height": 51
        }
      },
      "source": [
        "from tensorflow.python.keras.datasets import mnist\n",
        "\n",
        "\n",
        "(x_train, y_train), (x_test, y_test) = mnist.load_data()"
      ],
      "execution_count": 0,
      "outputs": [
        {
          "output_type": "stream",
          "text": [
            "Downloading data from https://storage.googleapis.com/tensorflow/tf-keras-datasets/mnist.npz\n",
            "11493376/11490434 [==============================] - 0s 0us/step\n"
          ],
          "name": "stdout"
        }
      ]
    },
    {
      "cell_type": "markdown",
      "metadata": {
        "id": "JuO3r3nFM6-G",
        "colab_type": "text"
      },
      "source": [
        "** リスト4.2:インポートしたデータの形 **"
      ]
    },
    {
      "cell_type": "code",
      "metadata": {
        "id": "hcAT87zDM6-H",
        "colab_type": "code",
        "outputId": "d4678c65-4062-4a94-c134-0ba1b403b8d9",
        "colab": {
          "base_uri": "https://localhost:8080/",
          "height": 86
        }
      },
      "source": [
        "# インポートしたデータの形を確認\n",
        "print('x_train.shape:', x_train.shape)\n",
        "print('x_test.shape:', x_test.shape)\n",
        "print('y_train.shape:', y_train.shape)\n",
        "print('y_test.shape:', y_test.shape)"
      ],
      "execution_count": 0,
      "outputs": [
        {
          "output_type": "stream",
          "text": [
            "x_train.shape: (60000, 28, 28)\n",
            "x_test.shape: (10000, 28, 28)\n",
            "y_train.shape: (60000,)\n",
            "y_test.shape: (10000,)\n"
          ],
          "name": "stdout"
        }
      ]
    },
    {
      "cell_type": "markdown",
      "metadata": {
        "id": "nUP1rcTjM6-L",
        "colab_type": "text"
      },
      "source": [
        "** リスト4.3:インポートしたデータ（特徴量）をネットワークに対応するように変形する **"
      ]
    },
    {
      "cell_type": "code",
      "metadata": {
        "id": "FRf4lGHBM6-M",
        "colab_type": "code",
        "colab": {}
      },
      "source": [
        "x_train = x_train.reshape(60000, 784)\n",
        "x_train = x_train/255.\n",
        "x_test = x_test.reshape(10000, 784)\n",
        "x_test = x_test/255."
      ],
      "execution_count": 0,
      "outputs": []
    },
    {
      "cell_type": "markdown",
      "metadata": {
        "id": "prsQ6s4GM6-P",
        "colab_type": "text"
      },
      "source": [
        "** リスト4.4:インポートしたデータ（クラスラベル）をネットワークに対応するように変形する **"
      ]
    },
    {
      "cell_type": "code",
      "metadata": {
        "id": "WtwkvSw4M6-Q",
        "colab_type": "code",
        "colab": {}
      },
      "source": [
        "from tensorflow.python.keras.utils import to_categorical\n",
        "\n",
        "\n",
        "y_train = to_categorical(y_train, 10)\n",
        "y_test = to_categorical(y_test, 10)"
      ],
      "execution_count": 0,
      "outputs": []
    },
    {
      "cell_type": "markdown",
      "metadata": {
        "id": "7_l5YnxnM6-S",
        "colab_type": "text"
      },
      "source": [
        "** リスト4.5:モデル構築の準備 **"
      ]
    },
    {
      "cell_type": "code",
      "metadata": {
        "id": "wETNq2MrM6-T",
        "colab_type": "code",
        "colab": {}
      },
      "source": [
        "from tensorflow.python.keras.models import Sequential\n",
        "\n",
        "\n",
        "model = Sequential()"
      ],
      "execution_count": 0,
      "outputs": []
    },
    {
      "cell_type": "markdown",
      "metadata": {
        "id": "S108kZtlM6-W",
        "colab_type": "text"
      },
      "source": [
        "** リスト4.6:中間層の追加 **"
      ]
    },
    {
      "cell_type": "code",
      "metadata": {
        "id": "GaanoHgBM6-X",
        "colab_type": "code",
        "outputId": "551ab056-9b95-4eaa-defe-ced3e5d7e91e",
        "colab": {
          "base_uri": "https://localhost:8080/",
          "height": 88
        }
      },
      "source": [
        "from tensorflow.python.keras.layers import Dense\n",
        "\n",
        "\n",
        "model.add(\n",
        "    Dense(\n",
        "        units=64, \n",
        "        input_shape=(784,),\n",
        "        activation='relu'\n",
        "    )\n",
        ")"
      ],
      "execution_count": 0,
      "outputs": [
        {
          "output_type": "stream",
          "text": [
            "WARNING:tensorflow:From /usr/local/lib/python3.6/dist-packages/tensorflow/python/ops/resource_variable_ops.py:435: colocate_with (from tensorflow.python.framework.ops) is deprecated and will be removed in a future version.\n",
            "Instructions for updating:\n",
            "Colocations handled automatically by placer.\n"
          ],
          "name": "stdout"
        }
      ]
    },
    {
      "cell_type": "markdown",
      "metadata": {
        "id": "HYsSsuOnM6-a",
        "colab_type": "text"
      },
      "source": [
        "** リスト4.7:出力層の追加 **"
      ]
    },
    {
      "cell_type": "code",
      "metadata": {
        "id": "KbGtRdvyM6-c",
        "colab_type": "code",
        "colab": {}
      },
      "source": [
        "model.add(\n",
        "    Dense(\n",
        "        units=10, \n",
        "        activation='softmax'\n",
        "    )\n",
        ")"
      ],
      "execution_count": 0,
      "outputs": []
    },
    {
      "cell_type": "markdown",
      "metadata": {
        "id": "QjHmYdpvM6-g",
        "colab_type": "text"
      },
      "source": [
        "** リスト4.8:Adamを用いた、本モデルでのMNISTデータの学習**"
      ]
    },
    {
      "cell_type": "code",
      "metadata": {
        "id": "9brdvMlPM6-h",
        "colab_type": "code",
        "outputId": "11f210d5-7e50-442f-8faa-698e099f522f",
        "colab": {
          "base_uri": "https://localhost:8080/",
          "height": 791
        }
      },
      "source": [
        "from tensorflow.python.keras.callbacks import TensorBoard\n",
        "\n",
        "\n",
        "model.compile(\n",
        "    optimizer='adam',\n",
        "    loss='categorical_crossentropy',\n",
        "    metrics=['accuracy']\n",
        ")\n",
        "\n",
        "tsb = TensorBoard(log_dir='./logs')\n",
        "\n",
        "history_adam = model.fit(\n",
        "    x_train,\n",
        "    y_train,\n",
        "    batch_size=32,\n",
        "    epochs=20,\n",
        "    validation_split=0.2,\n",
        "    callbacks=[tsb]\n",
        ")"
      ],
      "execution_count": 0,
      "outputs": [
        {
          "output_type": "stream",
          "text": [
            "Train on 48000 samples, validate on 12000 samples\n",
            "WARNING:tensorflow:From /usr/local/lib/python3.6/dist-packages/tensorflow/python/ops/math_ops.py:3066: to_int32 (from tensorflow.python.ops.math_ops) is deprecated and will be removed in a future version.\n",
            "Instructions for updating:\n",
            "Use tf.cast instead.\n",
            "Epoch 1/20\n",
            "48000/48000 [==============================] - 4s 78us/sample - loss: 0.3345 - acc: 0.9062 - val_loss: 0.2100 - val_acc: 0.9388\n",
            "Epoch 2/20\n",
            "48000/48000 [==============================] - 3s 69us/sample - loss: 0.1689 - acc: 0.9509 - val_loss: 0.1593 - val_acc: 0.9523\n",
            "Epoch 3/20\n",
            "48000/48000 [==============================] - 3s 69us/sample - loss: 0.1224 - acc: 0.9649 - val_loss: 0.1275 - val_acc: 0.9619\n",
            "Epoch 4/20\n",
            "48000/48000 [==============================] - 3s 69us/sample - loss: 0.0960 - acc: 0.9718 - val_loss: 0.1157 - val_acc: 0.9678\n",
            "Epoch 5/20\n",
            "48000/48000 [==============================] - 3s 70us/sample - loss: 0.0777 - acc: 0.9770 - val_loss: 0.1194 - val_acc: 0.9640\n",
            "Epoch 6/20\n",
            "48000/48000 [==============================] - 3s 72us/sample - loss: 0.0657 - acc: 0.9802 - val_loss: 0.1027 - val_acc: 0.9685\n",
            "Epoch 7/20\n",
            "48000/48000 [==============================] - 3s 69us/sample - loss: 0.0534 - acc: 0.9837 - val_loss: 0.1036 - val_acc: 0.9705\n",
            "Epoch 8/20\n",
            "48000/48000 [==============================] - 3s 69us/sample - loss: 0.0457 - acc: 0.9860 - val_loss: 0.1112 - val_acc: 0.9673\n",
            "Epoch 9/20\n",
            "48000/48000 [==============================] - 3s 68us/sample - loss: 0.0400 - acc: 0.9875 - val_loss: 0.0994 - val_acc: 0.9700\n",
            "Epoch 10/20\n",
            "48000/48000 [==============================] - 3s 69us/sample - loss: 0.0330 - acc: 0.9901 - val_loss: 0.1049 - val_acc: 0.9718\n",
            "Epoch 11/20\n",
            "48000/48000 [==============================] - 3s 69us/sample - loss: 0.0279 - acc: 0.9915 - val_loss: 0.1016 - val_acc: 0.9726\n",
            "Epoch 12/20\n",
            "48000/48000 [==============================] - 3s 70us/sample - loss: 0.0239 - acc: 0.9929 - val_loss: 0.1007 - val_acc: 0.9746\n",
            "Epoch 13/20\n",
            "48000/48000 [==============================] - 3s 69us/sample - loss: 0.0211 - acc: 0.9936 - val_loss: 0.1097 - val_acc: 0.9718\n",
            "Epoch 14/20\n",
            "48000/48000 [==============================] - 3s 69us/sample - loss: 0.0183 - acc: 0.9945 - val_loss: 0.1083 - val_acc: 0.9718\n",
            "Epoch 15/20\n",
            "48000/48000 [==============================] - 3s 69us/sample - loss: 0.0153 - acc: 0.9957 - val_loss: 0.1106 - val_acc: 0.9710\n",
            "Epoch 16/20\n",
            "48000/48000 [==============================] - 3s 68us/sample - loss: 0.0152 - acc: 0.9957 - val_loss: 0.1193 - val_acc: 0.9707\n",
            "Epoch 17/20\n",
            "48000/48000 [==============================] - 3s 69us/sample - loss: 0.0121 - acc: 0.9968 - val_loss: 0.1212 - val_acc: 0.9713\n",
            "Epoch 18/20\n",
            "48000/48000 [==============================] - 3s 68us/sample - loss: 0.0111 - acc: 0.9970 - val_loss: 0.1167 - val_acc: 0.9725\n",
            "Epoch 19/20\n",
            "48000/48000 [==============================] - 3s 68us/sample - loss: 0.0105 - acc: 0.9971 - val_loss: 0.1271 - val_acc: 0.9719\n",
            "Epoch 20/20\n",
            "48000/48000 [==============================] - 3s 69us/sample - loss: 0.0081 - acc: 0.9978 - val_loss: 0.1379 - val_acc: 0.9707\n"
          ],
          "name": "stdout"
        }
      ]
    },
    {
      "cell_type": "markdown",
      "metadata": {
        "id": "1aYIxJjoM6_H",
        "colab_type": "text"
      },
      "source": [
        "#  Keras Functional API開發模式:\n"
      ]
    },
    {
      "cell_type": "code",
      "metadata": {
        "id": "EvcPfqEgM6_I",
        "colab_type": "code",
        "colab": {}
      },
      "source": [
        "from tensorflow.python.keras.datasets import mnist\n",
        "from tensorflow.python.keras.utils import to_categorical\n",
        "from tensorflow.python.keras.callbacks import TensorBoard\n",
        "from tensorflow.python.keras.layers import Input, Dense\n",
        "from tensorflow.python.keras.models import Model\n",
        "\n",
        "\n",
        "(x_train, y_train), (x_test, y_test) = mnist.load_data()\n",
        "x_train = x_train.reshape(60000, 784)\n",
        "x_train = x_train/255.\n",
        "x_test = x_test.reshape(10000, 784)\n",
        "x_test = x_test/255.\n",
        "y_train = to_categorical(y_train, 10)\n",
        "y_test = to_categorical(y_test, 10)\n",
        "tsb = TensorBoard(log_dir='./logs')"
      ],
      "execution_count": 0,
      "outputs": []
    },
    {
      "cell_type": "markdown",
      "metadata": {
        "id": "y7gLiU9LM6_K",
        "colab_type": "text"
      },
      "source": [
        "** 使用Functional API建構不同網路層/架構"
      ]
    },
    {
      "cell_type": "code",
      "metadata": {
        "id": "OCabczWYM6_L",
        "colab_type": "code",
        "colab": {}
      },
      "source": [
        "input = Input(shape=(784, ))\n",
        "middle = Dense(units=64, activation='relu')(input)\n",
        "output = Dense(units=10, activation='softmax')(middle)\n",
        "model = Model(inputs=[input], outputs=[output])"
      ],
      "execution_count": 0,
      "outputs": []
    },
    {
      "cell_type": "markdown",
      "metadata": {
        "id": "nC6rkeiPM6_N",
        "colab_type": "text"
      },
      "source": [
        "## 設定模型的執行方式"
      ]
    },
    {
      "cell_type": "code",
      "metadata": {
        "id": "-g8EeCZCM6_O",
        "colab_type": "code",
        "colab": {}
      },
      "source": [
        "model.compile(\n",
        "    optimizer='adam',\n",
        "    loss='categorical_crossentropy',\n",
        "    metrics=['accuracy']\n",
        ")"
      ],
      "execution_count": 0,
      "outputs": []
    },
    {
      "cell_type": "markdown",
      "metadata": {
        "id": "ZhqCHs-vM6_Q",
        "colab_type": "text"
      },
      "source": [
        "## 訓練"
      ]
    },
    {
      "cell_type": "code",
      "metadata": {
        "id": "wTQNE0WRM6_R",
        "colab_type": "code",
        "outputId": "9fd7e3eb-96cd-43df-9f62-a1b11558ef63",
        "colab": {
          "base_uri": "https://localhost:8080/",
          "height": 757
        }
      },
      "source": [
        "model.fit(\n",
        "    x_train,\n",
        "    y_train,\n",
        "    batch_size=32,\n",
        "    epochs=20,\n",
        "    callbacks=[tsb],\n",
        "    validation_split=0.2\n",
        ")"
      ],
      "execution_count": 0,
      "outputs": [
        {
          "output_type": "stream",
          "text": [
            "Train on 48000 samples, validate on 12000 samples\n",
            "Epoch 1/20\n",
            "48000/48000 [==============================] - 3s 72us/sample - loss: 0.3239 - acc: 0.9076 - val_loss: 0.1827 - val_acc: 0.9491\n",
            "Epoch 2/20\n",
            "48000/48000 [==============================] - 3s 69us/sample - loss: 0.1598 - acc: 0.9538 - val_loss: 0.1430 - val_acc: 0.9583\n",
            "Epoch 3/20\n",
            "48000/48000 [==============================] - 3s 68us/sample - loss: 0.1169 - acc: 0.9647 - val_loss: 0.1268 - val_acc: 0.9614\n",
            "Epoch 4/20\n",
            "48000/48000 [==============================] - 3s 69us/sample - loss: 0.0941 - acc: 0.9718 - val_loss: 0.1120 - val_acc: 0.9667\n",
            "Epoch 5/20\n",
            "48000/48000 [==============================] - 3s 69us/sample - loss: 0.0767 - acc: 0.9764 - val_loss: 0.1018 - val_acc: 0.9703\n",
            "Epoch 6/20\n",
            "48000/48000 [==============================] - 3s 69us/sample - loss: 0.0650 - acc: 0.9808 - val_loss: 0.1023 - val_acc: 0.9688\n",
            "Epoch 7/20\n",
            "48000/48000 [==============================] - 3s 69us/sample - loss: 0.0541 - acc: 0.9839 - val_loss: 0.0988 - val_acc: 0.9712\n",
            "Epoch 8/20\n",
            "48000/48000 [==============================] - 3s 69us/sample - loss: 0.0461 - acc: 0.9860 - val_loss: 0.1077 - val_acc: 0.9699\n",
            "Epoch 9/20\n",
            "48000/48000 [==============================] - 3s 68us/sample - loss: 0.0409 - acc: 0.9874 - val_loss: 0.0943 - val_acc: 0.9732\n",
            "Epoch 10/20\n",
            "48000/48000 [==============================] - 3s 69us/sample - loss: 0.0345 - acc: 0.9901 - val_loss: 0.1018 - val_acc: 0.9709\n",
            "Epoch 11/20\n",
            "48000/48000 [==============================] - 3s 69us/sample - loss: 0.0312 - acc: 0.9905 - val_loss: 0.0965 - val_acc: 0.9728\n",
            "Epoch 12/20\n",
            "48000/48000 [==============================] - 3s 69us/sample - loss: 0.0275 - acc: 0.9920 - val_loss: 0.1008 - val_acc: 0.9725\n",
            "Epoch 13/20\n",
            "48000/48000 [==============================] - 3s 68us/sample - loss: 0.0234 - acc: 0.9931 - val_loss: 0.1021 - val_acc: 0.9722\n",
            "Epoch 14/20\n",
            "48000/48000 [==============================] - 3s 69us/sample - loss: 0.0195 - acc: 0.9946 - val_loss: 0.1038 - val_acc: 0.9731\n",
            "Epoch 15/20\n",
            "48000/48000 [==============================] - 3s 69us/sample - loss: 0.0193 - acc: 0.9941 - val_loss: 0.1081 - val_acc: 0.9732\n",
            "Epoch 16/20\n",
            "48000/48000 [==============================] - 3s 69us/sample - loss: 0.0159 - acc: 0.9954 - val_loss: 0.1059 - val_acc: 0.9732\n",
            "Epoch 17/20\n",
            "48000/48000 [==============================] - 3s 69us/sample - loss: 0.0145 - acc: 0.9957 - val_loss: 0.1284 - val_acc: 0.9706\n",
            "Epoch 18/20\n",
            "48000/48000 [==============================] - 3s 69us/sample - loss: 0.0128 - acc: 0.9963 - val_loss: 0.1171 - val_acc: 0.9732\n",
            "Epoch 19/20\n",
            "48000/48000 [==============================] - 3s 69us/sample - loss: 0.0113 - acc: 0.9971 - val_loss: 0.1214 - val_acc: 0.9725\n",
            "Epoch 20/20\n",
            "48000/48000 [==============================] - 3s 69us/sample - loss: 0.0105 - acc: 0.9970 - val_loss: 0.1194 - val_acc: 0.9731\n"
          ],
          "name": "stdout"
        },
        {
          "output_type": "execute_result",
          "data": {
            "text/plain": [
              "<tensorflow.python.keras.callbacks.History at 0x7f11306c2d30>"
            ]
          },
          "metadata": {
            "tags": []
          },
          "execution_count": 12
        }
      ]
    }
  ]
}